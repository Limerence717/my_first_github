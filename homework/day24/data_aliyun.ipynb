{
 "cells": [
  {
   "cell_type": "code",
   "execution_count": 6,
   "id": "a35bee00-339c-4e90-8ad7-6fcf6de637e2",
   "metadata": {
    "execution": {
     "iopub.execute_input": "2025-01-21T12:19:38.368499Z",
     "iopub.status.busy": "2025-01-21T12:19:38.368178Z",
     "iopub.status.idle": "2025-01-21T12:19:42.980531Z",
     "shell.execute_reply": "2025-01-21T12:19:42.980000Z",
     "shell.execute_reply.started": "2025-01-21T12:19:38.368476Z"
    },
    "tags": []
   },
   "outputs": [
    {
     "name": "stdout",
     "output_type": "stream",
     "text": [
      "Looking in indexes: https://mirrors.cloud.aliyuncs.com/pypi/simple\n",
      "Collecting kaggle\n",
      "  Downloading https://mirrors.cloud.aliyuncs.com/pypi/packages/66/e3/c775e2213bac0ac1f1fd601d1c915d13934c5944cbff153ede6584acab50/kaggle-1.6.17.tar.gz (82 kB)\n",
      "\u001b[2K     \u001b[90m━━━━━━━━━━━━━━━━━━━━━━━━━━━━━━━━━━━━━━━━\u001b[0m \u001b[32m82.7/82.7 kB\u001b[0m \u001b[31m14.0 MB/s\u001b[0m eta \u001b[36m0:00:00\u001b[0m\n",
      "\u001b[?25h  Preparing metadata (setup.py) ... \u001b[?25ldone\n",
      "\u001b[?25hRequirement already satisfied: six>=1.10 in /usr/local/lib/python3.10/site-packages (from kaggle) (1.17.0)\n",
      "Requirement already satisfied: certifi>=2023.7.22 in /usr/local/lib/python3.10/site-packages (from kaggle) (2024.12.14)\n",
      "Requirement already satisfied: python-dateutil in /usr/local/lib/python3.10/site-packages (from kaggle) (2.9.0.post0)\n",
      "Requirement already satisfied: requests in /usr/local/lib/python3.10/site-packages (from kaggle) (2.32.3)\n",
      "Requirement already satisfied: tqdm in /usr/local/lib/python3.10/site-packages (from kaggle) (4.67.1)\n",
      "Collecting python-slugify (from kaggle)\n",
      "  Downloading https://mirrors.cloud.aliyuncs.com/pypi/packages/a4/62/02da182e544a51a5c3ccf4b03ab79df279f9c60c5e82d5e8bec7ca26ac11/python_slugify-8.0.4-py2.py3-none-any.whl (10 kB)\n",
      "Requirement already satisfied: urllib3 in /usr/local/lib/python3.10/site-packages (from kaggle) (2.3.0)\n",
      "Collecting bleach (from kaggle)\n",
      "  Downloading https://mirrors.cloud.aliyuncs.com/pypi/packages/fc/55/96142937f66150805c25c4d0f31ee4132fd33497753400734f9dfdcbdc66/bleach-6.2.0-py3-none-any.whl (163 kB)\n",
      "\u001b[2K     \u001b[90m━━━━━━━━━━━━━━━━━━━━━━━━━━━━━━━━━━━━━━\u001b[0m \u001b[32m163.4/163.4 kB\u001b[0m \u001b[31m16.8 MB/s\u001b[0m eta \u001b[36m0:00:00\u001b[0m\n",
      "\u001b[?25hCollecting webencodings (from bleach->kaggle)\n",
      "  Downloading https://mirrors.cloud.aliyuncs.com/pypi/packages/f4/24/2a3e3df732393fed8b3ebf2ec078f05546de641fe1b667ee316ec1dcf3b7/webencodings-0.5.1-py2.py3-none-any.whl (11 kB)\n",
      "Collecting text-unidecode>=1.3 (from python-slugify->kaggle)\n",
      "  Downloading https://mirrors.cloud.aliyuncs.com/pypi/packages/a6/a5/c0b6468d3824fe3fde30dbb5e1f687b291608f9473681bbf7dabbf5a87d7/text_unidecode-1.3-py2.py3-none-any.whl (78 kB)\n",
      "\u001b[2K     \u001b[90m━━━━━━━━━━━━━━━━━━━━━━━━━━━━━━━━━━━━━━━━\u001b[0m \u001b[32m78.2/78.2 kB\u001b[0m \u001b[31m22.7 MB/s\u001b[0m eta \u001b[36m0:00:00\u001b[0m\n",
      "\u001b[?25hRequirement already satisfied: charset-normalizer<4,>=2 in /usr/local/lib/python3.10/site-packages (from requests->kaggle) (3.4.1)\n",
      "Requirement already satisfied: idna<4,>=2.5 in /usr/local/lib/python3.10/site-packages (from requests->kaggle) (3.10)\n",
      "Building wheels for collected packages: kaggle\n",
      "  Building wheel for kaggle (setup.py) ... \u001b[?25ldone\n",
      "\u001b[?25h  Created wheel for kaggle: filename=kaggle-1.6.17-py3-none-any.whl size=105800 sha256=acbfb3d7bd389116e97b21a72173b4c5444680c954723dcdc59f70c989b3911f\n",
      "  Stored in directory: /root/.cache/pip/wheels/85/59/78/39b001621fad138a41610d830155c8b08d48649b2197e433c7\n",
      "Successfully built kaggle\n",
      "Installing collected packages: webencodings, text-unidecode, python-slugify, bleach, kaggle\n",
      "Successfully installed bleach-6.2.0 kaggle-1.6.17 python-slugify-8.0.4 text-unidecode-1.3 webencodings-0.5.1\n",
      "\u001b[33mWARNING: Running pip as the 'root' user can result in broken permissions and conflicting behaviour with the system package manager. It is recommended to use a virtual environment instead: https://pip.pypa.io/warnings/venv\u001b[0m\u001b[33m\n",
      "\u001b[0m\n",
      "\u001b[1m[\u001b[0m\u001b[34;49mnotice\u001b[0m\u001b[1;39;49m]\u001b[0m\u001b[39;49m A new release of pip is available: \u001b[0m\u001b[31;49m23.3.2\u001b[0m\u001b[39;49m -> \u001b[0m\u001b[32;49m24.3.1\u001b[0m\n",
      "\u001b[1m[\u001b[0m\u001b[34;49mnotice\u001b[0m\u001b[1;39;49m]\u001b[0m\u001b[39;49m To update, run: \u001b[0m\u001b[32;49mpip install --upgrade pip\u001b[0m\n"
     ]
    }
   ],
   "source": [
    "!pip install kaggle"
   ]
  },
  {
   "cell_type": "code",
   "execution_count": 7,
   "id": "38a1ac11-50b8-47cc-8208-38c9bf5deaa5",
   "metadata": {
    "execution": {
     "iopub.execute_input": "2025-01-21T12:19:46.419905Z",
     "iopub.status.busy": "2025-01-21T12:19:46.419596Z",
     "iopub.status.idle": "2025-01-21T12:19:47.119527Z",
     "shell.execute_reply": "2025-01-21T12:19:47.118983Z",
     "shell.execute_reply.started": "2025-01-21T12:19:46.419884Z"
    },
    "tags": []
   },
   "outputs": [
    {
     "name": "stdout",
     "output_type": "stream",
     "text": [
      "kaggle                            1.6.17\n",
      "\n",
      "\u001b[1m[\u001b[0m\u001b[34;49mnotice\u001b[0m\u001b[1;39;49m]\u001b[0m\u001b[39;49m A new release of pip is available: \u001b[0m\u001b[31;49m23.3.2\u001b[0m\u001b[39;49m -> \u001b[0m\u001b[32;49m24.3.1\u001b[0m\n",
      "\u001b[1m[\u001b[0m\u001b[34;49mnotice\u001b[0m\u001b[1;39;49m]\u001b[0m\u001b[39;49m To update, run: \u001b[0m\u001b[32;49mpip install --upgrade pip\u001b[0m\n"
     ]
    }
   ],
   "source": [
    "!pip list|grep kaggle"
   ]
  },
  {
   "cell_type": "code",
   "execution_count": 8,
   "id": "c2936003-528d-4f67-8b45-ee17ed7c5c33",
   "metadata": {
    "execution": {
     "iopub.execute_input": "2025-01-21T12:19:49.762741Z",
     "iopub.status.busy": "2025-01-21T12:19:49.762431Z",
     "iopub.status.idle": "2025-01-21T12:19:49.870327Z",
     "shell.execute_reply": "2025-01-21T12:19:49.869857Z",
     "shell.execute_reply.started": "2025-01-21T12:19:49.762717Z"
    },
    "tags": []
   },
   "outputs": [
    {
     "name": "stdout",
     "output_type": "stream",
     "text": [
      "/mnt/workspace\n"
     ]
    }
   ],
   "source": [
    "!pwd"
   ]
  },
  {
   "cell_type": "code",
   "execution_count": 9,
   "id": "05412c6d-52ae-494a-b31a-51e8da14551f",
   "metadata": {
    "execution": {
     "iopub.execute_input": "2025-01-21T12:19:52.395942Z",
     "iopub.status.busy": "2025-01-21T12:19:52.395613Z",
     "iopub.status.idle": "2025-01-21T12:19:52.399134Z",
     "shell.execute_reply": "2025-01-21T12:19:52.398708Z",
     "shell.execute_reply.started": "2025-01-21T12:19:52.395919Z"
    },
    "tags": []
   },
   "outputs": [],
   "source": [
    "import json\n",
    "token = {\"username\":\"limerence0717\",\"key\":\"bf4cd7b997777e9fd89fc86023084ace\"}\n",
    "with open('/mnt/workspace/kaggle.json', 'w') as file:\n",
    "  json.dump(token, file)#json.dump类似于write"
   ]
  },
  {
   "cell_type": "code",
   "execution_count": 10,
   "id": "b0f35b1a-bde3-4983-bad8-74a3c8a46a03",
   "metadata": {
    "execution": {
     "iopub.execute_input": "2025-01-21T12:19:55.765671Z",
     "iopub.status.busy": "2025-01-21T12:19:55.765366Z",
     "iopub.status.idle": "2025-01-21T12:19:55.873847Z",
     "shell.execute_reply": "2025-01-21T12:19:55.873382Z",
     "shell.execute_reply.started": "2025-01-21T12:19:55.765649Z"
    },
    "tags": []
   },
   "outputs": [
    {
     "name": "stdout",
     "output_type": "stream",
     "text": [
      "{\"username\": \"limerence0717\", \"key\": \"bf4cd7b997777e9fd89fc86023084ace\"}"
     ]
    }
   ],
   "source": [
    "!cat /mnt/workspace/kaggle.json"
   ]
  },
  {
   "cell_type": "code",
   "execution_count": 11,
   "id": "0d9a2a41-8cae-4815-b96f-0e97b7f2e95e",
   "metadata": {
    "execution": {
     "iopub.execute_input": "2025-01-21T12:19:57.886982Z",
     "iopub.status.busy": "2025-01-21T12:19:57.886653Z",
     "iopub.status.idle": "2025-01-21T12:19:58.599522Z",
     "shell.execute_reply": "2025-01-21T12:19:58.598987Z",
     "shell.execute_reply.started": "2025-01-21T12:19:57.886960Z"
    },
    "tags": []
   },
   "outputs": [
    {
     "name": "stdout",
     "output_type": "stream",
     "text": [
      "- path is now set to: /content\n"
     ]
    }
   ],
   "source": [
    "!mkdir -p ~/.kaggle\n",
    "!cp /mnt/workspace/kaggle.json ~/.kaggle/\n",
    "!chmod 600 ~/.kaggle/kaggle.json\n",
    "!kaggle config set -n path -v /content"
   ]
  },
  {
   "cell_type": "code",
   "execution_count": 12,
   "id": "22429968-0c1a-4568-bc3a-180b20f5010a",
   "metadata": {
    "execution": {
     "iopub.execute_input": "2025-01-21T12:20:20.647520Z",
     "iopub.status.busy": "2025-01-21T12:20:20.647212Z",
     "iopub.status.idle": "2025-01-21T12:21:40.084605Z",
     "shell.execute_reply": "2025-01-21T12:21:40.084095Z",
     "shell.execute_reply.started": "2025-01-21T12:20:20.647500Z"
    },
    "tags": []
   },
   "outputs": [
    {
     "name": "stdout",
     "output_type": "stream",
     "text": [
      "Downloading cifar-10.zip to /content/competitions/cifar-10\n",
      "100%|████████████████████████████████████████| 715M/715M [01:15<00:00, 10.7MB/s]\n",
      "100%|████████████████████████████████████████| 715M/715M [01:15<00:00, 9.89MB/s]\n"
     ]
    }
   ],
   "source": [
    "!kaggle competitions download -c cifar-10 #下载比赛数据集"
   ]
  },
  {
   "cell_type": "code",
   "execution_count": 13,
   "id": "86710670-5cd7-4e28-b587-0223957b949b",
   "metadata": {
    "execution": {
     "iopub.execute_input": "2025-01-21T12:22:06.372552Z",
     "iopub.status.busy": "2025-01-21T12:22:06.372221Z",
     "iopub.status.idle": "2025-01-21T12:22:06.482560Z",
     "shell.execute_reply": "2025-01-21T12:22:06.482034Z",
     "shell.execute_reply.started": "2025-01-21T12:22:06.372530Z"
    },
    "tags": []
   },
   "outputs": [
    {
     "name": "stdout",
     "output_type": "stream",
     "text": [
      "cifar-10.zip\n"
     ]
    }
   ],
   "source": [
    "!ls /content/competitions/cifar-10/"
   ]
  },
  {
   "cell_type": "code",
   "execution_count": 14,
   "id": "019c1617-5c8e-486b-8e05-a72d95c6a111",
   "metadata": {
    "execution": {
     "iopub.execute_input": "2025-01-21T12:22:46.761008Z",
     "iopub.status.busy": "2025-01-21T12:22:46.760668Z",
     "iopub.status.idle": "2025-01-21T12:22:50.497443Z",
     "shell.execute_reply": "2025-01-21T12:22:50.496928Z",
     "shell.execute_reply.started": "2025-01-21T12:22:46.760979Z"
    },
    "tags": []
   },
   "outputs": [
    {
     "name": "stdout",
     "output_type": "stream",
     "text": [
      "Archive:  /content/competitions/cifar-10/cifar-10.zip\n",
      "  inflating: sampleSubmission.csv    \n",
      "  inflating: test.7z                 \n",
      "  inflating: train.7z                \n",
      "  inflating: trainLabels.csv         \n"
     ]
    }
   ],
   "source": [
    "!unzip /content/competitions/cifar-10/cifar-10.zip"
   ]
  },
  {
   "cell_type": "code",
   "execution_count": 15,
   "id": "78017622-858b-41af-8b11-9560afaf367e",
   "metadata": {
    "execution": {
     "iopub.execute_input": "2025-01-21T12:23:03.896378Z",
     "iopub.status.busy": "2025-01-21T12:23:03.896050Z",
     "iopub.status.idle": "2025-01-21T12:23:04.004812Z",
     "shell.execute_reply": "2025-01-21T12:23:04.004354Z",
     "shell.execute_reply.started": "2025-01-21T12:23:03.896351Z"
    },
    "tags": []
   },
   "outputs": [
    {
     "name": "stdout",
     "output_type": "stream",
     "text": [
      "data.ipynb\t\t\t new_resnet-aliyun.ipynb  test.7z\n",
      "kaggle.json\t\t\t new-vgg-aliyun.ipynb\t  train.7z\n",
      "new_inception_net2-aliyun.ipynb  sampleSubmission.csv\t  trainLabels.csv\n"
     ]
    }
   ],
   "source": [
    "!ls"
   ]
  },
  {
   "cell_type": "code",
   "execution_count": 16,
   "id": "256e68b3-530f-4192-baca-c70a85cf9436",
   "metadata": {
    "execution": {
     "iopub.execute_input": "2025-01-21T12:23:27.514748Z",
     "iopub.status.busy": "2025-01-21T12:23:27.514427Z",
     "iopub.status.idle": "2025-01-21T12:23:46.388133Z",
     "shell.execute_reply": "2025-01-21T12:23:46.387646Z",
     "shell.execute_reply.started": "2025-01-21T12:23:27.514726Z"
    },
    "tags": []
   },
   "outputs": [
    {
     "name": "stdout",
     "output_type": "stream",
     "text": [
      "Looking in indexes: https://mirrors.cloud.aliyuncs.com/pypi/simple\n",
      "Collecting py7zr\n",
      "  Downloading https://mirrors.cloud.aliyuncs.com/pypi/packages/d0/59/dd1750002c0f46099281116f8165247bc62dc85edad41cdd26e7b26de19d/py7zr-0.22.0-py3-none-any.whl (67 kB)\n",
      "\u001b[2K     \u001b[90m━━━━━━━━━━━━━━━━━━━━━━━━━━━━━━━━━━━━━━━━\u001b[0m \u001b[32m67.9/67.9 kB\u001b[0m \u001b[31m11.3 MB/s\u001b[0m eta \u001b[36m0:00:00\u001b[0m\n",
      "\u001b[?25hCollecting texttable (from py7zr)\n",
      "  Downloading https://mirrors.cloud.aliyuncs.com/pypi/packages/24/99/4772b8e00a136f3e01236de33b0efda31ee7077203ba5967fcc76da94d65/texttable-1.7.0-py2.py3-none-any.whl (10 kB)\n",
      "Collecting pycryptodomex>=3.16.0 (from py7zr)\n",
      "  Downloading https://mirrors.cloud.aliyuncs.com/pypi/packages/46/3f/f5bef92b11750af9e3516d4e69736eeeff20a2818d34611508bef5a7b381/pycryptodomex-3.21.0-cp36-abi3-manylinux_2_17_x86_64.manylinux2014_x86_64.whl (2.3 MB)\n",
      "\u001b[2K     \u001b[90m━━━━━━━━━━━━━━━━━━━━━━━━━━━━━━━━━━━━━━━━\u001b[0m \u001b[32m2.3/2.3 MB\u001b[0m \u001b[31m27.9 MB/s\u001b[0m eta \u001b[36m0:00:00\u001b[0ma \u001b[36m0:00:01\u001b[0m\n",
      "\u001b[?25hCollecting pyzstd>=0.15.9 (from py7zr)\n",
      "  Downloading https://mirrors.cloud.aliyuncs.com/pypi/packages/6b/3e/e4c7f449af9d19975ff5d333a58330317cf8b05fe4754106c694a29e7c25/pyzstd-0.16.2-cp310-cp310-manylinux_2_17_x86_64.manylinux2014_x86_64.whl (413 kB)\n",
      "\u001b[2K     \u001b[90m━━━━━━━━━━━━━━━━━━━━━━━━━━━━━━━━━━━━━━\u001b[0m \u001b[32m413.7/413.7 kB\u001b[0m \u001b[31m45.5 MB/s\u001b[0m eta \u001b[36m0:00:00\u001b[0m\n",
      "\u001b[?25hCollecting pyppmd<1.2.0,>=1.1.0 (from py7zr)\n",
      "  Downloading https://mirrors.cloud.aliyuncs.com/pypi/packages/8f/f7/be56704aef53490da6bbe6e2e7efff3c13383310ac71f8a82d15d84bbedb/pyppmd-1.1.1-cp310-cp310-manylinux_2_17_x86_64.manylinux2014_x86_64.whl (138 kB)\n",
      "\u001b[2K     \u001b[90m━━━━━━━━━━━━━━━━━━━━━━━━━━━━━━━━━━━━━━\u001b[0m \u001b[32m139.0/139.0 kB\u001b[0m \u001b[31m52.5 MB/s\u001b[0m eta \u001b[36m0:00:00\u001b[0m\n",
      "\u001b[?25hCollecting pybcj<1.1.0,>=1.0.0 (from py7zr)\n",
      "  Downloading https://mirrors.cloud.aliyuncs.com/pypi/packages/d0/6a/3937d0915590d91ccab40b687a1c87429b17325240e8db7e9ad828c9cae9/pybcj-1.0.3-cp310-cp310-manylinux_2_17_x86_64.manylinux2014_x86_64.whl (49 kB)\n",
      "\u001b[2K     \u001b[90m━━━━━━━━━━━━━━━━━━━━━━━━━━━━━━━━━━━━━━━━\u001b[0m \u001b[32m49.6/49.6 kB\u001b[0m \u001b[31m16.6 MB/s\u001b[0m eta \u001b[36m0:00:00\u001b[0m\n",
      "\u001b[?25hCollecting multivolumefile>=0.2.3 (from py7zr)\n",
      "  Downloading https://mirrors.cloud.aliyuncs.com/pypi/packages/22/31/ec5f46fd4c83185b806aa9c736e228cb780f13990a9cf4da0beb70025fcc/multivolumefile-0.2.3-py3-none-any.whl (17 kB)\n",
      "Collecting inflate64<1.1.0,>=1.0.0 (from py7zr)\n",
      "  Downloading https://mirrors.cloud.aliyuncs.com/pypi/packages/b3/3f/1af3164e8bda3fdce692c260f01e37c0af21c3022e7227795524505d8b21/inflate64-1.0.1-cp310-cp310-manylinux_2_17_x86_64.manylinux2014_x86_64.whl (93 kB)\n",
      "\u001b[2K     \u001b[90m━━━━━━━━━━━━━━━━━━━━━━━━━━━━━━━━━━━━━━━━\u001b[0m \u001b[32m93.3/93.3 kB\u001b[0m \u001b[31m41.2 MB/s\u001b[0m eta \u001b[36m0:00:00\u001b[0m\n",
      "\u001b[?25hCollecting brotli>=1.1.0 (from py7zr)\n",
      "  Downloading https://mirrors.cloud.aliyuncs.com/pypi/packages/d5/00/40f760cc27007912b327fe15bf6bfd8eaecbe451687f72a8abc587d503b3/Brotli-1.1.0-cp310-cp310-manylinux_2_5_x86_64.manylinux1_x86_64.manylinux_2_12_x86_64.manylinux2010_x86_64.whl (3.0 MB)\n",
      "\u001b[2K     \u001b[90m━━━━━━━━━━━━━━━━━━━━━━━━━━━━━━━━━━━━━━━━\u001b[0m \u001b[32m3.0/3.0 MB\u001b[0m \u001b[31m69.1 MB/s\u001b[0m eta \u001b[36m0:00:00\u001b[0ma \u001b[36m0:00:01\u001b[0m\n",
      "\u001b[?25hRequirement already satisfied: psutil in /usr/local/lib/python3.10/site-packages (from py7zr) (6.1.1)\n",
      "Installing collected packages: texttable, brotli, pyzstd, pyppmd, pycryptodomex, pybcj, multivolumefile, inflate64, py7zr\n",
      "Successfully installed brotli-1.1.0 inflate64-1.0.1 multivolumefile-0.2.3 py7zr-0.22.0 pybcj-1.0.3 pycryptodomex-3.21.0 pyppmd-1.1.1 pyzstd-0.16.2 texttable-1.7.0\n",
      "\u001b[33mWARNING: Running pip as the 'root' user can result in broken permissions and conflicting behaviour with the system package manager. It is recommended to use a virtual environment instead: https://pip.pypa.io/warnings/venv\u001b[0m\u001b[33m\n",
      "\u001b[0m\n",
      "\u001b[1m[\u001b[0m\u001b[34;49mnotice\u001b[0m\u001b[1;39;49m]\u001b[0m\u001b[39;49m A new release of pip is available: \u001b[0m\u001b[31;49m23.3.2\u001b[0m\u001b[39;49m -> \u001b[0m\u001b[32;49m24.3.1\u001b[0m\n",
      "\u001b[1m[\u001b[0m\u001b[34;49mnotice\u001b[0m\u001b[1;39;49m]\u001b[0m\u001b[39;49m To update, run: \u001b[0m\u001b[32;49mpip install --upgrade pip\u001b[0m\n",
      "Note: you may need to restart the kernel to use updated packages.\n"
     ]
    }
   ],
   "source": [
    "%pip install py7zr\n",
    "import py7zr\n",
    "a =py7zr.SevenZipFile(r'./train.7z','r')\n",
    "a.extractall(path=r'./competitions/cifar-10/')\n",
    "a.close()"
   ]
  },
  {
   "cell_type": "code",
   "execution_count": 17,
   "id": "cf23524f-6c3c-4d4b-ae7f-a1352ddb5b12",
   "metadata": {
    "execution": {
     "iopub.execute_input": "2025-01-21T12:24:25.063407Z",
     "iopub.status.busy": "2025-01-21T12:24:25.062924Z",
     "iopub.status.idle": "2025-01-21T12:25:45.948303Z",
     "shell.execute_reply": "2025-01-21T12:25:45.947807Z",
     "shell.execute_reply.started": "2025-01-21T12:24:25.063368Z"
    },
    "tags": []
   },
   "outputs": [],
   "source": [
    "a =py7zr.SevenZipFile(r'./test.7z','r')\n",
    "a.extractall(path=r'./competitions/cifar-10/')\n",
    "a.close()"
   ]
  },
  {
   "cell_type": "code",
   "execution_count": 18,
   "id": "9f93f364-a131-464d-85da-076ed1f983fb",
   "metadata": {
    "execution": {
     "iopub.execute_input": "2025-01-21T12:25:48.586347Z",
     "iopub.status.busy": "2025-01-21T12:25:48.586029Z",
     "iopub.status.idle": "2025-01-21T12:25:48.770653Z",
     "shell.execute_reply": "2025-01-21T12:25:48.770131Z",
     "shell.execute_reply.started": "2025-01-21T12:25:48.586326Z"
    },
    "tags": []
   },
   "outputs": [
    {
     "name": "stdout",
     "output_type": "stream",
     "text": [
      "50000\n"
     ]
    }
   ],
   "source": [
    "!ls competitions/cifar-10/train/ |wc -l  #wc -l统计数量"
   ]
  },
  {
   "cell_type": "code",
   "execution_count": 20,
   "id": "0ebbf263-4c39-43ac-8865-2f2122ad084c",
   "metadata": {
    "ExecutionIndicator": {
     "show": true
    },
    "execution": {
     "iopub.execute_input": "2025-01-21T12:26:05.439549Z",
     "iopub.status.busy": "2025-01-21T12:26:05.439226Z",
     "iopub.status.idle": "2025-01-21T12:26:06.066611Z",
     "shell.execute_reply": "2025-01-21T12:26:06.066096Z",
     "shell.execute_reply.started": "2025-01-21T12:26:05.439526Z"
    },
    "tags": []
   },
   "outputs": [
    {
     "name": "stdout",
     "output_type": "stream",
     "text": [
      "300000\n"
     ]
    }
   ],
   "source": [
    "!ls competitions/cifar-10/test/ |wc -l "
   ]
  }
 ],
 "metadata": {
  "kernelspec": {
   "display_name": "Python 3 (ipykernel)",
   "language": "python",
   "name": "python3"
  },
  "language_info": {
   "codemirror_mode": {
    "name": "ipython",
    "version": 3
   },
   "file_extension": ".py",
   "mimetype": "text/x-python",
   "name": "python",
   "nbconvert_exporter": "python",
   "pygments_lexer": "ipython3",
   "version": "3.10.14"
  }
 },
 "nbformat": 4,
 "nbformat_minor": 5
}
