{
  "cells": [
    {
      "cell_type": "markdown",
      "metadata": {
        "id": "FilyfkVS-UNh"
      },
      "source": [
        "<font color=\"red\">注</font>: 使用 tensorboard 可视化需要安装 tensorflow (TensorBoard依赖于tensorflow库，可以任意安装tensorflow的gpu/cpu版本)\n",
        "\n",
        "```shell\n",
        "pip install tensorflow-cpu\n",
        "```"
      ]
    },
    {
      "cell_type": "code",
      "source": [
        "!pip install kaggle"
      ],
      "metadata": {
        "colab": {
          "base_uri": "https://localhost:8080/"
        },
        "id": "AzVh4MRv_GrL",
        "outputId": "1f432b25-3e49-4b39-e714-aae22894bcc6"
      },
      "execution_count": 1,
      "outputs": [
        {
          "output_type": "stream",
          "name": "stdout",
          "text": [
            "Requirement already satisfied: kaggle in /usr/local/lib/python3.11/dist-packages (1.6.17)\n",
            "Requirement already satisfied: six>=1.10 in /usr/local/lib/python3.11/dist-packages (from kaggle) (1.17.0)\n",
            "Requirement already satisfied: certifi>=2023.7.22 in /usr/local/lib/python3.11/dist-packages (from kaggle) (2024.12.14)\n",
            "Requirement already satisfied: python-dateutil in /usr/local/lib/python3.11/dist-packages (from kaggle) (2.8.2)\n",
            "Requirement already satisfied: requests in /usr/local/lib/python3.11/dist-packages (from kaggle) (2.32.3)\n",
            "Requirement already satisfied: tqdm in /usr/local/lib/python3.11/dist-packages (from kaggle) (4.67.1)\n",
            "Requirement already satisfied: python-slugify in /usr/local/lib/python3.11/dist-packages (from kaggle) (8.0.4)\n",
            "Requirement already satisfied: urllib3 in /usr/local/lib/python3.11/dist-packages (from kaggle) (2.3.0)\n",
            "Requirement already satisfied: bleach in /usr/local/lib/python3.11/dist-packages (from kaggle) (6.2.0)\n",
            "Requirement already satisfied: webencodings in /usr/local/lib/python3.11/dist-packages (from bleach->kaggle) (0.5.1)\n",
            "Requirement already satisfied: text-unidecode>=1.3 in /usr/local/lib/python3.11/dist-packages (from python-slugify->kaggle) (1.3)\n",
            "Requirement already satisfied: charset-normalizer<4,>=2 in /usr/local/lib/python3.11/dist-packages (from requests->kaggle) (3.4.1)\n",
            "Requirement already satisfied: idna<4,>=2.5 in /usr/local/lib/python3.11/dist-packages (from requests->kaggle) (3.10)\n"
          ]
        }
      ]
    },
    {
      "cell_type": "code",
      "source": [
        "!pip list|grep kaggle"
      ],
      "metadata": {
        "colab": {
          "base_uri": "https://localhost:8080/"
        },
        "id": "DM1ZCNOm_Wbx",
        "outputId": "7e71463e-6dd0-46ed-a017-05113dfacf2b"
      },
      "execution_count": 2,
      "outputs": [
        {
          "output_type": "stream",
          "name": "stdout",
          "text": [
            "kaggle                             1.6.17\n",
            "kagglehub                          0.3.6\n"
          ]
        }
      ]
    },
    {
      "cell_type": "code",
      "source": [
        "!pwd"
      ],
      "metadata": {
        "colab": {
          "base_uri": "https://localhost:8080/"
        },
        "id": "9nHIrh5w_acT",
        "outputId": "de324be3-f324-44c6-e46d-b1758d9ef8da"
      },
      "execution_count": 3,
      "outputs": [
        {
          "output_type": "stream",
          "name": "stdout",
          "text": [
            "/content\n"
          ]
        }
      ]
    },
    {
      "cell_type": "code",
      "source": [
        "import json\n",
        "token = {\"username\":\"limerence0717\",\"key\":\"bf4cd7b997777e9fd89fc86023084ace\"}\n",
        "with open('/content/kaggle.json', 'w') as file:\n",
        "  json.dump(token, file)#json.dump类似于write"
      ],
      "metadata": {
        "id": "HqB2qpqv_eqk"
      },
      "execution_count": 4,
      "outputs": []
    },
    {
      "cell_type": "code",
      "source": [
        "!cat /content/kaggle.json"
      ],
      "metadata": {
        "colab": {
          "base_uri": "https://localhost:8080/"
        },
        "id": "GQV2f41x_nj3",
        "outputId": "bd9d06ea-e865-4b7c-ae18-dea091a7e33c"
      },
      "execution_count": 5,
      "outputs": [
        {
          "output_type": "stream",
          "name": "stdout",
          "text": [
            "{\"username\": \"limerence0717\", \"key\": \"bf4cd7b997777e9fd89fc86023084ace\"}"
          ]
        }
      ]
    },
    {
      "cell_type": "code",
      "source": [
        "!mkdir -p ~/.kaggle\n",
        "!cp /content/kaggle.json ~/.kaggle/\n",
        "!chmod 600 ~/.kaggle/kaggle.json\n",
        "!kaggle config set -n path -v /content"
      ],
      "metadata": {
        "colab": {
          "base_uri": "https://localhost:8080/"
        },
        "id": "l7EJBUzm_sFe",
        "outputId": "b4cd1956-ccf1-47c7-db32-7fad1c473f41"
      },
      "execution_count": 6,
      "outputs": [
        {
          "output_type": "stream",
          "name": "stdout",
          "text": [
            "- path is now set to: /content\n"
          ]
        }
      ]
    },
    {
      "cell_type": "code",
      "source": [
        "!kaggle competitions download -c cifar-10 #下载比赛数据集"
      ],
      "metadata": {
        "colab": {
          "base_uri": "https://localhost:8080/"
        },
        "id": "MWprIdec_0l7",
        "outputId": "a85c0085-e583-4d93-f27f-a9b08e4cef60"
      },
      "execution_count": 7,
      "outputs": [
        {
          "output_type": "stream",
          "name": "stdout",
          "text": [
            "Downloading cifar-10.zip to /content/competitions/cifar-10\n",
            " 98% 701M/715M [00:05<00:00, 190MB/s]\n",
            "100% 715M/715M [00:05<00:00, 143MB/s]\n"
          ]
        }
      ]
    },
    {
      "cell_type": "code",
      "source": [
        "!ls /content/competitions/cifar-10/"
      ],
      "metadata": {
        "colab": {
          "base_uri": "https://localhost:8080/"
        },
        "id": "wcQ4ZHp9_4QA",
        "outputId": "31f97cf7-9d8a-4700-e3b3-fbef0015cd49"
      },
      "execution_count": 8,
      "outputs": [
        {
          "output_type": "stream",
          "name": "stdout",
          "text": [
            "cifar-10.zip\n"
          ]
        }
      ]
    },
    {
      "cell_type": "code",
      "source": [
        "!unzip /content/competitions/cifar-10/cifar-10.zip"
      ],
      "metadata": {
        "colab": {
          "base_uri": "https://localhost:8080/"
        },
        "id": "W4FEzCBz_7wl",
        "outputId": "bd5935d3-96d5-4dd1-e744-018150abe334"
      },
      "execution_count": 9,
      "outputs": [
        {
          "output_type": "stream",
          "name": "stdout",
          "text": [
            "Archive:  /content/competitions/cifar-10/cifar-10.zip\n",
            "  inflating: sampleSubmission.csv    \n",
            "  inflating: test.7z                 \n",
            "  inflating: train.7z                \n",
            "  inflating: trainLabels.csv         \n"
          ]
        }
      ]
    },
    {
      "cell_type": "code",
      "source": [
        "!ls"
      ],
      "metadata": {
        "colab": {
          "base_uri": "https://localhost:8080/"
        },
        "id": "TJhDKB_k_-My",
        "outputId": "b72006d7-e156-4ba1-e4ac-faa5efd84606"
      },
      "execution_count": 10,
      "outputs": [
        {
          "output_type": "stream",
          "name": "stdout",
          "text": [
            "competitions  kaggle.json  sample_data\tsampleSubmission.csv  test.7z  train.7z  trainLabels.csv\n"
          ]
        }
      ]
    },
    {
      "cell_type": "code",
      "source": [
        "%pip install py7zr\n",
        "import py7zr\n",
        "a =py7zr.SevenZipFile(r'./train.7z','r')\n",
        "a.extractall(path=r'./competitions/cifar-10/')\n",
        "a.close()"
      ],
      "metadata": {
        "colab": {
          "base_uri": "https://localhost:8080/"
        },
        "id": "-z7l685u__-h",
        "outputId": "e90a2a5d-760a-4dc8-ab47-337ebbb5e9a5"
      },
      "execution_count": 11,
      "outputs": [
        {
          "output_type": "stream",
          "name": "stdout",
          "text": [
            "Collecting py7zr\n",
            "  Downloading py7zr-0.22.0-py3-none-any.whl.metadata (16 kB)\n",
            "Collecting texttable (from py7zr)\n",
            "  Downloading texttable-1.7.0-py2.py3-none-any.whl.metadata (9.8 kB)\n",
            "Collecting pycryptodomex>=3.16.0 (from py7zr)\n",
            "  Downloading pycryptodomex-3.21.0-cp36-abi3-manylinux_2_17_x86_64.manylinux2014_x86_64.whl.metadata (3.4 kB)\n",
            "Collecting pyzstd>=0.15.9 (from py7zr)\n",
            "  Downloading pyzstd-0.16.2-cp311-cp311-manylinux_2_17_x86_64.manylinux2014_x86_64.whl.metadata (2.4 kB)\n",
            "Collecting pyppmd<1.2.0,>=1.1.0 (from py7zr)\n",
            "  Downloading pyppmd-1.1.1-cp311-cp311-manylinux_2_17_x86_64.manylinux2014_x86_64.whl.metadata (5.5 kB)\n",
            "Collecting pybcj<1.1.0,>=1.0.0 (from py7zr)\n",
            "  Downloading pybcj-1.0.3-cp311-cp311-manylinux_2_17_x86_64.manylinux2014_x86_64.whl.metadata (3.9 kB)\n",
            "Collecting multivolumefile>=0.2.3 (from py7zr)\n",
            "  Downloading multivolumefile-0.2.3-py3-none-any.whl.metadata (6.3 kB)\n",
            "Collecting inflate64<1.1.0,>=1.0.0 (from py7zr)\n",
            "  Downloading inflate64-1.0.1-cp311-cp311-manylinux_2_17_x86_64.manylinux2014_x86_64.whl.metadata (3.8 kB)\n",
            "Collecting brotli>=1.1.0 (from py7zr)\n",
            "  Downloading Brotli-1.1.0-cp311-cp311-manylinux_2_17_x86_64.manylinux2014_x86_64.whl.metadata (5.5 kB)\n",
            "Requirement already satisfied: psutil in /usr/local/lib/python3.11/dist-packages (from py7zr) (5.9.5)\n",
            "Downloading py7zr-0.22.0-py3-none-any.whl (67 kB)\n",
            "\u001b[2K   \u001b[90m━━━━━━━━━━━━━━━━━━━━━━━━━━━━━━━━━━━━━━━━\u001b[0m \u001b[32m67.9/67.9 kB\u001b[0m \u001b[31m3.3 MB/s\u001b[0m eta \u001b[36m0:00:00\u001b[0m\n",
            "\u001b[?25hDownloading Brotli-1.1.0-cp311-cp311-manylinux_2_17_x86_64.manylinux2014_x86_64.whl (2.9 MB)\n",
            "\u001b[2K   \u001b[90m━━━━━━━━━━━━━━━━━━━━━━━━━━━━━━━━━━━━━━━━\u001b[0m \u001b[32m2.9/2.9 MB\u001b[0m \u001b[31m52.9 MB/s\u001b[0m eta \u001b[36m0:00:00\u001b[0m\n",
            "\u001b[?25hDownloading inflate64-1.0.1-cp311-cp311-manylinux_2_17_x86_64.manylinux2014_x86_64.whl (96 kB)\n",
            "\u001b[2K   \u001b[90m━━━━━━━━━━━━━━━━━━━━━━━━━━━━━━━━━━━━━━━━\u001b[0m \u001b[32m96.2/96.2 kB\u001b[0m \u001b[31m9.7 MB/s\u001b[0m eta \u001b[36m0:00:00\u001b[0m\n",
            "\u001b[?25hDownloading multivolumefile-0.2.3-py3-none-any.whl (17 kB)\n",
            "Downloading pybcj-1.0.3-cp311-cp311-manylinux_2_17_x86_64.manylinux2014_x86_64.whl (50 kB)\n",
            "\u001b[2K   \u001b[90m━━━━━━━━━━━━━━━━━━━━━━━━━━━━━━━━━━━━━━━━\u001b[0m \u001b[32m50.6/50.6 kB\u001b[0m \u001b[31m5.1 MB/s\u001b[0m eta \u001b[36m0:00:00\u001b[0m\n",
            "\u001b[?25hDownloading pycryptodomex-3.21.0-cp36-abi3-manylinux_2_17_x86_64.manylinux2014_x86_64.whl (2.3 MB)\n",
            "\u001b[2K   \u001b[90m━━━━━━━━━━━━━━━━━━━━━━━━━━━━━━━━━━━━━━━━\u001b[0m \u001b[32m2.3/2.3 MB\u001b[0m \u001b[31m92.2 MB/s\u001b[0m eta \u001b[36m0:00:00\u001b[0m\n",
            "\u001b[?25hDownloading pyppmd-1.1.1-cp311-cp311-manylinux_2_17_x86_64.manylinux2014_x86_64.whl (141 kB)\n",
            "\u001b[2K   \u001b[90m━━━━━━━━━━━━━━━━━━━━━━━━━━━━━━━━━━━━━━━━\u001b[0m \u001b[32m141.3/141.3 kB\u001b[0m \u001b[31m15.5 MB/s\u001b[0m eta \u001b[36m0:00:00\u001b[0m\n",
            "\u001b[?25hDownloading pyzstd-0.16.2-cp311-cp311-manylinux_2_17_x86_64.manylinux2014_x86_64.whl (413 kB)\n",
            "\u001b[2K   \u001b[90m━━━━━━━━━━━━━━━━━━━━━━━━━━━━━━━━━━━━━━━━\u001b[0m \u001b[32m413.7/413.7 kB\u001b[0m \u001b[31m35.9 MB/s\u001b[0m eta \u001b[36m0:00:00\u001b[0m\n",
            "\u001b[?25hDownloading texttable-1.7.0-py2.py3-none-any.whl (10 kB)\n",
            "Installing collected packages: texttable, brotli, pyzstd, pyppmd, pycryptodomex, pybcj, multivolumefile, inflate64, py7zr\n",
            "Successfully installed brotli-1.1.0 inflate64-1.0.1 multivolumefile-0.2.3 py7zr-0.22.0 pybcj-1.0.3 pycryptodomex-3.21.0 pyppmd-1.1.1 pyzstd-0.16.2 texttable-1.7.0\n"
          ]
        }
      ]
    },
    {
      "cell_type": "code",
      "source": [
        "a =py7zr.SevenZipFile(r'./test.7z','r')\n",
        "a.extractall(path=r'./competitions/cifar-10/')\n",
        "a.close()"
      ],
      "metadata": {
        "id": "QdmU2TgxACkj"
      },
      "execution_count": 12,
      "outputs": []
    },
    {
      "cell_type": "code",
      "source": [
        "!ls competitions/cifar-10/train/ |wc -l  #wc -l统计数量"
      ],
      "metadata": {
        "colab": {
          "base_uri": "https://localhost:8080/"
        },
        "id": "xxso_khwAIFX",
        "outputId": "da4c4034-2cfe-465c-ee1a-b08ec5f938a6"
      },
      "execution_count": 13,
      "outputs": [
        {
          "output_type": "stream",
          "name": "stdout",
          "text": [
            "50000\n"
          ]
        }
      ]
    },
    {
      "cell_type": "code",
      "source": [
        "!ls competitions/cifar-10/test/ |wc -l"
      ],
      "metadata": {
        "colab": {
          "base_uri": "https://localhost:8080/"
        },
        "id": "7QugIepXAJYN",
        "outputId": "86ced9a0-272c-466b-d7a9-2cdf745d37c8"
      },
      "execution_count": 14,
      "outputs": [
        {
          "output_type": "stream",
          "name": "stdout",
          "text": [
            "300000\n"
          ]
        }
      ]
    },
    {
      "cell_type": "code",
      "execution_count": 15,
      "metadata": {
        "ExecuteTime": {
          "end_time": "2024-04-29T02:50:08.125203900Z",
          "start_time": "2024-04-29T02:49:56.553689Z"
        },
        "execution": {
          "iopub.execute_input": "2025-01-21T06:45:59.270516Z",
          "iopub.status.busy": "2025-01-21T06:45:59.270253Z",
          "iopub.status.idle": "2025-01-21T06:46:01.389869Z",
          "shell.execute_reply": "2025-01-21T06:46:01.389332Z",
          "shell.execute_reply.started": "2025-01-21T06:45:59.270496Z"
        },
        "colab": {
          "base_uri": "https://localhost:8080/"
        },
        "id": "2aC3EAZv-UNi",
        "outputId": "8b2811ab-0cf7-409e-e576-43ddc1155b34"
      },
      "outputs": [
        {
          "output_type": "stream",
          "name": "stdout",
          "text": [
            "sys.version_info(major=3, minor=11, micro=11, releaselevel='final', serial=0)\n",
            "matplotlib 3.10.0\n",
            "numpy 1.26.4\n",
            "pandas 2.2.2\n",
            "sklearn 1.6.0\n",
            "torch 2.5.1+cu121\n",
            "cuda:0\n"
          ]
        }
      ],
      "source": [
        "import matplotlib as mpl\n",
        "import matplotlib.pyplot as plt\n",
        "%matplotlib inline\n",
        "import numpy as np\n",
        "import sklearn\n",
        "import pandas as pd\n",
        "import os\n",
        "import sys\n",
        "import time\n",
        "from tqdm.auto import tqdm\n",
        "import torch\n",
        "import torch.nn as nn\n",
        "import torch.nn.functional as F\n",
        "\n",
        "print(sys.version_info)\n",
        "for module in mpl, np, pd, sklearn, torch:\n",
        "    print(module.__name__, module.__version__)\n",
        "\n",
        "device = torch.device(\"cuda:0\") if torch.cuda.is_available() else torch.device(\"cpu\")\n",
        "print(device)\n",
        "\n",
        "seed = 42\n"
      ]
    },
    {
      "cell_type": "markdown",
      "metadata": {
        "id": "0XZPf4Sj-UNj"
      },
      "source": [
        "## 数据准备\n",
        "\n",
        "https://www.kaggle.com/competitions/cifar-10/data\n",
        "\n",
        "```shell\n",
        "$ tree -L 1 cifar-10                                    \n",
        "cifar-10\n",
        "├── sampleSubmission.csv\n",
        "├── test\n",
        "├── train\n",
        "└── trainLabels.csv\n",
        "```"
      ]
    },
    {
      "cell_type": "code",
      "execution_count": null,
      "metadata": {
        "ExecutionIndicator": {
          "show": true
        },
        "execution": {
          "iopub.execute_input": "2025-01-21T06:46:01.391389Z",
          "iopub.status.busy": "2025-01-21T06:46:01.390831Z",
          "iopub.status.idle": "2025-01-21T06:46:01.393562Z",
          "shell.execute_reply": "2025-01-21T06:46:01.393101Z",
          "shell.execute_reply.started": "2025-01-21T06:46:01.391365Z"
        },
        "tags": [],
        "id": "54q6vbB8-UNj"
      },
      "outputs": [],
      "source": [
        "# %pip install py7zr\n",
        "# import py7zr\n",
        "# a = py7zr.SevenZipFile(r'../input/cifar-10/train.7z','r')\n",
        "# a.extractall(path=r'./')\n",
        "# a.close()"
      ]
    },
    {
      "cell_type": "code",
      "execution_count": null,
      "metadata": {
        "execution": {
          "iopub.execute_input": "2025-01-21T06:46:01.394307Z",
          "iopub.status.busy": "2025-01-21T06:46:01.394134Z",
          "iopub.status.idle": "2025-01-21T06:46:01.511635Z",
          "shell.execute_reply": "2025-01-21T06:46:01.511010Z",
          "shell.execute_reply.started": "2025-01-21T06:46:01.394289Z"
        },
        "id": "wu9rsFMT-UNj",
        "outputId": "d5e310dd-b63c-4112-ab43-5770a041b88a"
      },
      "outputs": [
        {
          "name": "stdout",
          "output_type": "stream",
          "text": [
            "04_10_monkeys_model_1_aliyun.ipynb\t\t       runs\n",
            "05_10_monkeys_model_2_resnet50_finetune_2aliyun.ipynb  sampleSubmission.csv\n",
            "06_cifar10_model_2.ipynb\t\t\t       submission.csv\n",
            "checkpoints\t\t\t\t\t       test.7z\n",
            "competitions\t\t\t\t\t       train.7z\n",
            "kaggle.json\t\t\t\t\t       trainLabels.csv\n",
            "new-vgg-aliyun.ipynb\n"
          ]
        }
      ],
      "source": [
        "#我们不运行test数据集，太多图片\n",
        "!ls ."
      ]
    },
    {
      "cell_type": "code",
      "execution_count": null,
      "metadata": {
        "execution": {
          "iopub.execute_input": "2025-01-21T06:46:01.513073Z",
          "iopub.status.busy": "2025-01-21T06:46:01.512470Z",
          "iopub.status.idle": "2025-01-21T06:46:01.627751Z",
          "shell.execute_reply": "2025-01-21T06:46:01.627129Z",
          "shell.execute_reply.started": "2025-01-21T06:46:01.513038Z"
        },
        "id": "SLCYtkhE-UNj"
      },
      "outputs": [],
      "source": [
        "!mkdir test"
      ]
    },
    {
      "cell_type": "code",
      "execution_count": 16,
      "metadata": {
        "ExecuteTime": {
          "end_time": "2024-04-29T02:50:17.556866200Z",
          "start_time": "2024-04-29T02:50:13.332056200Z"
        },
        "ExecutionIndicator": {
          "show": true
        },
        "execution": {
          "iopub.execute_input": "2025-01-21T06:46:01.630423Z",
          "iopub.status.busy": "2025-01-21T06:46:01.629953Z",
          "iopub.status.idle": "2025-01-21T06:46:03.912703Z",
          "shell.execute_reply": "2025-01-21T06:46:03.912046Z",
          "shell.execute_reply.started": "2025-01-21T06:46:01.630390Z"
        },
        "tags": [],
        "colab": {
          "base_uri": "https://localhost:8080/"
        },
        "id": "LoM9IS2T-UNj",
        "outputId": "2de60693-b369-4960-da21-0ad962320f2a"
      },
      "outputs": [
        {
          "output_type": "stream",
          "name": "stdout",
          "text": [
            "[(PosixPath('competitions/cifar-10/train/1.png'), 'frog'),\n",
            " (PosixPath('competitions/cifar-10/train/2.png'), 'truck'),\n",
            " (PosixPath('competitions/cifar-10/train/3.png'), 'truck'),\n",
            " (PosixPath('competitions/cifar-10/train/4.png'), 'deer'),\n",
            " (PosixPath('competitions/cifar-10/train/5.png'), 'automobile')]\n",
            "[(PosixPath('competitions/cifar-10/test/1.png'), 'cat'),\n",
            " (PosixPath('competitions/cifar-10/test/2.png'), 'cat'),\n",
            " (PosixPath('competitions/cifar-10/test/3.png'), 'cat'),\n",
            " (PosixPath('competitions/cifar-10/test/4.png'), 'cat'),\n",
            " (PosixPath('competitions/cifar-10/test/5.png'), 'cat')]\n",
            "50000 300000\n"
          ]
        }
      ],
      "source": [
        "from pathlib import Path\n",
        "\n",
        "DATA_DIR = Path(\".\")\n",
        "DATA_DIR1 =Path(\"competitions/cifar-10/\")\n",
        "train_lables_file = DATA_DIR / \"trainLabels.csv\"\n",
        "test_csv_file = DATA_DIR / \"sampleSubmission.csv\" #测试集模板csv文件\n",
        "train_folder = DATA_DIR1 / \"train\"\n",
        "test_folder = DATA_DIR1 / \"test\"\n",
        "\n",
        "#所有的类别\n",
        "class_names = [\n",
        "    'airplane',\n",
        "    'automobile',\n",
        "    'bird',\n",
        "    'cat',\n",
        "    'deer',\n",
        "    'dog',\n",
        "    'frog',\n",
        "    'horse',\n",
        "    'ship',\n",
        "    'truck',\n",
        "]\n",
        "\n",
        "def parse_csv_file(filepath, folder):\n",
        "    \"\"\"Parses csv files into (filename(path), label) format\"\"\"\n",
        "    results = []\n",
        "    #读取所有行\n",
        "    with open(filepath, 'r') as f:\n",
        "#         lines = f.readlines()  为什么加[1:]，可以试这个\n",
        "        #第一行不需要，因为第一行是标签\n",
        "        lines = f.readlines()[1:]\n",
        "    for line in lines:#依次去取每一行\n",
        "        image_id, label_str = line.strip('\\n').split(',')\n",
        "        image_full_path = folder / f\"{image_id}.png\"\n",
        "        results.append((image_full_path, label_str)) #得到对应图片的路径和分类\n",
        "    return results\n",
        "\n",
        "#解析对应的文件夹\n",
        "train_labels_info = parse_csv_file(train_lables_file, train_folder)\n",
        "test_csv_info = parse_csv_file(test_csv_file, test_folder)\n",
        "#打印\n",
        "import pprint\n",
        "pprint.pprint(train_labels_info[0:5])\n",
        "pprint.pprint(test_csv_info[0:5])\n",
        "print(len(train_labels_info), len(test_csv_info))"
      ]
    },
    {
      "cell_type": "code",
      "execution_count": 17,
      "metadata": {
        "ExecuteTime": {
          "end_time": "2024-04-29T02:50:22.471835700Z",
          "start_time": "2024-04-29T02:50:22.346907200Z"
        },
        "execution": {
          "iopub.execute_input": "2025-01-21T06:46:03.914011Z",
          "iopub.status.busy": "2025-01-21T06:46:03.913478Z",
          "iopub.status.idle": "2025-01-21T06:46:03.971502Z",
          "shell.execute_reply": "2025-01-21T06:46:03.970860Z",
          "shell.execute_reply.started": "2025-01-21T06:46:03.913976Z"
        },
        "colab": {
          "base_uri": "https://localhost:8080/"
        },
        "id": "XvvIIqKD-UNj",
        "outputId": "dfc036dc-5d1d-4529-be80-a0e1da58f63d"
      },
      "outputs": [
        {
          "output_type": "stream",
          "name": "stdout",
          "text": [
            "                            filepath       class\n",
            "0  competitions/cifar-10/train/1.png        frog\n",
            "1  competitions/cifar-10/train/2.png       truck\n",
            "2  competitions/cifar-10/train/3.png       truck\n",
            "3  competitions/cifar-10/train/4.png        deer\n",
            "4  competitions/cifar-10/train/5.png  automobile\n",
            "                                filepath       class\n",
            "0  competitions/cifar-10/train/45001.png       horse\n",
            "1  competitions/cifar-10/train/45002.png  automobile\n",
            "2  competitions/cifar-10/train/45003.png        deer\n",
            "3  competitions/cifar-10/train/45004.png  automobile\n",
            "4  competitions/cifar-10/train/45005.png    airplane\n",
            "                           filepath class\n",
            "0  competitions/cifar-10/test/1.png   cat\n",
            "1  competitions/cifar-10/test/2.png   cat\n",
            "2  competitions/cifar-10/test/3.png   cat\n",
            "3  competitions/cifar-10/test/4.png   cat\n",
            "4  competitions/cifar-10/test/5.png   cat\n"
          ]
        }
      ],
      "source": [
        "# train_df = pd.DataFrame(train_labels_info)\n",
        "train_df = pd.DataFrame(train_labels_info[0:45000])\n",
        "valid_df = pd.DataFrame(train_labels_info[45000:])\n",
        "test_df = pd.DataFrame(test_csv_info)\n",
        "\n",
        "train_df.columns = ['filepath', 'class']\n",
        "valid_df.columns = ['filepath', 'class']\n",
        "test_df.columns = ['filepath', 'class']\n",
        "\n",
        "print(train_df.head())\n",
        "print(valid_df.head())\n",
        "print(test_df.head())"
      ]
    },
    {
      "cell_type": "code",
      "execution_count": 18,
      "metadata": {
        "ExecuteTime": {
          "end_time": "2024-04-29T02:50:31.586523100Z",
          "start_time": "2024-04-29T02:50:28.504142500Z"
        },
        "execution": {
          "iopub.execute_input": "2025-01-21T06:46:03.972824Z",
          "iopub.status.busy": "2025-01-21T06:46:03.972308Z",
          "iopub.status.idle": "2025-01-21T06:46:04.781633Z",
          "shell.execute_reply": "2025-01-21T06:46:04.781099Z",
          "shell.execute_reply.started": "2025-01-21T06:46:03.972790Z"
        },
        "id": "yi-BqMwX-UNk"
      },
      "outputs": [],
      "source": [
        "from PIL import Image\n",
        "from torch.utils.data import Dataset, DataLoader\n",
        "from torchvision import transforms\n",
        "\n",
        "class Cifar10Dataset(Dataset):\n",
        "    df_map = {\n",
        "        \"train\": train_df,\n",
        "        \"eval\": valid_df,\n",
        "        \"test\": test_df\n",
        "    }\n",
        "    label_to_idx = {label: idx for idx, label in enumerate(class_names)}\n",
        "    idx_to_label = {idx: label for idx, label in enumerate(class_names)}\n",
        "    def __init__(self, mode, transform=None):\n",
        "        self.df = self.df_map.get(mode, None)\n",
        "        if self.df is None:\n",
        "            raise ValueError(\"mode should be one of train, val, test, but got {}\".format(mode))\n",
        "\n",
        "        self.transform = transform\n",
        "\n",
        "    def __getitem__(self, index):\n",
        "        img_path, label = self.df.iloc[index]\n",
        "        img = Image.open(img_path).convert('RGB')\n",
        "        # # img 转换为 channel first\n",
        "        # img = img.transpose((2, 0, 1))\n",
        "        # transform\n",
        "        img = self.transform(img)\n",
        "        # label 转换为 idx\n",
        "        label = self.label_to_idx[label]\n",
        "        return img, label\n",
        "\n",
        "    def __len__(self):\n",
        "        return self.df.shape[0]\n",
        "\n",
        "IMAGE_SIZE = 32\n",
        "mean, std = [0.4914, 0.4822, 0.4465], [0.247, 0.243, 0.261]\n",
        "\n",
        "transforms_train = transforms.Compose([\n",
        "        # resize\n",
        "        transforms.Resize((IMAGE_SIZE, IMAGE_SIZE)),\n",
        "        # random rotation 40\n",
        "        transforms.RandomRotation(40),\n",
        "        # horizaontal flip\n",
        "        transforms.RandomHorizontalFlip(),\n",
        "        transforms.ToTensor(),\n",
        "        transforms.Normalize(mean, std)\n",
        "    ])\n",
        "\n",
        "transforms_eval = transforms.Compose([\n",
        "        # resize\n",
        "        transforms.Resize((IMAGE_SIZE, IMAGE_SIZE)),\n",
        "        transforms.ToTensor(),\n",
        "        transforms.Normalize(mean, std)\n",
        "    ])\n",
        "\n",
        "train_ds = Cifar10Dataset(\"train\", transforms_train)\n",
        "eval_ds = Cifar10Dataset(\"eval\", transforms_eval)"
      ]
    },
    {
      "cell_type": "code",
      "execution_count": 19,
      "metadata": {
        "ExecuteTime": {
          "end_time": "2024-04-29T02:51:31.864180800Z",
          "start_time": "2024-04-29T02:51:31.841167400Z"
        },
        "execution": {
          "iopub.execute_input": "2025-01-21T06:46:04.782891Z",
          "iopub.status.busy": "2025-01-21T06:46:04.782344Z",
          "iopub.status.idle": "2025-01-21T06:46:04.785961Z",
          "shell.execute_reply": "2025-01-21T06:46:04.785438Z",
          "shell.execute_reply.started": "2025-01-21T06:46:04.782864Z"
        },
        "colab": {
          "base_uri": "https://localhost:8080/"
        },
        "id": "-wnYzUau-UNk",
        "outputId": "1c8dc066-50a0-4eff-fcca-8775de3de9e5"
      },
      "outputs": [
        {
          "output_type": "stream",
          "name": "stderr",
          "text": [
            "/usr/local/lib/python3.11/dist-packages/torch/utils/data/dataloader.py:617: UserWarning: This DataLoader will create 4 worker processes in total. Our suggested max number of worker in current system is 2, which is smaller than what this DataLoader is going to create. Please be aware that excessive worker creation might get DataLoader running slow or even freeze, lower the worker number to avoid potential slowness/freeze if necessary.\n",
            "  warnings.warn(\n"
          ]
        }
      ],
      "source": [
        "batch_size = 64\n",
        "train_dl = DataLoader(train_ds, batch_size=batch_size, shuffle=True, num_workers=4)\n",
        "eval_dl = DataLoader(eval_ds, batch_size=batch_size, shuffle=False, num_workers=4)"
      ]
    },
    {
      "cell_type": "code",
      "execution_count": null,
      "metadata": {
        "ExecuteTime": {
          "end_time": "2023-12-05T09:51:19.396136500Z",
          "start_time": "2023-12-05T09:46:43.935044500Z"
        },
        "execution": {
          "iopub.execute_input": "2025-01-21T06:46:04.786836Z",
          "iopub.status.busy": "2025-01-21T06:46:04.786615Z",
          "iopub.status.idle": "2025-01-21T06:46:04.789337Z",
          "shell.execute_reply": "2025-01-21T06:46:04.788884Z",
          "shell.execute_reply.started": "2025-01-21T06:46:04.786817Z"
        },
        "id": "kmXCtmFn-UNk"
      },
      "outputs": [],
      "source": [
        "# 遍历train_ds得到每张图片，计算每个通道的均值和方差\n",
        "#这里不需要每次都执行，只需要执行一次就可以了，所以注释掉\n",
        "# def cal_mean_std(ds):\n",
        "#     mean = 0.\n",
        "#     std = 0.\n",
        "#     for img, _ in ds:\n",
        "#         mean += img.mean(dim=(1, 2))\n",
        "#         std += img.std(dim=(1, 2))\n",
        "#     mean /= len(ds)\n",
        "#     std /= len(ds)\n",
        "#     return mean, std\n",
        "#\n",
        "# # 经过 normalize 后 均值为0，方差为1\n",
        "# print(cal_mean_std(train_ds))"
      ]
    },
    {
      "cell_type": "markdown",
      "metadata": {
        "id": "c8v7z_Dd-UNk"
      },
      "source": [
        "## 定义模型"
      ]
    },
    {
      "cell_type": "code",
      "execution_count": 20,
      "metadata": {
        "ExecuteTime": {
          "end_time": "2024-04-29T02:52:55.126913100Z",
          "start_time": "2024-04-29T02:52:55.080936200Z"
        },
        "execution": {
          "iopub.execute_input": "2025-01-21T06:46:04.790020Z",
          "iopub.status.busy": "2025-01-21T06:46:04.789854Z",
          "iopub.status.idle": "2025-01-21T06:46:04.800044Z",
          "shell.execute_reply": "2025-01-21T06:46:04.799590Z",
          "shell.execute_reply.started": "2025-01-21T06:46:04.790003Z"
        },
        "colab": {
          "base_uri": "https://localhost:8080/"
        },
        "id": "Nj-YICZC-UNk",
        "outputId": "9009f294-66ce-48e1-ea1c-e442208c4e85"
      },
      "outputs": [
        {
          "output_type": "stream",
          "name": "stdout",
          "text": [
            "             model.0.weight             paramerters num: 864\n",
            "              model.0.bias              paramerters num: 32\n",
            "             model.2.weight             paramerters num: 9216\n",
            "              model.2.bias              paramerters num: 32\n",
            "             model.5.weight             paramerters num: 9216\n",
            "              model.5.bias              paramerters num: 32\n",
            "             model.7.weight             paramerters num: 9216\n",
            "              model.7.bias              paramerters num: 32\n",
            "            model.10.weight             paramerters num: 9216\n",
            "             model.10.bias              paramerters num: 32\n",
            "            model.12.weight             paramerters num: 9216\n",
            "             model.12.bias              paramerters num: 32\n",
            "            model.16.weight             paramerters num: 5120\n",
            "             model.16.bias              paramerters num: 10\n"
          ]
        }
      ],
      "source": [
        "class VGG(nn.Module):\n",
        "    def __init__(self, num_classes):\n",
        "        super().__init__()\n",
        "        self.model = nn.Sequential(\n",
        "            nn.Conv2d(in_channels=3, out_channels=32, kernel_size=3, padding=\"same\"),# 32*32*32\n",
        "            nn.ReLU(),\n",
        "            nn.Conv2d(in_channels=32, out_channels=32, kernel_size=3, padding=\"same\"),# 32*32*32\n",
        "            nn.ReLU(),\n",
        "            nn.MaxPool2d(kernel_size=2),\n",
        "            nn.Conv2d(in_channels=32, out_channels=32, kernel_size=3, padding=\"same\"),# 32*16*16\n",
        "            nn.ReLU(),\n",
        "            nn.Conv2d(in_channels=32, out_channels=32, kernel_size=3, padding=\"same\"),# 32*16*16\n",
        "            nn.ReLU(),\n",
        "            nn.MaxPool2d(kernel_size=2),\n",
        "            nn.Conv2d(in_channels=32, out_channels=32, kernel_size=3, padding=\"same\"),# 32*8*8\n",
        "            nn.ReLU(),\n",
        "            nn.Conv2d(in_channels=32, out_channels=32, kernel_size=3, padding=\"same\"),# 32*8*8\n",
        "            nn.ReLU(),\n",
        "            nn.MaxPool2d(kernel_size=2), # 32*4*4\n",
        "            nn.Flatten(),\n",
        "            nn.Linear(512, num_classes),\n",
        "        )\n",
        "        self.init_weights()\n",
        "\n",
        "    def init_weights(self):\n",
        "        \"\"\"使用 xavier 均匀分布来初始化全连接层、卷积层的权重 W\"\"\"\n",
        "        for m in self.modules():\n",
        "            if isinstance(m, (nn.Linear, nn.Conv2d)):\n",
        "                nn.init.xavier_uniform_(m.weight)\n",
        "                nn.init.zeros_(m.bias)\n",
        "\n",
        "    def forward(self, x):\n",
        "        return self.model(x)\n",
        "\n",
        "for key, value in VGG(len(class_names)).named_parameters():\n",
        "    print(f\"{key:^40}paramerters num: {np.prod(value.shape)}\")\n",
        "\n"
      ]
    },
    {
      "cell_type": "code",
      "execution_count": null,
      "metadata": {
        "ExecuteTime": {
          "end_time": "2025-01-21T06:41:50.445101Z",
          "start_time": "2025-01-21T06:41:50.441569Z"
        },
        "execution": {
          "iopub.execute_input": "2025-01-21T06:46:04.800691Z",
          "iopub.status.busy": "2025-01-21T06:46:04.800510Z",
          "iopub.status.idle": "2025-01-21T06:46:04.804608Z",
          "shell.execute_reply": "2025-01-21T06:46:04.804173Z",
          "shell.execute_reply.started": "2025-01-21T06:46:04.800673Z"
        },
        "id": "NgmhS8Y7-UNk",
        "outputId": "1e2963d4-198d-46cd-c2cd-666161daa4cb"
      },
      "outputs": [
        {
          "data": {
            "text/plain": [
              "512"
            ]
          },
          "execution_count": 11,
          "metadata": {},
          "output_type": "execute_result"
        }
      ],
      "source": [
        "32*4*4"
      ]
    },
    {
      "cell_type": "markdown",
      "metadata": {
        "id": "tYYOEK8G-UNk"
      },
      "source": [
        "## 训练\n",
        "\n",
        "pytorch的训练需要自行实现，包括\n",
        "1. 定义损失函数\n",
        "2. 定义优化器\n",
        "3. 定义训练步\n",
        "4. 训练"
      ]
    },
    {
      "cell_type": "code",
      "execution_count": null,
      "metadata": {
        "ExecuteTime": {
          "end_time": "2024-07-23T08:24:38.083191700Z",
          "start_time": "2024-07-23T08:24:38.072843500Z"
        },
        "execution": {
          "iopub.execute_input": "2025-01-21T06:46:04.805417Z",
          "iopub.status.busy": "2025-01-21T06:46:04.805130Z",
          "iopub.status.idle": "2025-01-21T06:46:04.808778Z",
          "shell.execute_reply": "2025-01-21T06:46:04.808205Z",
          "shell.execute_reply.started": "2025-01-21T06:46:04.805398Z"
        },
        "jupyter": {
          "outputs_hidden": false
        },
        "id": "wWf8CFj_-UNk",
        "outputId": "cecebd3c-badb-4a8a-9f19-3d444467493a"
      },
      "outputs": [
        {
          "data": {
            "text/plain": [
              "512"
            ]
          },
          "execution_count": 12,
          "metadata": {},
          "output_type": "execute_result"
        }
      ],
      "source": [
        "32*16"
      ]
    },
    {
      "cell_type": "code",
      "execution_count": null,
      "metadata": {
        "ExecuteTime": {
          "end_time": "2024-04-29T02:53:41.778122600Z",
          "start_time": "2024-04-29T02:53:41.736145400Z"
        },
        "execution": {
          "iopub.execute_input": "2025-01-21T06:46:04.809881Z",
          "iopub.status.busy": "2025-01-21T06:46:04.809482Z",
          "iopub.status.idle": "2025-01-21T06:46:04.816488Z",
          "shell.execute_reply": "2025-01-21T06:46:04.815987Z",
          "shell.execute_reply.started": "2025-01-21T06:46:04.809851Z"
        },
        "jupyter": {
          "outputs_hidden": false
        },
        "id": "My8edbVc-UNk",
        "outputId": "3b9b3dec-99ec-4ba6-c86d-637e28da69b2"
      },
      "outputs": [
        {
          "name": "stdout",
          "output_type": "stream",
          "text": [
            "Total trainable parameters: 52266\n"
          ]
        }
      ],
      "source": [
        "#模型总参数量\n",
        "total_params = sum(p.numel() for p in VGG(len(class_names)).parameters() if p.requires_grad)\n",
        "print(f\"Total trainable parameters: {total_params}\")"
      ]
    },
    {
      "cell_type": "code",
      "execution_count": 21,
      "metadata": {
        "ExecuteTime": {
          "end_time": "2023-12-05T09:51:19.650361500Z",
          "start_time": "2023-12-05T09:51:19.432189700Z"
        },
        "execution": {
          "iopub.execute_input": "2025-01-21T06:46:04.819460Z",
          "iopub.status.busy": "2025-01-21T06:46:04.819152Z",
          "iopub.status.idle": "2025-01-21T06:46:04.846561Z",
          "shell.execute_reply": "2025-01-21T06:46:04.846103Z",
          "shell.execute_reply.started": "2025-01-21T06:46:04.819440Z"
        },
        "id": "kLj_vttw-UNk"
      },
      "outputs": [],
      "source": [
        "from sklearn.metrics import accuracy_score\n",
        "\n",
        "@torch.no_grad()\n",
        "def evaluating(model, dataloader, loss_fct):\n",
        "    loss_list = []\n",
        "    pred_list = []\n",
        "    label_list = []\n",
        "    for datas, labels in dataloader:\n",
        "        datas = datas.to(device)\n",
        "        labels = labels.to(device)\n",
        "        # 前向计算\n",
        "        logits = model(datas)\n",
        "        loss = loss_fct(logits, labels)         # 验证集损失\n",
        "        loss_list.append(loss.item())\n",
        "\n",
        "        preds = logits.argmax(axis=-1)    # 验证集预测\n",
        "        pred_list.extend(preds.cpu().numpy().tolist())\n",
        "        label_list.extend(labels.cpu().numpy().tolist())\n",
        "\n",
        "    acc = accuracy_score(label_list, pred_list)\n",
        "    return np.mean(loss_list), acc\n"
      ]
    },
    {
      "cell_type": "markdown",
      "metadata": {
        "id": "gQHn7w5C-UNl"
      },
      "source": [
        "### TensorBoard 可视化\n",
        "\n",
        "\n",
        "训练过程中可以使用如下命令启动tensorboard服务。\n",
        "\n",
        "```shell\n",
        "tensorboard \\\n",
        "    --logdir=runs \\     # log 存放路径\n",
        "    --host 0.0.0.0 \\    # ip\n",
        "    --port 8848         # 端口\n",
        "```"
      ]
    },
    {
      "cell_type": "code",
      "execution_count": 22,
      "metadata": {
        "ExecuteTime": {
          "end_time": "2023-12-05T09:51:26.334347900Z",
          "start_time": "2023-12-05T09:51:19.656342Z"
        },
        "execution": {
          "iopub.execute_input": "2025-01-21T06:46:04.847777Z",
          "iopub.status.busy": "2025-01-21T06:46:04.847313Z",
          "iopub.status.idle": "2025-01-21T06:46:04.907480Z",
          "shell.execute_reply": "2025-01-21T06:46:04.907013Z",
          "shell.execute_reply.started": "2025-01-21T06:46:04.847745Z"
        },
        "id": "RnAhiMWF-UNl"
      },
      "outputs": [],
      "source": [
        "from torch.utils.tensorboard import SummaryWriter\n",
        "\n",
        "\n",
        "class TensorBoardCallback:\n",
        "    def __init__(self, log_dir, flush_secs=10):\n",
        "        \"\"\"\n",
        "        Args:\n",
        "            log_dir (str): dir to write log.\n",
        "            flush_secs (int, optional): write to dsk each flush_secs seconds. Defaults to 10.\n",
        "        \"\"\"\n",
        "        self.writer = SummaryWriter(log_dir=log_dir, flush_secs=flush_secs)\n",
        "\n",
        "    def draw_model(self, model, input_shape):\n",
        "        self.writer.add_graph(model, input_to_model=torch.randn(input_shape))\n",
        "\n",
        "    def add_loss_scalars(self, step, loss, val_loss):\n",
        "        self.writer.add_scalars(\n",
        "            main_tag=\"training/loss\",\n",
        "            tag_scalar_dict={\"loss\": loss, \"val_loss\": val_loss},\n",
        "            global_step=step,\n",
        "            )\n",
        "\n",
        "    def add_acc_scalars(self, step, acc, val_acc):\n",
        "        self.writer.add_scalars(\n",
        "            main_tag=\"training/accuracy\",\n",
        "            tag_scalar_dict={\"accuracy\": acc, \"val_accuracy\": val_acc},\n",
        "            global_step=step,\n",
        "        )\n",
        "\n",
        "    def add_lr_scalars(self, step, learning_rate):\n",
        "        self.writer.add_scalars(\n",
        "            main_tag=\"training/learning_rate\",\n",
        "            tag_scalar_dict={\"learning_rate\": learning_rate},\n",
        "            global_step=step,\n",
        "\n",
        "        )\n",
        "\n",
        "    def __call__(self, step, **kwargs):\n",
        "        # add loss\n",
        "        loss = kwargs.pop(\"loss\", None)\n",
        "        val_loss = kwargs.pop(\"val_loss\", None)\n",
        "        if loss is not None and val_loss is not None:\n",
        "            self.add_loss_scalars(step, loss, val_loss)\n",
        "        # add acc\n",
        "        acc = kwargs.pop(\"acc\", None)\n",
        "        val_acc = kwargs.pop(\"val_acc\", None)\n",
        "        if acc is not None and val_acc is not None:\n",
        "            self.add_acc_scalars(step, acc, val_acc)\n",
        "        # add lr\n",
        "        learning_rate = kwargs.pop(\"lr\", None)\n",
        "        if learning_rate is not None:\n",
        "            self.add_lr_scalars(step, learning_rate)\n"
      ]
    },
    {
      "cell_type": "markdown",
      "metadata": {
        "id": "OR1DqVt4-UNl"
      },
      "source": [
        "### Save Best\n"
      ]
    },
    {
      "cell_type": "code",
      "execution_count": 23,
      "metadata": {
        "ExecuteTime": {
          "end_time": "2023-12-05T09:51:26.347424300Z",
          "start_time": "2023-12-05T09:51:26.337347300Z"
        },
        "execution": {
          "iopub.execute_input": "2025-01-21T06:46:04.908474Z",
          "iopub.status.busy": "2025-01-21T06:46:04.908064Z",
          "iopub.status.idle": "2025-01-21T06:46:04.913366Z",
          "shell.execute_reply": "2025-01-21T06:46:04.912894Z",
          "shell.execute_reply.started": "2025-01-21T06:46:04.908452Z"
        },
        "id": "lAoS_FT4-UNl"
      },
      "outputs": [],
      "source": [
        "class SaveCheckpointsCallback:\n",
        "    def __init__(self, save_dir, save_step=5000, save_best_only=True):\n",
        "        \"\"\"\n",
        "        Save checkpoints each save_epoch epoch.\n",
        "        We save checkpoint by epoch in this implementation.\n",
        "        Usually, training scripts with pytorch evaluating model and save checkpoint by step.\n",
        "\n",
        "        Args:\n",
        "            save_dir (str): dir to save checkpoint\n",
        "            save_epoch (int, optional): the frequency to save checkpoint. Defaults to 1.\n",
        "            save_best_only (bool, optional): If True, only save the best model or save each model at every epoch.\n",
        "        \"\"\"\n",
        "        self.save_dir = save_dir\n",
        "        self.save_step = save_step\n",
        "        self.save_best_only = save_best_only\n",
        "        self.best_metrics = -1\n",
        "\n",
        "        # mkdir\n",
        "        if not os.path.exists(self.save_dir):\n",
        "            os.mkdir(self.save_dir)\n",
        "\n",
        "    def __call__(self, step, state_dict, metric=None):\n",
        "        if step % self.save_step > 0:\n",
        "            return\n",
        "\n",
        "        if self.save_best_only:\n",
        "            assert metric is not None\n",
        "            if metric >= self.best_metrics:\n",
        "                # save checkpoints\n",
        "                torch.save(state_dict, os.path.join(self.save_dir, \"best.ckpt\"))\n",
        "                # update best metrics\n",
        "                self.best_metrics = metric\n",
        "        else:\n",
        "            torch.save(state_dict, os.path.join(self.save_dir, f\"{step}.ckpt\"))\n",
        "\n"
      ]
    },
    {
      "cell_type": "markdown",
      "metadata": {
        "id": "tuO6ApgU-UNl"
      },
      "source": [
        "### Early Stop"
      ]
    },
    {
      "cell_type": "code",
      "execution_count": 24,
      "metadata": {
        "ExecuteTime": {
          "end_time": "2023-12-05T09:51:26.371402100Z",
          "start_time": "2023-12-05T09:51:26.351411800Z"
        },
        "execution": {
          "iopub.execute_input": "2025-01-21T06:46:04.914156Z",
          "iopub.status.busy": "2025-01-21T06:46:04.913956Z",
          "iopub.status.idle": "2025-01-21T06:46:04.918260Z",
          "shell.execute_reply": "2025-01-21T06:46:04.917785Z",
          "shell.execute_reply.started": "2025-01-21T06:46:04.914137Z"
        },
        "id": "B5qLoGm1-UNl"
      },
      "outputs": [],
      "source": [
        "class EarlyStopCallback:\n",
        "    def __init__(self, patience=5, min_delta=0.01):\n",
        "        \"\"\"\n",
        "\n",
        "        Args:\n",
        "            patience (int, optional): Number of epochs with no improvement after which training will be stopped.. Defaults to 5.\n",
        "            min_delta (float, optional): Minimum change in the monitored quantity to qualify as an improvement, i.e. an absolute\n",
        "                change of less than min_delta, will count as no improvement. Defaults to 0.01.\n",
        "        \"\"\"\n",
        "        self.patience = patience\n",
        "        self.min_delta = min_delta\n",
        "        self.best_metric = -1\n",
        "        self.counter = 0\n",
        "\n",
        "    def __call__(self, metric):\n",
        "        if metric >= self.best_metric + self.min_delta:\n",
        "            # update best metric\n",
        "            self.best_metric = metric\n",
        "            # reset counter\n",
        "            self.counter = 0\n",
        "        else:\n",
        "            self.counter += 1\n",
        "\n",
        "    @property\n",
        "    def early_stop(self):\n",
        "        return self.counter >= self.patience\n"
      ]
    },
    {
      "cell_type": "code",
      "execution_count": 25,
      "metadata": {
        "ExecuteTime": {
          "start_time": "2023-12-05T09:51:26.364406400Z"
        },
        "execution": {
          "iopub.execute_input": "2025-01-21T06:46:04.919099Z",
          "iopub.status.busy": "2025-01-21T06:46:04.918892Z",
          "iopub.status.idle": "2025-01-21T06:47:21.374821Z",
          "shell.execute_reply": "2025-01-21T06:47:21.374251Z",
          "shell.execute_reply.started": "2025-01-21T06:46:04.919070Z"
        },
        "is_executing": true,
        "colab": {
          "base_uri": "https://localhost:8080/",
          "height": 803,
          "referenced_widgets": [
            "e6717e4f24f740e9809c474c2e00c396",
            "af7d9bb0cb454c7d914730b435159eab",
            "a4ec614a2c674bcb8d595edbf48c9fc3",
            "27b490cb104c409295ae3b96e61eab80",
            "bd6328f43b554a1aa2b939fbf7818bda",
            "e56e49101bee4dc69e98b9da43d488d7",
            "9ed45a619b134cc2b9fc9f216420a8ca",
            "4d38b7eef9474eec8cf61bdbd08daf07",
            "fec9e8ab5283436bbf837fec3d713891",
            "0bf874a43353405d908350e95adf2d08",
            "8e0504051304443bb61e59c37c69a3a5"
          ]
        },
        "id": "4oL3ShvB-UNl",
        "outputId": "671602e0-0189-4535-8e80-f5b02ce3b8fe"
      },
      "outputs": [
        {
          "output_type": "display_data",
          "data": {
            "text/plain": [
              "  0%|          | 0/7040 [00:00<?, ?it/s]"
            ],
            "application/vnd.jupyter.widget-view+json": {
              "version_major": 2,
              "version_minor": 0,
              "model_id": "e6717e4f24f740e9809c474c2e00c396"
            }
          },
          "metadata": {}
        },
        {
          "output_type": "stream",
          "name": "stderr",
          "text": [
            "/usr/local/lib/python3.11/dist-packages/torch/utils/data/dataloader.py:617: UserWarning: This DataLoader will create 4 worker processes in total. Our suggested max number of worker in current system is 2, which is smaller than what this DataLoader is going to create. Please be aware that excessive worker creation might get DataLoader running slow or even freeze, lower the worker number to avoid potential slowness/freeze if necessary.\n",
            "  warnings.warn(\n",
            "/usr/local/lib/python3.11/dist-packages/torch/utils/data/dataloader.py:617: UserWarning: This DataLoader will create 4 worker processes in total. Our suggested max number of worker in current system is 2, which is smaller than what this DataLoader is going to create. Please be aware that excessive worker creation might get DataLoader running slow or even freeze, lower the worker number to avoid potential slowness/freeze if necessary.\n",
            "  warnings.warn(\n",
            "/usr/local/lib/python3.11/dist-packages/torch/utils/data/dataloader.py:617: UserWarning: This DataLoader will create 4 worker processes in total. Our suggested max number of worker in current system is 2, which is smaller than what this DataLoader is going to create. Please be aware that excessive worker creation might get DataLoader running slow or even freeze, lower the worker number to avoid potential slowness/freeze if necessary.\n",
            "  warnings.warn(\n",
            "/usr/local/lib/python3.11/dist-packages/torch/utils/data/dataloader.py:617: UserWarning: This DataLoader will create 4 worker processes in total. Our suggested max number of worker in current system is 2, which is smaller than what this DataLoader is going to create. Please be aware that excessive worker creation might get DataLoader running slow or even freeze, lower the worker number to avoid potential slowness/freeze if necessary.\n",
            "  warnings.warn(\n",
            "/usr/local/lib/python3.11/dist-packages/torch/utils/data/dataloader.py:617: UserWarning: This DataLoader will create 4 worker processes in total. Our suggested max number of worker in current system is 2, which is smaller than what this DataLoader is going to create. Please be aware that excessive worker creation might get DataLoader running slow or even freeze, lower the worker number to avoid potential slowness/freeze if necessary.\n",
            "  warnings.warn(\n",
            "/usr/local/lib/python3.11/dist-packages/torch/utils/data/dataloader.py:617: UserWarning: This DataLoader will create 4 worker processes in total. Our suggested max number of worker in current system is 2, which is smaller than what this DataLoader is going to create. Please be aware that excessive worker creation might get DataLoader running slow or even freeze, lower the worker number to avoid potential slowness/freeze if necessary.\n",
            "  warnings.warn(\n",
            "/usr/local/lib/python3.11/dist-packages/torch/utils/data/dataloader.py:617: UserWarning: This DataLoader will create 4 worker processes in total. Our suggested max number of worker in current system is 2, which is smaller than what this DataLoader is going to create. Please be aware that excessive worker creation might get DataLoader running slow or even freeze, lower the worker number to avoid potential slowness/freeze if necessary.\n",
            "  warnings.warn(\n",
            "/usr/local/lib/python3.11/dist-packages/torch/utils/data/dataloader.py:617: UserWarning: This DataLoader will create 4 worker processes in total. Our suggested max number of worker in current system is 2, which is smaller than what this DataLoader is going to create. Please be aware that excessive worker creation might get DataLoader running slow or even freeze, lower the worker number to avoid potential slowness/freeze if necessary.\n",
            "  warnings.warn(\n",
            "/usr/local/lib/python3.11/dist-packages/torch/utils/data/dataloader.py:617: UserWarning: This DataLoader will create 4 worker processes in total. Our suggested max number of worker in current system is 2, which is smaller than what this DataLoader is going to create. Please be aware that excessive worker creation might get DataLoader running slow or even freeze, lower the worker number to avoid potential slowness/freeze if necessary.\n",
            "  warnings.warn(\n",
            "/usr/local/lib/python3.11/dist-packages/torch/utils/data/dataloader.py:617: UserWarning: This DataLoader will create 4 worker processes in total. Our suggested max number of worker in current system is 2, which is smaller than what this DataLoader is going to create. Please be aware that excessive worker creation might get DataLoader running slow or even freeze, lower the worker number to avoid potential slowness/freeze if necessary.\n",
            "  warnings.warn(\n",
            "/usr/local/lib/python3.11/dist-packages/torch/utils/data/dataloader.py:617: UserWarning: This DataLoader will create 4 worker processes in total. Our suggested max number of worker in current system is 2, which is smaller than what this DataLoader is going to create. Please be aware that excessive worker creation might get DataLoader running slow or even freeze, lower the worker number to avoid potential slowness/freeze if necessary.\n",
            "  warnings.warn(\n",
            "/usr/local/lib/python3.11/dist-packages/torch/utils/data/dataloader.py:617: UserWarning: This DataLoader will create 4 worker processes in total. Our suggested max number of worker in current system is 2, which is smaller than what this DataLoader is going to create. Please be aware that excessive worker creation might get DataLoader running slow or even freeze, lower the worker number to avoid potential slowness/freeze if necessary.\n",
            "  warnings.warn(\n",
            "/usr/local/lib/python3.11/dist-packages/torch/utils/data/dataloader.py:617: UserWarning: This DataLoader will create 4 worker processes in total. Our suggested max number of worker in current system is 2, which is smaller than what this DataLoader is going to create. Please be aware that excessive worker creation might get DataLoader running slow or even freeze, lower the worker number to avoid potential slowness/freeze if necessary.\n",
            "  warnings.warn(\n",
            "/usr/local/lib/python3.11/dist-packages/torch/utils/data/dataloader.py:617: UserWarning: This DataLoader will create 4 worker processes in total. Our suggested max number of worker in current system is 2, which is smaller than what this DataLoader is going to create. Please be aware that excessive worker creation might get DataLoader running slow or even freeze, lower the worker number to avoid potential slowness/freeze if necessary.\n",
            "  warnings.warn(\n",
            "/usr/local/lib/python3.11/dist-packages/torch/utils/data/dataloader.py:617: UserWarning: This DataLoader will create 4 worker processes in total. Our suggested max number of worker in current system is 2, which is smaller than what this DataLoader is going to create. Please be aware that excessive worker creation might get DataLoader running slow or even freeze, lower the worker number to avoid potential slowness/freeze if necessary.\n",
            "  warnings.warn(\n",
            "/usr/local/lib/python3.11/dist-packages/torch/utils/data/dataloader.py:617: UserWarning: This DataLoader will create 4 worker processes in total. Our suggested max number of worker in current system is 2, which is smaller than what this DataLoader is going to create. Please be aware that excessive worker creation might get DataLoader running slow or even freeze, lower the worker number to avoid potential slowness/freeze if necessary.\n",
            "  warnings.warn(\n",
            "/usr/local/lib/python3.11/dist-packages/torch/utils/data/dataloader.py:617: UserWarning: This DataLoader will create 4 worker processes in total. Our suggested max number of worker in current system is 2, which is smaller than what this DataLoader is going to create. Please be aware that excessive worker creation might get DataLoader running slow or even freeze, lower the worker number to avoid potential slowness/freeze if necessary.\n",
            "  warnings.warn(\n",
            "/usr/local/lib/python3.11/dist-packages/torch/utils/data/dataloader.py:617: UserWarning: This DataLoader will create 4 worker processes in total. Our suggested max number of worker in current system is 2, which is smaller than what this DataLoader is going to create. Please be aware that excessive worker creation might get DataLoader running slow or even freeze, lower the worker number to avoid potential slowness/freeze if necessary.\n",
            "  warnings.warn(\n",
            "/usr/local/lib/python3.11/dist-packages/torch/utils/data/dataloader.py:617: UserWarning: This DataLoader will create 4 worker processes in total. Our suggested max number of worker in current system is 2, which is smaller than what this DataLoader is going to create. Please be aware that excessive worker creation might get DataLoader running slow or even freeze, lower the worker number to avoid potential slowness/freeze if necessary.\n",
            "  warnings.warn(\n",
            "/usr/local/lib/python3.11/dist-packages/torch/utils/data/dataloader.py:617: UserWarning: This DataLoader will create 4 worker processes in total. Our suggested max number of worker in current system is 2, which is smaller than what this DataLoader is going to create. Please be aware that excessive worker creation might get DataLoader running slow or even freeze, lower the worker number to avoid potential slowness/freeze if necessary.\n",
            "  warnings.warn(\n"
          ]
        }
      ],
      "source": [
        "# 训练\n",
        "def training(\n",
        "    model,\n",
        "    train_loader,\n",
        "    val_loader,\n",
        "    epoch,\n",
        "    loss_fct,\n",
        "    optimizer,\n",
        "    tensorboard_callback=None,\n",
        "    save_ckpt_callback=None,\n",
        "    early_stop_callback=None,\n",
        "    eval_step=500,\n",
        "    ):\n",
        "    record_dict = {\n",
        "        \"train\": [],\n",
        "        \"val\": []\n",
        "    }\n",
        "\n",
        "    global_step = 0\n",
        "    model.train()\n",
        "    with tqdm(total=epoch * len(train_loader)) as pbar:\n",
        "        for epoch_id in range(epoch):\n",
        "            # training\n",
        "            for datas, labels in train_loader:\n",
        "                datas = datas.to(device)\n",
        "                labels = labels.to(device)\n",
        "                # 梯度清空\n",
        "                optimizer.zero_grad()\n",
        "                # 模型前向计算\n",
        "                logits = model(datas)\n",
        "                # 计算损失\n",
        "                loss = loss_fct(logits, labels)\n",
        "                # 梯度回传\n",
        "                loss.backward()\n",
        "                # 调整优化器，包括学习率的变动等\n",
        "                optimizer.step()\n",
        "                preds = logits.argmax(axis=-1)\n",
        "\n",
        "                acc = accuracy_score(labels.cpu().numpy(), preds.cpu().numpy())\n",
        "                loss = loss.cpu().item()\n",
        "                # record\n",
        "\n",
        "                record_dict[\"train\"].append({\n",
        "                    \"loss\": loss, \"acc\": acc, \"step\": global_step\n",
        "                })\n",
        "\n",
        "                # evaluating\n",
        "                if global_step % eval_step == 0:\n",
        "                    model.eval()\n",
        "                    val_loss, val_acc = evaluating(model, val_loader, loss_fct)\n",
        "                    record_dict[\"val\"].append({\n",
        "                        \"loss\": val_loss, \"acc\": val_acc, \"step\": global_step\n",
        "                    })\n",
        "                    model.train()\n",
        "\n",
        "                    # 1. 使用 tensorboard 可视化\n",
        "                    if tensorboard_callback is not None:\n",
        "                        tensorboard_callback(\n",
        "                            global_step,\n",
        "                            loss=loss, val_loss=val_loss,\n",
        "                            acc=acc, val_acc=val_acc,\n",
        "                            lr=optimizer.param_groups[0][\"lr\"],\n",
        "                            )\n",
        "\n",
        "                    # 2. 保存模型权重 save model checkpoint\n",
        "                    if save_ckpt_callback is not None:\n",
        "                        save_ckpt_callback(global_step, model.state_dict(), metric=val_acc)\n",
        "\n",
        "                    # 3. 早停 Early Stop\n",
        "                    if early_stop_callback is not None:\n",
        "                        early_stop_callback(val_acc)\n",
        "                        if early_stop_callback.early_stop:\n",
        "                            print(f\"Early stop at epoch {epoch_id} / global_step {global_step}\")\n",
        "                            return record_dict\n",
        "\n",
        "                # udate step\n",
        "                global_step += 1\n",
        "                pbar.update(1)\n",
        "                pbar.set_postfix({\"epoch\": epoch_id})\n",
        "\n",
        "    return record_dict\n",
        "\n",
        "\n",
        "epoch = 10\n",
        "\n",
        "model = VGG(num_classes=10)\n",
        "\n",
        "# 1. 定义损失函数 采用交叉熵损失\n",
        "loss_fct = nn.CrossEntropyLoss()\n",
        "# 2. 定义优化器 采用 adam\n",
        "# Optimizers specified in the torch.optim package\n",
        "#可以修改adam里边的weight_decay参数，来控制L2正则化的程度,beta1和beta2是指数衰减率\n",
        "optimizer = torch.optim.Adam(model.parameters(), lr=1e-3)\n",
        "\n",
        "# 1. tensorboard 可视化\n",
        "if not os.path.exists(\"runs\"):\n",
        "    os.mkdir(\"runs\")\n",
        "tensorboard_callback = TensorBoardCallback(\"runs/vgg\")\n",
        "tensorboard_callback.draw_model(model, [1, 3, IMAGE_SIZE, IMAGE_SIZE])\n",
        "# 2. save best\n",
        "if not os.path.exists(\"checkpoints\"):\n",
        "    os.makedirs(\"checkpoints\")\n",
        "save_ckpt_callback = SaveCheckpointsCallback(\"checkpoints/vgg\", save_step=len(train_dl), save_best_only=True)\n",
        "# 3. early stop\n",
        "early_stop_callback = EarlyStopCallback(patience=5)\n",
        "\n",
        "model = model.to(device)\n",
        "record = training(\n",
        "    model,\n",
        "    train_dl,\n",
        "    eval_dl,\n",
        "    epoch,\n",
        "    loss_fct,\n",
        "    optimizer,\n",
        "    tensorboard_callback=None,\n",
        "    save_ckpt_callback=save_ckpt_callback,\n",
        "    early_stop_callback=early_stop_callback,\n",
        "    eval_step=len(train_dl)\n",
        "    )"
      ]
    },
    {
      "cell_type": "code",
      "execution_count": 28,
      "metadata": {
        "execution": {
          "iopub.execute_input": "2025-01-21T06:47:21.375822Z",
          "iopub.status.busy": "2025-01-21T06:47:21.375549Z",
          "iopub.status.idle": "2025-01-21T06:47:21.624424Z",
          "shell.execute_reply": "2025-01-21T06:47:21.623939Z",
          "shell.execute_reply.started": "2025-01-21T06:47:21.375799Z"
        },
        "is_executing": true,
        "colab": {
          "base_uri": "https://localhost:8080/",
          "height": 470
        },
        "id": "ukBDKWCA-UNl",
        "outputId": "a8ca0f5d-677b-41e7-fd45-a415cce57568"
      },
      "outputs": [
        {
          "output_type": "display_data",
          "data": {
            "text/plain": [
              "<Figure size 1000x500 with 2 Axes>"
            ],
            "image/png": "[encoded data removed]"
          },
          "metadata": {}
        }
      ],
      "source": [
        "#画线要注意的是损失是不一定在零到1之间的\n",
        "def plot_learning_curves(record_dict, sample_step=500):\n",
        "    # build DataFrame\n",
        "    train_df = pd.DataFrame(record_dict[\"train\"]).set_index(\"step\").iloc[::sample_step]\n",
        "    val_df = pd.DataFrame(record_dict[\"val\"]).set_index(\"step\")\n",
        "\n",
        "    # plot\n",
        "    fig_num = len(train_df.columns)\n",
        "    fig, axs = plt.subplots(1, fig_num, figsize=(5 * fig_num, 5))\n",
        "    for idx, item in enumerate(train_df.columns):\n",
        "        axs[idx].plot(train_df.index, train_df[item], label=f\"train_{item}\")\n",
        "        axs[idx].plot(val_df.index, val_df[item], label=f\"val_{item}\")\n",
        "        axs[idx].grid()\n",
        "        axs[idx].legend()\n",
        "        # axs[idx].set_xticks(range(0, train_df.index[-1], 5000))\n",
        "        # axs[idx].set_xticklabels(map(lambda x: f\"{int(x/1000)}k\", range(0, train_df.index[-1], 5000)))\n",
        "        axs[idx].set_xlabel(\"step\")\n",
        "\n",
        "    plt.show()\n",
        "\n",
        "plot_learning_curves(record, sample_step=100)  #横坐标是 steps"
      ]
    },
    {
      "cell_type": "markdown",
      "metadata": {
        "id": "zFbap4gT-UNl"
      },
      "source": [
        "# 评估"
      ]
    },
    {
      "cell_type": "code",
      "execution_count": 31,
      "metadata": {
        "execution": {
          "iopub.execute_input": "2025-01-21T06:47:21.625322Z",
          "iopub.status.busy": "2025-01-21T06:47:21.625007Z",
          "iopub.status.idle": "2025-01-21T06:47:22.290255Z",
          "shell.execute_reply": "2025-01-21T06:47:22.289643Z",
          "shell.execute_reply.started": "2025-01-21T06:47:21.625301Z"
        },
        "is_executing": true,
        "colab": {
          "base_uri": "https://localhost:8080/"
        },
        "id": "1tk3Vh6--UNl",
        "outputId": "417dfaf4-2307-4b9c-fc5d-4d0cbd83bbfd"
      },
      "outputs": [
        {
          "output_type": "stream",
          "name": "stderr",
          "text": [
            "/usr/local/lib/python3.11/dist-packages/torch/utils/data/dataloader.py:617: UserWarning: This DataLoader will create 4 worker processes in total. Our suggested max number of worker in current system is 2, which is smaller than what this DataLoader is going to create. Please be aware that excessive worker creation might get DataLoader running slow or even freeze, lower the worker number to avoid potential slowness/freeze if necessary.\n",
            "  warnings.warn(\n"
          ]
        },
        {
          "output_type": "stream",
          "name": "stdout",
          "text": [
            "loss:     0.8612\n",
            "accuracy: 0.7030\n"
          ]
        }
      ],
      "source": [
        "# dataload for evaluating\n",
        "\n",
        "# load checkpoints\n",
        "model.load_state_dict(torch.load(\"checkpoints/vgg/best.ckpt\", map_location=\"cpu\", weights_only=True))\n",
        "\n",
        "model.eval()\n",
        "loss, acc = evaluating(model, eval_dl, loss_fct)\n",
        "print(f\"loss:     {loss:.4f}\\naccuracy: {acc:.4f}\")"
      ]
    },
    {
      "cell_type": "markdown",
      "metadata": {
        "id": "l5gD7YLs-UNl"
      },
      "source": [
        "# 推理"
      ]
    },
    {
      "cell_type": "code",
      "execution_count": null,
      "metadata": {
        "execution": {
          "iopub.execute_input": "2025-01-21T06:47:22.291308Z",
          "iopub.status.busy": "2025-01-21T06:47:22.290944Z",
          "iopub.status.idle": "2025-01-21T06:47:22.293881Z",
          "shell.execute_reply": "2025-01-21T06:47:22.293440Z",
          "shell.execute_reply.started": "2025-01-21T06:47:22.291285Z"
        },
        "is_executing": true,
        "id": "8zno47m4-UNl"
      },
      "outputs": [],
      "source": [
        "# # test_df\n",
        "# test_ds = Cifar10Dataset(\"test\", transform=transforms_eval)\n",
        "# test_dl = DataLoader(test_ds, batch_size=batch_size, shuffle=False, drop_last=False)\n",
        "#\n",
        "# preds_collect = []\n",
        "# model.eval()\n",
        "# for data, fake_label in tqdm(test_dl):\n",
        "#     data = data.to(device=device)\n",
        "#     logits = model(data)\n",
        "#     preds = [test_ds.idx_to_label[idx] for idx in logits.argmax(axis=-1).cpu().tolist()]\n",
        "#     preds_collect.extend(preds)\n",
        "#\n",
        "# test_df[\"class\"] = preds_collect\n",
        "# test_df.head()"
      ]
    },
    {
      "cell_type": "code",
      "execution_count": null,
      "metadata": {
        "execution": {
          "iopub.execute_input": "2025-01-21T06:47:22.294784Z",
          "iopub.status.busy": "2025-01-21T06:47:22.294481Z",
          "iopub.status.idle": "2025-01-21T06:47:22.296790Z",
          "shell.execute_reply": "2025-01-21T06:47:22.296361Z",
          "shell.execute_reply.started": "2025-01-21T06:47:22.294764Z"
        },
        "is_executing": true,
        "tags": [],
        "id": "T-B5ai3S-UNl"
      },
      "outputs": [],
      "source": [
        "# # 导出 submission.csv\n",
        "# test_df.to_csv(\"submission.csv\", index=False)"
      ]
    }
  ],
  "metadata": {
    "kaggle": {
      "accelerator": "gpu",
      "dataSources": [
        {
          "databundleVersionId": 46718,
          "sourceId": 3649,
          "sourceType": "competition"
        }
      ],
      "dockerImageVersionId": 30588,
      "isGpuEnabled": true,
      "isInternetEnabled": true,
      "language": "python",
      "sourceType": "notebook"
    },
    "kernelspec": {
      "display_name": "Python 3",
      "name": "python3"
    },
    "language_info": {
      "codemirror_mode": {
        "name": "ipython",
        "version": 3
      },
      "file_extension": ".py",
      "mimetype": "text/x-python",
      "name": "python",
      "nbconvert_exporter": "python",
      "pygments_lexer": "ipython3",
      "version": "3.10.14"
    },
    "colab": {
      "provenance": [],
      "gpuType": "T4"
    },
    "accelerator": "GPU",
    "widgets": {
      "application/vnd.jupyter.widget-state+json": {
        "e6717e4f24f740e9809c474c2e00c396": {
          "model_module": "@jupyter-widgets/controls",
          "model_name": "HBoxModel",
          "model_module_version": "1.5.0",
          "state": {
            "_dom_classes": [],
            "_model_module": "@jupyter-widgets/controls",
            "_model_module_version": "1.5.0",
            "_model_name": "HBoxModel",
            "_view_count": null,
            "_view_module": "@jupyter-widgets/controls",
            "_view_module_version": "1.5.0",
            "_view_name": "HBoxView",
            "box_style": "",
            "children": [
              "IPY_MODEL_af7d9bb0cb454c7d914730b435159eab",
              "IPY_MODEL_a4ec614a2c674bcb8d595edbf48c9fc3",
              "IPY_MODEL_27b490cb104c409295ae3b96e61eab80"
            ],
            "layout": "IPY_MODEL_bd6328f43b554a1aa2b939fbf7818bda"
          }
        },
        "af7d9bb0cb454c7d914730b435159eab": {
          "model_module": "@jupyter-widgets/controls",
          "model_name": "HTMLModel",
          "model_module_version": "1.5.0",
          "state": {
            "_dom_classes": [],
            "_model_module": "@jupyter-widgets/controls",
            "_model_module_version": "1.5.0",
            "_model_name": "HTMLModel",
            "_view_count": null,
            "_view_module": "@jupyter-widgets/controls",
            "_view_module_version": "1.5.0",
            "_view_name": "HTMLView",
            "description": "",
            "description_tooltip": null,
            "layout": "IPY_MODEL_e56e49101bee4dc69e98b9da43d488d7",
            "placeholder": "​",
            "style": "IPY_MODEL_9ed45a619b134cc2b9fc9f216420a8ca",
            "value": "100%"
          }
        },
        "a4ec614a2c674bcb8d595edbf48c9fc3": {
          "model_module": "@jupyter-widgets/controls",
          "model_name": "FloatProgressModel",
          "model_module_version": "1.5.0",
          "state": {
            "_dom_classes": [],
            "_model_module": "@jupyter-widgets/controls",
            "_model_module_version": "1.5.0",
            "_model_name": "FloatProgressModel",
            "_view_count": null,
            "_view_module": "@jupyter-widgets/controls",
            "_view_module_version": "1.5.0",
            "_view_name": "ProgressView",
            "bar_style": "success",
            "description": "",
            "description_tooltip": null,
            "layout": "IPY_MODEL_4d38b7eef9474eec8cf61bdbd08daf07",
            "max": 7040,
            "min": 0,
            "orientation": "horizontal",
            "style": "IPY_MODEL_fec9e8ab5283436bbf837fec3d713891",
            "value": 7040
          }
        },
        "27b490cb104c409295ae3b96e61eab80": {
          "model_module": "@jupyter-widgets/controls",
          "model_name": "HTMLModel",
          "model_module_version": "1.5.0",
          "state": {
            "_dom_classes": [],
            "_model_module": "@jupyter-widgets/controls",
            "_model_module_version": "1.5.0",
            "_model_name": "HTMLModel",
            "_view_count": null,
            "_view_module": "@jupyter-widgets/controls",
            "_view_module_version": "1.5.0",
            "_view_name": "HTMLView",
            "description": "",
            "description_tooltip": null,
            "layout": "IPY_MODEL_0bf874a43353405d908350e95adf2d08",
            "placeholder": "​",
            "style": "IPY_MODEL_8e0504051304443bb61e59c37c69a3a5",
            "value": " 7040/7040 [06:34&lt;00:00, 17.55it/s, epoch=9]"
          }
        },
        "bd6328f43b554a1aa2b939fbf7818bda": {
          "model_module": "@jupyter-widgets/base",
          "model_name": "LayoutModel",
          "model_module_version": "1.2.0",
          "state": {
            "_model_module": "@jupyter-widgets/base",
            "_model_module_version": "1.2.0",
            "_model_name": "LayoutModel",
            "_view_count": null,
            "_view_module": "@jupyter-widgets/base",
            "_view_module_version": "1.2.0",
            "_view_name": "LayoutView",
            "align_content": null,
            "align_items": null,
            "align_self": null,
            "border": null,
            "bottom": null,
            "display": null,
            "flex": null,
            "flex_flow": null,
            "grid_area": null,
            "grid_auto_columns": null,
            "grid_auto_flow": null,
            "grid_auto_rows": null,
            "grid_column": null,
            "grid_gap": null,
            "grid_row": null,
            "grid_template_areas": null,
            "grid_template_columns": null,
            "grid_template_rows": null,
            "height": null,
            "justify_content": null,
            "justify_items": null,
            "left": null,
            "margin": null,
            "max_height": null,
            "max_width": null,
            "min_height": null,
            "min_width": null,
            "object_fit": null,
            "object_position": null,
            "order": null,
            "overflow": null,
            "overflow_x": null,
            "overflow_y": null,
            "padding": null,
            "right": null,
            "top": null,
            "visibility": null,
            "width": null
          }
        },
        "e56e49101bee4dc69e98b9da43d488d7": {
          "model_module": "@jupyter-widgets/base",
          "model_name": "LayoutModel",
          "model_module_version": "1.2.0",
          "state": {
            "_model_module": "@jupyter-widgets/base",
            "_model_module_version": "1.2.0",
            "_model_name": "LayoutModel",
            "_view_count": null,
            "_view_module": "@jupyter-widgets/base",
            "_view_module_version": "1.2.0",
            "_view_name": "LayoutView",
            "align_content": null,
            "align_items": null,
            "align_self": null,
            "border": null,
            "bottom": null,
            "display": null,
            "flex": null,
            "flex_flow": null,
            "grid_area": null,
            "grid_auto_columns": null,
            "grid_auto_flow": null,
            "grid_auto_rows": null,
            "grid_column": null,
            "grid_gap": null,
            "grid_row": null,
            "grid_template_areas": null,
            "grid_template_columns": null,
            "grid_template_rows": null,
            "height": null,
            "justify_content": null,
            "justify_items": null,
            "left": null,
            "margin": null,
            "max_height": null,
            "max_width": null,
            "min_height": null,
            "min_width": null,
            "object_fit": null,
            "object_position": null,
            "order": null,
            "overflow": null,
            "overflow_x": null,
            "overflow_y": null,
            "padding": null,
            "right": null,
            "top": null,
            "visibility": null,
            "width": null
          }
        },
        "9ed45a619b134cc2b9fc9f216420a8ca": {
          "model_module": "@jupyter-widgets/controls",
          "model_name": "DescriptionStyleModel",
          "model_module_version": "1.5.0",
          "state": {
            "_model_module": "@jupyter-widgets/controls",
            "_model_module_version": "1.5.0",
            "_model_name": "DescriptionStyleModel",
            "_view_count": null,
            "_view_module": "@jupyter-widgets/base",
            "_view_module_version": "1.2.0",
            "_view_name": "StyleView",
            "description_width": ""
          }
        },
        "4d38b7eef9474eec8cf61bdbd08daf07": {
          "model_module": "@jupyter-widgets/base",
          "model_name": "LayoutModel",
          "model_module_version": "1.2.0",
          "state": {
            "_model_module": "@jupyter-widgets/base",
            "_model_module_version": "1.2.0",
            "_model_name": "LayoutModel",
            "_view_count": null,
            "_view_module": "@jupyter-widgets/base",
            "_view_module_version": "1.2.0",
            "_view_name": "LayoutView",
            "align_content": null,
            "align_items": null,
            "align_self": null,
            "border": null,
            "bottom": null,
            "display": null,
            "flex": null,
            "flex_flow": null,
            "grid_area": null,
            "grid_auto_columns": null,
            "grid_auto_flow": null,
            "grid_auto_rows": null,
            "grid_column": null,
            "grid_gap": null,
            "grid_row": null,
            "grid_template_areas": null,
            "grid_template_columns": null,
            "grid_template_rows": null,
            "height": null,
            "justify_content": null,
            "justify_items": null,
            "left": null,
            "margin": null,
            "max_height": null,
            "max_width": null,
            "min_height": null,
            "min_width": null,
            "object_fit": null,
            "object_position": null,
            "order": null,
            "overflow": null,
            "overflow_x": null,
            "overflow_y": null,
            "padding": null,
            "right": null,
            "top": null,
            "visibility": null,
            "width": null
          }
        },
        "fec9e8ab5283436bbf837fec3d713891": {
          "model_module": "@jupyter-widgets/controls",
          "model_name": "ProgressStyleModel",
          "model_module_version": "1.5.0",
          "state": {
            "_model_module": "@jupyter-widgets/controls",
            "_model_module_version": "1.5.0",
            "_model_name": "ProgressStyleModel",
            "_view_count": null,
            "_view_module": "@jupyter-widgets/base",
            "_view_module_version": "1.2.0",
            "_view_name": "StyleView",
            "bar_color": null,
            "description_width": ""
          }
        },
        "0bf874a43353405d908350e95adf2d08": {
          "model_module": "@jupyter-widgets/base",
          "model_name": "LayoutModel",
          "model_module_version": "1.2.0",
          "state": {
            "_model_module": "@jupyter-widgets/base",
            "_model_module_version": "1.2.0",
            "_model_name": "LayoutModel",
            "_view_count": null,
            "_view_module": "@jupyter-widgets/base",
            "_view_module_version": "1.2.0",
            "_view_name": "LayoutView",
            "align_content": null,
            "align_items": null,
            "align_self": null,
            "border": null,
            "bottom": null,
            "display": null,
            "flex": null,
            "flex_flow": null,
            "grid_area": null,
            "grid_auto_columns": null,
            "grid_auto_flow": null,
            "grid_auto_rows": null,
            "grid_column": null,
            "grid_gap": null,
            "grid_row": null,
            "grid_template_areas": null,
            "grid_template_columns": null,
            "grid_template_rows": null,
            "height": null,
            "justify_content": null,
            "justify_items": null,
            "left": null,
            "margin": null,
            "max_height": null,
            "max_width": null,
            "min_height": null,
            "min_width": null,
            "object_fit": null,
            "object_position": null,
            "order": null,
            "overflow": null,
            "overflow_x": null,
            "overflow_y": null,
            "padding": null,
            "right": null,
            "top": null,
            "visibility": null,
            "width": null
          }
        },
        "8e0504051304443bb61e59c37c69a3a5": {
          "model_module": "@jupyter-widgets/controls",
          "model_name": "DescriptionStyleModel",
          "model_module_version": "1.5.0",
          "state": {
            "_model_module": "@jupyter-widgets/controls",
            "_model_module_version": "1.5.0",
            "_model_name": "DescriptionStyleModel",
            "_view_count": null,
            "_view_module": "@jupyter-widgets/base",
            "_view_module_version": "1.2.0",
            "_view_name": "StyleView",
            "description_width": ""
          }
        }
      }
    }
  },
  "nbformat": 4,
  "nbformat_minor": 0
}