{
 "cells": [
  {
   "cell_type": "markdown",
   "id": "3692ee1c3af7ca41",
   "metadata": {},
   "source": [
    "### homework1：实战seq2seq"
   ]
  },
  {
   "cell_type": "code",
   "execution_count": 1,
   "id": "initial_id",
   "metadata": {
    "execution": {
     "iopub.execute_input": "2025-01-31T04:17:53.201851Z",
     "iopub.status.busy": "2025-01-31T04:17:53.201571Z",
     "iopub.status.idle": "2025-01-31T04:17:58.211029Z",
     "shell.execute_reply": "2025-01-31T04:17:58.210577Z",
     "shell.execute_reply.started": "2025-01-31T04:17:53.201825Z"
    },
    "tags": []
   },
   "outputs": [
    {
     "name": "stderr",
     "output_type": "stream",
     "text": [
      "/usr/local/lib/python3.10/site-packages/tqdm/auto.py:21: TqdmWarning: IProgress not found. Please update jupyter and ipywidgets. See https://ipywidgets.readthedocs.io/en/stable/user_install.html\n",
      "  from .autonotebook import tqdm as notebook_tqdm\n"
     ]
    },
    {
     "name": "stdout",
     "output_type": "stream",
     "text": [
      "sys.version_info(major=3, minor=10, micro=14, releaselevel='final', serial=0)\n",
      "matplotlib 3.10.0\n",
      "numpy 1.26.4\n",
      "pandas 2.2.3\n",
      "sklearn 1.6.0\n",
      "torch 2.5.1+cu124\n",
      "cuda:0\n"
     ]
    }
   ],
   "source": [
    "import matplotlib as mpl\n",
    "import matplotlib.pyplot as plt\n",
    "%matplotlib inline\n",
    "import numpy as np\n",
    "import sklearn\n",
    "import pandas as pd\n",
    "import os\n",
    "import sys\n",
    "import time\n",
    "from tqdm.auto import tqdm\n",
    "import torch\n",
    "import torch.nn as nn\n",
    "import torch.nn.functional as F\n",
    "\n",
    "print(sys.version_info)\n",
    "for module in mpl, np, pd, sklearn, torch:\n",
    "    print(module.__name__, module.__version__)\n",
    "\n",
    "device = torch.device(\"cuda:0\") if torch.cuda.is_available() else torch.device(\"cpu\")\n",
    "print(device)\n",
    "\n",
    "seed = 42\n",
    "torch.manual_seed(seed)\n",
    "torch.cuda.manual_seed_all(seed)\n",
    "np.random.seed(seed)"
   ]
  },
  {
   "cell_type": "markdown",
   "id": "4adcc7877d4219fd",
   "metadata": {},
   "source": [
    "数据加载"
   ]
  },
  {
   "cell_type": "code",
   "execution_count": 2,
   "id": "d4c8907b34f36d14",
   "metadata": {
    "execution": {
     "iopub.execute_input": "2025-01-31T04:17:58.212138Z",
     "iopub.status.busy": "2025-01-31T04:17:58.211776Z",
     "iopub.status.idle": "2025-01-31T04:17:58.326784Z",
     "shell.execute_reply": "2025-01-31T04:17:58.326344Z",
     "shell.execute_reply.started": "2025-01-31T04:17:58.212119Z"
    }
   },
   "outputs": [
    {
     "name": "stdout",
     "output_type": "stream",
     "text": [
      "May I borrow this book?\n",
      "¿Puedo tomar prestado este libro?\n"
     ]
    }
   ],
   "source": [
    "import unicodedata\n",
    "import re\n",
    "from sklearn.model_selection import train_test_split\n",
    "\n",
    "\n",
    "# 定义一个函数，将Unicode字符串转换为ASCII字符串\n",
    "def unicode_to_ascii(s):\n",
    "    # 使用unicodedata.normalize方法将字符串s转换为NFD形式。\n",
    "    # NFD（Normalization Form D）是一种Unicode规范化形式，它将字符分解为基本字符和组合字符。\n",
    "    # 例如，字符'é'会被分解为'e'和一个组合的重音符号。\n",
    "    normalized_string = unicodedata.normalize('NFD', s)\n",
    "\n",
    "    # 使用列表推导式遍历规范化后的字符串中的每个字符。\n",
    "    # unicodedata.category(c)返回字符c的Unicode类别。\n",
    "    # 'Mn'表示“非间距标记”（例如重音符号），我们通过条件判断去除这些字符。\n",
    "    ascii_string = ''.join(c for c in normalized_string if unicodedata.category(c) != 'Mn')\n",
    "\n",
    "    # 返回转换后的ASCII字符串\n",
    "    return ascii_string\n",
    "\n",
    "\n",
    "# 测试unicode_to_ascii函数\n",
    "# 定义一个英文句子和一个西班牙语句子，使用u前缀表示Unicode字符串\n",
    "en_sentence = u\"May I borrow this book?\"\n",
    "sp_sentence = u\"¿Puedo tomar prestado este libro?\"\n",
    "\n",
    "# 打印转换后的英文句子\n",
    "print(unicode_to_ascii(en_sentence))\n",
    "# 输出: May I borrow this book?\n",
    "\n",
    "# 打印转换后的西班牙语句子\n",
    "print(unicode_to_ascii(sp_sentence))\n",
    "# 输出: ¿Puedo tomar prestado este libro?"
   ]
  },
  {
   "cell_type": "code",
   "execution_count": 3,
   "id": "dc39dd92b12b59af",
   "metadata": {
    "execution": {
     "iopub.execute_input": "2025-01-31T04:17:58.327597Z",
     "iopub.status.busy": "2025-01-31T04:17:58.327308Z",
     "iopub.status.idle": "2025-01-31T04:17:58.332064Z",
     "shell.execute_reply": "2025-01-31T04:17:58.331665Z",
     "shell.execute_reply.started": "2025-01-31T04:17:58.327580Z"
    }
   },
   "outputs": [
    {
     "name": "stdout",
     "output_type": "stream",
     "text": [
      "may i borrow this book ?\n",
      "¿ puedo tomar prestado este libro ?\n",
      "b'\\xc2\\xbf puedo tomar prestado este libro ?'\n"
     ]
    }
   ],
   "source": [
    "def preprocess_sentence(w):\n",
    "    # 1. 将字符串转换为小写，并去掉首尾多余的空格\n",
    "    # 2. 调用 unicode_to_ascii 函数，将 Unicode 字符转换为 ASCII 字符（去除重音符号等）\n",
    "    w = unicode_to_ascii(w.lower().strip())\n",
    "\n",
    "    # 在单词与跟在其后的标点符号之间插入一个空格\n",
    "    # 例如：\"he is a boy.\" => \"he is a boy . \"\n",
    "    # 使用正则表达式匹配标点符号（?.!,¿），并在其前后添加空格\n",
    "    w = re.sub(r\"([?.!,¿])\", r\" \\1 \", w)\n",
    "\n",
    "    # 将多个连续的空格替换为一个空格\n",
    "    # 因为上一步可能会引入多余的空格\n",
    "    w = re.sub(r'[\" \"]+', \" \", w)\n",
    "\n",
    "    # 除了字母 (a-z, A-Z) 和标点符号（\".\", \"?\", \"!\", \",\", \"¿\"），将所有其他字符替换为空格\n",
    "    # 这样可以去除数字、特殊符号等不需要的字符\n",
    "    w = re.sub(r\"[^a-zA-Z?.!,¿]+\", \" \", w)\n",
    "\n",
    "    # 去掉字符串首尾的空格，确保最终结果干净\n",
    "    w = w.rstrip().strip()\n",
    "\n",
    "    return w\n",
    "\n",
    "\n",
    "# 测试 preprocess_sentence 函数\n",
    "en_sentence = u\"May I borrow this book?\"\n",
    "sp_sentence = u\"¿Puedo tomar prestado este libro?\"\n",
    "\n",
    "# 打印处理后的英文句子\n",
    "print(preprocess_sentence(en_sentence))\n",
    "# 输出: may i borrow this book ?\n",
    "\n",
    "# 打印处理后的西班牙语句子\n",
    "print(preprocess_sentence(sp_sentence))\n",
    "# 输出: ¿ puedo tomar prestado este libro ?\n",
    "\n",
    "# 打印处理后的西班牙语句子的 UTF-8 编码\n",
    "print(preprocess_sentence(sp_sentence).encode('utf-8'))\n",
    "# 输出: b' \\xc2\\xbf puedo tomar prestado este libro ?'"
   ]
  },
  {
   "cell_type": "markdown",
   "id": "8d886016b8efd6bf",
   "metadata": {},
   "source": [
    "Dataset"
   ]
  },
  {
   "cell_type": "code",
   "execution_count": 4,
   "id": "9c49aece5dd262e7",
   "metadata": {
    "execution": {
     "iopub.execute_input": "2025-01-31T04:17:58.333311Z",
     "iopub.status.busy": "2025-01-31T04:17:58.332994Z",
     "iopub.status.idle": "2025-01-31T04:17:58.335729Z",
     "shell.execute_reply": "2025-01-31T04:17:58.335361Z",
     "shell.execute_reply.started": "2025-01-31T04:17:58.333296Z"
    }
   },
   "outputs": [
    {
     "name": "stdout",
     "output_type": "stream",
     "text": [
      "[(1, 4, 7), (2, 5, 8)]\n"
     ]
    }
   ],
   "source": [
    "#zip例子\n",
    "a = [[1, 2], [4, 5], [7, 8]]\n",
    "zipped = list(zip(*a))\n",
    "print(zipped)"
   ]
  },
  {
   "cell_type": "code",
   "execution_count": 5,
   "id": "75106a795c7e4704",
   "metadata": {
    "execution": {
     "iopub.execute_input": "2025-01-31T04:17:58.336474Z",
     "iopub.status.busy": "2025-01-31T04:17:58.336163Z",
     "iopub.status.idle": "2025-01-31T04:17:58.342019Z",
     "shell.execute_reply": "2025-01-31T04:17:58.341614Z",
     "shell.execute_reply.started": "2025-01-31T04:17:58.336459Z"
    }
   },
   "outputs": [
    {
     "data": {
      "text/plain": [
       "array(['train', 'test', 'train', 'train', 'train', 'train', 'train',\n",
       "       'train', 'train', 'train', 'train', 'test', 'train', 'train',\n",
       "       'train', 'train', 'train', 'train', 'train', 'train', 'train',\n",
       "       'train', 'train', 'train', 'train', 'train', 'train', 'train',\n",
       "       'train', 'train', 'train', 'train', 'train', 'test', 'test',\n",
       "       'train', 'train', 'train', 'train', 'train', 'train', 'train',\n",
       "       'train', 'test', 'train', 'train', 'train', 'train', 'train',\n",
       "       'train', 'test', 'train', 'test', 'train', 'train', 'test',\n",
       "       'train', 'train', 'train', 'train', 'train', 'train', 'train',\n",
       "       'train', 'train', 'train', 'train', 'train', 'train', 'test',\n",
       "       'train', 'train', 'train', 'train', 'train', 'train', 'train',\n",
       "       'train', 'train', 'train', 'train', 'train', 'train', 'train',\n",
       "       'train', 'train', 'train', 'train', 'train', 'train', 'train',\n",
       "       'train', 'train', 'train', 'train', 'train', 'train', 'train',\n",
       "       'train', 'train'], dtype='<U5')"
      ]
     },
     "execution_count": 5,
     "metadata": {},
     "output_type": "execute_result"
    }
   ],
   "source": [
    "# 使用 np.random.choice 函数生成随机选择的数组\n",
    "split_index1 = np.random.choice(\n",
    "    a=[\"train\", \"test\"],  # 从 \"train\" 和 \"test\" 两个选项中进行选择\n",
    "    replace=True,  # 允许重复选择，即同一个元素可以被多次选择\n",
    "    p=[0.9, 0.1],  # 选择 \"train\" 的概率为 90%，选择 \"test\" 的概率为 10%\n",
    "    size=100  # 生成一个包含 100 个元素的数组\n",
    ")\n",
    "\n",
    "# 输出 split_index1\n",
    "split_index1"
   ]
  },
  {
   "cell_type": "code",
   "execution_count": 7,
   "id": "30d7832e0cdae34d",
   "metadata": {
    "ExecutionIndicator": {
     "show": true
    },
    "execution": {
     "iopub.execute_input": "2025-01-31T04:18:02.211567Z",
     "iopub.status.busy": "2025-01-31T04:18:02.211412Z",
     "iopub.status.idle": "2025-01-31T04:18:02.557860Z",
     "shell.execute_reply": "2025-01-31T04:18:02.557375Z",
     "shell.execute_reply.started": "2025-01-31T04:18:02.211553Z"
    },
    "tags": []
   },
   "outputs": [],
   "source": [
    "from pathlib import Path\n",
    "from torch.utils.data import Dataset, DataLoader\n",
    "\n",
    "class LangPairDataset(Dataset):\n",
    "    # 数据文件路径\n",
    "    fpath = Path(r\"./data_spa_en/spa.txt\")\n",
    "    # 缓存文件路径\n",
    "    cache_path = Path(r\"./.cache/lang_pair.npy\")\n",
    "    # 按照 9:1 的比例随机划分训练集和测试集\n",
    "    split_index = np.random.choice(a=[\"train\", \"test\"], replace=True, p=[0.9, 0.1], size=118964)\n",
    "    \n",
    "\n",
    "    def __init__(self, mode=\"train\", cache=False):\n",
    "        # 如果没有缓存，或者缓存文件不存在，则处理数据并保存缓存\n",
    "        if cache or not self.cache_path.exists():\n",
    "            # 创建缓存文件夹（如果不存在）\n",
    "            self.cache_path.parent.mkdir(parents=True, exist_ok=True)\n",
    "            # 打开数据文件并读取所有行\n",
    "            with open(self.fpath, \"r\", encoding=\"utf8\") as file:\n",
    "                lines = file.readlines()\n",
    "                # 对每一行数据进行预处理，分割成目标语言和源语言\n",
    "                lang_pair = [[preprocess_sentence(w) for w in l.split('\\t')] for l in lines]\n",
    "                # 将目标语言和源语言分离\n",
    "                trg, src = zip(*lang_pair)\n",
    "                # 转换为 numpy 数组\n",
    "                trg = np.array(trg)\n",
    "                src = np.array(src)\n",
    "                # 将数据保存为 npy 文件，方便下次直接读取\n",
    "                np.save(self.cache_path, {\"trg\": trg, \"src\": src})\n",
    "        else:\n",
    "            # 如果缓存文件存在，则直接加载缓存数据\n",
    "            lang_pair = np.load(self.cache_path, allow_pickle=True).item()\n",
    "            trg = lang_pair[\"trg\"]\n",
    "            src = lang_pair[\"src\"]\n",
    "            \n",
    "        # 根据 mode（train/test）从 split_index 中筛选出对应的数据\n",
    "        self.trg = trg[self.split_index == mode]  # 目标语言（英语）\n",
    "        self.src = src[self.split_index == mode]  # 源语言（西班牙语）\n",
    "    \n",
    "    def __getitem__(self, index):\n",
    "        # 返回指定索引的源语言和目标语言对\n",
    "        return self.src[index], self.trg[index]\n",
    "\n",
    "    def __len__(self):\n",
    "        # 返回数据集的长度\n",
    "        return len(self.src)\n",
    "\n",
    "\n",
    "# 创建训练集和测试集实例\n",
    "train_ds = LangPairDataset(\"train\")\n",
    "test_ds = LangPairDataset(\"test\")"
   ]
  },
  {
   "cell_type": "code",
   "execution_count": 8,
   "id": "56f205211dd28dce",
   "metadata": {
    "execution": {
     "iopub.execute_input": "2025-01-31T04:18:02.558505Z",
     "iopub.status.busy": "2025-01-31T04:18:02.558351Z",
     "iopub.status.idle": "2025-01-31T04:18:02.561336Z",
     "shell.execute_reply": "2025-01-31T04:18:02.560863Z",
     "shell.execute_reply.started": "2025-01-31T04:18:02.558490Z"
    }
   },
   "outputs": [
    {
     "name": "stdout",
     "output_type": "stream",
     "text": [
      "source: si quieres sonar como un hablante nativo , debes estar dispuesto a practicar diciendo la misma frase una y otra vez de la misma manera en que un musico de banjo practica el mismo fraseo una y otra vez hasta que lo puedan tocar correctamente y en el tiempo esperado .\n",
      "target: if you want to sound like a native speaker , you must be willing to practice saying the same sentence over and over in the same way that banjo players practice the same phrase over and over until they can play it correctly and at the desired tempo .\n"
     ]
    }
   ],
   "source": [
    "print(\"source: {}\\ntarget: {}\".format(*train_ds[-1]))"
   ]
  },
  {
   "cell_type": "markdown",
   "id": "22422a44c4c89ed4",
   "metadata": {},
   "source": [
    "Tokenizer"
   ]
  },
  {
   "cell_type": "markdown",
   "id": "a79a5ff4e2c98f98",
   "metadata": {},
   "source": [
    "这里有两种处理方式，分别对应着 encoder 和 decoder 的 word embedding 是否共享，这里实现不共享的方案。"
   ]
  },
  {
   "cell_type": "code",
   "execution_count": 9,
   "id": "e3e03351d585674f",
   "metadata": {
    "execution": {
     "iopub.execute_input": "2025-01-31T04:18:02.561950Z",
     "iopub.status.busy": "2025-01-31T04:18:02.561793Z",
     "iopub.status.idle": "2025-01-31T04:18:03.091442Z",
     "shell.execute_reply": "2025-01-31T04:18:03.090989Z",
     "shell.execute_reply.started": "2025-01-31T04:18:02.561936Z"
    }
   },
   "outputs": [
    {
     "name": "stdout",
     "output_type": "stream",
     "text": [
      "word count: 23745\n",
      "word count: 12475\n"
     ]
    }
   ],
   "source": [
    "from collections import Counter\n",
    "\n",
    "\n",
    "def get_word_idx(ds, mode=\"src\", threshold=2):\n",
    "    # 初始化词表，包含特殊 token\n",
    "    word2idx = {\n",
    "        \"[PAD]\": 0,  # 填充 token，用于填充短句子\n",
    "        \"[BOS]\": 1,  # 句子开始 token\n",
    "        \"[UNK]\": 2,  # 未知 token，用于表示词表中未出现的词\n",
    "        \"[EOS]\": 3,  # 句子结束 token\n",
    "    }\n",
    "    # 反向词表，用于根据索引查找单词\n",
    "    idx2word = {value: key for key, value in word2idx.items()}\n",
    "    # 当前词表的下一个可用索引\n",
    "    index = len(idx2word)\n",
    "    # 设置词频阈值，低于此阈值的单词将被忽略\n",
    "    threshold = 1\n",
    "\n",
    "    # 将数据集中所有句子拼接成一个长字符串，然后按空格分割成单词列表\n",
    "    # 如果数据集很大，建议使用 for 循环逐句处理，避免内存不足\n",
    "    word_list = \" \".join([pair[0 if mode == \"src\" else 1] for pair in ds]).split()\n",
    "    # 统计单词频率\n",
    "    counter = Counter(word_list)\n",
    "    print(\"word count:\", len(counter))\n",
    "\n",
    "    # 遍历单词频率统计结果\n",
    "    for token, count in counter.items():\n",
    "        # 如果单词出现次数大于等于阈值，则加入词表\n",
    "        if count >= threshold:\n",
    "            word2idx[token] = index  # 加入正向词表\n",
    "            idx2word[index] = token  # 加入反向词表\n",
    "            index += 1  # 更新下一个可用索引\n",
    "\n",
    "    return word2idx, idx2word\n",
    "\n",
    "\n",
    "# 生成源语言（西班牙语）和目标语言（英语）的词表\n",
    "src_word2idx, src_idx2word = get_word_idx(train_ds, \"src\")  # 源语言词表（西班牙语）\n",
    "trg_word2idx, trg_idx2word = get_word_idx(train_ds, \"trg\")  # 目标语言词表（英语）"
   ]
  },
  {
   "cell_type": "code",
   "execution_count": 10,
   "id": "4904ee5c5ca07724",
   "metadata": {
    "execution": {
     "iopub.execute_input": "2025-01-31T04:18:03.093334Z",
     "iopub.status.busy": "2025-01-31T04:18:03.093095Z",
     "iopub.status.idle": "2025-01-31T04:18:03.174499Z",
     "shell.execute_reply": "2025-01-31T04:18:03.174099Z",
     "shell.execute_reply.started": "2025-01-31T04:18:03.093317Z"
    }
   },
   "outputs": [
    {
     "name": "stdout",
     "output_type": "stream",
     "text": [
      "raw text----------\n",
      "['hello', 'world']\n",
      "['tokenize', 'text', 'datas', 'with', 'batch']\n",
      "['this', 'is', 'a', 'test']\n",
      "mask----------\n",
      "tensor([0, 0, 0, 0, 1, 1, 1])\n",
      "tensor([0, 0, 0, 0, 0, 0, 0])\n",
      "tensor([0, 0, 0, 0, 0, 0, 1])\n",
      "indices----------\n",
      "tensor([   1,   17, 3222,    3,    0,    0,    0])\n",
      "tensor([   1,    2, 3883,    2,  737,    2,    3])\n",
      "tensor([   1,  119,  228,  106, 1274,    3,    0])\n",
      "decode text----------\n",
      "[BOS] hello world [EOS] [PAD] [PAD] [PAD]\n",
      "[BOS] [UNK] text [UNK] with [UNK] [EOS]\n",
      "[BOS] this is a test [EOS] [PAD]\n"
     ]
    }
   ],
   "source": [
    "import torch\n",
    "\n",
    "\n",
    "class Tokenizer:\n",
    "    def __init__(self, word2idx, idx2word, max_length=500, pad_idx=0, bos_idx=1, eos_idx=3, unk_idx=2):\n",
    "        # 初始化词表和参数\n",
    "        self.word2idx = word2idx  # 单词到索引的映射\n",
    "        self.idx2word = idx2word  # 索引到单词的映射\n",
    "        self.max_length = max_length  # 最大序列长度\n",
    "        self.pad_idx = pad_idx  # 填充 token 的索引\n",
    "        self.bos_idx = bos_idx  # 句子开始 token 的索引\n",
    "        self.eos_idx = eos_idx  # 句子结束 token 的索引\n",
    "        self.unk_idx = unk_idx  # 未知 token 的索引\n",
    "\n",
    "    def encode(self, text_list, padding_first=False, add_bos=True, add_eos=True, return_mask=False):\n",
    "        \"\"\"将文本列表编码为索引列表\n",
    "        - padding_first: 是否在前面填充\n",
    "        - add_bos: 是否添加句子开始 token\n",
    "        - add_eos: 是否添加句子结束 token\n",
    "        - return_mask: 是否返回掩码（用于指示哪些是填充 token）\n",
    "        \"\"\"\n",
    "        # 计算最大长度（不超过 self.max_length）\n",
    "        max_length = min(self.max_length, add_eos + add_bos + max([len(text) for text in text_list]))\n",
    "        indices_list = []  # 存储编码后的索引列表\n",
    "\n",
    "        for text in text_list:\n",
    "            # 将单词转换为索引，未知单词用 unk_idx 代替\n",
    "            indices = [self.word2idx.get(word, self.unk_idx) for word in text[:max_length - add_bos - add_eos]]\n",
    "            # 添加句子开始 token\n",
    "            if add_bos:\n",
    "                indices = [self.bos_idx] + indices\n",
    "            # 添加句子结束 token\n",
    "            if add_eos:\n",
    "                indices = indices + [self.eos_idx]\n",
    "            # 在前面或后面填充\n",
    "            if padding_first:\n",
    "                indices = [self.pad_idx] * (max_length - len(indices)) + indices\n",
    "            else:\n",
    "                indices = indices + [self.pad_idx] * (max_length - len(indices))\n",
    "            indices_list.append(indices)\n",
    "\n",
    "        # 将索引列表转换为 tensor\n",
    "        input_ids = torch.tensor(indices_list)\n",
    "        # 生成掩码（1 表示填充 token，0 表示真实 token）\n",
    "        masks = (input_ids == self.pad_idx).to(dtype=torch.int64)\n",
    "\n",
    "        # 返回编码结果和掩码（如果 return_mask 为 True）\n",
    "        return input_ids if not return_mask else (input_ids, masks)\n",
    "\n",
    "    def decode(self, indices_list, remove_bos=True, remove_eos=True, remove_pad=True, split=False):\n",
    "        \"\"\"将索引列表解码为文本列表\n",
    "        - remove_bos: 是否移除句子开始 token\n",
    "        - remove_eos: 是否移除句子结束 token\n",
    "        - remove_pad: 是否移除填充 token\n",
    "        - split: 是否返回单词列表（而不是拼接的句子）\n",
    "        \"\"\"\n",
    "        text_list = []\n",
    "        for indices in indices_list:\n",
    "            text = []\n",
    "            for index in indices:\n",
    "                word = self.idx2word.get(index, \"[UNK]\")  # 将索引转换为单词，未知索引用 \"[UNK]\" 代替\n",
    "                # 根据参数决定是否移除特殊 token\n",
    "                if remove_bos and word == \"[BOS]\":\n",
    "                    continue\n",
    "                if remove_eos and word == \"[EOS]\":\n",
    "                    break\n",
    "                if remove_pad and word == \"[PAD]\":\n",
    "                    break\n",
    "                text.append(word)\n",
    "            # 将单词列表拼接为句子或直接返回单词列表\n",
    "            text_list.append(\" \".join(text) if not split else text)\n",
    "        return text_list\n",
    "\n",
    "\n",
    "# 创建源语言和目标语言的 tokenizer\n",
    "src_tokenizer = Tokenizer(word2idx=src_word2idx, idx2word=src_idx2word)  # 源语言 tokenizer\n",
    "trg_tokenizer = Tokenizer(word2idx=trg_word2idx, idx2word=trg_idx2word)  # 目标语言 tokenizer\n",
    "\n",
    "# 测试编码和解码功能\n",
    "raw_text = [\"hello world\".split(), \"tokenize text datas with batch\".split(), \"this is a test\".split()]\n",
    "indices, mask = trg_tokenizer.encode(raw_text, padding_first=False, add_bos=True, add_eos=True, return_mask=True)\n",
    "decode_text = trg_tokenizer.decode(indices.tolist(), remove_bos=False, remove_eos=False, remove_pad=False)\n",
    "\n",
    "# 打印结果\n",
    "print(\"raw text\" + '-' * 10)\n",
    "for raw in raw_text:\n",
    "    print(raw)\n",
    "\n",
    "print(\"mask\" + '-' * 10)\n",
    "for m in mask:\n",
    "    print(m)\n",
    "\n",
    "print(\"indices\" + '-' * 10)\n",
    "for index in indices:\n",
    "    print(index)\n",
    "\n",
    "print(\"decode text\" + '-' * 10)\n",
    "for decode in decode_text:\n",
    "    print(decode)"
   ]
  },
  {
   "cell_type": "markdown",
   "id": "905f6fcd7186c40e",
   "metadata": {},
   "source": [
    "DataLoader"
   ]
  },
  {
   "cell_type": "code",
   "execution_count": 11,
   "id": "a0c6d8c70462869c",
   "metadata": {
    "execution": {
     "iopub.execute_input": "2025-01-31T04:18:03.175164Z",
     "iopub.status.busy": "2025-01-31T04:18:03.175017Z",
     "iopub.status.idle": "2025-01-31T04:18:03.179833Z",
     "shell.execute_reply": "2025-01-31T04:18:03.179440Z",
     "shell.execute_reply.started": "2025-01-31T04:18:03.175149Z"
    }
   },
   "outputs": [],
   "source": [
    "def collate_fct(batch):\n",
    "    # 1. 对 batch 中的源语言和目标语言进行分词\n",
    "    src_words = [pair[0].split() for pair in batch]  # 取 batch 内第 0 列（源语言）进行分词，赋给 src_words\n",
    "    trg_words = [pair[1].split() for pair in batch]  # 取 batch 内第 1 列（目标语言）进行分词，赋给 trg_words\n",
    "\n",
    "    # 2. 对源语言进行编码，生成编码器输入\n",
    "    # 编码器输入格式: [PAD] [BOS] src [EOS]\n",
    "    # - padding_first=True: 在序列前面填充 [PAD]\n",
    "    # - add_bos=True: 在序列开头添加 [BOS]（Begin of Sentence）\n",
    "    # - add_eos=True: 在序列结尾添加 [EOS]（End of Sentence）\n",
    "    # - return_mask=True: 返回掩码，用于标识哪些位置是有效数据（非填充部分）\n",
    "    encoder_inputs, encoder_inputs_mask = src_tokenizer.encode(\n",
    "        src_words, padding_first=True, add_bos=True, add_eos=True, return_mask=True\n",
    "    )\n",
    "\n",
    "    # 3. 对目标语言进行编码，生成解码器输入\n",
    "    # 解码器输入格式: [BOS] trg [PAD]\n",
    "    # - padding_first=False: 在序列后面填充 [PAD]\n",
    "    # - add_bos=True: 在序列开头添加 [BOS]\n",
    "    # - add_eos=False: 不在序列结尾添加 [EOS]\n",
    "    # - return_mask=False: 不返回掩码\n",
    "    decoder_inputs = trg_tokenizer.encode(\n",
    "        trg_words, padding_first=False, add_bos=True, add_eos=False, return_mask=False\n",
    "    )\n",
    "\n",
    "    # 4. 对目标语言进行编码，生成解码器标签\n",
    "    # 解码器标签格式: trg [EOS] [PAD]\n",
    "    # - padding_first=False: 在序列后面填充 [PAD]\n",
    "    # - add_bos=False: 不在序列开头添加 [BOS]\n",
    "    # - add_eos=True: 在序列结尾添加 [EOS]\n",
    "    # - return_mask=True: 返回掩码，用于标识哪些位置是有效数据（非填充部分）\n",
    "    decoder_labels, decoder_labels_mask = trg_tokenizer.encode(\n",
    "        trg_words, padding_first=False, add_bos=False, add_eos=True, return_mask=True\n",
    "    )\n",
    "\n",
    "    # 5. 返回处理后的数据\n",
    "    return {\n",
    "        \"encoder_inputs\": encoder_inputs.to(device=device),  # 编码器输入，移动到指定设备（如 GPU）\n",
    "        \"encoder_inputs_mask\": encoder_inputs_mask.to(device=device),  # 编码器输入掩码，移动到指定设备\n",
    "        \"decoder_inputs\": decoder_inputs.to(device=device),  # 解码器输入，移动到指定设备\n",
    "        \"decoder_labels\": decoder_labels.to(device=device),  # 解码器标签，移动到指定设备\n",
    "        \"decoder_labels_mask\": decoder_labels_mask.to(device=device),  # 解码器标签掩码，移动到指定设备\n",
    "        # 掩码用于去除填充部分的影响，在计算损失时忽略填充部分\n",
    "    }\n",
    "    # 当返回的数据较多时，用字典（dict）返回比较合理，便于后续使用"
   ]
  },
  {
   "cell_type": "code",
   "execution_count": 12,
   "id": "8e83417349f960ad",
   "metadata": {
    "execution": {
     "iopub.execute_input": "2025-01-31T04:18:03.180626Z",
     "iopub.status.busy": "2025-01-31T04:18:03.180310Z",
     "iopub.status.idle": "2025-01-31T04:18:03.307653Z",
     "shell.execute_reply": "2025-01-31T04:18:03.307208Z",
     "shell.execute_reply.started": "2025-01-31T04:18:03.180611Z"
    }
   },
   "outputs": [
    {
     "name": "stdout",
     "output_type": "stream",
     "text": [
      "encoder_inputs\n",
      "tensor([[    0,     0,     0,     0,     0,     0,     0,     0,     0,     1,\n",
      "            75,   310,  1538,    30,    90,  1535,     5,     3],\n",
      "        [    1,    32,  1454,   883,    30,    90,    32, 10559,    89,  1326,\n",
      "             5,    49,  4973,  2578,    69,   378,     5,     3]],\n",
      "       device='cuda:0')\n",
      "encoder_inputs_mask\n",
      "tensor([[1, 1, 1, 1, 1, 1, 1, 1, 1, 0, 0, 0, 0, 0, 0, 0, 0, 0],\n",
      "        [0, 0, 0, 0, 0, 0, 0, 0, 0, 0, 0, 0, 0, 0, 0, 0, 0, 0]],\n",
      "       device='cuda:0')\n",
      "decoder_inputs\n",
      "tensor([[   1,  227,   81,  436,  205,   32,  974,    5,    0,    0,    0,    0,\n",
      "            0,    0,    0,    0,    0,    0,    0],\n",
      "        [   1,   18,  126,  153,  673,  874,   18,  795,  345,   12,   89,    5,\n",
      "          673, 1013,  228,   28,  345,   89,    5]], device='cuda:0')\n",
      "decoder_labels\n",
      "tensor([[ 227,   81,  436,  205,   32,  974,    5,    3,    0,    0,    0,    0,\n",
      "            0,    0,    0,    0,    0,    0,    0],\n",
      "        [  18,  126,  153,  673,  874,   18,  795,  345,   12,   89,    5,  673,\n",
      "         1013,  228,   28,  345,   89,    5,    3]], device='cuda:0')\n",
      "decoder_labels_mask\n",
      "tensor([[0, 0, 0, 0, 0, 0, 0, 0, 1, 1, 1, 1, 1, 1, 1, 1, 1, 1, 1],\n",
      "        [0, 0, 0, 0, 0, 0, 0, 0, 0, 0, 0, 0, 0, 0, 0, 0, 0, 0, 0]],\n",
      "       device='cuda:0')\n"
     ]
    }
   ],
   "source": [
    "sample_dl = DataLoader(train_ds, batch_size=2, shuffle=True, collate_fn=collate_fct)\n",
    "\n",
    "#两次执行这个代码效果不一样，因为每次执行都会shuffle\n",
    "for batch in sample_dl:\n",
    "    for key, value in batch.items():\n",
    "        print(key)\n",
    "        print(value)\n",
    "    break"
   ]
  },
  {
   "cell_type": "markdown",
   "id": "91b8934b9ea5d670",
   "metadata": {},
   "source": [
    "定义模型"
   ]
  },
  {
   "cell_type": "code",
   "execution_count": 13,
   "id": "9c3318277d0629c6",
   "metadata": {
    "execution": {
     "iopub.execute_input": "2025-01-31T04:18:03.308528Z",
     "iopub.status.busy": "2025-01-31T04:18:03.308179Z",
     "iopub.status.idle": "2025-01-31T04:18:03.312271Z",
     "shell.execute_reply": "2025-01-31T04:18:03.311864Z",
     "shell.execute_reply.started": "2025-01-31T04:18:03.308512Z"
    }
   },
   "outputs": [],
   "source": [
    "class Encoder(nn.Module):\n",
    "    def __init__(\n",
    "            self,\n",
    "            vocab_size,  # 词汇表大小，表示输入词汇的总数\n",
    "            embedding_dim=256,  # 词嵌入维度，将每个词映射为一个固定大小的向量\n",
    "            hidden_dim=1024,  # GRU 隐藏层的维度\n",
    "            num_layers=1,  # GRU 的层数\n",
    "    ):\n",
    "        super().__init__()  # 调用父类 nn.Module 的初始化方法\n",
    "\n",
    "        # 1. 词嵌入层：将输入的词索引映射为稠密的词向量\n",
    "        self.embedding = nn.Embedding(vocab_size, embedding_dim)\n",
    "\n",
    "        # 2. GRU 层：用于捕捉序列的上下文信息\n",
    "        self.gru = nn.GRU(\n",
    "            embedding_dim,  # 输入特征的维度（词嵌入的维度）\n",
    "            hidden_dim,  # 隐藏状态的维度\n",
    "            num_layers=num_layers,  # GRU 的层数\n",
    "            batch_first=True  # 输入数据的形状为 [batch_size, sequence_length, feature_dim]\n",
    "        )\n",
    "\n",
    "    def forward(self, encoder_inputs):\n",
    "        # encoder_inputs.shape = [batch_size, sequence_length]\n",
    "        # 输入是批量的词索引序列，形状为 [batch_size, sequence_length]\n",
    "\n",
    "        # 1. 将词索引映射为词向量\n",
    "        embeds = self.embedding(encoder_inputs)\n",
    "        # embeds.shape = [batch_size, sequence_length, embedding_dim]\n",
    "\n",
    "        # 2. 将词向量输入 GRU，获取序列的输出和最终的隐藏状态\n",
    "        seq_output, hidden = self.gru(embeds)\n",
    "        # seq_output.shape = [batch_size, sequence_length, hidden_dim]\n",
    "        # hidden.shape = [num_layers, batch_size, hidden_dim]\n",
    "\n",
    "        return seq_output, hidden"
   ]
  },
  {
   "cell_type": "code",
   "execution_count": 14,
   "id": "e8141592f1f3767d",
   "metadata": {
    "execution": {
     "iopub.execute_input": "2025-01-31T04:18:03.312955Z",
     "iopub.status.busy": "2025-01-31T04:18:03.312724Z",
     "iopub.status.idle": "2025-01-31T04:18:03.566312Z",
     "shell.execute_reply": "2025-01-31T04:18:03.565863Z",
     "shell.execute_reply.started": "2025-01-31T04:18:03.312939Z"
    }
   },
   "outputs": [
    {
     "name": "stdout",
     "output_type": "stream",
     "text": [
      "torch.Size([2, 50, 1024])\n",
      "torch.Size([4, 2, 1024])\n",
      "tensor([[-0.0636,  0.0092,  0.0103,  ..., -0.0153, -0.0004, -0.0341],\n",
      "        [-0.0175,  0.0283,  0.0105,  ...,  0.0142,  0.0282, -0.0413]],\n",
      "       grad_fn=<SliceBackward0>)\n",
      "tensor([[-0.0636,  0.0092,  0.0103,  ..., -0.0153, -0.0004, -0.0341],\n",
      "        [-0.0175,  0.0283,  0.0105,  ...,  0.0142,  0.0282, -0.0413]],\n",
      "       grad_fn=<SliceBackward0>)\n"
     ]
    }
   ],
   "source": [
    "#把上面的Encoder写一个例子，看看输出的shape\n",
    "encoder = Encoder(vocab_size=100, embedding_dim=256, hidden_dim=1024, num_layers=4)\n",
    "encoder_inputs = torch.randint(0, 100, (2, 50))\n",
    "encoder_outputs, hidden = encoder(encoder_inputs)\n",
    "print(encoder_outputs.shape)\n",
    "print(hidden.shape)\n",
    "print(encoder_outputs[:, -1, :])\n",
    "print(hidden[-1, :, :])  #取最后一层的hidden"
   ]
  },
  {
   "cell_type": "code",
   "execution_count": 15,
   "id": "a2a756eba46ccc39",
   "metadata": {
    "execution": {
     "iopub.execute_input": "2025-01-31T04:18:03.567009Z",
     "iopub.status.busy": "2025-01-31T04:18:03.566830Z",
     "iopub.status.idle": "2025-01-31T04:18:03.571222Z",
     "shell.execute_reply": "2025-01-31T04:18:03.570800Z",
     "shell.execute_reply.started": "2025-01-31T04:18:03.566994Z"
    }
   },
   "outputs": [
    {
     "data": {
      "text/plain": [
       "torch.Size([2, 1, 1024])"
      ]
     },
     "execution_count": 15,
     "metadata": {},
     "output_type": "execute_result"
    }
   ],
   "source": [
    "query1 = torch.randn(2, 1024)\n",
    "query1.unsqueeze(1).shape  #增加维度"
   ]
  },
  {
   "cell_type": "markdown",
   "id": "e3e2500e39012051",
   "metadata": {},
   "source": [
    "BahdanauAttention公式  \n",
    "$$score = FC(tanh(FC(EO) + FC(H)))$$   \n",
    "\n",
    "$FC(EO)$的$FC$是$Wk$,$FC(H)$的$FC$是$Wq$,最外面的$FC$是$V$ \n",
    "\n",
    "$$attention_weights = softmax(score, axis = 1)$$  \n",
    "\n",
    "$$context = sum(attention_weights * EO, axis = 1)$$  \n",
    "\n",
    "对$EO$做加权求和，得到上下文向量"
   ]
  },
  {
   "cell_type": "code",
   "execution_count": 16,
   "id": "c1ab78bdd63d6e0d",
   "metadata": {
    "execution": {
     "iopub.execute_input": "2025-01-31T04:18:03.572015Z",
     "iopub.status.busy": "2025-01-31T04:18:03.571733Z",
     "iopub.status.idle": "2025-01-31T04:18:03.577348Z",
     "shell.execute_reply": "2025-01-31T04:18:03.576782Z",
     "shell.execute_reply.started": "2025-01-31T04:18:03.571999Z"
    }
   },
   "outputs": [],
   "source": [
    "class BahdanauAttention(nn.Module):\n",
    "    def __init__(self, hidden_dim=1024):\n",
    "        super().__init__()\n",
    "        # 1. 定义线性变换层\n",
    "        self.Wk = nn.Linear(hidden_dim, hidden_dim)  # 对 keys（编码器输出）做线性变换\n",
    "        self.Wq = nn.Linear(hidden_dim, hidden_dim)  # 对 query（解码器隐藏状态）做线性变换\n",
    "        self.V = nn.Linear(hidden_dim, 1)  # 将变换后的结果映射为一个标量（注意力分数）\n",
    "\n",
    "    def forward(self, query, keys, values, attn_mask=None):\n",
    "        \"\"\"\n",
    "        正向传播\n",
    "        :param query: 解码器的隐藏状态，shape = [batch size, hidden_dim]\n",
    "        :param keys: 编码器的输出（keys），shape = [batch size, sequence length, hidden_dim]\n",
    "        :param values: 编码器的输出（values），shape = [batch size, sequence length, hidden_dim]\n",
    "        :param attn_mask: 注意力掩码，shape = [batch size, sequence length]，用于屏蔽填充部分\n",
    "        :return:\n",
    "            - context_vector: 上下文向量，shape = [batch size, hidden_dim]\n",
    "            - scores: 注意力分数，shape = [batch size, sequence length, 1]\n",
    "        \"\"\"\n",
    "        # 1. 调整 query 的形状\n",
    "        # query.shape = [batch size, hidden_dim] --> [batch size, 1, hidden_dim]\n",
    "        query = query.unsqueeze(-2)\n",
    "\n",
    "        # 2. 计算注意力分数\n",
    "        # self.Wk(keys): [batch size, sequence length, hidden_dim]\n",
    "        # self.Wq(query): [batch size, 1, hidden_dim]\n",
    "        # self.Wk(keys) + self.Wq(query): [batch size, sequence length, hidden_dim]\n",
    "        # F.tanh(...): 应用 tanh 激活函数\n",
    "        # self.V(...): 将结果映射为标量，shape = [batch size, sequence length, 1]\n",
    "        scores = self.V(F.tanh(self.Wk(keys) + self.Wq(query)))\n",
    "\n",
    "        # 3. 处理注意力掩码\n",
    "        if attn_mask is not None:\n",
    "            # attn_mask.shape = [batch size, sequence length] --> [batch size, sequence length, 1]\n",
    "            attn_mask = attn_mask.unsqueeze(-1)\n",
    "            # 将掩码中为 1 的位置（填充部分）的分数设置为一个极小的值（-inf）\n",
    "            scores += attn_mask * -1e16\n",
    "\n",
    "        # 4. 计算注意力权重\n",
    "        # 对 scores 在序列长度维度上做 softmax，得到注意力权重\n",
    "        scores = F.softmax(scores, dim=-2)  # shape = [batch size, sequence length, 1]\n",
    "\n",
    "        # 5. 计算上下文向量\n",
    "        # torch.mul(scores, values): 将注意力权重与 values 相乘\n",
    "        # .sum(dim=-2): 在序列长度维度上求和，得到上下文向量\n",
    "        context_vector = torch.mul(scores, values).sum(dim=-2)  # shape = [batch size, hidden_dim]\n",
    "\n",
    "        # 6. 返回上下文向量和注意力分数\n",
    "        return context_vector, scores"
   ]
  },
  {
   "cell_type": "code",
   "execution_count": 17,
   "id": "52338574bfb893f3",
   "metadata": {
    "execution": {
     "iopub.execute_input": "2025-01-31T04:18:03.577909Z",
     "iopub.status.busy": "2025-01-31T04:18:03.577757Z",
     "iopub.status.idle": "2025-01-31T04:18:03.581402Z",
     "shell.execute_reply": "2025-01-31T04:18:03.580858Z",
     "shell.execute_reply.started": "2025-01-31T04:18:03.577894Z"
    }
   },
   "outputs": [
    {
     "name": "stdout",
     "output_type": "stream",
     "text": [
      "torch.Size([2, 3])\n"
     ]
    }
   ],
   "source": [
    "#tensor矩阵相乘\n",
    "a = torch.randn(2, 3)\n",
    "b = torch.randn(2, 3)\n",
    "c = torch.mul(a, b)  #增加维度\n",
    "print(c.shape)"
   ]
  },
  {
   "cell_type": "code",
   "execution_count": 18,
   "id": "a367cc98e6af6b95",
   "metadata": {
    "execution": {
     "iopub.execute_input": "2025-01-31T04:18:03.582146Z",
     "iopub.status.busy": "2025-01-31T04:18:03.581901Z",
     "iopub.status.idle": "2025-01-31T04:18:03.603133Z",
     "shell.execute_reply": "2025-01-31T04:18:03.602720Z",
     "shell.execute_reply.started": "2025-01-31T04:18:03.582131Z"
    }
   },
   "outputs": [
    {
     "name": "stdout",
     "output_type": "stream",
     "text": [
      "torch.Size([2, 1024])\n",
      "torch.Size([2, 50, 1])\n"
     ]
    }
   ],
   "source": [
    "#把上面的BahdanauAttention写一个例子，看看输出的shape\n",
    "attention = BahdanauAttention(hidden_dim=1024)\n",
    "query = torch.randn(2, 1024)  #Decoder的隐藏状态\n",
    "keys = torch.randn(2, 50, 1024)  #EO\n",
    "values = torch.randn(2, 50, 1024)  #EO\n",
    "attn_mask = torch.randint(0, 2, (2, 50))\n",
    "context_vector, scores = attention(query, keys, values, attn_mask)\n",
    "print(context_vector.shape)\n",
    "print(scores.shape)"
   ]
  },
  {
   "cell_type": "code",
   "execution_count": 19,
   "id": "82121391bb5773de",
   "metadata": {
    "execution": {
     "iopub.execute_input": "2025-01-31T04:18:03.603907Z",
     "iopub.status.busy": "2025-01-31T04:18:03.603670Z",
     "iopub.status.idle": "2025-01-31T04:18:03.609680Z",
     "shell.execute_reply": "2025-01-31T04:18:03.609275Z",
     "shell.execute_reply.started": "2025-01-31T04:18:03.603892Z"
    }
   },
   "outputs": [],
   "source": [
    "class Decoder(nn.Module):\n",
    "    def __init__(\n",
    "            self,\n",
    "            vocab_size,  # 词汇表大小，表示输出词汇的总数\n",
    "            embedding_dim=256,  # 词嵌入维度，将每个词映射为一个固定大小的向量\n",
    "            hidden_dim=1024,  # GRU 隐藏层的维度\n",
    "            num_layers=1,  # GRU 的层数\n",
    "    ):\n",
    "        super(Decoder, self).__init__()  # 调用父类 nn.Module 的初始化方法\n",
    "\n",
    "        # 1. 词嵌入层：将输入的词索引映射为稠密的词向量\n",
    "        self.embedding = nn.Embedding(vocab_size, embedding_dim)\n",
    "\n",
    "        # 2. GRU 层：用于捕捉序列的上下文信息\n",
    "        # 输入维度为 embedding_dim + hidden_dim（词嵌入 + 上下文向量）\n",
    "        # 输出维度为 hidden_dim\n",
    "        self.gru = nn.GRU(embedding_dim + hidden_dim, hidden_dim, num_layers=num_layers, batch_first=True)\n",
    "\n",
    "        # 3. 全连接层：将 GRU 的输出映射为词汇表的概率分布\n",
    "        self.fc = nn.Linear(hidden_dim, vocab_size)\n",
    "\n",
    "        # 4. Dropout 层：用于防止过拟合\n",
    "        self.dropout = nn.Dropout(0.6)\n",
    "\n",
    "        # 5. 注意力机制：用于计算上下文向量\n",
    "        self.attention = BahdanauAttention(hidden_dim)\n",
    "\n",
    "    def forward(self, decoder_input, hidden, encoder_outputs, attn_mask=None):\n",
    "        \"\"\"\n",
    "        正向传播\n",
    "        :param decoder_input: 解码器的输入，shape = [batch size, 1]\n",
    "        :param hidden: 解码器的隐藏状态，shape = [batch size, hidden_dim]\n",
    "        :param encoder_outputs: 编码器的输出，shape = [batch size, sequence length, hidden_dim]\n",
    "        :param attn_mask: 注意力掩码，shape = [batch size, sequence length]，用于屏蔽填充部分\n",
    "        :return:\n",
    "            - logits: 输出词汇表的概率分布，shape = [batch size, 1, vocab size]\n",
    "            - hidden: 更新后的隐藏状态，shape = [batch size, hidden_dim]\n",
    "            - attention_score: 注意力分数，shape = [batch size, sequence length, 1]\n",
    "        \"\"\"\n",
    "        # 1. 检查输入形状\n",
    "        assert len(decoder_input.shape) == 2 and decoder_input.shape[\n",
    "            -1] == 1, f\"decoder_input.shape = {decoder_input.shape} is not valid\"\n",
    "        assert len(hidden.shape) == 2, f\"hidden.shape = {hidden.shape} is not valid\"\n",
    "        assert len(encoder_outputs.shape) == 3, f\"encoder_outputs.shape = {encoder_outputs.shape} is not valid\"\n",
    "\n",
    "        # 2. 计算上下文向量\n",
    "        context_vector, attention_score = self.attention(\n",
    "            query=hidden, keys=encoder_outputs, values=encoder_outputs, attn_mask=attn_mask\n",
    "        )\n",
    "        # context_vector.shape = [batch size, hidden_dim]\n",
    "        # attention_score.shape = [batch size, sequence length, 1]\n",
    "\n",
    "        # 3. 将解码器输入映射为词向量\n",
    "        embeds = self.embedding(decoder_input)\n",
    "        # embeds.shape = [batch size, 1, embedding_dim]\n",
    "\n",
    "        # 4. 将上下文向量与词向量拼接\n",
    "        embeds = torch.cat([context_vector.unsqueeze(-2), embeds], dim=-1)\n",
    "        # embeds.shape = [batch size, 1, embedding_dim + hidden_dim]\n",
    "\n",
    "        # 5. 将拼接后的向量输入 GRU\n",
    "        seq_output, hidden = self.gru(embeds)\n",
    "        # seq_output.shape = [batch size, 1, hidden_dim]\n",
    "        # hidden.shape = [batch size, hidden_dim]\n",
    "\n",
    "        # 6. 将 GRU 的输出映射为词汇表的概率分布\n",
    "        logits = self.fc(self.dropout(seq_output))\n",
    "        # logits.shape = [batch size, 1, vocab size]\n",
    "\n",
    "        # 7. 返回结果\n",
    "        return logits, hidden, attention_score"
   ]
  },
  {
   "cell_type": "code",
   "execution_count": 20,
   "id": "6ecb3d606a16095",
   "metadata": {
    "execution": {
     "iopub.execute_input": "2025-01-31T04:18:03.610438Z",
     "iopub.status.busy": "2025-01-31T04:18:03.610292Z",
     "iopub.status.idle": "2025-01-31T04:18:03.618553Z",
     "shell.execute_reply": "2025-01-31T04:18:03.618142Z",
     "shell.execute_reply.started": "2025-01-31T04:18:03.610424Z"
    }
   },
   "outputs": [],
   "source": [
    "class Sequence2Sequence(nn.Module):\n",
    "    def __init__(\n",
    "            self,\n",
    "            src_vocab_size,  # 输入词典大小\n",
    "            trg_vocab_size,  # 输出词典大小\n",
    "            encoder_embedding_dim=256,  # 编码器的词嵌入维度\n",
    "            encoder_hidden_dim=1024,  # 编码器的隐藏层维度\n",
    "            encoder_num_layers=1,  # 编码器的层数\n",
    "            decoder_embedding_dim=256,  # 解码器的词嵌入维度\n",
    "            decoder_hidden_dim=1024,  # 解码器的隐藏层维度\n",
    "            decoder_num_layers=1,  # 解码器的层数\n",
    "            bos_idx=1,  # 开始标记（Begin of Sentence）的索引\n",
    "            eos_idx=3,  # 结束标记（End of Sentence）的索引\n",
    "            max_length=512,  # 生成序列的最大长度\n",
    "    ):\n",
    "        super(Sequence2Sequence, self).__init__()  # 调用父类 nn.Module 的初始化方法\n",
    "\n",
    "        # 1. 初始化模型参数\n",
    "        self.bos_idx = bos_idx  # 开始标记\n",
    "        self.eos_idx = eos_idx  # 结束标记\n",
    "        self.max_length = max_length  # 生成序列的最大长度\n",
    "\n",
    "        # 2. 定义编码器\n",
    "        self.encoder = Encoder(\n",
    "            src_vocab_size,\n",
    "            embedding_dim=encoder_embedding_dim,\n",
    "            hidden_dim=encoder_hidden_dim,\n",
    "            num_layers=encoder_num_layers,\n",
    "        )\n",
    "\n",
    "        # 3. 定义解码器\n",
    "        self.decoder = Decoder(\n",
    "            trg_vocab_size,\n",
    "            embedding_dim=decoder_embedding_dim,\n",
    "            hidden_dim=decoder_hidden_dim,\n",
    "            num_layers=decoder_num_layers,\n",
    "        )\n",
    "\n",
    "    def forward(self, *, encoder_inputs, decoder_inputs, attn_mask=None):\n",
    "        \"\"\"\n",
    "        正向传播（训练模式）\n",
    "        :param encoder_inputs: 编码器输入，shape = [batch size, sequence length]\n",
    "        :param decoder_inputs: 解码器输入，shape = [batch size, sequence length]\n",
    "        :param attn_mask: 注意力掩码，shape = [batch size, sequence length]\n",
    "        :return:\n",
    "            - logits: 输出词汇表的概率分布，shape = [batch size, sequence length, vocab size]\n",
    "            - scores: 注意力分数，shape = [batch size, sequence length, sequence length]\n",
    "        \"\"\"\n",
    "        # 1. 编码器部分\n",
    "        encoder_outputs, hidden = self.encoder(encoder_inputs)\n",
    "        # encoder_outputs.shape = [batch size, sequence length, hidden_dim]\n",
    "        # hidden.shape = [num_layers, batch size, hidden_dim]\n",
    "\n",
    "        # 2. 解码器部分（使用 Teacher Forcing）\n",
    "        bs, seq_len = decoder_inputs.shape\n",
    "        logits_list = []  # 存储每个时间步的预测结果\n",
    "        scores_list = []  # 存储每个时间步的注意力分数\n",
    "\n",
    "        for i in range(seq_len):\n",
    "            # 每次迭代生成一个时间步的预测\n",
    "            logits, hidden, score = self.decoder(\n",
    "                decoder_inputs[:, i:i + 1],  # 当前时间步的输入\n",
    "                hidden[-1],  # 使用编码器的最后一层隐藏状态\n",
    "                encoder_outputs,  # 编码器的输出\n",
    "                attn_mask=attn_mask  # 注意力掩码\n",
    "            )\n",
    "            logits_list.append(logits)  # 记录预测的 logits\n",
    "            scores_list.append(score)  # 记录注意力分数\n",
    "\n",
    "        # 3. 返回结果\n",
    "        return torch.cat(logits_list, dim=-2), torch.cat(scores_list, dim=-1)\n",
    "\n",
    "    @torch.no_grad()  # 不计算梯度\n",
    "    def infer(self, encoder_input, attn_mask=None):\n",
    "        \"\"\"\n",
    "        推理模式（生成序列）\n",
    "        :param encoder_input: 编码器输入，shape = [1, sequence length]\n",
    "        :param attn_mask: 注意力掩码，shape = [1, sequence length]\n",
    "        :return:\n",
    "            - pred_list: 生成的序列（词索引列表）\n",
    "            - scores: 注意力分数，shape = [1, sequence length, sequence length]\n",
    "        \"\"\"\n",
    "        # 1. 编码器部分\n",
    "        encoder_outputs, hidden = self.encoder(encoder_input)\n",
    "        # encoder_outputs.shape = [1, sequence length, hidden_dim]\n",
    "        # hidden.shape = [num_layers, 1, hidden_dim]\n",
    "\n",
    "        # 2. 解码器部分（从开始标记开始生成序列）\n",
    "        decoder_input = torch.Tensor([self.bos_idx]).reshape(1, 1).to(dtype=torch.int64)  # 开始标记\n",
    "        decoder_pred = None\n",
    "        pred_list = []  # 存储生成的序列\n",
    "        score_list = []  # 存储注意力分数\n",
    "\n",
    "        for _ in range(self.max_length):\n",
    "            # 每次迭代生成一个时间步的预测\n",
    "            logits, hidden, score = self.decoder(\n",
    "                decoder_input,  # 当前时间步的输入\n",
    "                hidden[-1],  # 使用解码器的最后一层隐藏状态\n",
    "                encoder_outputs,  # 编码器的输出\n",
    "                attn_mask=attn_mask  # 注意力掩码\n",
    "            )\n",
    "            # 使用贪心搜索（Greedy Search）选择概率最大的词\n",
    "            decoder_pred = logits.argmax(dim=-1)\n",
    "            decoder_input = decoder_pred  # 将当前预测作为下一个时间步的输入\n",
    "            pred_list.append(decoder_pred.reshape(-1).item())  # 记录生成的词索引\n",
    "            score_list.append(score)  # 记录注意力分数\n",
    "\n",
    "            # 如果生成结束标记，则停止生成\n",
    "            if decoder_pred == self.eos_idx:\n",
    "                break\n",
    "\n",
    "        # 3. 返回结果\n",
    "        return pred_list, torch.cat(score_list, dim=-1)"
   ]
  },
  {
   "cell_type": "code",
   "execution_count": 21,
   "id": "2672de11eb9b9b3e",
   "metadata": {
    "execution": {
     "iopub.execute_input": "2025-01-31T04:18:03.619434Z",
     "iopub.status.busy": "2025-01-31T04:18:03.619018Z",
     "iopub.status.idle": "2025-01-31T04:18:03.999953Z",
     "shell.execute_reply": "2025-01-31T04:18:03.998973Z",
     "shell.execute_reply.started": "2025-01-31T04:18:03.619418Z"
    }
   },
   "outputs": [
    {
     "name": "stdout",
     "output_type": "stream",
     "text": [
      "torch.Size([2, 50, 12479])\n",
      "torch.Size([2, 50, 50])\n"
     ]
    }
   ],
   "source": [
    "model = Sequence2Sequence(src_vocab_size=len(src_word2idx), trg_vocab_size=len(trg_word2idx))\n",
    "#做model的前向传播，看看输出的shape\n",
    "encoder_inputs = torch.randint(0, 100, (2, 50))\n",
    "decoder_inputs = torch.randint(0, 100, (2, 50))\n",
    "attn_mask = torch.randint(0, 2, (2, 50))\n",
    "logits, scores = model(encoder_inputs=encoder_inputs, decoder_inputs=decoder_inputs, attn_mask=attn_mask)\n",
    "print(logits.shape)\n",
    "print(scores.shape)"
   ]
  },
  {
   "cell_type": "code",
   "execution_count": 22,
   "id": "46a46c135a1d2a5",
   "metadata": {
    "execution": {
     "iopub.execute_input": "2025-01-31T04:18:04.000742Z",
     "iopub.status.busy": "2025-01-31T04:18:04.000526Z",
     "iopub.status.idle": "2025-01-31T04:18:04.003832Z",
     "shell.execute_reply": "2025-01-31T04:18:04.003421Z",
     "shell.execute_reply.started": "2025-01-31T04:18:04.000725Z"
    }
   },
   "outputs": [
    {
     "name": "stdout",
     "output_type": "stream",
     "text": [
      "The model has 35,187,904 trainable parameters\n"
     ]
    }
   ],
   "source": [
    "#帮我计算一下model的总参数量\n",
    "def count_parameters(model):\n",
    "    return sum(p.numel() for p in model.parameters() if p.requires_grad)\n",
    "\n",
    "\n",
    "print(f\"The model has {count_parameters(model):,} trainable parameters\")"
   ]
  },
  {
   "cell_type": "code",
   "execution_count": 23,
   "id": "356b99d45c3a8d6",
   "metadata": {
    "execution": {
     "iopub.execute_input": "2025-01-31T04:18:04.004597Z",
     "iopub.status.busy": "2025-01-31T04:18:04.004454Z",
     "iopub.status.idle": "2025-01-31T04:18:04.393669Z",
     "shell.execute_reply": "2025-01-31T04:18:04.393219Z",
     "shell.execute_reply.started": "2025-01-31T04:18:04.004582Z"
    }
   },
   "outputs": [
    {
     "name": "stdout",
     "output_type": "stream",
     "text": [
      "The model has 72,973,504 trainable parameters\n"
     ]
    }
   ],
   "source": [
    "#帮我初始化一个4层的GRU的model\n",
    "model = Sequence2Sequence(src_vocab_size=len(src_word2idx), trg_vocab_size=len(trg_word2idx), encoder_num_layers=4,\n",
    "                          decoder_num_layers=4)\n",
    "print(f\"The model has {count_parameters(model):,} trainable parameters\")"
   ]
  },
  {
   "cell_type": "markdown",
   "id": "f56edf3ddf99b55a",
   "metadata": {},
   "source": [
    "训练"
   ]
  },
  {
   "cell_type": "markdown",
   "id": "2e851ceefe69f69f",
   "metadata": {},
   "source": [
    "损失函数："
   ]
  },
  {
   "cell_type": "code",
   "execution_count": 24,
   "id": "28ed964c16fbe41c",
   "metadata": {
    "execution": {
     "iopub.execute_input": "2025-01-31T04:18:04.394433Z",
     "iopub.status.busy": "2025-01-31T04:18:04.394202Z",
     "iopub.status.idle": "2025-01-31T04:18:04.398289Z",
     "shell.execute_reply": "2025-01-31T04:18:04.397861Z",
     "shell.execute_reply.started": "2025-01-31T04:18:04.394416Z"
    }
   },
   "outputs": [],
   "source": [
    "def cross_entropy_with_padding(logits, labels, padding_mask=None):\n",
    "    \"\"\"\n",
    "    计算带填充的交叉熵损失\n",
    "    :param logits: 模型的输出，shape = [batch size, sequence length, num of classes]\n",
    "    :param labels: 真实标签，shape = [batch size, sequence length]\n",
    "    :param padding_mask: 填充掩码，shape = [batch size, sequence length]，1 表示填充部分，0 表示有效部分\n",
    "    :return: 计算得到的损失值\n",
    "    \"\"\"\n",
    "    # 1. 获取输入的形状\n",
    "    bs, seq_len, nc = logits.shape  # batch size, sequence length, number of classes\n",
    "\n",
    "    # 2. 计算交叉熵损失（不进行 reduce，即不对 batch 求平均）\n",
    "    loss = F.cross_entropy(\n",
    "        logits.reshape(bs * seq_len, nc),  # 将 logits 展平为 [batch size * sequence length, num of classes]\n",
    "        labels.reshape(-1),  # 将 labels 展平为 [batch size * sequence length]\n",
    "        reduction='none'  # 不进行 reduce，返回每个位置的损失\n",
    "    )\n",
    "    # loss.shape = [batch size * sequence length]\n",
    "\n",
    "    # 3. 处理填充部分\n",
    "    if padding_mask is None:\n",
    "        # 如果没有提供 padding_mask，则直接计算所有位置的损失均值\n",
    "        loss = loss.mean()\n",
    "    else:\n",
    "        # 如果提供了 padding_mask，则去除填充部分的损失\n",
    "        padding_mask = 1 - padding_mask.reshape(-1)  # 将 padding_mask 展平并取反，1 表示有效部分，0 表示填充部分\n",
    "        loss = torch.mul(loss, padding_mask).sum() / padding_mask.sum()  # 计算有效部分的损失均值\n",
    "\n",
    "    # 4. 返回最终的损失值\n",
    "    return loss"
   ]
  },
  {
   "cell_type": "markdown",
   "id": "1fcbf35bc5463c37",
   "metadata": {},
   "source": [
    "callback函数："
   ]
  },
  {
   "cell_type": "code",
   "execution_count": 25,
   "id": "91c2f5851134ffa4",
   "metadata": {
    "execution": {
     "iopub.execute_input": "2025-01-31T04:18:04.398975Z",
     "iopub.status.busy": "2025-01-31T04:18:04.398760Z",
     "iopub.status.idle": "2025-01-31T04:18:08.189809Z",
     "shell.execute_reply": "2025-01-31T04:18:08.189342Z",
     "shell.execute_reply.started": "2025-01-31T04:18:04.398959Z"
    }
   },
   "outputs": [
    {
     "name": "stderr",
     "output_type": "stream",
     "text": [
      "2025-01-31 12:18:05.099946: I tensorflow/core/util/port.cc:153] oneDNN custom operations are on. You may see slightly different numerical results due to floating-point round-off errors from different computation orders. To turn them off, set the environment variable `TF_ENABLE_ONEDNN_OPTS=0`.\n",
      "2025-01-31 12:18:05.409886: E external/local_xla/xla/stream_executor/cuda/cuda_fft.cc:477] Unable to register cuFFT factory: Attempting to register factory for plugin cuFFT when one has already been registered\n",
      "WARNING: All log messages before absl::InitializeLog() is called are written to STDERR\n",
      "E0000 00:00:1738297085.520381     304 cuda_dnn.cc:8310] Unable to register cuDNN factory: Attempting to register factory for plugin cuDNN when one has already been registered\n",
      "E0000 00:00:1738297085.552752     304 cuda_blas.cc:1418] Unable to register cuBLAS factory: Attempting to register factory for plugin cuBLAS when one has already been registered\n",
      "2025-01-31 12:18:05.844678: I tensorflow/core/platform/cpu_feature_guard.cc:210] This TensorFlow binary is optimized to use available CPU instructions in performance-critical operations.\n",
      "To enable the following instructions: AVX2 AVX512F AVX512_VNNI FMA, in other operations, rebuild TensorFlow with the appropriate compiler flags.\n"
     ]
    }
   ],
   "source": [
    "from torch.utils.tensorboard import SummaryWriter\n",
    "\n",
    "\n",
    "class TensorBoardCallback:\n",
    "    def __init__(self, log_dir, flush_secs=10):\n",
    "        \"\"\"\n",
    "        Args:\n",
    "            log_dir (str): dir to write log.\n",
    "            flush_secs (int, optional): write to dsk each flush_secs seconds. Defaults to 10.\n",
    "        \"\"\"\n",
    "        self.writer = SummaryWriter(log_dir=log_dir, flush_secs=flush_secs)\n",
    "\n",
    "    def draw_model(self, model, input_shape):\n",
    "        self.writer.add_graph(model, input_to_model=torch.randn(input_shape))\n",
    "\n",
    "    def add_loss_scalars(self, step, loss, val_loss):\n",
    "        self.writer.add_scalars(\n",
    "            main_tag=\"training/loss\",\n",
    "            tag_scalar_dict={\"loss\": loss, \"val_loss\": val_loss},\n",
    "            global_step=step,\n",
    "        )\n",
    "\n",
    "    def add_acc_scalars(self, step, acc, val_acc):\n",
    "        self.writer.add_scalars(\n",
    "            main_tag=\"training/accuracy\",\n",
    "            tag_scalar_dict={\"accuracy\": acc, \"val_accuracy\": val_acc},\n",
    "            global_step=step,\n",
    "        )\n",
    "\n",
    "    def add_lr_scalars(self, step, learning_rate):\n",
    "        self.writer.add_scalars(\n",
    "            main_tag=\"training/learning_rate\",\n",
    "            tag_scalar_dict={\"learning_rate\": learning_rate},\n",
    "            global_step=step,\n",
    "\n",
    "        )\n",
    "\n",
    "    def __call__(self, step, **kwargs):\n",
    "        # add loss\n",
    "        loss = kwargs.pop(\"loss\", None)\n",
    "        val_loss = kwargs.pop(\"val_loss\", None)\n",
    "        if loss is not None and val_loss is not None:\n",
    "            self.add_loss_scalars(step, loss, val_loss)\n",
    "        # add acc\n",
    "        acc = kwargs.pop(\"acc\", None)\n",
    "        val_acc = kwargs.pop(\"val_acc\", None)\n",
    "        if acc is not None and val_acc is not None:\n",
    "            self.add_acc_scalars(step, acc, val_acc)\n",
    "        # add lr\n",
    "        learning_rate = kwargs.pop(\"lr\", None)\n",
    "        if learning_rate is not None:\n",
    "            self.add_lr_scalars(step, learning_rate)"
   ]
  },
  {
   "cell_type": "markdown",
   "id": "ee666de90444c7a9",
   "metadata": {},
   "source": [
    "savebest"
   ]
  },
  {
   "cell_type": "code",
   "execution_count": 26,
   "id": "849eb1ecbb36b78d",
   "metadata": {
    "execution": {
     "iopub.execute_input": "2025-01-31T04:18:08.190877Z",
     "iopub.status.busy": "2025-01-31T04:18:08.190366Z",
     "iopub.status.idle": "2025-01-31T04:18:08.195400Z",
     "shell.execute_reply": "2025-01-31T04:18:08.194859Z",
     "shell.execute_reply.started": "2025-01-31T04:18:08.190856Z"
    }
   },
   "outputs": [],
   "source": [
    "class SaveCheckpointsCallback:\n",
    "    def __init__(self, save_dir, save_step=5000, save_best_only=True):\n",
    "        \"\"\"\n",
    "        Save checkpoints each save_epoch epoch.\n",
    "        We save checkpoint by epoch in this implementation.\n",
    "        Usually, training scripts with pytorch evaluating model and save checkpoint by step.\n",
    "\n",
    "        Args:\n",
    "            save_dir (str): dir to save checkpoint\n",
    "            save_epoch (int, optional): the frequency to save checkpoint. Defaults to 1.\n",
    "            save_best_only (bool, optional): If True, only save the best model or save each model at every epoch.\n",
    "        \"\"\"\n",
    "        self.save_dir = save_dir\n",
    "        self.save_step = save_step\n",
    "        self.save_best_only = save_best_only\n",
    "        self.best_metrics = - np.inf\n",
    "\n",
    "        # mkdir\n",
    "        if not os.path.exists(self.save_dir):\n",
    "            os.mkdir(self.save_dir)\n",
    "\n",
    "    def __call__(self, step, state_dict, metric=None):\n",
    "        if step % self.save_step > 0:\n",
    "            return\n",
    "\n",
    "        if self.save_best_only:\n",
    "            assert metric is not None\n",
    "            if metric >= self.best_metrics:\n",
    "                # save checkpoints\n",
    "                torch.save(state_dict, os.path.join(self.save_dir, \"best.ckpt\"))\n",
    "                # update best metrics\n",
    "                self.best_metrics = metric\n",
    "        else:\n",
    "            torch.save(state_dict, os.path.join(self.save_dir, f\"{step}.ckpt\"))"
   ]
  },
  {
   "cell_type": "markdown",
   "id": "760a2563312be062",
   "metadata": {},
   "source": [
    "early stopping"
   ]
  },
  {
   "cell_type": "code",
   "execution_count": 27,
   "id": "f0d5894ae79f9dea",
   "metadata": {
    "execution": {
     "iopub.execute_input": "2025-01-31T04:18:08.196017Z",
     "iopub.status.busy": "2025-01-31T04:18:08.195879Z",
     "iopub.status.idle": "2025-01-31T04:18:08.199784Z",
     "shell.execute_reply": "2025-01-31T04:18:08.199391Z",
     "shell.execute_reply.started": "2025-01-31T04:18:08.196003Z"
    }
   },
   "outputs": [],
   "source": [
    "class EarlyStopCallback:\n",
    "    def __init__(self, patience=5, min_delta=0.01):\n",
    "        \"\"\"\n",
    "\n",
    "        Args:\n",
    "            patience (int, optional): Number of epochs with no improvement after which training will be stopped.. Defaults to 5.\n",
    "            min_delta (float, optional): Minimum change in the monitored quantity to qualify as an improvement, i.e. an absolute\n",
    "                change of less than min_delta, will count as no improvement. Defaults to 0.01.\n",
    "        \"\"\"\n",
    "        self.patience = patience\n",
    "        self.min_delta = min_delta\n",
    "        self.best_metric = - np.inf\n",
    "        self.counter = 0\n",
    "\n",
    "    def __call__(self, metric):\n",
    "        if metric >= self.best_metric + self.min_delta:\n",
    "            # update best metric\n",
    "            self.best_metric = metric\n",
    "            # reset counter\n",
    "            self.counter = 0\n",
    "        else:\n",
    "            self.counter += 1\n",
    "\n",
    "    @property\n",
    "    def early_stop(self):\n",
    "        return self.counter >= self.patience"
   ]
  },
  {
   "cell_type": "markdown",
   "id": "e6394c67b5ace284",
   "metadata": {},
   "source": [
    "training & valuating"
   ]
  },
  {
   "cell_type": "code",
   "execution_count": 28,
   "id": "e815061cf8d92ecd",
   "metadata": {
    "execution": {
     "iopub.execute_input": "2025-01-31T04:18:08.202405Z",
     "iopub.status.busy": "2025-01-31T04:18:08.202127Z",
     "iopub.status.idle": "2025-01-31T04:18:08.206551Z",
     "shell.execute_reply": "2025-01-31T04:18:08.206034Z",
     "shell.execute_reply.started": "2025-01-31T04:18:08.202388Z"
    }
   },
   "outputs": [],
   "source": [
    "@torch.no_grad()  # 不计算梯度，节省内存和计算资源\n",
    "def evaluating(model, dataloader, loss_fct):\n",
    "    \"\"\"\n",
    "    在验证集或测试集上评估模型性能\n",
    "    :param model: 训练好的模型\n",
    "    :param dataloader: 数据加载器，用于加载验证集或测试集数据\n",
    "    :param loss_fct: 损失函数，用于计算模型输出与真实标签之间的损失\n",
    "    :return: 验证集或测试集上的平均损失\n",
    "    \"\"\"\n",
    "    loss_list = []  # 存储每个批次的损失\n",
    "\n",
    "    # 遍历数据加载器中的每个批次\n",
    "    for batch in dataloader:\n",
    "        # 1. 从批次中提取数据\n",
    "        encoder_inputs = batch[\"encoder_inputs\"]  # 编码器输入，shape = [batch size, sequence length]\n",
    "        encoder_inputs_mask = batch[\"encoder_inputs_mask\"]  # 编码器输入掩码，shape = [batch size, sequence length]\n",
    "        decoder_inputs = batch[\"decoder_inputs\"]  # 解码器输入，shape = [batch size, sequence length]\n",
    "        decoder_labels = batch[\"decoder_labels\"]  # 解码器标签，shape = [batch size, sequence length]\n",
    "        decoder_labels_mask = batch[\"decoder_labels_mask\"]  # 解码器标签掩码，shape = [batch size, sequence length]\n",
    "\n",
    "        # 2. 前向计算\n",
    "        logits, _ = model(\n",
    "            encoder_inputs=encoder_inputs,\n",
    "            decoder_inputs=decoder_inputs,\n",
    "            attn_mask=encoder_inputs_mask\n",
    "        )\n",
    "        # logits: 模型输出的概率分布，shape = [batch size, sequence length, vocab size]\n",
    "        # _: 注意力分数（未使用）\n",
    "\n",
    "        # 3. 计算损失\n",
    "        loss = loss_fct(logits, decoder_labels, padding_mask=decoder_labels_mask)\n",
    "        # loss: 当前批次的损失值\n",
    "\n",
    "        # 4. 记录损失\n",
    "        loss_list.append(loss.cpu().item())  # 将损失值从 GPU 移动到 CPU，并转换为 Python 数值\n",
    "\n",
    "    # 5. 返回平均损失\n",
    "    return np.mean(loss_list)"
   ]
  },
  {
   "cell_type": "code",
   "execution_count": 29,
   "id": "a07b33c081b20971",
   "metadata": {
    "execution": {
     "iopub.execute_input": "2025-01-31T04:18:08.207215Z",
     "iopub.status.busy": "2025-01-31T04:18:08.207059Z",
     "iopub.status.idle": "2025-01-31T04:18:08.215201Z",
     "shell.execute_reply": "2025-01-31T04:18:08.214613Z",
     "shell.execute_reply.started": "2025-01-31T04:18:08.207200Z"
    }
   },
   "outputs": [],
   "source": [
    "# 训练\n",
    "def training(\n",
    "    model,\n",
    "    train_loader,\n",
    "    val_loader,\n",
    "    epoch,\n",
    "    loss_fct,\n",
    "    optimizer,\n",
    "    tensorboard_callback=None,\n",
    "    save_ckpt_callback=None,\n",
    "    early_stop_callback=None,\n",
    "    eval_step=500,\n",
    "    ):\n",
    "    record_dict = {\n",
    "        \"train\": [],\n",
    "        \"val\": []\n",
    "    }\n",
    "\n",
    "    global_step = 1\n",
    "    model.train() # 切换到训练模式\n",
    "    with tqdm(total=epoch * len(train_loader)) as pbar:\n",
    "        for epoch_id in range(epoch):\n",
    "            # training\n",
    "            for batch in train_loader:\n",
    "                encoder_inputs = batch[\"encoder_inputs\"]\n",
    "                encoder_inputs_mask = batch[\"encoder_inputs_mask\"]\n",
    "                decoder_inputs = batch[\"decoder_inputs\"]\n",
    "                decoder_labels = batch[\"decoder_labels\"]\n",
    "                decoder_labels_mask = batch[\"decoder_labels_mask\"]\n",
    "\n",
    "                # 梯度清空\n",
    "                optimizer.zero_grad()\n",
    "\n",
    "                # 前向计算\n",
    "                logits, _ = model(\n",
    "                    encoder_inputs=encoder_inputs,\n",
    "                    decoder_inputs=decoder_inputs,\n",
    "                    attn_mask=encoder_inputs_mask\n",
    "                    )\n",
    "                loss = loss_fct(logits, decoder_labels, padding_mask=decoder_labels_mask)\n",
    "\n",
    "                # 梯度回传\n",
    "                loss.backward()\n",
    "\n",
    "                # 调整优化器，包括学习率的变动等\n",
    "                optimizer.step()\n",
    "\n",
    "                loss = loss.cpu().item()\n",
    "                # record\n",
    "                record_dict[\"train\"].append({\n",
    "                    \"loss\": loss, \"step\": global_step\n",
    "                })\n",
    "\n",
    "                # evaluating\n",
    "                if global_step % eval_step == 0:\n",
    "                    model.eval() # 切换到验证模式\n",
    "                    val_loss = evaluating(model, val_loader, loss_fct)\n",
    "                    record_dict[\"val\"].append({\n",
    "                        \"loss\": val_loss, \"step\": global_step\n",
    "                    })\n",
    "                    model.train() # 切换到训练模式\n",
    "\n",
    "                    # 1. 使用 tensorboard 可视化\n",
    "                    if tensorboard_callback is not None:\n",
    "                        tensorboard_callback(\n",
    "                            global_step,\n",
    "                            loss=loss, val_loss=val_loss,\n",
    "                            lr=optimizer.param_groups[0][\"lr\"],\n",
    "                            )\n",
    "\n",
    "                    # 2. 保存模型权重 save model checkpoint\n",
    "                    if save_ckpt_callback is not None:\n",
    "                        save_ckpt_callback(global_step, model.state_dict(), metric=-val_loss)\n",
    "\n",
    "                    # 3. 早停 Early Stop\n",
    "                    if early_stop_callback is not None:\n",
    "                        early_stop_callback(-val_loss)\n",
    "                        if early_stop_callback.early_stop:\n",
    "                            print(f\"Early stop at epoch {epoch_id} / global_step {global_step}\")\n",
    "                            return record_dict\n",
    "\n",
    "                # udate step\n",
    "                global_step += 1\n",
    "                pbar.update(1)\n",
    "            pbar.set_postfix({\"epoch\": epoch_id, \"loss\": loss, \"val_loss\": val_loss}) # 更新进度条\n",
    "\n",
    "    return record_dict"
   ]
  },
  {
   "cell_type": "code",
   "execution_count": 30,
   "id": "7a3194aad915b68d",
   "metadata": {
    "execution": {
     "iopub.execute_input": "2025-01-31T04:18:08.215807Z",
     "iopub.status.busy": "2025-01-31T04:18:08.215668Z",
     "iopub.status.idle": "2025-01-31T04:18:09.954407Z",
     "shell.execute_reply": "2025-01-31T04:18:09.953943Z",
     "shell.execute_reply.started": "2025-01-31T04:18:08.215793Z"
    }
   },
   "outputs": [],
   "source": [
    "epoch = 20\n",
    "batch_size = 64\n",
    "\n",
    "model = Sequence2Sequence(src_vocab_size=len(src_word2idx), trg_vocab_size=len(trg_word2idx))\n",
    "train_dl = DataLoader(train_ds, batch_size=batch_size, shuffle=True, collate_fn=collate_fct)\n",
    "test_dl = DataLoader(test_ds, batch_size=batch_size, shuffle=False, collate_fn=collate_fct)\n",
    "\n",
    "# 1. 定义损失函数 采用交叉熵损失\n",
    "loss_fct = cross_entropy_with_padding\n",
    "# 2. 定义优化器 采用 adam\n",
    "# Optimizers specified in the torch.optim package\n",
    "optimizer = torch.optim.Adam(model.parameters(), lr=0.001)\n",
    "\n",
    "# 1. tensorboard 可视化\n",
    "if not os.path.exists(\"runs\"):\n",
    "    os.mkdir(\"runs\")\n",
    "exp_name = \"translate-seq2seq\"\n",
    "tensorboard_callback = TensorBoardCallback(f\"runs/{exp_name}\")\n",
    "# tensorboard_callback.draw_model(model, [1, MAX_LENGTH])\n",
    "# 2. save best\n",
    "if not os.path.exists(\"checkpoints\"):\n",
    "    os.makedirs(\"checkpoints\")\n",
    "save_ckpt_callback = SaveCheckpointsCallback(\n",
    "    f\"checkpoints/{exp_name}\", save_step=200, save_best_only=True)\n",
    "# 3. early stop\n",
    "early_stop_callback = EarlyStopCallback(patience=5)"
   ]
  },
  {
   "cell_type": "code",
   "execution_count": 31,
   "id": "40c7ec9d198da8cb",
   "metadata": {
    "execution": {
     "iopub.execute_input": "2025-01-31T04:18:09.955326Z",
     "iopub.status.busy": "2025-01-31T04:18:09.954952Z",
     "iopub.status.idle": "2025-01-31T04:27:16.630833Z",
     "shell.execute_reply": "2025-01-31T04:27:16.630389Z",
     "shell.execute_reply.started": "2025-01-31T04:18:09.955308Z"
    }
   },
   "outputs": [
    {
     "name": "stderr",
     "output_type": "stream",
     "text": [
      " 23%|██▎       | 7599/33420 [09:06<30:57, 13.90it/s, epoch=3, loss=1.57, val_loss=1.25]  "
     ]
    },
    {
     "name": "stdout",
     "output_type": "stream",
     "text": [
      "Early stop at epoch 4 / global_step 7600\n"
     ]
    },
    {
     "name": "stderr",
     "output_type": "stream",
     "text": [
      "\n"
     ]
    }
   ],
   "source": [
    "model = model.to(device)\n",
    "record = training(\n",
    "    model,\n",
    "    train_dl,\n",
    "    test_dl,\n",
    "    epoch,\n",
    "    loss_fct,\n",
    "    optimizer,\n",
    "    tensorboard_callback=None,\n",
    "    save_ckpt_callback=save_ckpt_callback,\n",
    "    early_stop_callback=early_stop_callback,\n",
    "    eval_step=200\n",
    "    )"
   ]
  },
  {
   "cell_type": "code",
   "execution_count": 32,
   "id": "2585c9cd31bc60de",
   "metadata": {
    "execution": {
     "iopub.execute_input": "2025-01-31T04:27:16.631900Z",
     "iopub.status.busy": "2025-01-31T04:27:16.631497Z",
     "iopub.status.idle": "2025-01-31T04:27:16.635088Z",
     "shell.execute_reply": "2025-01-31T04:27:16.634617Z",
     "shell.execute_reply.started": "2025-01-31T04:27:16.631883Z"
    }
   },
   "outputs": [
    {
     "data": {
      "text/plain": [
       "35187904"
      ]
     },
     "execution_count": 32,
     "metadata": {},
     "output_type": "execute_result"
    }
   ],
   "source": [
    "#计算模型参数量\n",
    "sum(i[1].numel() for i in model.named_parameters())"
   ]
  },
  {
   "cell_type": "code",
   "execution_count": 33,
   "id": "51d5f3b56deb550c",
   "metadata": {
    "execution": {
     "iopub.execute_input": "2025-01-31T04:27:16.635748Z",
     "iopub.status.busy": "2025-01-31T04:27:16.635587Z",
     "iopub.status.idle": "2025-01-31T04:27:16.638723Z",
     "shell.execute_reply": "2025-01-31T04:27:16.638281Z",
     "shell.execute_reply.started": "2025-01-31T04:27:16.635732Z"
    }
   },
   "outputs": [
    {
     "data": {
      "text/plain": [
       "1676.0"
      ]
     },
     "execution_count": 33,
     "metadata": {},
     "output_type": "execute_result"
    }
   ],
   "source": [
    "33520/20"
   ]
  },
  {
   "cell_type": "code",
   "execution_count": 34,
   "id": "ce36e840808bda20",
   "metadata": {
    "execution": {
     "iopub.execute_input": "2025-01-31T04:27:16.639372Z",
     "iopub.status.busy": "2025-01-31T04:27:16.639190Z",
     "iopub.status.idle": "2025-01-31T04:27:16.642265Z",
     "shell.execute_reply": "2025-01-31T04:27:16.641819Z",
     "shell.execute_reply.started": "2025-01-31T04:27:16.639356Z"
    }
   },
   "outputs": [
    {
     "data": {
      "text/plain": [
       "1672.93125"
      ]
     },
     "execution_count": 34,
     "metadata": {},
     "output_type": "execute_result"
    }
   ],
   "source": [
    "118964*0.9/64"
   ]
  },
  {
   "cell_type": "code",
   "execution_count": 35,
   "id": "e1a57a1b5709014b",
   "metadata": {
    "execution": {
     "iopub.execute_input": "2025-01-31T04:27:16.642881Z",
     "iopub.status.busy": "2025-01-31T04:27:16.642698Z",
     "iopub.status.idle": "2025-01-31T04:27:16.645775Z",
     "shell.execute_reply": "2025-01-31T04:27:16.645390Z",
     "shell.execute_reply.started": "2025-01-31T04:27:16.642866Z"
    }
   },
   "outputs": [
    {
     "data": {
      "text/plain": [
       "{'loss': 1.0774604082107544, 'step': 7600}"
      ]
     },
     "execution_count": 35,
     "metadata": {},
     "output_type": "execute_result"
    }
   ],
   "source": [
    "record[\"train\"][-1]"
   ]
  },
  {
   "cell_type": "code",
   "execution_count": 36,
   "id": "7b0a4dc73decd4e0",
   "metadata": {
    "execution": {
     "iopub.execute_input": "2025-01-31T04:27:16.646415Z",
     "iopub.status.busy": "2025-01-31T04:27:16.646233Z",
     "iopub.status.idle": "2025-01-31T04:27:16.761969Z",
     "shell.execute_reply": "2025-01-31T04:27:16.761521Z",
     "shell.execute_reply.started": "2025-01-31T04:27:16.646395Z"
    }
   },
   "outputs": [
    {
     "data": {
      "image/png": "[encoded data removed]",
      "text/plain": [
       "<Figure size 640x480 with 1 Axes>"
      ]
     },
     "metadata": {},
     "output_type": "display_data"
    }
   ],
   "source": [
    "plt.plot([i[\"step\"] for i in record[\"train\"]], [i[\"loss\"] for i in record[\"train\"]], label=\"train\")\n",
    "plt.plot([i[\"step\"] for i in record[\"val\"]], [i[\"loss\"] for i in record[\"val\"]], label=\"val\")\n",
    "plt.grid()\n",
    "plt.show()"
   ]
  },
  {
   "cell_type": "markdown",
   "id": "5b808d272be4f923",
   "metadata": {},
   "source": [
    "推理\n",
    "\n",
    "- 接下来进行翻译推理，并作出注意力的热度图"
   ]
  },
  {
   "cell_type": "code",
   "execution_count": 38,
   "id": "f3cc7b01173b7939",
   "metadata": {
    "ExecutionIndicator": {
     "show": true
    },
    "execution": {
     "iopub.execute_input": "2025-01-31T04:48:07.306378Z",
     "iopub.status.busy": "2025-01-31T04:48:07.306060Z",
     "iopub.status.idle": "2025-01-31T04:48:07.559790Z",
     "shell.execute_reply": "2025-01-31T04:48:07.559316Z",
     "shell.execute_reply.started": "2025-01-31T04:48:07.306358Z"
    },
    "tags": []
   },
   "outputs": [],
   "source": [
    "# load checkpoints,如何上线\n",
    "model = Sequence2Sequence(len(src_word2idx), len(trg_word2idx))\n",
    "model.load_state_dict(torch.load(f\"./checkpoints/translate-seq2seq/best.ckpt\", weights_only=True,map_location=\"cpu\"))\n",
    "\n",
    "class Translator:\n",
    "    def __init__(self, model, src_tokenizer, trg_tokenizer):\n",
    "        self.model = model\n",
    "        self.model.eval() # 切换到验证模式\n",
    "        self.src_tokenizer = src_tokenizer\n",
    "        self.trg_tokenizer = trg_tokenizer\n",
    "\n",
    "    def draw_attention_map(self, scores, src_words_list, trg_words_list):\n",
    "        \"\"\"绘制注意力热力图\n",
    "\n",
    "        Args:\n",
    "            - scores (numpy.ndarray): shape = [source sequence length, target sequence length]\n",
    "        \"\"\"\n",
    "        plt.matshow(scores.T, cmap='viridis') # 注意力矩阵,显示注意力分数值\n",
    "        # 获取当前的轴\n",
    "        ax = plt.gca()\n",
    "\n",
    "        # 设置热图中每个单元格的分数的文本\n",
    "        for i in range(scores.shape[0]): #输入\n",
    "            for j in range(scores.shape[1]): #输出\n",
    "                ax.text(j, i, f'{scores[i, j]:.2f}',  # 格式化数字显示\n",
    "                               ha='center', va='center', color='k')\n",
    "\n",
    "        plt.xticks(range(scores.shape[0]), src_words_list)\n",
    "        plt.yticks(range(scores.shape[1]), trg_words_list)\n",
    "        plt.show()\n",
    "\n",
    "    def __call__(self, sentence):\n",
    "        sentence = preprocess_sentence(sentence) # 预处理句子，标点符号处理等\n",
    "        encoder_input, attn_mask = self.src_tokenizer.encode(\n",
    "            [sentence.split()],\n",
    "            padding_first=True,\n",
    "            add_bos=True,\n",
    "            add_eos=True,\n",
    "            return_mask=True,\n",
    "            ) # 对输入进行编码，并返回encode_piadding_mask\n",
    "        encoder_input = torch.Tensor(encoder_input).to(dtype=torch.int64) # 转换成tensor\n",
    "\n",
    "        preds, scores = model.infer(encoder_input=encoder_input, attn_mask=attn_mask) #预测\n",
    "\n",
    "        trg_sentence = self.trg_tokenizer.decode([preds], split=True, remove_eos=False)[0] #通过tokenizer转换成文字\n",
    "\n",
    "        src_decoded = self.src_tokenizer.decode(\n",
    "            encoder_input.tolist(),\n",
    "            split=True,\n",
    "            remove_bos=False,\n",
    "            remove_eos=False\n",
    "            )[0] #对输入编码id进行解码，转换成文字,为了画图\n",
    "\n",
    "        self.draw_attention_map(\n",
    "            scores.squeeze(0).numpy(),\n",
    "            src_decoded, # 注意力图的源句子\n",
    "            trg_sentence # 注意力图的目标句子\n",
    "            )\n",
    "        return \" \".join(trg_sentence[:-1])"
   ]
  },
  {
   "cell_type": "code",
   "execution_count": 39,
   "id": "9281d25d749bc68f",
   "metadata": {
    "execution": {
     "iopub.execute_input": "2025-01-31T04:48:10.701892Z",
     "iopub.status.busy": "2025-01-31T04:48:10.701572Z",
     "iopub.status.idle": "2025-01-31T04:48:10.830204Z",
     "shell.execute_reply": "2025-01-31T04:48:10.829781Z",
     "shell.execute_reply.started": "2025-01-31T04:48:10.701872Z"
    },
    "tags": []
   },
   "outputs": [
    {
     "data": {
      "image/png": "[encoded data removed]",
      "text/plain": [
       "<Figure size 480x480 with 1 Axes>"
      ]
     },
     "metadata": {},
     "output_type": "display_data"
    },
    {
     "data": {
      "text/plain": [
       "'it s very cold here .'"
      ]
     },
     "execution_count": 39,
     "metadata": {},
     "output_type": "execute_result"
    }
   ],
   "source": [
    "translator = Translator(model.cpu(), src_tokenizer, trg_tokenizer)\n",
    "translator(u'hace mucho frio aqui .')"
   ]
  },
  {
   "cell_type": "code",
   "execution_count": 40,
   "id": "8a84fa1a823fc6c2",
   "metadata": {
    "execution": {
     "iopub.execute_input": "2025-01-31T04:48:15.019027Z",
     "iopub.status.busy": "2025-01-31T04:48:15.018697Z",
     "iopub.status.idle": "2025-01-31T04:48:15.151241Z",
     "shell.execute_reply": "2025-01-31T04:48:15.150750Z",
     "shell.execute_reply.started": "2025-01-31T04:48:15.019008Z"
    }
   },
   "outputs": [
    {
     "data": {
      "image/png": "[encoded data removed]",
      "text/plain": [
       "<Figure size 548.571x480 with 1 Axes>"
      ]
     },
     "metadata": {},
     "output_type": "display_data"
    },
    {
     "data": {
      "text/plain": [
       "'today is a good day .'"
      ]
     },
     "execution_count": 40,
     "metadata": {},
     "output_type": "execute_result"
    }
   ],
   "source": [
    "translator(u'Hoy es un buen día.')"
   ]
  },
  {
   "cell_type": "code",
   "execution_count": 42,
   "id": "48f693e3c2bf16ed",
   "metadata": {
    "execution": {
     "iopub.execute_input": "2025-01-31T04:49:39.064757Z",
     "iopub.status.busy": "2025-01-31T04:49:39.064441Z",
     "iopub.status.idle": "2025-01-31T04:56:05.419017Z",
     "shell.execute_reply": "2025-01-31T04:56:05.418553Z",
     "shell.execute_reply.started": "2025-01-31T04:49:39.064737Z"
    },
    "tags": []
   },
   "outputs": [
    {
     "data": {
      "text/plain": [
       "0.69637614476965"
      ]
     },
     "execution_count": 42,
     "metadata": {},
     "output_type": "execute_result"
    }
   ],
   "source": [
    "model = Sequence2Sequence(len(src_word2idx), len(trg_word2idx))\n",
    "model.load_state_dict(torch.load(f\"./checkpoints/translate-seq2seq/best.ckpt\", map_location=\"cpu\" ,weights_only=True))\n",
    "\n",
    "class Translator:\n",
    "    def __init__(self, model, src_tokenizer, trg_tokenizer):\n",
    "        self.model = model\n",
    "        self.model.eval() # 切换到验证模式\n",
    "        self.src_tokenizer = src_tokenizer\n",
    "        self.trg_tokenizer = trg_tokenizer\n",
    "\n",
    "    def __call__(self, sentence):\n",
    "        sentence = preprocess_sentence(sentence) # 预处理句子，标点符号处理等\n",
    "        encoder_input, attn_mask = self.src_tokenizer.encode(\n",
    "            [sentence.split()],\n",
    "            padding_first=True,\n",
    "            add_bos=True,\n",
    "            add_eos=True,\n",
    "            return_mask=True,\n",
    "            ) # 对输入进行编码，并返回encode_piadding_mask\n",
    "        encoder_input = torch.Tensor(encoder_input).to(dtype=torch.int64) # 转换成tensor\n",
    "\n",
    "        preds, scores = model.infer(encoder_input=encoder_input, attn_mask=attn_mask) #预测\n",
    "\n",
    "        trg_sentence = self.trg_tokenizer.decode([preds], split=True, remove_eos=False)[0] #通过tokenizer转换成文字\n",
    "\n",
    "        return \" \".join(trg_sentence[:-1])\n",
    "\n",
    "from nltk.translate.bleu_score import sentence_bleu\n",
    "\n",
    "def evaluate_bleu_on_test_set(test_data, translator):\n",
    "    \"\"\"\n",
    "    在测试集上计算平均 BLEU 分数。\n",
    "    :param test_data: 测试集数据，格式为 [(src_sentence, [ref_translation1, ref_translation2, ...]), ...]\n",
    "    :param translator: 翻译器对象（Translator 类的实例）\n",
    "    :return: 平均 BLEU 分数\n",
    "    \"\"\"\n",
    "    total_bleu = 0.0\n",
    "    num_samples = len(test_data)\n",
    "    i=0\n",
    "    for src_sentence, ref_translations in test_data:\n",
    "        # 使用翻译器生成翻译结果\n",
    "        candidate_translation = translator(src_sentence)\n",
    "\n",
    "        # 计算 BLEU 分数\n",
    "        bleu_score = sentence_bleu([ref_translations.split()], candidate_translation.split(),weights=(1, 0, 0, 0))\n",
    "        total_bleu += bleu_score\n",
    "\n",
    "        # 打印当前句子的 BLEU 分数（可选）\n",
    "        # print(f\"Source: {src_sentence}\")\n",
    "        # print(f\"Reference: {ref_translations}\")\n",
    "        # print(f\"Candidate: {candidate_translation}\")\n",
    "        # print(f\"BLEU: {bleu_score:.4f}\")\n",
    "        # print(\"-\" * 50)\n",
    "        # i+=1\n",
    "        # if i>10:\n",
    "        #     break\n",
    "    # 计算平均 BLEU 分数\n",
    "    avg_bleu = total_bleu / num_samples\n",
    "    return avg_bleu\n",
    "translator = Translator(model.cpu(), src_tokenizer, trg_tokenizer)\n",
    "evaluate_bleu_on_test_set(test_ds, translator)"
   ]
  }
 ],
 "metadata": {
  "kernelspec": {
   "display_name": "Python 3 (ipykernel)",
   "language": "python",
   "name": "python3"
  },
  "language_info": {
   "codemirror_mode": {
    "name": "ipython",
    "version": 3
   },
   "file_extension": ".py",
   "mimetype": "text/x-python",
   "name": "python",
   "nbconvert_exporter": "python",
   "pygments_lexer": "ipython3",
   "version": "3.10.14"
  }
 },
 "nbformat": 4,
 "nbformat_minor": 5
}
