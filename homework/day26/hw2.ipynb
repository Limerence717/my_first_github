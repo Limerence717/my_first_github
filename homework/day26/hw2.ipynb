{
 "cells": [
  {
   "cell_type": "markdown",
   "id": "82342006e224a6b9",
   "metadata": {},
   "source": [
    "### homework2：练习rnn的电影情感分类预测"
   ]
  },
  {
   "cell_type": "code",
   "execution_count": 1,
   "id": "initial_id",
   "metadata": {
    "execution": {
     "iopub.execute_input": "2025-01-23T10:40:33.494191Z",
     "iopub.status.busy": "2025-01-23T10:40:33.493967Z",
     "iopub.status.idle": "2025-01-23T10:40:35.457269Z",
     "shell.execute_reply": "2025-01-23T10:40:35.456820Z",
     "shell.execute_reply.started": "2025-01-23T10:40:33.494170Z"
    }
   },
   "outputs": [
    {
     "name": "stderr",
     "output_type": "stream",
     "text": [
      "/usr/local/lib/python3.10/site-packages/tqdm/auto.py:21: TqdmWarning: IProgress not found. Please update jupyter and ipywidgets. See https://ipywidgets.readthedocs.io/en/stable/user_install.html\n",
      "  from .autonotebook import tqdm as notebook_tqdm\n"
     ]
    },
    {
     "name": "stdout",
     "output_type": "stream",
     "text": [
      "sys.version_info(major=3, minor=10, micro=14, releaselevel='final', serial=0)\n",
      "matplotlib 3.10.0\n",
      "numpy 1.26.4\n",
      "pandas 2.2.3\n",
      "sklearn 1.6.0\n",
      "torch 2.5.1+cu124\n",
      "cuda:0\n"
     ]
    }
   ],
   "source": [
    "import matplotlib as mpl\n",
    "import matplotlib.pyplot as plt\n",
    "%matplotlib inline\n",
    "import numpy as np\n",
    "import sklearn\n",
    "import pandas as pd\n",
    "import os\n",
    "import sys\n",
    "import time\n",
    "from tqdm.auto import tqdm\n",
    "import torch\n",
    "import torch.nn as nn\n",
    "import torch.nn.functional as F\n",
    "\n",
    "print(sys.version_info)\n",
    "for module in mpl, np, pd, sklearn, torch:\n",
    "    print(module.__name__, module.__version__)\n",
    "\n",
    "device = torch.device(\"cuda:0\") if torch.cuda.is_available() else torch.device(\"cpu\")\n",
    "print(device)\n",
    "\n",
    "seed = 42\n",
    "torch.manual_seed(seed)\n",
    "torch.cuda.manual_seed_all(seed)"
   ]
  },
  {
   "cell_type": "markdown",
   "id": "483daa59ab9439c8",
   "metadata": {},
   "source": [
    "准备数据"
   ]
  },
  {
   "cell_type": "code",
   "execution_count": 2,
   "id": "379cfbacef2cfa5f",
   "metadata": {
    "ExecutionIndicator": {
     "show": true
    },
    "execution": {
     "iopub.execute_input": "2025-01-23T10:40:35.458690Z",
     "iopub.status.busy": "2025-01-23T10:40:35.458221Z",
     "iopub.status.idle": "2025-01-23T10:40:35.460877Z",
     "shell.execute_reply": "2025-01-23T10:40:35.460387Z",
     "shell.execute_reply.started": "2025-01-23T10:40:35.458651Z"
    },
    "tags": []
   },
   "outputs": [],
   "source": [
    "# !pip install tensorflow"
   ]
  },
  {
   "cell_type": "code",
   "execution_count": 3,
   "id": "68611ce8aa10b0aa",
   "metadata": {
    "execution": {
     "iopub.execute_input": "2025-01-23T10:40:35.461485Z",
     "iopub.status.busy": "2025-01-23T10:40:35.461343Z",
     "iopub.status.idle": "2025-01-23T10:40:39.358171Z",
     "shell.execute_reply": "2025-01-23T10:40:39.357676Z",
     "shell.execute_reply.started": "2025-01-23T10:40:35.461471Z"
    }
   },
   "outputs": [
    {
     "name": "stderr",
     "output_type": "stream",
     "text": [
      "2025-01-23 18:40:35.612130: I tensorflow/core/util/port.cc:153] oneDNN custom operations are on. You may see slightly different numerical results due to floating-point round-off errors from different computation orders. To turn them off, set the environment variable `TF_ENABLE_ONEDNN_OPTS=0`.\n",
      "2025-01-23 18:40:35.623750: E external/local_xla/xla/stream_executor/cuda/cuda_fft.cc:477] Unable to register cuFFT factory: Attempting to register factory for plugin cuFFT when one has already been registered\n",
      "WARNING: All log messages before absl::InitializeLog() is called are written to STDERR\n",
      "E0000 00:00:1737628835.637970    3293 cuda_dnn.cc:8310] Unable to register cuDNN factory: Attempting to register factory for plugin cuDNN when one has already been registered\n",
      "E0000 00:00:1737628835.642308    3293 cuda_blas.cc:1418] Unable to register cuBLAS factory: Attempting to register factory for plugin cuBLAS when one has already been registered\n",
      "2025-01-23 18:40:35.657076: I tensorflow/core/platform/cpu_feature_guard.cc:210] This TensorFlow binary is optimized to use available CPU instructions in performance-critical operations.\n",
      "To enable the following instructions: AVX2 AVX512F AVX512_VNNI FMA, in other operations, rebuild TensorFlow with the appropriate compiler flags.\n"
     ]
    }
   ],
   "source": [
    "from tensorflow import keras\n",
    "\n",
    "#用karas有的数据集imdb，电影分类,分电影是积极的，还是消极的\n",
    "imdb = keras.datasets.imdb\n",
    "#载入数据使用下面两个参数\n",
    "vocab_size = 10000  #词典大小，仅保留训练数据中前10000个最经常出现的单词，低频单词被舍弃\n",
    "index_from = 3  #0,1,2,3空出来做别的事\n",
    "#前一万个词出现词频最高的会保留下来进行处理，后面的作为特殊字符处理，\n",
    "# 小于3的id都是特殊字符，下面代码有写\n",
    "# 需要注意的一点是取出来的词表还是从1开始的，需要做处理\n",
    "(train_data, train_labels), (test_data, test_labels) = imdb.load_data(\n",
    "    num_words=vocab_size, index_from=index_from)"
   ]
  },
  {
   "cell_type": "code",
   "execution_count": 4,
   "id": "46e7088a8eb46409",
   "metadata": {
    "execution": {
     "iopub.execute_input": "2025-01-23T10:40:39.359507Z",
     "iopub.status.busy": "2025-01-23T10:40:39.359127Z",
     "iopub.status.idle": "2025-01-23T10:40:39.363033Z",
     "shell.execute_reply": "2025-01-23T10:40:39.362673Z",
     "shell.execute_reply.started": "2025-01-23T10:40:39.359489Z"
    }
   },
   "outputs": [
    {
     "data": {
      "text/plain": [
       "numpy.ndarray"
      ]
     },
     "execution_count": 4,
     "metadata": {},
     "output_type": "execute_result"
    }
   ],
   "source": [
    "type(train_labels)"
   ]
  },
  {
   "cell_type": "code",
   "execution_count": 5,
   "id": "f00c4623e0fcbd94",
   "metadata": {
    "execution": {
     "iopub.execute_input": "2025-01-23T10:40:39.363819Z",
     "iopub.status.busy": "2025-01-23T10:40:39.363497Z",
     "iopub.status.idle": "2025-01-23T10:40:39.366511Z",
     "shell.execute_reply": "2025-01-23T10:40:39.366154Z",
     "shell.execute_reply.started": "2025-01-23T10:40:39.363804Z"
    }
   },
   "outputs": [
    {
     "data": {
      "text/plain": [
       "numpy.ndarray"
      ]
     },
     "execution_count": 5,
     "metadata": {},
     "output_type": "execute_result"
    }
   ],
   "source": [
    "type(train_data)"
   ]
  },
  {
   "cell_type": "code",
   "execution_count": 6,
   "id": "28b62f44e36f1f81",
   "metadata": {
    "execution": {
     "iopub.execute_input": "2025-01-23T10:40:39.367255Z",
     "iopub.status.busy": "2025-01-23T10:40:39.366948Z",
     "iopub.status.idle": "2025-01-23T10:40:39.369839Z",
     "shell.execute_reply": "2025-01-23T10:40:39.369491Z",
     "shell.execute_reply.started": "2025-01-23T10:40:39.367240Z"
    }
   },
   "outputs": [
    {
     "data": {
      "text/plain": [
       "(25000,)"
      ]
     },
     "execution_count": 6,
     "metadata": {},
     "output_type": "execute_result"
    }
   ],
   "source": [
    "train_data.shape  #每个样本是一段话，每个单词用一个数字表示"
   ]
  },
  {
   "cell_type": "code",
   "execution_count": 7,
   "id": "ba7e1e3e1c4442a2",
   "metadata": {
    "execution": {
     "iopub.execute_input": "2025-01-23T10:40:39.371527Z",
     "iopub.status.busy": "2025-01-23T10:40:39.371211Z",
     "iopub.status.idle": "2025-01-23T10:40:39.374162Z",
     "shell.execute_reply": "2025-01-23T10:40:39.373769Z",
     "shell.execute_reply.started": "2025-01-23T10:40:39.371512Z"
    }
   },
   "outputs": [
    {
     "data": {
      "text/plain": [
       "list"
      ]
     },
     "execution_count": 7,
     "metadata": {},
     "output_type": "execute_result"
    }
   ],
   "source": [
    "type(train_data[0])"
   ]
  },
  {
   "cell_type": "code",
   "execution_count": 8,
   "id": "6c5c3cf8f379a661",
   "metadata": {
    "execution": {
     "iopub.execute_input": "2025-01-23T10:40:39.374919Z",
     "iopub.status.busy": "2025-01-23T10:40:39.374578Z",
     "iopub.status.idle": "2025-01-23T10:40:39.379156Z",
     "shell.execute_reply": "2025-01-23T10:40:39.378789Z",
     "shell.execute_reply.started": "2025-01-23T10:40:39.374904Z"
    }
   },
   "outputs": [
    {
     "data": {
      "text/plain": [
       "[1,\n",
       " 14,\n",
       " 22,\n",
       " 16,\n",
       " 43,\n",
       " 530,\n",
       " 973,\n",
       " 1622,\n",
       " 1385,\n",
       " 65,\n",
       " 458,\n",
       " 4468,\n",
       " 66,\n",
       " 3941,\n",
       " 4,\n",
       " 173,\n",
       " 36,\n",
       " 256,\n",
       " 5,\n",
       " 25,\n",
       " 100,\n",
       " 43,\n",
       " 838,\n",
       " 112,\n",
       " 50,\n",
       " 670,\n",
       " 2,\n",
       " 9,\n",
       " 35,\n",
       " 480,\n",
       " 284,\n",
       " 5,\n",
       " 150,\n",
       " 4,\n",
       " 172,\n",
       " 112,\n",
       " 167,\n",
       " 2,\n",
       " 336,\n",
       " 385,\n",
       " 39,\n",
       " 4,\n",
       " 172,\n",
       " 4536,\n",
       " 1111,\n",
       " 17,\n",
       " 546,\n",
       " 38,\n",
       " 13,\n",
       " 447,\n",
       " 4,\n",
       " 192,\n",
       " 50,\n",
       " 16,\n",
       " 6,\n",
       " 147,\n",
       " 2025,\n",
       " 19,\n",
       " 14,\n",
       " 22,\n",
       " 4,\n",
       " 1920,\n",
       " 4613,\n",
       " 469,\n",
       " 4,\n",
       " 22,\n",
       " 71,\n",
       " 87,\n",
       " 12,\n",
       " 16,\n",
       " 43,\n",
       " 530,\n",
       " 38,\n",
       " 76,\n",
       " 15,\n",
       " 13,\n",
       " 1247,\n",
       " 4,\n",
       " 22,\n",
       " 17,\n",
       " 515,\n",
       " 17,\n",
       " 12,\n",
       " 16,\n",
       " 626,\n",
       " 18,\n",
       " 2,\n",
       " 5,\n",
       " 62,\n",
       " 386,\n",
       " 12,\n",
       " 8,\n",
       " 316,\n",
       " 8,\n",
       " 106,\n",
       " 5,\n",
       " 4,\n",
       " 2223,\n",
       " 5244,\n",
       " 16,\n",
       " 480,\n",
       " 66,\n",
       " 3785,\n",
       " 33,\n",
       " 4,\n",
       " 130,\n",
       " 12,\n",
       " 16,\n",
       " 38,\n",
       " 619,\n",
       " 5,\n",
       " 25,\n",
       " 124,\n",
       " 51,\n",
       " 36,\n",
       " 135,\n",
       " 48,\n",
       " 25,\n",
       " 1415,\n",
       " 33,\n",
       " 6,\n",
       " 22,\n",
       " 12,\n",
       " 215,\n",
       " 28,\n",
       " 77,\n",
       " 52,\n",
       " 5,\n",
       " 14,\n",
       " 407,\n",
       " 16,\n",
       " 82,\n",
       " 2,\n",
       " 8,\n",
       " 4,\n",
       " 107,\n",
       " 117,\n",
       " 5952,\n",
       " 15,\n",
       " 256,\n",
       " 4,\n",
       " 2,\n",
       " 7,\n",
       " 3766,\n",
       " 5,\n",
       " 723,\n",
       " 36,\n",
       " 71,\n",
       " 43,\n",
       " 530,\n",
       " 476,\n",
       " 26,\n",
       " 400,\n",
       " 317,\n",
       " 46,\n",
       " 7,\n",
       " 4,\n",
       " 2,\n",
       " 1029,\n",
       " 13,\n",
       " 104,\n",
       " 88,\n",
       " 4,\n",
       " 381,\n",
       " 15,\n",
       " 297,\n",
       " 98,\n",
       " 32,\n",
       " 2071,\n",
       " 56,\n",
       " 26,\n",
       " 141,\n",
       " 6,\n",
       " 194,\n",
       " 7486,\n",
       " 18,\n",
       " 4,\n",
       " 226,\n",
       " 22,\n",
       " 21,\n",
       " 134,\n",
       " 476,\n",
       " 26,\n",
       " 480,\n",
       " 5,\n",
       " 144,\n",
       " 30,\n",
       " 5535,\n",
       " 18,\n",
       " 51,\n",
       " 36,\n",
       " 28,\n",
       " 224,\n",
       " 92,\n",
       " 25,\n",
       " 104,\n",
       " 4,\n",
       " 226,\n",
       " 65,\n",
       " 16,\n",
       " 38,\n",
       " 1334,\n",
       " 88,\n",
       " 12,\n",
       " 16,\n",
       " 283,\n",
       " 5,\n",
       " 16,\n",
       " 4472,\n",
       " 113,\n",
       " 103,\n",
       " 32,\n",
       " 15,\n",
       " 16,\n",
       " 5345,\n",
       " 19,\n",
       " 178,\n",
       " 32]"
      ]
     },
     "execution_count": 8,
     "metadata": {},
     "output_type": "execute_result"
    }
   ],
   "source": [
    "train_data[0]"
   ]
  },
  {
   "cell_type": "code",
   "execution_count": 9,
   "id": "a9db8d622ebbc7f6",
   "metadata": {
    "execution": {
     "iopub.execute_input": "2025-01-23T10:40:39.379682Z",
     "iopub.status.busy": "2025-01-23T10:40:39.379537Z",
     "iopub.status.idle": "2025-01-23T10:40:39.382527Z",
     "shell.execute_reply": "2025-01-23T10:40:39.382172Z",
     "shell.execute_reply.started": "2025-01-23T10:40:39.379668Z"
    }
   },
   "outputs": [
    {
     "data": {
      "text/plain": [
       "218"
      ]
     },
     "execution_count": 9,
     "metadata": {},
     "output_type": "execute_result"
    }
   ],
   "source": [
    "len(train_data[0])"
   ]
  },
  {
   "cell_type": "code",
   "execution_count": 10,
   "id": "1335093fc69d1683",
   "metadata": {
    "execution": {
     "iopub.execute_input": "2025-01-23T10:40:39.383116Z",
     "iopub.status.busy": "2025-01-23T10:40:39.382927Z",
     "iopub.status.idle": "2025-01-23T10:40:39.386605Z",
     "shell.execute_reply": "2025-01-23T10:40:39.386263Z",
     "shell.execute_reply.started": "2025-01-23T10:40:39.383102Z"
    }
   },
   "outputs": [
    {
     "data": {
      "text/plain": [
       "189"
      ]
     },
     "execution_count": 10,
     "metadata": {},
     "output_type": "execute_result"
    }
   ],
   "source": [
    "len(train_data[1])"
   ]
  },
  {
   "cell_type": "code",
   "execution_count": 11,
   "id": "3e2b7d64cce5b84c",
   "metadata": {
    "execution": {
     "iopub.execute_input": "2025-01-23T10:40:39.387350Z",
     "iopub.status.busy": "2025-01-23T10:40:39.387025Z",
     "iopub.status.idle": "2025-01-23T10:40:39.390151Z",
     "shell.execute_reply": "2025-01-23T10:40:39.389777Z",
     "shell.execute_reply.started": "2025-01-23T10:40:39.387335Z"
    }
   },
   "outputs": [
    {
     "data": {
      "text/plain": [
       "array([1, 0, 0, 1, 0, 0, 1, 0, 1, 0])"
      ]
     },
     "execution_count": 11,
     "metadata": {},
     "output_type": "execute_result"
    }
   ],
   "source": [
    "train_labels[0:10]  #二分类"
   ]
  },
  {
   "cell_type": "code",
   "execution_count": 12,
   "id": "eb9c9b1d1125fad4",
   "metadata": {
    "execution": {
     "iopub.execute_input": "2025-01-23T10:40:39.390736Z",
     "iopub.status.busy": "2025-01-23T10:40:39.390551Z",
     "iopub.status.idle": "2025-01-23T10:40:39.393281Z",
     "shell.execute_reply": "2025-01-23T10:40:39.392887Z",
     "shell.execute_reply.started": "2025-01-23T10:40:39.390722Z"
    }
   },
   "outputs": [
    {
     "name": "stdout",
     "output_type": "stream",
     "text": [
      "train (25000,) (25000,)\n",
      "test (25000,) (25000,)\n"
     ]
    }
   ],
   "source": [
    "print(\"train\", train_data.shape, train_labels.shape)\n",
    "print(\"test\", test_data.shape, test_labels.shape)"
   ]
  },
  {
   "cell_type": "code",
   "execution_count": 13,
   "id": "b6e3e439db61c014",
   "metadata": {
    "execution": {
     "iopub.execute_input": "2025-01-23T10:40:39.394004Z",
     "iopub.status.busy": "2025-01-23T10:40:39.393707Z",
     "iopub.status.idle": "2025-01-23T10:40:39.433476Z",
     "shell.execute_reply": "2025-01-23T10:40:39.433061Z",
     "shell.execute_reply.started": "2025-01-23T10:40:39.393989Z"
    }
   },
   "outputs": [
    {
     "name": "stdout",
     "output_type": "stream",
     "text": [
      "88584\n",
      "<class 'dict'>\n"
     ]
    }
   ],
   "source": [
    "#载入词表，看下词表长度，词表就像英语字典\n",
    "word_index = imdb.get_word_index()\n",
    "print(len(word_index))\n",
    "print(type(word_index))\n",
    "#词表虽然有8万多，但是我们只载入了最高频的1万词！！！！"
   ]
  },
  {
   "cell_type": "markdown",
   "id": "819ab9f30706d148",
   "metadata": {},
   "source": [
    "构造 word2idx 和 idx2word"
   ]
  },
  {
   "cell_type": "code",
   "execution_count": 14,
   "id": "1067d602bfe1f6b1",
   "metadata": {
    "execution": {
     "iopub.execute_input": "2025-01-23T10:40:39.434300Z",
     "iopub.status.busy": "2025-01-23T10:40:39.433958Z",
     "iopub.status.idle": "2025-01-23T10:40:39.459763Z",
     "shell.execute_reply": "2025-01-23T10:40:39.459239Z",
     "shell.execute_reply.started": "2025-01-23T10:40:39.434285Z"
    }
   },
   "outputs": [],
   "source": [
    "word2idx = {word: idx + 3 for word, idx in word_index.items()}\n",
    "word2idx.update({\n",
    "    \"[PAD]\": 0,  # 填充 token\n",
    "    \"[BOS]\": 1,  # begin of sentence\n",
    "    \"[UNK]\": 2,  # 未知 token\n",
    "    \"[EOS]\": 3,  # end of sentence\n",
    "})\n",
    "\n",
    "idx2word = {idx: word for word, idx in word2idx.items()}"
   ]
  },
  {
   "cell_type": "code",
   "execution_count": 15,
   "id": "d5eb14674439e5c2",
   "metadata": {
    "execution": {
     "iopub.execute_input": "2025-01-23T10:40:39.460578Z",
     "iopub.status.busy": "2025-01-23T10:40:39.460255Z",
     "iopub.status.idle": "2025-01-23T10:40:39.462959Z",
     "shell.execute_reply": "2025-01-23T10:40:39.462517Z",
     "shell.execute_reply.started": "2025-01-23T10:40:39.460562Z"
    }
   },
   "outputs": [
    {
     "name": "stdout",
     "output_type": "stream",
     "text": [
      "4825\n"
     ]
    }
   ],
   "source": [
    "print(word2idx[\"hello\"])"
   ]
  },
  {
   "cell_type": "code",
   "execution_count": 16,
   "id": "5d5d15f76a3ce07a",
   "metadata": {
    "execution": {
     "iopub.execute_input": "2025-01-23T10:40:39.463591Z",
     "iopub.status.busy": "2025-01-23T10:40:39.463391Z",
     "iopub.status.idle": "2025-01-23T10:40:39.466362Z",
     "shell.execute_reply": "2025-01-23T10:40:39.465991Z",
     "shell.execute_reply.started": "2025-01-23T10:40:39.463577Z"
    }
   },
   "outputs": [
    {
     "data": {
      "text/plain": [
       "'the'"
      ]
     },
     "execution_count": 16,
     "metadata": {},
     "output_type": "execute_result"
    }
   ],
   "source": "idx2word[4]"
  },
  {
   "cell_type": "code",
   "execution_count": 17,
   "id": "ec1937f937cee982",
   "metadata": {
    "execution": {
     "iopub.execute_input": "2025-01-23T10:40:39.467012Z",
     "iopub.status.busy": "2025-01-23T10:40:39.466787Z",
     "iopub.status.idle": "2025-01-23T10:40:40.300339Z",
     "shell.execute_reply": "2025-01-23T10:40:40.299888Z",
     "shell.execute_reply.started": "2025-01-23T10:40:39.466998Z"
    }
   },
   "outputs": [
    {
     "data": {
      "image/png": "[encoded data removed]",
      "text/plain": [
       "<Figure size 640x480 with 1 Axes>"
      ]
     },
     "metadata": {},
     "output_type": "display_data"
    }
   ],
   "source": [
    "# 选择 max_length\n",
    "length_collect = {}\n",
    "for text in train_data:\n",
    "    length = len(text)\n",
    "    length_collect[length] = length_collect.get(length, 0) + 1\n",
    "\n",
    "MAX_LENGTH = 500\n",
    "plt.bar(length_collect.keys(), length_collect.values())\n",
    "plt.axvline(MAX_LENGTH, label=\"max length\", c=\"gray\", ls=\":\")\n",
    "plt.legend()\n",
    "plt.show()"
   ]
  },
  {
   "cell_type": "code",
   "execution_count": 18,
   "id": "a430bfbb011e96f0",
   "metadata": {
    "execution": {
     "iopub.execute_input": "2025-01-23T10:40:40.300996Z",
     "iopub.status.busy": "2025-01-23T10:40:40.300841Z",
     "iopub.status.idle": "2025-01-23T10:40:40.458394Z",
     "shell.execute_reply": "2025-01-23T10:40:40.457791Z",
     "shell.execute_reply.started": "2025-01-23T10:40:40.300981Z"
    }
   },
   "outputs": [
    {
     "data": {
      "image/png": "[encoded data removed]",
      "text/plain": [
       "<Figure size 640x480 with 1 Axes>"
      ]
     },
     "metadata": {},
     "output_type": "display_data"
    }
   ],
   "source": [
    "#想对句子长度画个直方图，看看长度分布\n",
    "length_list = [len(text) for text in train_data]\n",
    "plt.hist(length_list, bins=50)\n",
    "plt.xlabel(\"length\")\n",
    "plt.ylabel(\"frequency\")\n",
    "plt.axvline(MAX_LENGTH, label=\"max length\", c=\"gray\", ls=\":\")\n",
    "plt.legend()\n",
    "plt.show()"
   ]
  },
  {
   "cell_type": "code",
   "execution_count": 19,
   "id": "cc2be3559f888a1d",
   "metadata": {
    "execution": {
     "iopub.execute_input": "2025-01-23T10:40:40.459133Z",
     "iopub.status.busy": "2025-01-23T10:40:40.458961Z",
     "iopub.status.idle": "2025-01-23T10:40:40.463035Z",
     "shell.execute_reply": "2025-01-23T10:40:40.462491Z",
     "shell.execute_reply.started": "2025-01-23T10:40:40.459116Z"
    }
   },
   "outputs": [
    {
     "data": {
      "text/plain": [
       "[218, 189, 141, 550, 147, 43, 123, 562, 233, 130]"
      ]
     },
     "execution_count": 19,
     "metadata": {},
     "output_type": "execute_result"
    }
   ],
   "source": [
    "length_list[0:10]"
   ]
  },
  {
   "cell_type": "code",
   "execution_count": 20,
   "id": "aa6185ca085231f0",
   "metadata": {
    "execution": {
     "iopub.execute_input": "2025-01-23T10:40:40.464094Z",
     "iopub.status.busy": "2025-01-23T10:40:40.463714Z",
     "iopub.status.idle": "2025-01-23T10:40:40.468473Z",
     "shell.execute_reply": "2025-01-23T10:40:40.467947Z",
     "shell.execute_reply.started": "2025-01-23T10:40:40.464066Z"
    }
   },
   "outputs": [
    {
     "data": {
      "text/plain": [
       "[['hello', 'world'],\n",
       " ['tokenize', 'text', 'datas', 'with', 'batch'],\n",
       " ['this', 'is', 'a', 'test']]"
      ]
     },
     "execution_count": 20,
     "metadata": {},
     "output_type": "execute_result"
    }
   ],
   "source": [
    "raw_text = [\"hello world\".split(), \"tokenize text datas with batch\".split(), \"this is a test\".split()]\n",
    "raw_text"
   ]
  },
  {
   "cell_type": "markdown",
   "id": "bbdb6e2a0c2539c1",
   "metadata": {},
   "source": [
    "## Tokenizer\n"
   ]
  },
  {
   "cell_type": "code",
   "execution_count": 21,
   "id": "228044fa024060b0",
   "metadata": {
    "ExecutionIndicator": {
     "show": true
    },
    "execution": {
     "iopub.execute_input": "2025-01-23T10:40:40.469596Z",
     "iopub.status.busy": "2025-01-23T10:40:40.469175Z",
     "iopub.status.idle": "2025-01-23T10:40:40.481121Z",
     "shell.execute_reply": "2025-01-23T10:40:40.480681Z",
     "shell.execute_reply.started": "2025-01-23T10:40:40.469568Z"
    },
    "tags": []
   },
   "outputs": [
    {
     "name": "stdout",
     "output_type": "stream",
     "text": [
      "raw text\n",
      "['hello', 'world']\n",
      "['tokenize', 'text', 'datas', 'with', 'batch']\n",
      "['this', 'is', 'a', 'test']\n",
      "indices\n",
      "tensor([   1, 4825,  182,    3,    0,    0,    0])\n",
      "tensor([    1,     2,  3004,     2,    19, 19233,     3])\n",
      "tensor([   1,   14,    9,    6, 2181,    3,    0])\n",
      "decode text\n",
      "[BOS] hello world [EOS] [PAD] [PAD] [PAD]\n",
      "[BOS] [UNK] text [UNK] with batch [EOS]\n",
      "[BOS] this is a test [EOS] [PAD]\n"
     ]
    }
   ],
   "source": [
    "class Tokenizer:\n",
    "    def __init__(self, word2idx, idx2word, max_length=500, pad_idx=0, bos_idx=1, eos_idx=3, unk_idx=2):\n",
    "        self.word2idx = word2idx  #词表,单词到id\n",
    "        self.idx2word = idx2word  #词表，id到单词\n",
    "        self.max_length = max_length\n",
    "        self.pad_idx = pad_idx  #填充\n",
    "        self.bos_idx = bos_idx  #开始\n",
    "        self.eos_idx = eos_idx  #结束\n",
    "        self.unk_idx = unk_idx  #未知，未出现在最高频词表中的词\n",
    "\n",
    "    def encode(self, text_list, padding_first=False):\n",
    "        \"\"\"将文本列表编码为索引张量。\n",
    "    \n",
    "        参数:\n",
    "            text_list (list of str): 需要编码的文本列表。\n",
    "            padding_first (bool): 如果为True，则在前面填充；否则在后面填充。\n",
    "    \n",
    "        返回:\n",
    "            torch.Tensor: 包含编码后索引的张量。\n",
    "        \"\"\"\n",
    "        # 计算最大长度，确保不超过self.max_length，并且至少为2（因为要包含BOS和EOS）\n",
    "        max_length = min(self.max_length, 2 + max([len(text) for text in text_list]))\n",
    "\n",
    "        # 用于存储每个文本的索引列表\n",
    "        indices_list = []\n",
    "\n",
    "        # 遍历每个文本\n",
    "        for text in text_list:\n",
    "            # 将文本转换为索引列表，包含BOS和EOS\n",
    "            # 使用切片确保文本长度不超过max_length - 2（因为要留出位置给BOS和EOS）\n",
    "            indices = [self.bos_idx] + [self.word2idx.get(word, self.unk_idx) for word in text[:max_length - 2]] + [\n",
    "                self.eos_idx]\n",
    "\n",
    "            # 根据padding_first参数决定填充位置\n",
    "            if padding_first:\n",
    "                # 在前面填充pad_idx，直到达到max_length\n",
    "                indices = [self.pad_idx] * (max_length - len(indices)) + indices\n",
    "            else:\n",
    "                # 在后面填充pad_idx，直到达到max_length\n",
    "                indices = indices + [self.pad_idx] * (max_length - len(indices))\n",
    "\n",
    "            # 将处理后的索引列表添加到indices_list中\n",
    "            indices_list.append(indices)\n",
    "\n",
    "        # 将indices_list转换为PyTorch张量并返回\n",
    "        return torch.tensor(indices_list)\n",
    "\n",
    "    def decode(self, indices_list, remove_bos=True, remove_eos=True, remove_pad=True, split=False):\n",
    "        \"\"\"\n",
    "        将索引列表解码为文本列表。\n",
    "    \n",
    "        参数:\n",
    "            indices_list (list of list of int): 某批次的索引列表，每个子列表是一个样本的索引序列。\n",
    "            remove_bos (bool): 是否移除 BOS (Begin of Sentence) 标记。\n",
    "            remove_eos (bool): 是否移除 EOS (End of Sentence) 标记。\n",
    "            remove_pad (bool): 是否移除 PAD (Padding) 标记。\n",
    "            split (bool): 如果为 True，返回的文本是单词列表；否则返回拼接后的字符串。\n",
    "    \n",
    "        返回:\n",
    "            list of str or list of list of str: 解码后的文本列表。如果 split 为 False，返回字符串列表；否则返回单词列表。\n",
    "        \"\"\"\n",
    "        text_list = []  # 用于存储解码后的文本列表\n",
    "\n",
    "        # 遍历每个样本的索引列表\n",
    "        for indices in indices_list:\n",
    "            text = []  # 用于存储当前样本解码后的单词\n",
    "\n",
    "            # 遍历当前样本的每个索引\n",
    "            for index in indices:\n",
    "                # 将索引转换为对应的单词，如果索引不在词汇表中，则返回 \"[UNK]\"\n",
    "                word = self.idx2word.get(index, \"[UNK]\")\n",
    "\n",
    "                # 如果 remove_bos 为 True 且当前单词是 BOS 标记，则跳过\n",
    "                if remove_bos and word == \"[BOS]\":\n",
    "                    continue\n",
    "\n",
    "                # 如果 remove_eos 为 True 且当前单词是 EOS 标记，则停止解码\n",
    "                if remove_eos and word == \"[EOS]\":\n",
    "                    break\n",
    "\n",
    "                # 如果 remove_pad 为 True 且当前单词是 PAD 标记，则停止解码\n",
    "                if remove_pad and word == \"[PAD]\":\n",
    "                    break\n",
    "\n",
    "                # 将当前单词添加到文本中\n",
    "                text.append(word)\n",
    "\n",
    "            # 根据 split 参数决定返回格式\n",
    "            if not split:\n",
    "                # 如果 split 为 False，将单词列表拼接为字符串\n",
    "                text_list.append(\" \".join(text))\n",
    "            else:\n",
    "                # 如果 split 为 True，直接返回单词列表\n",
    "                text_list.append(text)\n",
    "\n",
    "        return text_list\n",
    "\n",
    "\n",
    "# 初始化 Tokenizer 对象\n",
    "tokenizer = Tokenizer(word2idx=word2idx, idx2word=idx2word)\n",
    "\n",
    "# 定义原始文本数据，每个句子已经分词成单词列表\n",
    "raw_text = [\"hello world\".split(), \"tokenize text datas with batch\".split(), \"this is a test\".split()]\n",
    "\n",
    "# 使用 Tokenizer 的 encode 方法将原始文本编码为索引列表\n",
    "# encode 方法支持批量处理，会自动添加 BOS、EOS 标记，并根据需要填充 PAD 标记\n",
    "indices = tokenizer.encode(raw_text)\n",
    "\n",
    "# 使用 Tokenizer 的 decode 方法将索引列表解码回文本\n",
    "# 参数说明：\n",
    "# - remove_bos=False: 保留 BOS 标记\n",
    "# - remove_eos=False: 保留 EOS 标记\n",
    "# - remove_pad=False: 保留 PAD 标记\n",
    "decode_text = tokenizer.decode(indices.tolist(), remove_bos=False, remove_eos=False, remove_pad=False)\n",
    "\n",
    "# 打印原始文本\n",
    "print(\"raw text\")\n",
    "for raw in raw_text:\n",
    "    print(raw)\n",
    "\n",
    "# 打印编码后的索引列表\n",
    "print(\"indices\")\n",
    "for index in indices:\n",
    "    print(index)\n",
    "\n",
    "# 打印解码后的文本\n",
    "print(\"decode text\")\n",
    "for decode in decode_text:\n",
    "    print(decode)"
   ]
  },
  {
   "cell_type": "code",
   "execution_count": 22,
   "id": "60643d36354bad11",
   "metadata": {
    "execution": {
     "iopub.execute_input": "2025-01-23T10:40:40.484593Z",
     "iopub.status.busy": "2025-01-23T10:40:40.484297Z",
     "iopub.status.idle": "2025-01-23T10:40:40.487906Z",
     "shell.execute_reply": "2025-01-23T10:40:40.487382Z",
     "shell.execute_reply.started": "2025-01-23T10:40:40.484578Z"
    }
   },
   "outputs": [
    {
     "data": {
      "text/plain": [
       "array([list([1, 14, 22, 16, 43, 530, 973, 1622, 1385, 65, 458, 4468, 66, 3941, 4, 173, 36, 256, 5, 25, 100, 43, 838, 112, 50, 670, 2, 9, 35, 480, 284, 5, 150, 4, 172, 112, 167, 2, 336, 385, 39, 4, 172, 4536, 1111, 17, 546, 38, 13, 447, 4, 192, 50, 16, 6, 147, 2025, 19, 14, 22, 4, 1920, 4613, 469, 4, 22, 71, 87, 12, 16, 43, 530, 38, 76, 15, 13, 1247, 4, 22, 17, 515, 17, 12, 16, 626, 18, 2, 5, 62, 386, 12, 8, 316, 8, 106, 5, 4, 2223, 5244, 16, 480, 66, 3785, 33, 4, 130, 12, 16, 38, 619, 5, 25, 124, 51, 36, 135, 48, 25, 1415, 33, 6, 22, 12, 215, 28, 77, 52, 5, 14, 407, 16, 82, 2, 8, 4, 107, 117, 5952, 15, 256, 4, 2, 7, 3766, 5, 723, 36, 71, 43, 530, 476, 26, 400, 317, 46, 7, 4, 2, 1029, 13, 104, 88, 4, 381, 15, 297, 98, 32, 2071, 56, 26, 141, 6, 194, 7486, 18, 4, 226, 22, 21, 134, 476, 26, 480, 5, 144, 30, 5535, 18, 51, 36, 28, 224, 92, 25, 104, 4, 226, 65, 16, 38, 1334, 88, 12, 16, 283, 5, 16, 4472, 113, 103, 32, 15, 16, 5345, 19, 178, 32])],\n",
       "      dtype=object)"
      ]
     },
     "execution_count": 22,
     "metadata": {},
     "output_type": "execute_result"
    }
   ],
   "source": [
    "train_data[0:1]"
   ]
  },
  {
   "cell_type": "code",
   "execution_count": 23,
   "id": "d3ee5b5dea0b6ca6",
   "metadata": {
    "execution": {
     "iopub.execute_input": "2025-01-23T10:40:40.488903Z",
     "iopub.status.busy": "2025-01-23T10:40:40.488545Z",
     "iopub.status.idle": "2025-01-23T10:40:40.492768Z",
     "shell.execute_reply": "2025-01-23T10:40:40.492266Z",
     "shell.execute_reply.started": "2025-01-23T10:40:40.488876Z"
    }
   },
   "outputs": [
    {
     "data": {
      "text/plain": [
       "[\"[BOS] this film was just brilliant casting location scenery story direction everyone's really suited the part they played and you could just imagine being there robert [UNK] is an amazing actor and now the same being director [UNK] father came from the same scottish island as myself so i loved the fact there was a real connection with this film the witty remarks throughout the film were great it was just brilliant so much that i bought the film as soon as it was released for [UNK] and would recommend it to everyone to watch and the fly fishing was amazing really cried at the end it was so sad and you know what they say if you cry at a film it must have been good and this definitely was also [UNK] to the two little boy's that played the [UNK] of norman and paul they were just brilliant children are often left out of the [UNK] list i think because the stars that play them all grown up are such a big profile for the whole film but these children are amazing and should be praised for what they have done don't you think the whole story was so lovely because it was true and was someone's life after all that was shared with us all\"]"
      ]
     },
     "execution_count": 23,
     "metadata": {},
     "output_type": "execute_result"
    }
   ],
   "source": [
    "# 看看训练集的数据\n",
    "tokenizer.decode(train_data[0:1], remove_bos=False, remove_eos=False, remove_pad=False)"
   ]
  },
  {
   "cell_type": "markdown",
   "id": "fa0f01c04866acde",
   "metadata": {},
   "source": [
    "数据集与 DataLoader"
   ]
  },
  {
   "cell_type": "code",
   "execution_count": 42,
   "id": "29d20d76b3583530",
   "metadata": {
    "ExecutionIndicator": {
     "show": true
    },
    "execution": {
     "iopub.execute_input": "2025-01-23T10:43:53.488088Z",
     "iopub.status.busy": "2025-01-23T10:43:53.487765Z",
     "iopub.status.idle": "2025-01-23T10:43:55.575685Z",
     "shell.execute_reply": "2025-01-23T10:43:55.575192Z",
     "shell.execute_reply.started": "2025-01-23T10:43:53.488067Z"
    },
    "tags": []
   },
   "outputs": [],
   "source": [
    "from torch.utils.data import Dataset, DataLoader\n",
    "\n",
    "\n",
    "class IMDBDataset(Dataset):\n",
    "    def __init__(self, data, labels, remain_length=True):\n",
    "        \"\"\"\n",
    "        初始化 IMDBDataset 类。\n",
    "\n",
    "        参数:\n",
    "            data (list of list of int): 编码后的文本数据，每个样本是一个索引列表。\n",
    "            labels (list of int): 每个样本对应的标签。\n",
    "            remain_length (bool): 是否保留原始长度（包括 BOS、EOS 和 PAD 标记）。\n",
    "        \"\"\"\n",
    "        # 如果 remain_length 为 True，保留所有特殊标记（BOS、EOS、PAD）\n",
    "        if remain_length:\n",
    "            self.data = tokenizer.decode(data, remove_bos=False, remove_eos=False, remove_pad=False)\n",
    "        else:\n",
    "            # 如果 remain_length 为 False，移除特殊标记，缩减数据\n",
    "            self.data = tokenizer.decode(data)\n",
    "\n",
    "        # 存储标签\n",
    "        self.labels = labels\n",
    "\n",
    "    def __getitem__(self, index):\n",
    "        \"\"\"\n",
    "        根据索引获取单个样本。\n",
    "\n",
    "        参数:\n",
    "            index (int): 样本的索引。\n",
    "\n",
    "        返回:\n",
    "            tuple: 包含文本和标签的元组。\n",
    "        \"\"\"\n",
    "        # 获取指定索引的文本\n",
    "        text = self.data[index]\n",
    "        # 获取指定索引的标签\n",
    "        label = self.labels[index]\n",
    "        # 返回文本和标签\n",
    "        return text, label\n",
    "\n",
    "    def __len__(self):\n",
    "        \"\"\"\n",
    "        返回数据集的大小。\n",
    "\n",
    "        返回:\n",
    "            int: 数据集中样本的数量。\n",
    "        \"\"\"\n",
    "        return len(self.data)\n",
    "\n",
    "\n",
    "def collate_fct(batch):\n",
    "    \"\"\"\n",
    "    自定义的批处理函数，用于将一批样本整理为模型可用的格式。\n",
    "\n",
    "    参数:\n",
    "        batch (list of tuple): 一批样本，每个样本是一个元组 (text, label)。\n",
    "\n",
    "    返回:\n",
    "        tuple: 包含编码后的文本张量和标签张量的元组。\n",
    "    \"\"\"\n",
    "    # 将 batch 中的文本和标签分别提取出来\n",
    "    text_list = [item[0].split() for item in batch]  # 将每个文本字符串拆分为单词列表\n",
    "    label_list = [item[1] for item in batch]  # 提取所有标签\n",
    "\n",
    "    # 使用 tokenizer.encode 对文本列表进行编码\n",
    "    # padding_first=True 表示在前面填充 PAD 标记\n",
    "    text_list = tokenizer.encode(text_list, padding_first=True).to(dtype=torch.int)\n",
    "\n",
    "    # 将标签列表转换为张量，并调整形状为 (batch_size, 1)\n",
    "    label_list = torch.tensor(label_list).reshape(-1, 1).to(dtype=torch.float)\n",
    "\n",
    "    # 返回编码后的文本张量和标签张量\n",
    "    return text_list, label_list\n",
    "\n",
    "\n",
    "# 用RNN，缩短序列长度\n",
    "# remain_length=False: 表示在解码时移除特殊标记（如 BOS、EOS、PAD），缩减数据\n",
    "# 创建训练数据集对象\n",
    "train_ds = IMDBDataset(train_data, train_labels, remain_length=False)\n",
    "\n",
    "# 创建测试数据集对象\n",
    "test_ds = IMDBDataset(test_data, test_labels, remain_length=False)"
   ]
  },
  {
   "cell_type": "code",
   "execution_count": 43,
   "id": "39bd5e56cea7d8ba",
   "metadata": {
    "execution": {
     "iopub.execute_input": "2025-01-23T10:43:55.576860Z",
     "iopub.status.busy": "2025-01-23T10:43:55.576519Z",
     "iopub.status.idle": "2025-01-23T10:43:55.579641Z",
     "shell.execute_reply": "2025-01-23T10:43:55.579244Z",
     "shell.execute_reply.started": "2025-01-23T10:43:55.576842Z"
    }
   },
   "outputs": [],
   "source": [
    "batch_size = 128\n",
    "train_dl = DataLoader(train_ds, batch_size=batch_size, shuffle=True, collate_fn=collate_fct)  #collate_fn是处理batch的函数\n",
    "test_dl = DataLoader(test_ds, batch_size=batch_size, shuffle=False, collate_fn=collate_fct)"
   ]
  },
  {
   "cell_type": "code",
   "execution_count": 44,
   "id": "b350e110fd6981f3",
   "metadata": {
    "ExecutionIndicator": {
     "show": true
    },
    "execution": {
     "iopub.execute_input": "2025-01-23T10:43:55.580207Z",
     "iopub.status.busy": "2025-01-23T10:43:55.580063Z",
     "iopub.status.idle": "2025-01-23T10:43:55.599699Z",
     "shell.execute_reply": "2025-01-23T10:43:55.599198Z",
     "shell.execute_reply.started": "2025-01-23T10:43:55.580193Z"
    },
    "tags": []
   },
   "outputs": [
    {
     "name": "stdout",
     "output_type": "stream",
     "text": [
      "torch.Size([128, 500]) torch.Size([128, 1])\n"
     ]
    }
   ],
   "source": [
    "for text, label in train_dl:\n",
    "    print(text.shape, label.shape)\n",
    "    break"
   ]
  },
  {
   "cell_type": "markdown",
   "id": "920e735a0e32de60",
   "metadata": {},
   "source": [
    "定义模型"
   ]
  },
  {
   "cell_type": "code",
   "execution_count": 45,
   "id": "9d6e73be-64f8-4a63-ac49-076e20b0aeb7",
   "metadata": {
    "ExecutionIndicator": {
     "show": true
    },
    "execution": {
     "iopub.execute_input": "2025-01-23T10:43:55.600601Z",
     "iopub.status.busy": "2025-01-23T10:43:55.600232Z",
     "iopub.status.idle": "2025-01-23T10:43:55.605087Z",
     "shell.execute_reply": "2025-01-23T10:43:55.604449Z",
     "shell.execute_reply.started": "2025-01-23T10:43:55.600582Z"
    },
    "tags": []
   },
   "outputs": [],
   "source": [
    "class RNN(nn.Module):\n",
    "    def __init__(self, embedding_dim=16, hidden_dim=64, vocab_size=vocab_size, num_layers=1, bidirectional=False):\n",
    "        \"\"\"\n",
    "        初始化 RNN 模型。\n",
    "\n",
    "        参数:\n",
    "            embedding_dim (int): 词嵌入的维度。\n",
    "            hidden_dim (int): RNN 隐藏层的维度。\n",
    "            vocab_size (int): 词汇表的大小。\n",
    "            num_layers (int): RNN 的层数。\n",
    "            bidirectional (bool): 是否使用双向 RNN。\n",
    "        \"\"\"\n",
    "        super(RNN, self).__init__()\n",
    "\n",
    "        # 词嵌入层，将词汇索引映射为稠密向量\n",
    "        self.embeding = nn.Embedding(vocab_size, embedding_dim)\n",
    "\n",
    "        # RNN 层\n",
    "        self.rnn = nn.RNN(\n",
    "            embedding_dim,  # 输入特征的维度（词嵌入的维度）\n",
    "            hidden_dim,  # 隐藏层的维度\n",
    "            num_layers=num_layers,  # RNN 的层数\n",
    "            batch_first=True,  # 输入数据的形状为 (batch_size, seq_length, embedding_dim)\n",
    "            bidirectional=bidirectional  # 是否使用双向 RNN\n",
    "        )\n",
    "\n",
    "        # 线性层，用于将 RNN 的输出映射到隐藏层维度\n",
    "        # 如果是双向 RNN，隐藏层维度需要乘以 2\n",
    "        self.layer = nn.Linear(hidden_dim * (2 if bidirectional else 1), hidden_dim)\n",
    "\n",
    "        # 全连接层，用于将隐藏层维度映射到输出维度（1，表示二分类）\n",
    "        self.fc = nn.Linear(hidden_dim, 1)\n",
    "\n",
    "    def forward(self, x):\n",
    "        \"\"\"\n",
    "        定义前向传播过程。\n",
    "\n",
    "        参数:\n",
    "            x (torch.Tensor): 输入张量，形状为 [batch_size, seq_length]。\n",
    "\n",
    "        返回:\n",
    "            torch.Tensor: 输出张量，形状为 [batch_size, 1]。\n",
    "        \"\"\"\n",
    "        # [batch_size, seq_length] -> [batch_size, seq_length, embedding_dim]\n",
    "        # 将输入的词汇索引映射为词嵌入向量\n",
    "        x = self.embeding(x)\n",
    "        # [bs, seq length, embedding_dim] -> shape [bs, embedding_dim, seq length]\n",
    "        # 将词嵌入向量输入 RNN 层\n",
    "        # seq_output: RNN 的每个时间步的输出，形状为 [batch_size, seq_length, hidden_dim * (2 if bidirectional else 1)]\n",
    "        # final_hidden: RNN 的最后一个时间步的隐藏状态，形状为 [num_layers * (2 if bidirectional else 1), batch_size, hidden_dim]\n",
    "        seq_output, final_hidden = self.rnn(x)\n",
    "\n",
    "        # print(f'seq_output.shape={seq_output.shape}')\n",
    "        # print(f'final_hidden.shape={final_hidden.shape}')\n",
    "\n",
    "        # 取最后一个时间步的输出\n",
    "        # 这里假设 padding_first=True，即填充部分在前面，最后一个时间步是有效数据的最后一个时间步\n",
    "        x = seq_output[:, -1, :]  # [batch_size, hidden_dim * (2 if bidirectional else 1)]\n",
    "\n",
    "        # 将 RNN 的输出通过线性层映射到隐藏层维度\n",
    "        x = self.layer(x)  # [batch_size, hidden_dim]\n",
    "\n",
    "        # 将隐藏层的输出通过全连接层映射到输出维度（1，表示二分类）\n",
    "        x = self.fc(x)  # [batch_size, 1]\n",
    "        \n",
    "        return x"
   ]
  },
  {
   "cell_type": "code",
   "execution_count": 46,
   "id": "a21ba9a8-c8ac-42b7-b1f8-65ca52f5f6fd",
   "metadata": {
    "execution": {
     "iopub.execute_input": "2025-01-23T10:43:55.607228Z",
     "iopub.status.busy": "2025-01-23T10:43:55.606878Z",
     "iopub.status.idle": "2025-01-23T10:43:55.622710Z",
     "shell.execute_reply": "2025-01-23T10:43:55.622254Z",
     "shell.execute_reply.started": "2025-01-23T10:43:55.607200Z"
    }
   },
   "outputs": [
    {
     "data": {
      "text/plain": [
       "torch.Size([1, 1])"
      ]
     },
     "execution_count": 46,
     "metadata": {},
     "output_type": "execute_result"
    }
   ],
   "source": [
    "#做前向计算，看下输出的shape\n",
    "model = RNN()\n",
    "sample_inputs = torch.randint(0, vocab_size, (1, 500))\n",
    "model(sample_inputs).shape"
   ]
  },
  {
   "cell_type": "code",
   "execution_count": 47,
   "id": "aa1ce7d3-7e91-4dc6-af59-39045bfcf737",
   "metadata": {
    "ExecutionIndicator": {
     "show": true
    },
    "execution": {
     "iopub.execute_input": "2025-01-23T10:43:55.623691Z",
     "iopub.status.busy": "2025-01-23T10:43:55.623251Z",
     "iopub.status.idle": "2025-01-23T10:43:55.629122Z",
     "shell.execute_reply": "2025-01-23T10:43:55.628692Z",
     "shell.execute_reply.started": "2025-01-23T10:43:55.623661Z"
    },
    "tags": []
   },
   "outputs": [
    {
     "name": "stdout",
     "output_type": "stream",
     "text": [
      "=================================== 单层单向 RNN ===================================\n",
      "            embeding.weight             paramerters num: 160000\n",
      "            rnn.weight_ih_l0            paramerters num: 1024\n",
      "            rnn.weight_hh_l0            paramerters num: 4096\n",
      "             rnn.bias_ih_l0             paramerters num: 64\n",
      "             rnn.bias_hh_l0             paramerters num: 64\n",
      "              layer.weight              paramerters num: 4096\n",
      "               layer.bias               paramerters num: 64\n",
      "               fc.weight                paramerters num: 64\n",
      "                fc.bias                 paramerters num: 1\n"
     ]
    }
   ],
   "source": [
    "print(\"{:=^80}\".format(\" 单层单向 RNN \"))\n",
    "for key, value in RNN().named_parameters():\n",
    "    print(f\"{key:^40}paramerters num: {np.prod(value.shape)}\")"
   ]
  },
  {
   "cell_type": "code",
   "execution_count": 48,
   "id": "b4920350-c4ac-45f7-8d99-63ff8be402df",
   "metadata": {
    "execution": {
     "iopub.execute_input": "2025-01-23T10:43:55.630038Z",
     "iopub.status.busy": "2025-01-23T10:43:55.629687Z",
     "iopub.status.idle": "2025-01-23T10:43:55.635579Z",
     "shell.execute_reply": "2025-01-23T10:43:55.635128Z",
     "shell.execute_reply.started": "2025-01-23T10:43:55.630010Z"
    }
   },
   "outputs": [
    {
     "name": "stdout",
     "output_type": "stream",
     "text": [
      "=================================== 双层单向 RNN ===================================\n",
      "            embeding.weight             paramerters num: 160000\n",
      "            rnn.weight_ih_l0            paramerters num: 1024\n",
      "            rnn.weight_hh_l0            paramerters num: 4096\n",
      "             rnn.bias_ih_l0             paramerters num: 64\n",
      "             rnn.bias_hh_l0             paramerters num: 64\n",
      "            rnn.weight_ih_l1            paramerters num: 4096\n",
      "            rnn.weight_hh_l1            paramerters num: 4096\n",
      "             rnn.bias_ih_l1             paramerters num: 64\n",
      "             rnn.bias_hh_l1             paramerters num: 64\n",
      "              layer.weight              paramerters num: 4096\n",
      "               layer.bias               paramerters num: 64\n",
      "               fc.weight                paramerters num: 64\n",
      "                fc.bias                 paramerters num: 1\n"
     ]
    }
   ],
   "source": [
    "print(\"{:=^80}\".format(\" 双层单向 RNN \"))\n",
    "for key, value in RNN(num_layers=2).named_parameters():\n",
    "    print(f\"{key:^40}paramerters num: {np.prod(value.shape)}\")"
   ]
  },
  {
   "cell_type": "code",
   "execution_count": 49,
   "id": "38cd23c8-ae36-4998-a47d-38dab3a3fe37",
   "metadata": {
    "execution": {
     "iopub.execute_input": "2025-01-23T10:43:55.636471Z",
     "iopub.status.busy": "2025-01-23T10:43:55.636132Z",
     "iopub.status.idle": "2025-01-23T10:43:55.643046Z",
     "shell.execute_reply": "2025-01-23T10:43:55.642639Z",
     "shell.execute_reply.started": "2025-01-23T10:43:55.636444Z"
    }
   },
   "outputs": [
    {
     "name": "stdout",
     "output_type": "stream",
     "text": [
      "=================================== 单层双向 RNN ===================================\n",
      "            embeding.weight             paramerters num: 160000\n",
      "            rnn.weight_ih_l0            paramerters num: 1024\n",
      "            rnn.weight_hh_l0            paramerters num: 4096\n",
      "             rnn.bias_ih_l0             paramerters num: 64\n",
      "             rnn.bias_hh_l0             paramerters num: 64\n",
      "        rnn.weight_ih_l0_reverse        paramerters num: 1024\n",
      "        rnn.weight_hh_l0_reverse        paramerters num: 4096\n",
      "         rnn.bias_ih_l0_reverse         paramerters num: 64\n",
      "         rnn.bias_hh_l0_reverse         paramerters num: 64\n",
      "              layer.weight              paramerters num: 8192\n",
      "               layer.bias               paramerters num: 64\n",
      "               fc.weight                paramerters num: 64\n",
      "                fc.bias                 paramerters num: 1\n"
     ]
    }
   ],
   "source": [
    "print(\"{:=^80}\".format(\" 单层双向 RNN \"))\n",
    "for key, value in RNN(bidirectional=True).named_parameters():\n",
    "    print(f\"{key:^40}paramerters num: {np.prod(value.shape)}\")"
   ]
  },
  {
   "cell_type": "code",
   "execution_count": 50,
   "id": "2b35ccbc-e1d2-438f-a497-73d8563e232f",
   "metadata": {
    "execution": {
     "iopub.execute_input": "2025-01-23T10:43:55.643965Z",
     "iopub.status.busy": "2025-01-23T10:43:55.643589Z",
     "iopub.status.idle": "2025-01-23T10:43:55.649780Z",
     "shell.execute_reply": "2025-01-23T10:43:55.649353Z",
     "shell.execute_reply.started": "2025-01-23T10:43:55.643938Z"
    }
   },
   "outputs": [
    {
     "name": "stdout",
     "output_type": "stream",
     "text": [
      "=================================== 双层双向 RNN ===================================\n",
      "            embeding.weight             paramerters num: 160000\n",
      "            rnn.weight_ih_l0            paramerters num: 1024\n",
      "            rnn.weight_hh_l0            paramerters num: 4096\n",
      "             rnn.bias_ih_l0             paramerters num: 64\n",
      "             rnn.bias_hh_l0             paramerters num: 64\n",
      "        rnn.weight_ih_l0_reverse        paramerters num: 1024\n",
      "        rnn.weight_hh_l0_reverse        paramerters num: 4096\n",
      "         rnn.bias_ih_l0_reverse         paramerters num: 64\n",
      "         rnn.bias_hh_l0_reverse         paramerters num: 64\n",
      "            rnn.weight_ih_l1            paramerters num: 8192\n",
      "            rnn.weight_hh_l1            paramerters num: 4096\n",
      "             rnn.bias_ih_l1             paramerters num: 64\n",
      "             rnn.bias_hh_l1             paramerters num: 64\n",
      "        rnn.weight_ih_l1_reverse        paramerters num: 8192\n",
      "        rnn.weight_hh_l1_reverse        paramerters num: 4096\n",
      "         rnn.bias_ih_l1_reverse         paramerters num: 64\n",
      "         rnn.bias_hh_l1_reverse         paramerters num: 64\n",
      "              layer.weight              paramerters num: 8192\n",
      "               layer.bias               paramerters num: 64\n",
      "               fc.weight                paramerters num: 64\n",
      "                fc.bias                 paramerters num: 1\n"
     ]
    }
   ],
   "source": [
    "print(\"{:=^80}\".format(\" 双层双向 RNN \"))\n",
    "for key, value in RNN(num_layers=2, bidirectional=True).named_parameters():\n",
    "    print(f\"{key:^40}paramerters num: {np.prod(value.shape)}\")"
   ]
  },
  {
   "cell_type": "markdown",
   "id": "d20347e2781bdf6a",
   "metadata": {},
   "source": [
    "训练"
   ]
  },
  {
   "cell_type": "code",
   "execution_count": 51,
   "id": "6aaa7bb0ab1d9d05",
   "metadata": {
    "execution": {
     "iopub.execute_input": "2025-01-23T10:43:55.650727Z",
     "iopub.status.busy": "2025-01-23T10:43:55.650321Z",
     "iopub.status.idle": "2025-01-23T10:43:55.655420Z",
     "shell.execute_reply": "2025-01-23T10:43:55.654946Z",
     "shell.execute_reply.started": "2025-01-23T10:43:55.650700Z"
    }
   },
   "outputs": [],
   "source": [
    "from sklearn.metrics import accuracy_score\n",
    "\n",
    "\n",
    "@torch.no_grad()\n",
    "def evaluating(model, dataloader, loss_fct):\n",
    "    loss_list = []\n",
    "    pred_list = []\n",
    "    label_list = []\n",
    "    for datas, labels in dataloader:\n",
    "        datas = datas.to(device)\n",
    "        labels = labels.to(device)\n",
    "        # 前向计算\n",
    "        logits = model(datas)\n",
    "        loss = loss_fct(logits, labels)  # 验证集损失\n",
    "        loss_list.append(loss.item())\n",
    "        # 二分类\n",
    "        preds = logits > 0\n",
    "        pred_list.extend(preds.cpu().numpy().tolist())\n",
    "        label_list.extend(labels.cpu().numpy().tolist())\n",
    "\n",
    "    acc = accuracy_score(label_list, pred_list)\n",
    "    return np.mean(loss_list), acc"
   ]
  },
  {
   "cell_type": "code",
   "execution_count": 52,
   "id": "7f4a926d0629ddf0",
   "metadata": {
    "execution": {
     "iopub.execute_input": "2025-01-23T10:43:55.656354Z",
     "iopub.status.busy": "2025-01-23T10:43:55.655989Z",
     "iopub.status.idle": "2025-01-23T10:43:55.662996Z",
     "shell.execute_reply": "2025-01-23T10:43:55.662501Z",
     "shell.execute_reply.started": "2025-01-23T10:43:55.656327Z"
    }
   },
   "outputs": [],
   "source": [
    "from torch.utils.tensorboard import SummaryWriter\n",
    "\n",
    "\n",
    "class TensorBoardCallback:\n",
    "    def __init__(self, log_dir, flush_secs=10):\n",
    "        \"\"\"\n",
    "        Args:\n",
    "            log_dir (str): dir to write log.\n",
    "            flush_secs (int, optional): write to dsk each flush_secs seconds. Defaults to 10.\n",
    "        \"\"\"\n",
    "        self.writer = SummaryWriter(log_dir=log_dir, flush_secs=flush_secs)\n",
    "\n",
    "    def draw_model(self, model, input_shape):\n",
    "        self.writer.add_graph(model, input_to_model=torch.randn(input_shape))\n",
    "\n",
    "    def add_loss_scalars(self, step, loss, val_loss):\n",
    "        self.writer.add_scalars(\n",
    "            main_tag=\"training/loss\",\n",
    "            tag_scalar_dict={\"loss\": loss, \"val_loss\": val_loss},\n",
    "            global_step=step,\n",
    "        )\n",
    "\n",
    "    def add_acc_scalars(self, step, acc, val_acc):\n",
    "        self.writer.add_scalars(\n",
    "            main_tag=\"training/accuracy\",\n",
    "            tag_scalar_dict={\"accuracy\": acc, \"val_accuracy\": val_acc},\n",
    "            global_step=step,\n",
    "        )\n",
    "\n",
    "    def add_lr_scalars(self, step, learning_rate):\n",
    "        self.writer.add_scalars(\n",
    "            main_tag=\"training/learning_rate\",\n",
    "            tag_scalar_dict={\"learning_rate\": learning_rate},\n",
    "            global_step=step,\n",
    "\n",
    "        )\n",
    "\n",
    "    def __call__(self, step, **kwargs):\n",
    "        # add loss\n",
    "        loss = kwargs.pop(\"loss\", None)\n",
    "        val_loss = kwargs.pop(\"val_loss\", None)\n",
    "        if loss is not None and val_loss is not None:\n",
    "            self.add_loss_scalars(step, loss, val_loss)\n",
    "        # add acc\n",
    "        acc = kwargs.pop(\"acc\", None)\n",
    "        val_acc = kwargs.pop(\"val_acc\", None)\n",
    "        if acc is not None and val_acc is not None:\n",
    "            self.add_acc_scalars(step, acc, val_acc)\n",
    "        # add lr\n",
    "        learning_rate = kwargs.pop(\"lr\", None)\n",
    "        if learning_rate is not None:\n",
    "            self.add_lr_scalars(step, learning_rate)"
   ]
  },
  {
   "cell_type": "code",
   "execution_count": 53,
   "id": "c01ea25d585ec23f",
   "metadata": {
    "execution": {
     "iopub.execute_input": "2025-01-23T10:43:55.663907Z",
     "iopub.status.busy": "2025-01-23T10:43:55.663557Z",
     "iopub.status.idle": "2025-01-23T10:43:55.668588Z",
     "shell.execute_reply": "2025-01-23T10:43:55.668007Z",
     "shell.execute_reply.started": "2025-01-23T10:43:55.663880Z"
    }
   },
   "outputs": [],
   "source": [
    "class SaveCheckpointsCallback:\n",
    "    def __init__(self, save_dir, save_step=5000, save_best_only=True):\n",
    "        \"\"\"\n",
    "        Save checkpoints each save_epoch epoch. \n",
    "        We save checkpoint by epoch in this implementation.\n",
    "        Usually, training scripts with pytorch evaluating model and save checkpoint by step.\n",
    "\n",
    "        Args:\n",
    "            save_dir (str): dir to save checkpoint\n",
    "            save_epoch (int, optional): the frequency to save checkpoint. Defaults to 1.\n",
    "            save_best_only (bool, optional): If True, only save the best model or save each model at every epoch.\n",
    "        \"\"\"\n",
    "        self.save_dir = save_dir\n",
    "        self.save_step = save_step\n",
    "        self.save_best_only = save_best_only\n",
    "        self.best_metrics = -1\n",
    "\n",
    "        # mkdir\n",
    "        if not os.path.exists(self.save_dir):\n",
    "            os.mkdir(self.save_dir)\n",
    "\n",
    "    def __call__(self, step, state_dict, metric=None):\n",
    "        if step % self.save_step > 0:\n",
    "            return\n",
    "\n",
    "        if self.save_best_only:\n",
    "            assert metric is not None\n",
    "            if metric >= self.best_metrics:\n",
    "                # save checkpoints\n",
    "                torch.save(state_dict, os.path.join(self.save_dir, \"best.ckpt\"))\n",
    "                # update best metrics\n",
    "                self.best_metrics = metric\n",
    "        else:\n",
    "            torch.save(state_dict, os.path.join(self.save_dir, f\"{step}.ckpt\"))"
   ]
  },
  {
   "cell_type": "code",
   "execution_count": 54,
   "id": "5f21faa913f175e6",
   "metadata": {
    "execution": {
     "iopub.execute_input": "2025-01-23T10:43:55.669616Z",
     "iopub.status.busy": "2025-01-23T10:43:55.669232Z",
     "iopub.status.idle": "2025-01-23T10:43:55.673436Z",
     "shell.execute_reply": "2025-01-23T10:43:55.672968Z",
     "shell.execute_reply.started": "2025-01-23T10:43:55.669587Z"
    }
   },
   "outputs": [],
   "source": [
    "class EarlyStopCallback:\n",
    "    def __init__(self, patience=5, min_delta=0.01):\n",
    "        \"\"\"\n",
    "\n",
    "        Args:\n",
    "            patience (int, optional): Number of epochs with no improvement after which training will be stopped.. Defaults to 5.\n",
    "            min_delta (float, optional): Minimum change in the monitored quantity to qualify as an improvement, i.e. an absolute \n",
    "                change of less than min_delta, will count as no improvement. Defaults to 0.01.\n",
    "        \"\"\"\n",
    "        self.patience = patience\n",
    "        self.min_delta = min_delta\n",
    "        self.best_metric = -1\n",
    "        self.counter = 0\n",
    "\n",
    "    def __call__(self, metric):\n",
    "        if metric >= self.best_metric + self.min_delta:\n",
    "            # update best metric\n",
    "            self.best_metric = metric\n",
    "            # reset counter \n",
    "            self.counter = 0\n",
    "        else:\n",
    "            self.counter += 1\n",
    "\n",
    "    @property\n",
    "    def early_stop(self):\n",
    "        return self.counter >= self.patience"
   ]
  },
  {
   "cell_type": "code",
   "execution_count": 55,
   "id": "fde05b0056fa67ad",
   "metadata": {
    "ExecutionIndicator": {
     "show": true
    },
    "execution": {
     "iopub.execute_input": "2025-01-23T10:43:55.675857Z",
     "iopub.status.busy": "2025-01-23T10:43:55.675696Z",
     "iopub.status.idle": "2025-01-23T10:43:55.682611Z",
     "shell.execute_reply": "2025-01-23T10:43:55.682014Z",
     "shell.execute_reply.started": "2025-01-23T10:43:55.675841Z"
    },
    "tags": []
   },
   "outputs": [],
   "source": [
    "# 训练\n",
    "def training(\n",
    "        model,\n",
    "        train_loader,\n",
    "        val_loader,\n",
    "        epoch,\n",
    "        loss_fct,\n",
    "        optimizer,\n",
    "        tensorboard_callback=None,\n",
    "        save_ckpt_callback=None,\n",
    "        early_stop_callback=None,\n",
    "        eval_step=500,\n",
    "):\n",
    "    record_dict = {\n",
    "        \"train\": [],\n",
    "        \"val\": []\n",
    "    }\n",
    "\n",
    "    global_step = 0\n",
    "    model.train()\n",
    "    with tqdm(total=epoch * len(train_loader)) as pbar:\n",
    "        for epoch_id in range(epoch):\n",
    "            # training\n",
    "            for datas, labels in train_loader:\n",
    "                datas = datas.to(device)\n",
    "                labels = labels.to(device)\n",
    "                # 梯度清空\n",
    "                optimizer.zero_grad()\n",
    "                # 模型前向计算\n",
    "                logits = model(datas)\n",
    "                # 计算损失\n",
    "                loss = loss_fct(logits, labels)\n",
    "                # 梯度回传\n",
    "                loss.backward()\n",
    "                # 调整优化器，包括学习率的变动等\n",
    "                optimizer.step()\n",
    "                preds = logits > 0\n",
    "\n",
    "                acc = accuracy_score(labels.cpu().numpy(), preds.cpu().numpy())\n",
    "                loss = loss.cpu().item()\n",
    "                # record\n",
    "\n",
    "                record_dict[\"train\"].append({\n",
    "                    \"loss\": loss, \"acc\": acc, \"step\": global_step\n",
    "                })\n",
    "\n",
    "                # evaluating\n",
    "                if global_step % eval_step == 0:\n",
    "                    model.eval()\n",
    "                    val_loss, val_acc = evaluating(model, val_loader, loss_fct)\n",
    "                    record_dict[\"val\"].append({\n",
    "                        \"loss\": val_loss, \"acc\": val_acc, \"step\": global_step\n",
    "                    })\n",
    "                    model.train()\n",
    "\n",
    "                    # 1. 使用 tensorboard 可视化\n",
    "                    if tensorboard_callback is not None:\n",
    "                        tensorboard_callback(\n",
    "                            global_step,\n",
    "                            loss=loss, val_loss=val_loss,\n",
    "                            acc=acc, val_acc=val_acc,\n",
    "                            lr=optimizer.param_groups[0][\"lr\"],\n",
    "                        )\n",
    "\n",
    "                    # 2. 保存模型权重 save model checkpoint\n",
    "                    if save_ckpt_callback is not None:\n",
    "                        save_ckpt_callback(global_step, model.state_dict(), metric=val_acc)\n",
    "\n",
    "                    # 3. 早停 Early Stop\n",
    "                    if early_stop_callback is not None:\n",
    "                        early_stop_callback(val_acc)\n",
    "                        if early_stop_callback.early_stop:\n",
    "                            print(f\"Early stop at epoch {epoch_id} / global_step {global_step}\")\n",
    "                            return record_dict\n",
    "\n",
    "                # udate step\n",
    "                global_step += 1\n",
    "                pbar.update(1)\n",
    "                pbar.set_postfix({\"epoch\": epoch_id})\n",
    "\n",
    "    return record_dict"
   ]
  },
  {
   "cell_type": "code",
   "execution_count": 68,
   "id": "c0e497725b5dfd29",
   "metadata": {
    "ExecutionIndicator": {
     "show": true
    },
    "execution": {
     "iopub.execute_input": "2025-01-23T10:54:24.423148Z",
     "iopub.status.busy": "2025-01-23T10:54:24.422832Z",
     "iopub.status.idle": "2025-01-23T10:54:24.430220Z",
     "shell.execute_reply": "2025-01-23T10:54:24.429750Z",
     "shell.execute_reply.started": "2025-01-23T10:54:24.423128Z"
    },
    "tags": []
   },
   "outputs": [],
   "source": [
    "epoch = 20\n",
    "\n",
    "# model = RNN()  # 单向单层 RNN\n",
    "# model = RNN(bidirectional=True)  # 双向单层 RNN\n",
    "# model = RNN(num_layers=2)  # 单向双层 RNN\n",
    "model = RNN(bidirectional=True, num_layers=2)  # 双向双层 RNN\n",
    "\n",
    "# 1. 定义损失函数 采用二进制交叉熵损失, 先sigmoid再计算交叉熵\n",
    "loss_fct = F.binary_cross_entropy_with_logits\n",
    "# loss_fct =nn.BCEWithLogitsLoss()\n",
    "# 2. 定义优化器 采用 adam\n",
    "# Optimizers specified in the torch.optim package\n",
    "optimizer = torch.optim.Adam(model.parameters(), lr=0.001)\n",
    "\n",
    "# 1. tensorboard 可视化\n",
    "if not os.path.exists(\"runs\"):\n",
    "    os.mkdir(\"runs\")\n",
    "tensorboard_callback = TensorBoardCallback(\"runs/imdb-adding\")\n",
    "# tensorboard_callback.draw_model(model, [1, MAX_LENGTH])\n",
    "# 2. save best\n",
    "if not os.path.exists(\"checkpoints\"):\n",
    "    os.makedirs(\"checkpoints\")\n",
    "save_ckpt_callback = SaveCheckpointsCallback(\"checkpoints/imdb-adding\", save_step=len(train_dl), save_best_only=True)\n",
    "# 3. early stop\n",
    "early_stop_callback = EarlyStopCallback(patience=10)"
   ]
  },
  {
   "cell_type": "code",
   "execution_count": 69,
   "id": "275e79c62d4a4dbf",
   "metadata": {
    "execution": {
     "iopub.execute_input": "2025-01-23T10:54:24.431051Z",
     "iopub.status.busy": "2025-01-23T10:54:24.430897Z",
     "iopub.status.idle": "2025-01-23T10:56:48.092323Z",
     "shell.execute_reply": "2025-01-23T10:56:48.091882Z",
     "shell.execute_reply.started": "2025-01-23T10:54:24.431036Z"
    }
   },
   "outputs": [
    {
     "name": "stderr",
     "output_type": "stream",
     "text": [
      "100%|██████████| 3920/3920 [02:23<00:00, 27.29it/s, epoch=19]\n"
     ]
    }
   ],
   "source": [
    "model = model.to(device)\n",
    "record = training(\n",
    "    model,\n",
    "    train_dl,\n",
    "    test_dl,\n",
    "    epoch,\n",
    "    loss_fct,\n",
    "    optimizer,\n",
    "    tensorboard_callback=None,\n",
    "    save_ckpt_callback=save_ckpt_callback,\n",
    "    early_stop_callback=early_stop_callback,\n",
    "    eval_step=len(train_dl)\n",
    ")"
   ]
  },
  {
   "cell_type": "code",
   "execution_count": 70,
   "id": "c48a3c4ee06ecfb3",
   "metadata": {
    "execution": {
     "iopub.execute_input": "2025-01-23T10:56:48.093439Z",
     "iopub.status.busy": "2025-01-23T10:56:48.093088Z",
     "iopub.status.idle": "2025-01-23T10:56:48.257846Z",
     "shell.execute_reply": "2025-01-23T10:56:48.257402Z",
     "shell.execute_reply.started": "2025-01-23T10:56:48.093423Z"
    }
   },
   "outputs": [
    {
     "data": {
      "image/png": "[encoded data removed]",
      "text/plain": [
       "<Figure size 1000x500 with 2 Axes>"
      ]
     },
     "metadata": {},
     "output_type": "display_data"
    }
   ],
   "source": [
    "#画线要注意的是损失是不一定在零到1之间的\n",
    "def plot_learning_curves(record_dict, sample_step=500):\n",
    "    # build DataFrame\n",
    "    train_df = pd.DataFrame(record_dict[\"train\"]).set_index(\"step\").iloc[::sample_step]\n",
    "    val_df = pd.DataFrame(record_dict[\"val\"]).set_index(\"step\")\n",
    "\n",
    "    # plot\n",
    "    fig_num = len(train_df.columns)\n",
    "    fig, axs = plt.subplots(1, fig_num, figsize=(5 * fig_num, 5))\n",
    "    for idx, item in enumerate(train_df.columns):\n",
    "        axs[idx].plot(train_df.index, train_df[item], label=f\"train_{item}\")\n",
    "        axs[idx].plot(val_df.index, val_df[item], label=f\"val_{item}\")\n",
    "        axs[idx].grid()\n",
    "        axs[idx].legend()\n",
    "        # axs[idx].set_xticks(range(0, train_df.index[-1], 5000))\n",
    "        # axs[idx].set_xticklabels(map(lambda x: f\"{int(x/1000)}k\", range(0, train_df.index[-1], 5000)))\n",
    "        axs[idx].set_xlabel(\"step\")\n",
    "\n",
    "    plt.show()\n",
    "\n",
    "\n",
    "plot_learning_curves(record, sample_step=10)  #横坐标是 steps"
   ]
  },
  {
   "cell_type": "markdown",
   "id": "2f0ceddb7084a629",
   "metadata": {},
   "source": [
    "评估"
   ]
  },
  {
   "cell_type": "code",
   "execution_count": 71,
   "id": "6fea0814bea51e90",
   "metadata": {
    "execution": {
     "iopub.execute_input": "2025-01-23T10:56:48.258692Z",
     "iopub.status.busy": "2025-01-23T10:56:48.258390Z",
     "iopub.status.idle": "2025-01-23T10:56:51.344303Z",
     "shell.execute_reply": "2025-01-23T10:56:51.343817Z",
     "shell.execute_reply.started": "2025-01-23T10:56:48.258674Z"
    },
    "tags": []
   },
   "outputs": [
    {
     "name": "stdout",
     "output_type": "stream",
     "text": [
      "loss:     0.5659\n",
      "accuracy: 0.7187\n"
     ]
    }
   ],
   "source": [
    "# dataload for evaluating\n",
    "\n",
    "# load checkpoints\n",
    "model.load_state_dict(torch.load(\"checkpoints/imdb-adding/best.ckpt\", weights_only=True, map_location=\"cpu\"))\n",
    "\n",
    "model.eval()\n",
    "loss, acc = evaluating(model, test_dl, loss_fct)\n",
    "print(f\"loss:     {loss:.4f}\\naccuracy: {acc:.4f}\")"
   ]
  },
  {
   "cell_type": "markdown",
   "id": "19109b0c-7f27-4171-be3d-77eb53da7890",
   "metadata": {},
   "source": [
    "***\n",
    "#### 单向单层 RNN\n",
    "- model = RNN()  \n",
    "    - loss: 0.5264  \n",
    "    - accuracy: 0.7602  \n",
    "***\n",
    "#### 双向单层 RNN\n",
    "- model = RNN(bidirectional=True) \n",
    "    - loss: 0.5413\n",
    "    - accuracy: 0.7410\n",
    "***\n",
    "#### 单向双层 RNN\n",
    "- model = RNN(num_layers=2)  \n",
    "    - loss: 0.5293\n",
    "    - accuracy: 0.7646\n",
    "***\n",
    "#### 双向双层 RNN\n",
    "- model = RNN(bidirectional=True, num_layers=2)  \n",
    "    - loss: 0.5659\n",
    "    - accuracy: 0.7187\n",
    "***"
   ]
  },
  {
   "metadata": {},
   "cell_type": "markdown",
   "source": [
    "|| **单向单层** | **双向单层** | **单向双层** | **双向双层** |\n",
    "|------|----------|----------|----------|----------|\n",
    "|loss| 0.5264   | 0.5413   | 0.5293   | 0.5659   |\n",
    "|accuracy| 0.7602   | 0.7410   | 0.7646   | 0.7187   |"
   ],
   "id": "9d3a689acad7cb20"
  }
 ],
 "metadata": {
  "kernelspec": {
   "display_name": "Python 3 (ipykernel)",
   "language": "python",
   "name": "python3"
  },
  "language_info": {
   "codemirror_mode": {
    "name": "ipython",
    "version": 3
   },
   "file_extension": ".py",
   "mimetype": "text/x-python",
   "name": "python",
   "nbconvert_exporter": "python",
   "pygments_lexer": "ipython3",
   "version": "3.10.14"
  }
 },
 "nbformat": 4,
 "nbformat_minor": 5
}
