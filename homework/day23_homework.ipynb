{
 "cells": [
  {
   "metadata": {},
   "cell_type": "markdown",
   "source": "### homework1：完成卷积神经网络对衣服鞋子数据集的分类，并使用selu激活函数，对比效果",
   "id": "b7017faf11bceaf7"
  },
  {
   "cell_type": "code",
   "id": "initial_id",
   "metadata": {
    "collapsed": true,
    "ExecuteTime": {
     "end_time": "2025-01-20T10:03:24.841248Z",
     "start_time": "2025-01-20T10:03:22.670309Z"
    }
   },
   "source": [
    "import matplotlib as mpl\n",
    "import matplotlib.pyplot as plt\n",
    "%matplotlib inline\n",
    "import numpy as np\n",
    "import sklearn\n",
    "import pandas as pd\n",
    "import os\n",
    "import sys\n",
    "import time\n",
    "from tqdm.auto import tqdm\n",
    "import torch\n",
    "import torch.nn as nn\n",
    "import torch.nn.functional as F\n",
    "\n",
    "print(sys.version_info)\n",
    "for module in mpl, np, pd, sklearn, torch:\n",
    "    print(module.__name__, module.__version__)\n",
    "\n",
    "device = torch.device(\"cuda:0\") if torch.cuda.is_available() else torch.device(\"cpu\")\n",
    "print(device)\n",
    "\n",
    "seed = 42"
   ],
   "outputs": [
    {
     "name": "stdout",
     "output_type": "stream",
     "text": [
      "sys.version_info(major=3, minor=12, micro=3, releaselevel='final', serial=0)\n",
      "matplotlib 3.10.0\n",
      "numpy 1.26.4\n",
      "pandas 2.2.3\n",
      "sklearn 1.6.0\n",
      "torch 2.5.1+cu124\n",
      "cuda:0\n"
     ]
    }
   ],
   "execution_count": 1
  },
  {
   "metadata": {},
   "cell_type": "markdown",
   "source": "数据准备",
   "id": "3b0f9878988b35ea"
  },
  {
   "metadata": {
    "ExecuteTime": {
     "end_time": "2025-01-20T10:03:25.729892Z",
     "start_time": "2025-01-20T10:03:24.841248Z"
    }
   },
   "cell_type": "code",
   "source": [
    "from torchvision import datasets\n",
    "from torchvision.transforms import ToTensor\n",
    "from torch.utils.data import random_split\n",
    "\n",
    "# fashion_mnist图像分类数据集\n",
    "train_ds = datasets.FashionMNIST(\n",
    "    root=\"../data\",\n",
    "    train=True,\n",
    "    download=True,\n",
    "    transform=ToTensor()\n",
    ")\n",
    "\n",
    "test_ds = datasets.FashionMNIST(\n",
    "    root=\"../data\",\n",
    "    train=False,\n",
    "    download=True,\n",
    "    transform=ToTensor()\n",
    ")\n",
    "\n",
    "# torchvision 数据集里没有提供训练集和验证集的划分\n",
    "# 这里用 random_split 按照 11 : 1 的比例来划分数据集\n",
    "train_ds, val_ds = random_split(train_ds, [55000, 5000], torch.Generator().manual_seed(seed))"
   ],
   "id": "88429caf8eadfac6",
   "outputs": [],
   "execution_count": 2
  },
  {
   "metadata": {
    "ExecuteTime": {
     "end_time": "2025-01-20T10:03:28.125583Z",
     "start_time": "2025-01-20T10:03:25.729892Z"
    }
   },
   "cell_type": "code",
   "source": [
    "from torchvision.transforms import Normalize\n",
    "\n",
    "\n",
    "# 遍历train_ds得到每张图片，计算每个通道的均值和方差\n",
    "def cal_mean_std(ds):\n",
    "    mean = 0.\n",
    "    std = 0.\n",
    "    for img, _ in ds:\n",
    "        mean += img.mean(dim=(1, 2))\n",
    "        std += img.std(dim=(1, 2))\n",
    "    mean /= len(ds)\n",
    "    std /= len(ds)\n",
    "    return mean, std\n",
    "\n",
    "\n",
    "print(cal_mean_std(train_ds))"
   ],
   "id": "f378919f96c0aa95",
   "outputs": [
    {
     "name": "stdout",
     "output_type": "stream",
     "text": [
      "(tensor([0.2856]), tensor([0.3202]))\n"
     ]
    }
   ],
   "execution_count": 3
  },
  {
   "metadata": {
    "ExecuteTime": {
     "end_time": "2025-01-20T10:03:28.130306Z",
     "start_time": "2025-01-20T10:03:28.126582Z"
    }
   },
   "cell_type": "code",
   "source": [
    "# 对每个通道进行标准化\n",
    "transforms = nn.Sequential(\n",
    "    Normalize([0.2856], [0.3202])\n",
    ")"
   ],
   "id": "77ccc217973759b",
   "outputs": [],
   "execution_count": 4
  },
  {
   "metadata": {
    "ExecuteTime": {
     "end_time": "2025-01-20T10:03:28.139054Z",
     "start_time": "2025-01-20T10:03:28.132300Z"
    }
   },
   "cell_type": "code",
   "source": [
    "img, label = train_ds[0]\n",
    "img.shape, label"
   ],
   "id": "f0136b36b745b96e",
   "outputs": [
    {
     "data": {
      "text/plain": [
       "(torch.Size([1, 28, 28]), 9)"
      ]
     },
     "execution_count": 5,
     "metadata": {},
     "output_type": "execute_result"
    }
   ],
   "execution_count": 5
  },
  {
   "metadata": {
    "ExecuteTime": {
     "end_time": "2025-01-20T10:03:28.145643Z",
     "start_time": "2025-01-20T10:03:28.140063Z"
    }
   },
   "cell_type": "code",
   "source": [
    "from torch.utils.data.dataloader import DataLoader\n",
    "\n",
    "batch_size = 32\n",
    "# 从数据集到dataloader\n",
    "train_loader = DataLoader(train_ds, batch_size=batch_size, shuffle=True, num_workers=4)\n",
    "val_loader = DataLoader(val_ds, batch_size=batch_size, shuffle=False, num_workers=4)\n",
    "test_loader = DataLoader(test_ds, batch_size=batch_size, shuffle=False, num_workers=4)"
   ],
   "id": "878836de013e8f1c",
   "outputs": [],
   "execution_count": 6
  },
  {
   "metadata": {},
   "cell_type": "markdown",
   "source": "定义模型",
   "id": "8af358fd88315e2e"
  },
  {
   "metadata": {
    "ExecuteTime": {
     "end_time": "2025-01-20T10:03:28.158401Z",
     "start_time": "2025-01-20T10:03:28.147154Z"
    }
   },
   "cell_type": "code",
   "source": [
    "class CNN(nn.Module):\n",
    "    def __init__(self, activation=\"relu\"):\n",
    "        super().__init__()\n",
    "        self.activation = F.relu if activation == \"relu\" else F.selu\n",
    "        #输入通道数，图片是灰度图，所以是1，图片是彩色图，就是3，输出通道数，就是卷积核的个数（32,1,28,28）\n",
    "        #输入x(32,1,28,28) 输出x(32,32,28,28)\n",
    "        self.conv1 = nn.Conv2d(in_channels=1, out_channels=32, kernel_size=3, padding=1)\n",
    "        #输入x(32,32,28,28) 输出x(32,32,28,28)\n",
    "        self.conv2 = nn.Conv2d(in_channels=32, out_channels=32, kernel_size=3, padding=1)\n",
    "        self.pool = nn.MaxPool2d(2, 2)  #池化不能够改变通道数，池化核大小为2（2*2），步长为2  (28-2)//2+1=14\n",
    "        self.conv3 = nn.Conv2d(in_channels=32, out_channels=64, kernel_size=3, padding=1)\n",
    "        self.conv4 = nn.Conv2d(in_channels=64, out_channels=64, kernel_size=3, padding=1)\n",
    "        self.conv5 = nn.Conv2d(in_channels=64, out_channels=128, kernel_size=3, padding=1)\n",
    "        self.conv6 = nn.Conv2d(in_channels=128, out_channels=128, kernel_size=3, padding=1)\n",
    "        self.flatten = nn.Flatten()\n",
    "        # input shape is (28, 28, 1) so the fc1 layer in_features is 128 * 3 * 3\n",
    "        self.fc1 = nn.Linear(128 * 3 * 3, 128)\n",
    "        self.fc2 = nn.Linear(128, 10)  #输出尺寸（32,10）\n",
    "\n",
    "        self.init_weights()\n",
    "\n",
    "    def init_weights(self):\n",
    "        \"\"\"使用 xavier 均匀分布来初始化全连接层、卷积层的权重 W\"\"\"\n",
    "        for m in self.modules():\n",
    "            if isinstance(m, (nn.Linear, nn.Conv2d)):\n",
    "                nn.init.xavier_uniform_(m.weight)\n",
    "                nn.init.zeros_(m.bias)\n",
    "\n",
    "    def forward(self, x):\n",
    "        act = self.activation\n",
    "        x = self.pool(act(self.conv2(act(self.conv1(x)))))  # 1 * 28 * 28 -> 32 * 14 * 14\n",
    "        # print(x.shape)\n",
    "        x = self.pool(act(self.conv4(act(self.conv3(x)))))  # 32 * 14 * 14 -> 64 * 7 * 7\n",
    "        # print(x.shape)\n",
    "        x = self.pool(act(self.conv6(act(self.conv5(x)))))  # 64 * 7 * 7 -> 128 * 3 * 3\n",
    "        # print(x.shape)\n",
    "        x = self.flatten(x)  # 128 * 3 * 3 ->1152\n",
    "        x = act(self.fc1(x))  # 1152 -> 128\n",
    "        x = self.fc2(x)  # 128 -> 10\n",
    "        return x\n",
    "\n",
    "\n",
    "for idx, (key, value) in enumerate(CNN().named_parameters()):\n",
    "    print(f\"{key}\\tparamerters num: {np.prod(value.shape)}\")  # 打印模型的参数信息"
   ],
   "id": "90eba6b36164cd0a",
   "outputs": [
    {
     "name": "stdout",
     "output_type": "stream",
     "text": [
      "conv1.weight\tparamerters num: 288\n",
      "conv1.bias\tparamerters num: 32\n",
      "conv2.weight\tparamerters num: 9216\n",
      "conv2.bias\tparamerters num: 32\n",
      "conv3.weight\tparamerters num: 18432\n",
      "conv3.bias\tparamerters num: 64\n",
      "conv4.weight\tparamerters num: 36864\n",
      "conv4.bias\tparamerters num: 64\n",
      "conv5.weight\tparamerters num: 73728\n",
      "conv5.bias\tparamerters num: 128\n",
      "conv6.weight\tparamerters num: 147456\n",
      "conv6.bias\tparamerters num: 128\n",
      "fc1.weight\tparamerters num: 147456\n",
      "fc1.bias\tparamerters num: 128\n",
      "fc2.weight\tparamerters num: 1280\n",
      "fc2.bias\tparamerters num: 10\n"
     ]
    }
   ],
   "execution_count": 7
  },
  {
   "metadata": {
    "ExecuteTime": {
     "end_time": "2025-01-20T10:03:28.163056Z",
     "start_time": "2025-01-20T10:03:28.158401Z"
    }
   },
   "cell_type": "code",
   "source": [
    "#计算参数量\n",
    "print(f'conv1 - {1 * 3 * 3 * 32}')  # 32个卷积核，每个卷积核大小为1*3*3\n",
    "print(f'conv2 - {32 * 3 * 3 * 32}')  # 32个卷积核，每个卷积核大小为32*3*3\n",
    "print(f'conv3 - {32 * 3 * 3 * 64}')\n",
    "print(f'conv4 - {64 * 3 * 3 * 64}')\n",
    "print(f'conv5 - {64 * 3 * 3 * 128}')\n",
    "print(f'conv6 - {128 * 3 * 3 * 128}')\n",
    "print(f'fc1 - {1152 * 128}')\n",
    "print(f'fc2 - {128 * 10}')\n",
    "\n",
    "#对上面求和，总参数数目为：\n",
    "1 * 3 * 3 * 32 + 32 + 32 * 3 * 3 * 32 + 32 + 32 * 3 * 3 * 64 + 64 + 64 * 3 * 3 * 64 + 64 + 64 * 3 * 3 * 128 + 128 + 128 * 3 * 3 * 128 + 128 + 128 * 3 * 3 * 128 + 128 + 128 * 10 + 10"
   ],
   "id": "3adbdc13ec1ac7f9",
   "outputs": [
    {
     "name": "stdout",
     "output_type": "stream",
     "text": [
      "conv1 - 288\n",
      "conv2 - 9216\n",
      "conv3 - 18432\n",
      "conv4 - 36864\n",
      "conv5 - 73728\n",
      "conv6 - 147456\n",
      "fc1 - 147456\n",
      "fc2 - 1280\n"
     ]
    },
    {
     "data": {
      "text/plain": [
       "435306"
      ]
     },
     "execution_count": 8,
     "metadata": {},
     "output_type": "execute_result"
    }
   ],
   "execution_count": 8
  },
  {
   "metadata": {
    "ExecuteTime": {
     "end_time": "2025-01-20T10:03:28.166579Z",
     "start_time": "2025-01-20T10:03:28.163056Z"
    }
   },
   "cell_type": "code",
   "source": [
    "# 手动计算模型参数量\n",
    "288 + 32 + 9216 + 32 + 18632 + 64 + 36864 + 64 + 73728 + 128 + 147456 + 128 + 147456 + 128 + 1280 + 10"
   ],
   "id": "e9a910a23552f132",
   "outputs": [
    {
     "data": {
      "text/plain": [
       "435506"
      ]
     },
     "execution_count": 9,
     "metadata": {},
     "output_type": "execute_result"
    }
   ],
   "execution_count": 9
  },
  {
   "metadata": {
    "ExecuteTime": {
     "end_time": "2025-01-20T10:03:28.172778Z",
     "start_time": "2025-01-20T10:03:28.166579Z"
    }
   },
   "cell_type": "code",
   "source": [
    "def count_parameters(model):\n",
    "    \"\"\"\n",
    "    计算模型总参数量\n",
    "    :param model: \n",
    "    :return: \n",
    "    \"\"\"\n",
    "    return sum(p.numel() for p in model.parameters() if p.requires_grad)\n",
    "\n",
    "\n",
    "count_parameters(CNN())"
   ],
   "id": "448a894df2bc68a",
   "outputs": [
    {
     "data": {
      "text/plain": [
       "435306"
      ]
     },
     "execution_count": 10,
     "metadata": {},
     "output_type": "execute_result"
    }
   ],
   "execution_count": 10
  },
  {
   "metadata": {
    "ExecuteTime": {
     "end_time": "2025-01-20T10:03:28.182971Z",
     "start_time": "2025-01-20T10:03:28.172778Z"
    }
   },
   "cell_type": "code",
   "source": [
    "activation = \"relu\"\n",
    "model = CNN(activation)\n",
    "# model.to(device)\n",
    "img = torch.randn(1, 1, 28, 28)\n",
    "model(img)"
   ],
   "id": "c89d36631b88253e",
   "outputs": [
    {
     "data": {
      "text/plain": [
       "tensor([[-0.0048, -0.0044, -0.0199, -0.0378,  0.0036, -0.0554, -0.0188, -0.0061,\n",
       "          0.0215, -0.0495]], grad_fn=<AddmmBackward0>)"
      ]
     },
     "execution_count": 11,
     "metadata": {},
     "output_type": "execute_result"
    }
   ],
   "execution_count": 11
  },
  {
   "metadata": {},
   "cell_type": "markdown",
   "source": "模型可视化",
   "id": "a3dd872bbd53660f"
  },
  {
   "metadata": {
    "ExecuteTime": {
     "end_time": "2025-01-20T10:03:28.405394Z",
     "start_time": "2025-01-20T10:03:28.182971Z"
    }
   },
   "cell_type": "code",
   "source": [
    "from torchviz import make_dot\n",
    "\n",
    "# Assuming your model is already defined and named 'model'\n",
    "# Construct a dummy input\n",
    "dummy_input = torch.randn(1, 1, 28, 28)  # Replace with your input shape\n",
    "\n",
    "# Forward pass to generate the computation graph\n",
    "output = model(dummy_input)\n",
    "\n",
    "# Visualize the model architecture\n",
    "dot = make_dot(output, params=dict(model.named_parameters()))\n",
    "dot.render(\"model_CNN\", format=\"png\")"
   ],
   "id": "3017cf0d8e7071a",
   "outputs": [
    {
     "data": {
      "text/plain": [
       "'model_CNN.png'"
      ]
     },
     "execution_count": 12,
     "metadata": {},
     "output_type": "execute_result"
    }
   ],
   "execution_count": 12
  },
  {
   "metadata": {},
   "cell_type": "markdown",
   "source": "训练",
   "id": "e780b2344c0c8e15"
  },
  {
   "metadata": {
    "ExecuteTime": {
     "end_time": "2025-01-20T10:03:28.439040Z",
     "start_time": "2025-01-20T10:03:28.406394Z"
    }
   },
   "cell_type": "code",
   "source": [
    "from sklearn.metrics import accuracy_score\n",
    "\n",
    "\n",
    "@torch.no_grad()\n",
    "def evaluating(model, dataloader, loss_fct):\n",
    "    loss_list = []\n",
    "    pred_list = []\n",
    "    label_list = []\n",
    "    for datas, labels in dataloader:\n",
    "        datas = datas.to(device)\n",
    "        labels = labels.to(device)\n",
    "        # 前向计算\n",
    "        logits = model(datas)  # 验证集预测\n",
    "        loss = loss_fct(logits, labels)  # 验证集损失\n",
    "        loss_list.append(loss.item())  # 将验证集损失加入列表\n",
    "\n",
    "        preds = logits.argmax(axis=-1)  # 验证集预测\n",
    "        pred_list.extend(preds.cpu().numpy().tolist())  # 将验证集预测结果加入列表\n",
    "        label_list.extend(labels.cpu().numpy().tolist())  # 将验证集真实标签加入列表\n",
    "\n",
    "    acc = accuracy_score(label_list, pred_list)  # 计算验证集准确率\n",
    "    return np.mean(loss_list), acc  # 返回验证集损失均值和准确率"
   ],
   "id": "8b231d997842a8ae",
   "outputs": [],
   "execution_count": 13
  },
  {
   "metadata": {
    "ExecuteTime": {
     "end_time": "2025-01-20T10:03:30.164733Z",
     "start_time": "2025-01-20T10:03:28.441035Z"
    }
   },
   "cell_type": "code",
   "source": [
    "from torch.utils.tensorboard import SummaryWriter\n",
    "\n",
    "\n",
    "class TensorBoardCallback:\n",
    "    def __init__(self, log_dir, flush_secs=10):\n",
    "        \"\"\"\n",
    "        Args:\n",
    "            log_dir (str): dir to write log.\n",
    "            flush_secs (int, optional): write to dsk each flush_secs seconds. Defaults to 10.\n",
    "        \"\"\"\n",
    "        self.writer = SummaryWriter(log_dir=log_dir, flush_secs=flush_secs)\n",
    "\n",
    "    def draw_model(self, model, input_shape):\n",
    "        self.writer.add_graph(model, input_to_model=torch.randn(input_shape))\n",
    "\n",
    "    def add_loss_scalars(self, step, loss, val_loss):\n",
    "        self.writer.add_scalars(\n",
    "            main_tag=\"training/loss\",\n",
    "            tag_scalar_dict={\"loss\": loss, \"val_loss\": val_loss},\n",
    "            global_step=step,\n",
    "        )\n",
    "\n",
    "    def add_acc_scalars(self, step, acc, val_acc):\n",
    "        self.writer.add_scalars(\n",
    "            main_tag=\"training/accuracy\",\n",
    "            tag_scalar_dict={\"accuracy\": acc, \"val_accuracy\": val_acc},\n",
    "            global_step=step,\n",
    "        )\n",
    "\n",
    "    def add_lr_scalars(self, step, learning_rate):\n",
    "        self.writer.add_scalars(\n",
    "            main_tag=\"training/learning_rate\",\n",
    "            tag_scalar_dict={\"learning_rate\": learning_rate},\n",
    "            global_step=step,\n",
    "\n",
    "        )\n",
    "\n",
    "    def __call__(self, step, **kwargs):\n",
    "        # add loss\n",
    "        loss = kwargs.pop(\"loss\", None)\n",
    "        val_loss = kwargs.pop(\"val_loss\", None)\n",
    "        if loss is not None and val_loss is not None:\n",
    "            self.add_loss_scalars(step, loss, val_loss)\n",
    "        # add acc\n",
    "        acc = kwargs.pop(\"acc\", None)\n",
    "        val_acc = kwargs.pop(\"val_acc\", None)\n",
    "        if acc is not None and val_acc is not None:\n",
    "            self.add_acc_scalars(step, acc, val_acc)\n",
    "        # add lr\n",
    "        learning_rate = kwargs.pop(\"lr\", None)\n",
    "        if learning_rate is not None:\n",
    "            self.add_lr_scalars(step, learning_rate)"
   ],
   "id": "c444a5079bfde19e",
   "outputs": [],
   "execution_count": 14
  },
  {
   "metadata": {
    "ExecuteTime": {
     "end_time": "2025-01-20T10:03:30.169088Z",
     "start_time": "2025-01-20T10:03:30.164733Z"
    }
   },
   "cell_type": "code",
   "source": [
    "class SaveCheckpointsCallback:\n",
    "    def __init__(self, save_dir, save_step=5000, save_best_only=True):\n",
    "        \"\"\"\n",
    "        Save checkpoints each save_epoch epoch. \n",
    "        We save checkpoint by epoch in this implementation.\n",
    "        Usually, training scripts with pytorch evaluating model and save checkpoint by step.\n",
    "\n",
    "        Args:\n",
    "            save_dir (str): dir to save checkpoint\n",
    "            save_epoch (int, optional): the frequency to save checkpoint. Defaults to 1.\n",
    "            save_best_only (bool, optional): If True, only save the best model or save each model at every epoch.\n",
    "        \"\"\"\n",
    "        self.save_dir = save_dir\n",
    "        self.save_step = save_step\n",
    "        self.save_best_only = save_best_only\n",
    "        self.best_metrics = -1\n",
    "\n",
    "        # mkdir\n",
    "        if not os.path.exists(self.save_dir):\n",
    "            os.mkdir(self.save_dir)\n",
    "\n",
    "    def __call__(self, step, state_dict, metric=None):\n",
    "        if step % self.save_step > 0:\n",
    "            return\n",
    "\n",
    "        if self.save_best_only:\n",
    "            assert metric is not None\n",
    "            if metric >= self.best_metrics:\n",
    "                # save checkpoints\n",
    "                torch.save(state_dict, os.path.join(self.save_dir, \"best.ckpt\"))\n",
    "                # update best metrics\n",
    "                self.best_metrics = metric\n",
    "        else:\n",
    "            torch.save(state_dict, os.path.join(self.save_dir, f\"{step}.ckpt\"))"
   ],
   "id": "eedca043a7a7b022",
   "outputs": [],
   "execution_count": 15
  },
  {
   "metadata": {
    "ExecuteTime": {
     "end_time": "2025-01-20T10:03:30.175281Z",
     "start_time": "2025-01-20T10:03:30.170080Z"
    }
   },
   "cell_type": "code",
   "source": [
    "class EarlyStopCallback:\n",
    "    def __init__(self, patience=5, min_delta=0.01):\n",
    "        \"\"\"\n",
    "\n",
    "        Args:\n",
    "            patience (int, optional): Number of epochs with no improvement after which training will be stopped.. Defaults to 5.\n",
    "            min_delta (float, optional): Minimum change in the monitored quantity to qualify as an improvement, i.e. an absolute \n",
    "                change of less than min_delta, will count as no improvement. Defaults to 0.01.\n",
    "        \"\"\"\n",
    "        self.patience = patience\n",
    "        self.min_delta = min_delta\n",
    "        self.best_metric = -1\n",
    "        self.counter = 0\n",
    "\n",
    "    def __call__(self, metric):\n",
    "        if metric >= self.best_metric + self.min_delta:\n",
    "            # update best metric\n",
    "            self.best_metric = metric\n",
    "            # reset counter \n",
    "            self.counter = 0\n",
    "        else:\n",
    "            self.counter += 1\n",
    "\n",
    "    @property\n",
    "    def early_stop(self):\n",
    "        return self.counter >= self.patience"
   ],
   "id": "50b6675f8eaf6206",
   "outputs": [],
   "execution_count": 16
  },
  {
   "metadata": {
    "ExecuteTime": {
     "end_time": "2025-01-20T10:03:30.184618Z",
     "start_time": "2025-01-20T10:03:30.176280Z"
    }
   },
   "cell_type": "code",
   "source": [
    "# 训练\n",
    "def training(\n",
    "        model,\n",
    "        train_loader,\n",
    "        val_loader,\n",
    "        epoch,\n",
    "        loss_fct,\n",
    "        optimizer,\n",
    "        tensorboard_callback=None,\n",
    "        save_ckpt_callback=None,\n",
    "        early_stop_callback=None,\n",
    "        eval_step=500,\n",
    "):\n",
    "    record_dict = {\n",
    "        \"train\": [],\n",
    "        \"val\": []\n",
    "    }\n",
    "\n",
    "    global_step = 0\n",
    "    model.train()\n",
    "    with tqdm(total=epoch * len(train_loader)) as pbar:\n",
    "        for epoch_id in range(epoch):\n",
    "            # training\n",
    "            for datas, labels in train_loader:\n",
    "                datas = datas.to(device)\n",
    "                labels = labels.to(device)\n",
    "                # 梯度清空\n",
    "                optimizer.zero_grad()\n",
    "                # 模型前向计算\n",
    "                logits = model(datas)\n",
    "                # 计算损失\n",
    "                loss = loss_fct(logits, labels)\n",
    "                # 梯度回传\n",
    "                loss.backward()\n",
    "                # 调整优化器，包括学习率的变动等\n",
    "                optimizer.step()\n",
    "                preds = logits.argmax(axis=-1)\n",
    "\n",
    "                acc = accuracy_score(labels.cpu().numpy(), preds.cpu().numpy())\n",
    "                loss = loss.cpu().item()\n",
    "                # record\n",
    "\n",
    "                record_dict[\"train\"].append({\n",
    "                    \"loss\": loss, \"acc\": acc, \"step\": global_step\n",
    "                })\n",
    "\n",
    "                # evaluating\n",
    "                if global_step % eval_step == 0:\n",
    "                    model.eval()\n",
    "                    val_loss, val_acc = evaluating(model, val_loader, loss_fct)\n",
    "                    record_dict[\"val\"].append({\n",
    "                        \"loss\": val_loss, \"acc\": val_acc, \"step\": global_step\n",
    "                    })\n",
    "                    model.train()\n",
    "\n",
    "                    # 1. 使用 tensorboard 可视化\n",
    "                    if tensorboard_callback is not None:\n",
    "                        tensorboard_callback(\n",
    "                            global_step,\n",
    "                            loss=loss, val_loss=val_loss,\n",
    "                            acc=acc, val_acc=val_acc,\n",
    "                            lr=optimizer.param_groups[0][\"lr\"],\n",
    "                        )\n",
    "\n",
    "                    # 2. 保存模型权重 save model checkpoint\n",
    "                    if save_ckpt_callback is not None:\n",
    "                        save_ckpt_callback(global_step, model.state_dict(), metric=val_acc)\n",
    "\n",
    "                    # 3. 早停 Early Stop\n",
    "                    if early_stop_callback is not None:\n",
    "                        early_stop_callback(val_acc)\n",
    "                        if early_stop_callback.early_stop:\n",
    "                            print(f\"Early stop at epoch {epoch_id} / global_step {global_step}\")\n",
    "                            return record_dict\n",
    "\n",
    "                # udate step\n",
    "                global_step += 1\n",
    "                pbar.update(1)\n",
    "                pbar.set_postfix({\"epoch\": epoch_id})\n",
    "\n",
    "    return record_dict"
   ],
   "id": "ba0f93cf0b3f792f",
   "outputs": [],
   "execution_count": 17
  },
  {
   "metadata": {},
   "cell_type": "markdown",
   "source": "#### relu",
   "id": "df8a9328259e429c"
  },
  {
   "metadata": {
    "ExecuteTime": {
     "end_time": "2025-01-20T10:03:30.288119Z",
     "start_time": "2025-01-20T10:03:30.185618Z"
    }
   },
   "cell_type": "code",
   "source": [
    "epoch = 20\n",
    "\n",
    "activation = \"relu\"\n",
    "model = CNN(activation)\n",
    "\n",
    "# 1. 定义损失函数 采用交叉熵损失\n",
    "loss_fct = nn.CrossEntropyLoss()\n",
    "# 2. 定义优化器 采用SGD\n",
    "# Optimizers specified in the torch.optim package\n",
    "optimizer = torch.optim.SGD(model.parameters(), lr=0.001, momentum=0.9)\n",
    "\n",
    "# 1. tensorboard 可视化\n",
    "if not os.path.exists(\"runs\"):\n",
    "    os.mkdir(\"runs\")\n",
    "tensorboard_callback = TensorBoardCallback(f\"runs/cnn-{activation}\")\n",
    "tensorboard_callback.draw_model(model, [1, 1, 28, 28])\n",
    "# 2. save best\n",
    "if not os.path.exists(\"checkpoints\"):\n",
    "    os.makedirs(\"checkpoints\")\n",
    "save_ckpt_callback = SaveCheckpointsCallback(f\"checkpoints/cnn-{activation}\", save_best_only=True)\n",
    "# 3. early stop\n",
    "early_stop_callback = EarlyStopCallback(patience=10)"
   ],
   "id": "bbb5b88c9c6f33f5",
   "outputs": [],
   "execution_count": 18
  },
  {
   "metadata": {
    "ExecuteTime": {
     "end_time": "2025-01-20T10:09:36.033817Z",
     "start_time": "2025-01-20T10:03:30.288119Z"
    }
   },
   "cell_type": "code",
   "source": [
    "model = model.to(device)\n",
    "record = training(\n",
    "    model,\n",
    "    train_loader,\n",
    "    val_loader,\n",
    "    epoch,\n",
    "    loss_fct,\n",
    "    optimizer,\n",
    "    tensorboard_callback=None,\n",
    "    save_ckpt_callback=save_ckpt_callback,\n",
    "    early_stop_callback=early_stop_callback,\n",
    "    eval_step=1000\n",
    ")"
   ],
   "id": "21b2005b933fbb7b",
   "outputs": [
    {
     "data": {
      "text/plain": [
       "  0%|          | 0/34380 [00:00<?, ?it/s]"
      ],
      "application/vnd.jupyter.widget-view+json": {
       "version_major": 2,
       "version_minor": 0,
       "model_id": "9744046e523b42adb45a9bfe58109cb4"
      }
     },
     "metadata": {},
     "output_type": "display_data"
    },
    {
     "name": "stdout",
     "output_type": "stream",
     "text": [
      "Early stop at epoch 18 / global_step 31000\n"
     ]
    }
   ],
   "execution_count": 19
  },
  {
   "metadata": {
    "ExecuteTime": {
     "end_time": "2025-01-20T10:09:36.162071Z",
     "start_time": "2025-01-20T10:09:36.033817Z"
    }
   },
   "cell_type": "code",
   "source": [
    "#画线要注意的是损失是不一定在零到1之间的\n",
    "def plot_learning_curves(record_dict, sample_step=500):\n",
    "    # build DataFrame\n",
    "    train_df = pd.DataFrame(record_dict[\"train\"]).set_index(\"step\").iloc[::sample_step]\n",
    "    val_df = pd.DataFrame(record_dict[\"val\"]).set_index(\"step\")\n",
    "\n",
    "    # plot\n",
    "    fig_num = len(train_df.columns)\n",
    "    fig, axs = plt.subplots(1, fig_num, figsize=(5 * fig_num, 5))\n",
    "    for idx, item in enumerate(train_df.columns):\n",
    "        axs[idx].plot(train_df.index, train_df[item], label=f\"train_{item}\")\n",
    "        axs[idx].plot(val_df.index, val_df[item], label=f\"val_{item}\")\n",
    "        axs[idx].grid()\n",
    "        axs[idx].legend()\n",
    "        axs[idx].set_xticks(range(0, train_df.index[-1], 5000))\n",
    "        axs[idx].set_xticklabels(map(lambda x: f\"{int(x / 1000)}k\", range(0, train_df.index[-1], 5000)))\n",
    "        axs[idx].set_xlabel(\"step\")\n",
    "\n",
    "    plt.show()\n",
    "\n",
    "\n",
    "plot_learning_curves(record, sample_step=500)  #横坐标是 steps"
   ],
   "id": "bc26c9309ffaaf7f",
   "outputs": [
    {
     "data": {
      "text/plain": [
       "<Figure size 1000x500 with 2 Axes>"
      ],
      "image/png": "[encoded data removed]"
     },
     "metadata": {},
     "output_type": "display_data"
    }
   ],
   "execution_count": 20
  },
  {
   "metadata": {},
   "cell_type": "markdown",
   "source": "评估",
   "id": "938bc4442ad9bf41"
  },
  {
   "metadata": {
    "ExecuteTime": {
     "end_time": "2025-01-20T10:09:39.431157Z",
     "start_time": "2025-01-20T10:09:36.163071Z"
    }
   },
   "cell_type": "code",
   "source": [
    "# dataload for evaluating\n",
    "\n",
    "# load checkpoints\n",
    "model.load_state_dict(torch.load(f\"checkpoints/cnn-{activation}/best.ckpt\", weights_only=True, map_location=\"cpu\"))\n",
    "\n",
    "model.eval()\n",
    "loss, acc = evaluating(model, test_loader, loss_fct)\n",
    "print(f\"loss:     {loss:.4f}\\naccuracy: {acc:.4f}\")"
   ],
   "id": "a9b489f96b83ed7a",
   "outputs": [
    {
     "name": "stdout",
     "output_type": "stream",
     "text": [
      "loss:     0.3191\n",
      "accuracy: 0.8931\n"
     ]
    }
   ],
   "execution_count": 21
  },
  {
   "metadata": {},
   "cell_type": "markdown",
   "source": "#### selu",
   "id": "75201cabc497f2fb"
  },
  {
   "metadata": {
    "ExecuteTime": {
     "end_time": "2025-01-20T10:09:39.501167Z",
     "start_time": "2025-01-20T10:09:39.431157Z"
    }
   },
   "cell_type": "code",
   "source": [
    "epoch = 20\n",
    "\n",
    "activation = \"selu\"\n",
    "model = CNN(activation)\n",
    "\n",
    "# 1. 定义损失函数 采用交叉熵损失\n",
    "loss_fct = nn.CrossEntropyLoss()\n",
    "# 2. 定义优化器 采用SGD\n",
    "# Optimizers specified in the torch.optim package\n",
    "optimizer = torch.optim.SGD(model.parameters(), lr=0.001, momentum=0.9)\n",
    "\n",
    "# 1. tensorboard 可视化\n",
    "if not os.path.exists(\"runs\"):\n",
    "    os.mkdir(\"runs\")\n",
    "tensorboard_callback = TensorBoardCallback(f\"runs/cnn-{activation}\")\n",
    "tensorboard_callback.draw_model(model, [1, 1, 28, 28])\n",
    "# 2. save best\n",
    "if not os.path.exists(\"checkpoints\"):\n",
    "    os.makedirs(\"checkpoints\")\n",
    "save_ckpt_callback = SaveCheckpointsCallback(f\"checkpoints/cnn-{activation}\", save_best_only=True)\n",
    "# 3. early stop\n",
    "early_stop_callback = EarlyStopCallback(patience=10)"
   ],
   "id": "f67a55c03f44dc1f",
   "outputs": [],
   "execution_count": 22
  },
  {
   "metadata": {
    "ExecuteTime": {
     "end_time": "2025-01-20T10:15:05.251785Z",
     "start_time": "2025-01-20T10:09:39.501167Z"
    }
   },
   "cell_type": "code",
   "source": [
    "model = model.to(device)\n",
    "record = training(\n",
    "    model,\n",
    "    train_loader,\n",
    "    val_loader,\n",
    "    epoch,\n",
    "    loss_fct,\n",
    "    optimizer,\n",
    "    tensorboard_callback=None,\n",
    "    save_ckpt_callback=save_ckpt_callback,\n",
    "    early_stop_callback=early_stop_callback,\n",
    "    eval_step=1000\n",
    ")"
   ],
   "id": "c1f03d2e1fef2e0c",
   "outputs": [
    {
     "data": {
      "text/plain": [
       "  0%|          | 0/34380 [00:00<?, ?it/s]"
      ],
      "application/vnd.jupyter.widget-view+json": {
       "version_major": 2,
       "version_minor": 0,
       "model_id": "57f591de56f542989dd176f7e53b2f40"
      }
     },
     "metadata": {},
     "output_type": "display_data"
    },
    {
     "name": "stdout",
     "output_type": "stream",
     "text": [
      "Early stop at epoch 16 / global_step 28000\n"
     ]
    }
   ],
   "execution_count": 23
  },
  {
   "metadata": {
    "ExecuteTime": {
     "end_time": "2025-01-20T10:15:05.348733Z",
     "start_time": "2025-01-20T10:15:05.251785Z"
    }
   },
   "cell_type": "code",
   "source": [
    "#画线要注意的是损失是不一定在零到1之间的\n",
    "def plot_learning_curves(record_dict, sample_step=500):\n",
    "    # build DataFrame\n",
    "    train_df = pd.DataFrame(record_dict[\"train\"]).set_index(\"step\").iloc[::sample_step]\n",
    "    val_df = pd.DataFrame(record_dict[\"val\"]).set_index(\"step\")\n",
    "\n",
    "    # plot\n",
    "    fig_num = len(train_df.columns)\n",
    "    fig, axs = plt.subplots(1, fig_num, figsize=(5 * fig_num, 5))\n",
    "    for idx, item in enumerate(train_df.columns):\n",
    "        axs[idx].plot(train_df.index, train_df[item], label=f\"train_{item}\")\n",
    "        axs[idx].plot(val_df.index, val_df[item], label=f\"val_{item}\")\n",
    "        axs[idx].grid()\n",
    "        axs[idx].legend()\n",
    "        axs[idx].set_xticks(range(0, train_df.index[-1], 5000))\n",
    "        axs[idx].set_xticklabels(map(lambda x: f\"{int(x / 1000)}k\", range(0, train_df.index[-1], 5000)))\n",
    "        axs[idx].set_xlabel(\"step\")\n",
    "\n",
    "    plt.show()\n",
    "\n",
    "\n",
    "plot_learning_curves(record, sample_step=500)  #横坐标是 steps"
   ],
   "id": "1dd746886b9f071",
   "outputs": [
    {
     "data": {
      "text/plain": [
       "<Figure size 1000x500 with 2 Axes>"
      ],
      "image/png": "[encoded data removed]"
     },
     "metadata": {},
     "output_type": "display_data"
    }
   ],
   "execution_count": 24
  },
  {
   "metadata": {},
   "cell_type": "markdown",
   "source": "评估",
   "id": "e0b5d00aacef1778"
  },
  {
   "metadata": {
    "ExecuteTime": {
     "end_time": "2025-01-20T10:15:08.657066Z",
     "start_time": "2025-01-20T10:15:05.348733Z"
    }
   },
   "cell_type": "code",
   "source": [
    "# dataload for evaluating\n",
    "\n",
    "# load checkpoints\n",
    "model.load_state_dict(torch.load(f\"checkpoints/cnn-{activation}/best.ckpt\", weights_only=True, map_location=\"cpu\"))\n",
    "\n",
    "model.eval()\n",
    "loss, acc = evaluating(model, test_loader, loss_fct)\n",
    "print(f\"loss:     {loss:.4f}\\naccuracy: {acc:.4f}\")"
   ],
   "id": "fa407223557beae9",
   "outputs": [
    {
     "name": "stdout",
     "output_type": "stream",
     "text": [
      "loss:     0.2620\n",
      "accuracy: 0.9184\n"
     ]
    }
   ],
   "execution_count": 25
  },
  {
   "metadata": {},
   "cell_type": "markdown",
   "source": "### homework2：完成深度可分离卷积神经网络对衣服鞋子数据集的分类，对比准确率的差异",
   "id": "892fa1d94fd8cbe6"
  },
  {
   "metadata": {
    "ExecuteTime": {
     "end_time": "2025-01-20T10:48:55.243792Z",
     "start_time": "2025-01-20T10:48:55.237807Z"
    }
   },
   "cell_type": "code",
   "source": [
    "import matplotlib as mpl\n",
    "import matplotlib.pyplot as plt\n",
    "%matplotlib inline\n",
    "import numpy as np\n",
    "import sklearn\n",
    "import pandas as pd\n",
    "import os\n",
    "import sys\n",
    "import time\n",
    "from tqdm.auto import tqdm\n",
    "import torch\n",
    "import torch.nn as nn\n",
    "import torch.nn.functional as F\n",
    "\n",
    "print(sys.version_info)\n",
    "for module in mpl, np, pd, sklearn, torch:\n",
    "    print(module.__name__, module.__version__)\n",
    "\n",
    "device = torch.device(\"cuda:0\") if torch.cuda.is_available() else torch.device(\"cpu\")\n",
    "print(device)\n",
    "\n",
    "seed = 42"
   ],
   "id": "920191c010cd590c",
   "outputs": [
    {
     "name": "stdout",
     "output_type": "stream",
     "text": [
      "sys.version_info(major=3, minor=12, micro=3, releaselevel='final', serial=0)\n",
      "matplotlib 3.10.0\n",
      "numpy 1.26.4\n",
      "pandas 2.2.3\n",
      "sklearn 1.6.0\n",
      "torch 2.5.1+cu124\n",
      "cuda:0\n"
     ]
    }
   ],
   "execution_count": 26
  },
  {
   "metadata": {},
   "cell_type": "markdown",
   "source": "数据准备",
   "id": "7a87d700aedcf5d9"
  },
  {
   "metadata": {
    "ExecuteTime": {
     "end_time": "2025-01-20T10:48:55.302598Z",
     "start_time": "2025-01-20T10:48:55.270206Z"
    }
   },
   "cell_type": "code",
   "source": [
    "from torchvision import datasets\n",
    "from torchvision.transforms import ToTensor\n",
    "from torch.utils.data import random_split\n",
    "\n",
    "# fashion_mnist图像分类数据集\n",
    "train_ds = datasets.FashionMNIST(\n",
    "    root=\"../data\",\n",
    "    train=True,\n",
    "    download=True,\n",
    "    transform=ToTensor()\n",
    ")\n",
    "\n",
    "test_ds = datasets.FashionMNIST(\n",
    "    root=\"../data\",\n",
    "    train=False,\n",
    "    download=True,\n",
    "    transform=ToTensor()\n",
    ")\n",
    "\n",
    "# torchvision 数据集里没有提供训练集和验证集的划分\n",
    "# 这里用 random_split 按照 11 : 1 的比例来划分数据集\n",
    "train_ds, val_ds = random_split(train_ds, [55000, 5000], torch.Generator().manual_seed(seed))"
   ],
   "id": "5c918f049c2ff4c8",
   "outputs": [],
   "execution_count": 27
  },
  {
   "metadata": {
    "ExecuteTime": {
     "end_time": "2025-01-20T10:48:55.306562Z",
     "start_time": "2025-01-20T10:48:55.303597Z"
    }
   },
   "cell_type": "code",
   "source": [
    "from torchvision.transforms import Normalize\n",
    "\n",
    "\n",
    "# 遍历train_ds得到每张图片，计算每个通道的均值和方差\n",
    "def cal_mean_std(ds):\n",
    "    mean = 0.\n",
    "    std = 0.\n",
    "    for img, _ in ds:\n",
    "        mean += img.mean(dim=(1, 2))\n",
    "        std += img.std(dim=(1, 2))\n",
    "    mean /= len(ds)\n",
    "    std /= len(ds)\n",
    "    return mean, std\n",
    "\n",
    "\n",
    "# print(cal_mean_std(train_ds))\n",
    "# 0.2860， 0.3205\n",
    "transforms = nn.Sequential(\n",
    "    Normalize([0.2856], [0.3202])\n",
    ")"
   ],
   "id": "57543be312916988",
   "outputs": [],
   "execution_count": 28
  },
  {
   "metadata": {
    "ExecuteTime": {
     "end_time": "2025-01-20T10:48:55.315143Z",
     "start_time": "2025-01-20T10:48:55.306562Z"
    }
   },
   "cell_type": "code",
   "source": [
    "from torch.utils.data.dataloader import DataLoader\n",
    "\n",
    "batch_size = 32\n",
    "# 从数据集到dataloader\n",
    "train_loader = DataLoader(train_ds, batch_size=batch_size, shuffle=True, num_workers=4)\n",
    "val_loader = DataLoader(val_ds, batch_size=batch_size, shuffle=False, num_workers=4)\n",
    "test_loader = DataLoader(test_ds, batch_size=batch_size, shuffle=False, num_workers=4)"
   ],
   "id": "3efce07daf7768f8",
   "outputs": [],
   "execution_count": 29
  },
  {
   "metadata": {},
   "cell_type": "markdown",
   "source": "定义模型",
   "id": "52d759acb17aa3cc"
  },
  {
   "metadata": {},
   "cell_type": "markdown",
   "source": [
    "使用深度可分离的卷积  \n",
    "pytorch需要自行实现"
   ],
   "id": "87a1f31ed41a6780"
  },
  {
   "metadata": {
    "ExecuteTime": {
     "end_time": "2025-01-20T10:48:55.320050Z",
     "start_time": "2025-01-20T10:48:55.316141Z"
    }
   },
   "cell_type": "code",
   "source": [
    "# 定义深度可分离卷积层\n",
    "class DepthWiseConv2d(nn.Module):\n",
    "    def __init__(self, in_channels, out_channels, kernel_size, stride=1, padding=0, bias=True):\n",
    "        \"\"\"\n",
    "        初始化深度可分离卷积层。\n",
    "\n",
    "        参数:\n",
    "        - in_channels (int): 输入特征图的通道数。\n",
    "        - out_channels (int): 输出特征图的通道数。\n",
    "        - kernel_size (int or tuple): 卷积核的大小。\n",
    "        - stride (int or tuple, optional): 卷积步幅。默认为1。\n",
    "        - padding (int or tuple, optional): 输入特征图的填充大小。默认为0。\n",
    "        - bias (bool, optional): 是否在卷积中使用偏置项。默认为True。\n",
    "        \"\"\"\n",
    "        super(DepthWiseConv2d, self).__init__()  # 调用父类的初始化方法\n",
    "\n",
    "        # 深度卷积层：每个输入通道使用一个独立的卷积核进行卷积\n",
    "        # groups=in_channels 表示每个输入通道使用一个独立的卷积核\n",
    "        self.depthwise_conv = nn.Conv2d(in_channels, in_channels, kernel_size, stride, padding, groups=in_channels,\n",
    "                                        bias=False)\n",
    "\n",
    "        # 逐点卷积层：使用1x1卷积核将深度卷积的输出通道数从in_channels变为out_channels\n",
    "        self.pointwise_conv = nn.Conv2d(in_channels, out_channels, 1, 1, 0, bias=bias)\n",
    "\n",
    "    def forward(self, x):\n",
    "        \"\"\"\n",
    "        前向传播函数。\n",
    "\n",
    "        参数:\n",
    "        - x (torch.Tensor): 输入特征图，形状为 (batch_size, in_channels, height, width)\n",
    "\n",
    "        返回:\n",
    "        - torch.Tensor: 输出特征图，形状为 (batch_size, out_channels, height_out, width_out)\n",
    "        \"\"\"\n",
    "        # 首先进行深度卷积\n",
    "        x = self.depthwise_conv(x)\n",
    "\n",
    "        # 然后进行逐点卷积\n",
    "        x = self.pointwise_conv(x)\n",
    "\n",
    "        return x"
   ],
   "id": "9164c1d89f7e21c6",
   "outputs": [],
   "execution_count": 30
  },
  {
   "metadata": {
    "ExecuteTime": {
     "end_time": "2025-01-20T10:48:55.329672Z",
     "start_time": "2025-01-20T10:48:55.320050Z"
    }
   },
   "cell_type": "code",
   "source": [
    "class CNN(nn.Module):\n",
    "    def __init__(self, activation=\"relu\"):\n",
    "        super().__init__()\n",
    "        self.activation = F.relu if activation == \"relu\" else F.selu\n",
    "        self.conv1 = nn.Conv2d(in_channels=1, out_channels=32, kernel_size=3, padding=\"same\")\n",
    "        self.conv2 = DepthWiseConv2d(in_channels=32, out_channels=32, kernel_size=3, padding=\"same\")\n",
    "        self.pool = nn.MaxPool2d(2, 2)\n",
    "        self.conv3 = DepthWiseConv2d(in_channels=32, out_channels=64, kernel_size=3, padding=\"same\")\n",
    "        self.conv4 = DepthWiseConv2d(in_channels=64, out_channels=64, kernel_size=3, padding=\"same\")\n",
    "        self.conv5 = DepthWiseConv2d(in_channels=64, out_channels=128, kernel_size=3, padding=\"same\")\n",
    "        self.conv6 = DepthWiseConv2d(in_channels=128, out_channels=128, kernel_size=3, padding=\"same\")\n",
    "        self.flatten = nn.Flatten()\n",
    "        # input shape is (28, 28, 1) so the fc1 layer in_features is 128 * 3 * 3\n",
    "        self.fc1 = nn.Linear(128 * 3 * 3, 128)\n",
    "        self.fc2 = nn.Linear(128, 10)\n",
    "\n",
    "        self.init_weights()\n",
    "\n",
    "    def init_weights(self):\n",
    "        \"\"\"使用 xavier 均匀分布来初始化全连接层、卷积层的权重 W\"\"\"\n",
    "        for m in self.modules():\n",
    "            if isinstance(m, (nn.Linear, nn.Conv2d)):\n",
    "                nn.init.xavier_uniform_(m.weight)\n",
    "                if m.bias is not None:\n",
    "                    nn.init.zeros_(m.bias)\n",
    "\n",
    "    def forward(self, x):\n",
    "        act = self.activation\n",
    "        #x -->(batch_size, 1, 28, 28)\n",
    "        x = self.pool(act(self.conv2(act(self.conv1(x)))))  # (batch_size, 32, 14, 14)\n",
    "        x = self.pool(act(self.conv4(act(self.conv3(x)))))  # (batch_size, 64, 7, 7)\n",
    "        x = self.pool(act(self.conv6(act(self.conv5(x)))))  # (batch_size, 128, 3, 3)\n",
    "        x = self.flatten(x)  # (batch_size, 128 * 3 * 3)\n",
    "        x = act(self.fc1(x))  # (batch_size, 128)\n",
    "        x = self.fc2(x)  # (batch_size, 10)\n",
    "        return x\n",
    "\n",
    "\n",
    "for idx, (key, value) in enumerate(CNN().named_parameters()):\n",
    "    print(f\"{key}\\tparamerters num: {np.prod(value.shape)}\")"
   ],
   "id": "7fca742c15f5e6e3",
   "outputs": [
    {
     "name": "stdout",
     "output_type": "stream",
     "text": [
      "conv1.weight\tparamerters num: 288\n",
      "conv1.bias\tparamerters num: 32\n",
      "conv2.depthwise_conv.weight\tparamerters num: 288\n",
      "conv2.pointwise_conv.weight\tparamerters num: 1024\n",
      "conv2.pointwise_conv.bias\tparamerters num: 32\n",
      "conv3.depthwise_conv.weight\tparamerters num: 288\n",
      "conv3.pointwise_conv.weight\tparamerters num: 2048\n",
      "conv3.pointwise_conv.bias\tparamerters num: 64\n",
      "conv4.depthwise_conv.weight\tparamerters num: 576\n",
      "conv4.pointwise_conv.weight\tparamerters num: 4096\n",
      "conv4.pointwise_conv.bias\tparamerters num: 64\n",
      "conv5.depthwise_conv.weight\tparamerters num: 576\n",
      "conv5.pointwise_conv.weight\tparamerters num: 8192\n",
      "conv5.pointwise_conv.bias\tparamerters num: 128\n",
      "conv6.depthwise_conv.weight\tparamerters num: 1152\n",
      "conv6.pointwise_conv.weight\tparamerters num: 16384\n",
      "conv6.pointwise_conv.bias\tparamerters num: 128\n",
      "fc1.weight\tparamerters num: 147456\n",
      "fc1.bias\tparamerters num: 128\n",
      "fc2.weight\tparamerters num: 1280\n",
      "fc2.bias\tparamerters num: 10\n"
     ]
    }
   ],
   "execution_count": 31
  },
  {
   "metadata": {
    "ExecuteTime": {
     "end_time": "2025-01-20T10:49:24.956010Z",
     "start_time": "2025-01-20T10:49:24.950525Z"
    }
   },
   "cell_type": "code",
   "source": [
    "def count_parameters(model):  #计算模型总参数量\n",
    "    return sum(p.numel() for p in model.parameters() if p.requires_grad)\n",
    "\n",
    "\n",
    "count_parameters(CNN())"
   ],
   "id": "4b7825079feeab5",
   "outputs": [
    {
     "data": {
      "text/plain": [
       "184234"
      ]
     },
     "execution_count": 32,
     "metadata": {},
     "output_type": "execute_result"
    }
   ],
   "execution_count": 32
  },
  {
   "metadata": {
    "ExecuteTime": {
     "end_time": "2025-01-20T11:17:16.994532Z",
     "start_time": "2025-01-20T11:17:16.988387Z"
    }
   },
   "cell_type": "code",
   "source": "3 * 3 * 32 * 1 + 32 + 3 * 3 * 32 + 1 * 1 * 32 * 32 + 32 + 3 * 3 * 32 + 1 * 1 * 64 * 32 + 64 + 3 * 3 * 64 + 1 * 1 * 64 * 64 + 64 + 3 * 3 * 64 + 1 * 1 * 128 * 64 + 128 + 3 * 3 * 128 + 1 * 1 * 128 * 128 + 128 + 128 * 3 * 3 * 128 + 128 + 128 * 10 + 10",
   "id": "85e67f597c99aad8",
   "outputs": [
    {
     "data": {
      "text/plain": [
       "184234"
      ]
     },
     "execution_count": 49,
     "metadata": {},
     "output_type": "execute_result"
    }
   ],
   "execution_count": 49
  },
  {
   "metadata": {
    "ExecuteTime": {
     "end_time": "2025-01-20T11:13:32.416535Z",
     "start_time": "2025-01-20T11:13:32.413283Z"
    }
   },
   "cell_type": "code",
   "source": "288 + 288 + 288 + 1024 + 2048 + 576 + 576 + 4096 + 8192 + 1152 + 16384 + 147456 + 1280",
   "id": "6f0013caef1c16a1",
   "outputs": [
    {
     "data": {
      "text/plain": [
       "183648"
      ]
     },
     "execution_count": 46,
     "metadata": {},
     "output_type": "execute_result"
    }
   ],
   "execution_count": 46
  },
  {
   "metadata": {
    "ExecuteTime": {
     "end_time": "2025-01-20T11:13:32.420083Z",
     "start_time": "2025-01-20T11:13:32.416535Z"
    }
   },
   "cell_type": "code",
   "source": "32 + 32 + 64 + 64 + 128 + 128 + 128 + 10",
   "id": "c0470ddfe27e93c6",
   "outputs": [
    {
     "data": {
      "text/plain": [
       "586"
      ]
     },
     "execution_count": 47,
     "metadata": {},
     "output_type": "execute_result"
    }
   ],
   "execution_count": 47
  },
  {
   "metadata": {
    "ExecuteTime": {
     "end_time": "2025-01-20T11:13:32.423138Z",
     "start_time": "2025-01-20T11:13:32.420083Z"
    }
   },
   "cell_type": "code",
   "source": "183648 + 586",
   "id": "a189343d59d20691",
   "outputs": [
    {
     "data": {
      "text/plain": [
       "184234"
      ]
     },
     "execution_count": 48,
     "metadata": {},
     "output_type": "execute_result"
    }
   ],
   "execution_count": 48
  },
  {
   "metadata": {},
   "cell_type": "markdown",
   "source": "训练",
   "id": "394dd77211f4c7e8"
  },
  {
   "metadata": {
    "ExecuteTime": {
     "end_time": "2025-01-20T10:53:49.364435Z",
     "start_time": "2025-01-20T10:53:49.359937Z"
    }
   },
   "cell_type": "code",
   "source": [
    "from sklearn.metrics import accuracy_score\n",
    "\n",
    "\n",
    "@torch.no_grad()\n",
    "def evaluating(model, dataloader, loss_fct):\n",
    "    loss_list = []\n",
    "    pred_list = []\n",
    "    label_list = []\n",
    "    for datas, labels in dataloader:\n",
    "        datas = datas.to(device)\n",
    "        labels = labels.to(device)\n",
    "        # 前向计算\n",
    "        logits = model(datas)\n",
    "        loss = loss_fct(logits, labels)  # 验证集损失\n",
    "        loss_list.append(loss.item())\n",
    "\n",
    "        preds = logits.argmax(axis=-1)  # 验证集预测\n",
    "        pred_list.extend(preds.cpu().numpy().tolist())\n",
    "        label_list.extend(labels.cpu().numpy().tolist())\n",
    "\n",
    "    acc = accuracy_score(label_list, pred_list)\n",
    "    return np.mean(loss_list), acc"
   ],
   "id": "4dfce37dddb12fd9",
   "outputs": [],
   "execution_count": 33
  },
  {
   "metadata": {
    "ExecuteTime": {
     "end_time": "2025-01-20T10:53:49.432409Z",
     "start_time": "2025-01-20T10:53:49.427178Z"
    }
   },
   "cell_type": "code",
   "source": [
    "from torch.utils.tensorboard import SummaryWriter\n",
    "\n",
    "\n",
    "class TensorBoardCallback:\n",
    "    def __init__(self, log_dir, flush_secs=10):\n",
    "        \"\"\"\n",
    "        Args:\n",
    "            log_dir (str): dir to write log.\n",
    "            flush_secs (int, optional): write to dsk each flush_secs seconds. Defaults to 10.\n",
    "        \"\"\"\n",
    "        self.writer = SummaryWriter(log_dir=log_dir, flush_secs=flush_secs)\n",
    "\n",
    "    def draw_model(self, model, input_shape):\n",
    "        self.writer.add_graph(model, input_to_model=torch.randn(input_shape))\n",
    "\n",
    "    def add_loss_scalars(self, step, loss, val_loss):\n",
    "        self.writer.add_scalars(\n",
    "            main_tag=\"training/loss\",\n",
    "            tag_scalar_dict={\"loss\": loss, \"val_loss\": val_loss},\n",
    "            global_step=step,\n",
    "        )\n",
    "\n",
    "    def add_acc_scalars(self, step, acc, val_acc):\n",
    "        self.writer.add_scalars(\n",
    "            main_tag=\"training/accuracy\",\n",
    "            tag_scalar_dict={\"accuracy\": acc, \"val_accuracy\": val_acc},\n",
    "            global_step=step,\n",
    "        )\n",
    "\n",
    "    def add_lr_scalars(self, step, learning_rate):\n",
    "        self.writer.add_scalars(\n",
    "            main_tag=\"training/learning_rate\",\n",
    "            tag_scalar_dict={\"learning_rate\": learning_rate},\n",
    "            global_step=step,\n",
    "\n",
    "        )\n",
    "\n",
    "    def __call__(self, step, **kwargs):\n",
    "        # add loss\n",
    "        loss = kwargs.pop(\"loss\", None)\n",
    "        val_loss = kwargs.pop(\"val_loss\", None)\n",
    "        if loss is not None and val_loss is not None:\n",
    "            self.add_loss_scalars(step, loss, val_loss)\n",
    "        # add acc\n",
    "        acc = kwargs.pop(\"acc\", None)\n",
    "        val_acc = kwargs.pop(\"val_acc\", None)\n",
    "        if acc is not None and val_acc is not None:\n",
    "            self.add_acc_scalars(step, acc, val_acc)\n",
    "        # add lr\n",
    "        learning_rate = kwargs.pop(\"lr\", None)\n",
    "        if learning_rate is not None:\n",
    "            self.add_lr_scalars(step, learning_rate)"
   ],
   "id": "7811fdf2746bf221",
   "outputs": [],
   "execution_count": 34
  },
  {
   "metadata": {
    "ExecuteTime": {
     "end_time": "2025-01-20T10:53:49.437955Z",
     "start_time": "2025-01-20T10:53:49.434404Z"
    }
   },
   "cell_type": "code",
   "source": [
    "class SaveCheckpointsCallback:\n",
    "    def __init__(self, save_dir, save_step=5000, save_best_only=True):\n",
    "        \"\"\"\n",
    "        Save checkpoints each save_epoch epoch. \n",
    "        We save checkpoint by epoch in this implementation.\n",
    "        Usually, training scripts with pytorch evaluating model and save checkpoint by step.\n",
    "\n",
    "        Args:\n",
    "            save_dir (str): dir to save checkpoint\n",
    "            save_epoch (int, optional): the frequency to save checkpoint. Defaults to 1.\n",
    "            save_best_only (bool, optional): If True, only save the best model or save each model at every epoch.\n",
    "        \"\"\"\n",
    "        self.save_dir = save_dir\n",
    "        self.save_step = save_step\n",
    "        self.save_best_only = save_best_only\n",
    "        self.best_metrics = -1\n",
    "\n",
    "        # mkdir\n",
    "        if not os.path.exists(self.save_dir):\n",
    "            os.mkdir(self.save_dir)\n",
    "\n",
    "    def __call__(self, step, state_dict, metric=None):\n",
    "        if step % self.save_step > 0:\n",
    "            return\n",
    "\n",
    "        if self.save_best_only:\n",
    "            assert metric is not None\n",
    "            if metric >= self.best_metrics:\n",
    "                # save checkpoints\n",
    "                torch.save(state_dict, os.path.join(self.save_dir, \"best.ckpt\"))\n",
    "                # update best metrics\n",
    "                self.best_metrics = metric\n",
    "        else:\n",
    "            torch.save(state_dict, os.path.join(self.save_dir, f\"{step}.ckpt\"))"
   ],
   "id": "1bebe1800e086d9c",
   "outputs": [],
   "execution_count": 35
  },
  {
   "metadata": {
    "ExecuteTime": {
     "end_time": "2025-01-20T10:53:49.467928Z",
     "start_time": "2025-01-20T10:53:49.463869Z"
    }
   },
   "cell_type": "code",
   "source": [
    "class EarlyStopCallback:\n",
    "    def __init__(self, patience=5, min_delta=0.01):\n",
    "        \"\"\"\n",
    "\n",
    "        Args:\n",
    "            patience (int, optional): Number of epochs with no improvement after which training will be stopped.. Defaults to 5.\n",
    "            min_delta (float, optional): Minimum change in the monitored quantity to qualify as an improvement, i.e. an absolute \n",
    "                change of less than min_delta, will count as no improvement. Defaults to 0.01.\n",
    "        \"\"\"\n",
    "        self.patience = patience\n",
    "        self.min_delta = min_delta\n",
    "        self.best_metric = -1\n",
    "        self.counter = 0\n",
    "\n",
    "    def __call__(self, metric):\n",
    "        if metric >= self.best_metric + self.min_delta:\n",
    "            # update best metric\n",
    "            self.best_metric = metric\n",
    "            # reset counter \n",
    "            self.counter = 0\n",
    "        else:\n",
    "            self.counter += 1\n",
    "\n",
    "    @property\n",
    "    def early_stop(self):\n",
    "        return self.counter >= self.patience"
   ],
   "id": "6889cf64e613458",
   "outputs": [],
   "execution_count": 36
  },
  {
   "metadata": {
    "ExecuteTime": {
     "end_time": "2025-01-20T10:53:49.508454Z",
     "start_time": "2025-01-20T10:53:49.502811Z"
    }
   },
   "cell_type": "code",
   "source": [
    "# 训练\n",
    "def training(\n",
    "        model,\n",
    "        train_loader,\n",
    "        val_loader,\n",
    "        epoch,\n",
    "        loss_fct,\n",
    "        optimizer,\n",
    "        tensorboard_callback=None,\n",
    "        save_ckpt_callback=None,\n",
    "        early_stop_callback=None,\n",
    "        eval_step=500,\n",
    "):\n",
    "    record_dict = {\n",
    "        \"train\": [],\n",
    "        \"val\": []\n",
    "    }\n",
    "\n",
    "    global_step = 0\n",
    "    model.train()\n",
    "    with tqdm(total=epoch * len(train_loader)) as pbar:\n",
    "        for epoch_id in range(epoch):\n",
    "            # training\n",
    "            for datas, labels in train_loader:\n",
    "                datas = datas.to(device)\n",
    "                labels = labels.to(device)\n",
    "                # 梯度清空\n",
    "                optimizer.zero_grad()\n",
    "                # 模型前向计算\n",
    "                logits = model(datas)\n",
    "                # 计算损失\n",
    "                loss = loss_fct(logits, labels)\n",
    "                # 梯度回传\n",
    "                loss.backward()\n",
    "                # 调整优化器，包括学习率的变动等\n",
    "                optimizer.step()\n",
    "                preds = logits.argmax(axis=-1)\n",
    "\n",
    "                acc = accuracy_score(labels.cpu().numpy(), preds.cpu().numpy())\n",
    "                loss = loss.cpu().item()\n",
    "                # record\n",
    "\n",
    "                record_dict[\"train\"].append({\n",
    "                    \"loss\": loss, \"acc\": acc, \"step\": global_step\n",
    "                })\n",
    "\n",
    "                # evaluating\n",
    "                if global_step % eval_step == 0:\n",
    "                    model.eval()\n",
    "                    val_loss, val_acc = evaluating(model, val_loader, loss_fct)\n",
    "                    record_dict[\"val\"].append({\n",
    "                        \"loss\": val_loss, \"acc\": val_acc, \"step\": global_step\n",
    "                    })\n",
    "                    model.train()\n",
    "\n",
    "                    # 1. 使用 tensorboard 可视化\n",
    "                    if tensorboard_callback is not None:\n",
    "                        tensorboard_callback(\n",
    "                            global_step,\n",
    "                            loss=loss, val_loss=val_loss,\n",
    "                            acc=acc, val_acc=val_acc,\n",
    "                            lr=optimizer.param_groups[0][\"lr\"],\n",
    "                        )\n",
    "\n",
    "                    # 2. 保存模型权重 save model checkpoint\n",
    "                    if save_ckpt_callback is not None:\n",
    "                        save_ckpt_callback(global_step, model.state_dict(), metric=val_acc)\n",
    "\n",
    "                    # 3. 早停 Early Stop\n",
    "                    if early_stop_callback is not None:\n",
    "                        early_stop_callback(val_acc)\n",
    "                        if early_stop_callback.early_stop:\n",
    "                            print(f\"Early stop at epoch {epoch_id} / global_step {global_step}\")\n",
    "                            return record_dict\n",
    "\n",
    "                # udate step\n",
    "                global_step += 1\n",
    "                pbar.update(1)\n",
    "                pbar.set_postfix({\"epoch\": epoch_id})\n",
    "\n",
    "    return record_dict"
   ],
   "id": "ddad712e9fd149f2",
   "outputs": [],
   "execution_count": 37
  },
  {
   "metadata": {
    "ExecuteTime": {
     "end_time": "2025-01-20T11:18:19.158119Z",
     "start_time": "2025-01-20T11:18:19.056082Z"
    }
   },
   "cell_type": "code",
   "source": [
    "epoch = 40\n",
    "\n",
    "activation = \"selu\"\n",
    "model = CNN(activation)\n",
    "\n",
    "# 1. 定义损失函数 采用交叉熵损失\n",
    "loss_fct = nn.CrossEntropyLoss()\n",
    "# 2. 定义优化器 采用SGD\n",
    "# Optimizers specified in the torch.optim package\n",
    "optimizer = torch.optim.SGD(model.parameters(), lr=0.001, momentum=0.9)\n",
    "\n",
    "# 1. tensorboard 可视化\n",
    "if not os.path.exists(\"runs\"):\n",
    "    os.mkdir(\"runs\")\n",
    "tensorboard_callback = TensorBoardCallback(f\"runs/dsc-{activation}\")\n",
    "tensorboard_callback.draw_model(model, [1, 1, 28, 28])\n",
    "# 2. save best\n",
    "if not os.path.exists(\"checkpoints\"):\n",
    "    os.makedirs(\"checkpoints\")\n",
    "save_ckpt_callback = SaveCheckpointsCallback(f\"checkpoints/dsc-{activation}\", save_step=len(train_loader),\n",
    "                                             save_best_only=True)\n",
    "# 3. early stop\n",
    "early_stop_callback = EarlyStopCallback(patience=10)"
   ],
   "id": "6f886721e9dad1aa",
   "outputs": [],
   "execution_count": 50
  },
  {
   "metadata": {
    "ExecuteTime": {
     "end_time": "2025-01-20T11:29:50.022544Z",
     "start_time": "2025-01-20T11:18:19.159115Z"
    }
   },
   "cell_type": "code",
   "source": [
    "model = model.to(device)\n",
    "record = training(\n",
    "    model,\n",
    "    train_loader,\n",
    "    val_loader,\n",
    "    epoch,\n",
    "    loss_fct,\n",
    "    optimizer,\n",
    "    tensorboard_callback=None,\n",
    "    save_ckpt_callback=save_ckpt_callback,\n",
    "    early_stop_callback=early_stop_callback,\n",
    "    eval_step=len(train_loader)\n",
    ")"
   ],
   "id": "77b8a4a6cc1336d9",
   "outputs": [
    {
     "data": {
      "text/plain": [
       "  0%|          | 0/68760 [00:00<?, ?it/s]"
      ],
      "application/vnd.jupyter.widget-view+json": {
       "version_major": 2,
       "version_minor": 0,
       "model_id": "012d2141584b4b1bbbc6ba78f88ae378"
      }
     },
     "metadata": {},
     "output_type": "display_data"
    },
    {
     "name": "stdout",
     "output_type": "stream",
     "text": [
      "Early stop at epoch 32 / global_step 55008\n"
     ]
    }
   ],
   "execution_count": 51
  },
  {
   "metadata": {
    "ExecuteTime": {
     "end_time": "2025-01-20T11:29:50.149115Z",
     "start_time": "2025-01-20T11:29:50.022544Z"
    }
   },
   "cell_type": "code",
   "source": [
    "#画线要注意的是损失是不一定在零到1之间的\n",
    "def plot_learning_curves(record_dict, sample_step=500):\n",
    "    # build DataFrame\n",
    "    train_df = pd.DataFrame(record_dict[\"train\"]).set_index(\"step\").iloc[::sample_step]\n",
    "    val_df = pd.DataFrame(record_dict[\"val\"]).set_index(\"step\")\n",
    "\n",
    "    # plot\n",
    "    fig_num = len(train_df.columns)\n",
    "    fig, axs = plt.subplots(1, fig_num, figsize=(5 * fig_num, 5))\n",
    "    for idx, item in enumerate(train_df.columns):\n",
    "        axs[idx].plot(train_df.index, train_df[item], label=f\"train_{item}\")\n",
    "        axs[idx].plot(val_df.index, val_df[item], label=f\"val_{item}\")\n",
    "        axs[idx].grid()\n",
    "        axs[idx].legend()\n",
    "        axs[idx].set_xticks(range(0, train_df.index[-1], 5000))\n",
    "        axs[idx].set_xticklabels(map(lambda x: f\"{int(x / 1000)}k\", range(0, train_df.index[-1], 5000)))\n",
    "        axs[idx].set_xlabel(\"step\")\n",
    "\n",
    "    plt.show()\n",
    "\n",
    "\n",
    "plot_learning_curves(record, sample_step=500)  #横坐标是 steps"
   ],
   "id": "368311f46f432b31",
   "outputs": [
    {
     "data": {
      "text/plain": [
       "<Figure size 1000x500 with 2 Axes>"
      ],
      "image/png": "[encoded data removed]"
     },
     "metadata": {},
     "output_type": "display_data"
    }
   ],
   "execution_count": 52
  },
  {
   "metadata": {},
   "cell_type": "markdown",
   "source": "评估",
   "id": "77387bbefffb3e92"
  },
  {
   "metadata": {
    "ExecuteTime": {
     "end_time": "2025-01-20T11:29:53.475079Z",
     "start_time": "2025-01-20T11:29:50.150112Z"
    }
   },
   "cell_type": "code",
   "source": [
    "# dataload for evaluating\n",
    "\n",
    "# load checkpoints\n",
    "model.load_state_dict(torch.load(f\"checkpoints/dsc-{activation}/best.ckpt\", weights_only=True, map_location=\"cpu\"))\n",
    "\n",
    "model.eval()\n",
    "loss, acc = evaluating(model, test_loader, loss_fct)\n",
    "print(f\"loss:     {loss:.4f}\\naccuracy: {acc:.4f}\")"
   ],
   "id": "4c039d9dbc46d120",
   "outputs": [
    {
     "name": "stdout",
     "output_type": "stream",
     "text": [
      "loss:     0.3127\n",
      "accuracy: 0.8892\n"
     ]
    }
   ],
   "execution_count": 53
  },
  {
   "metadata": {},
   "cell_type": "markdown",
   "source": "### homework3：使用resnet50实现10-monkeys，和原有经典cnn解决10-monkeys问题进行对比",
   "id": "b30e1499efb1a3da"
  },
  {
   "metadata": {},
   "cell_type": "markdown",
   "source": "CNN解决10-monkeys问题",
   "id": "ae1d7ebc3ecf3f0e"
  },
  {
   "metadata": {},
   "cell_type": "code",
   "outputs": [],
   "execution_count": null,
   "source": [
    "import matplotlib as mpl\n",
    "import matplotlib.pyplot as plt\n",
    "%matplotlib inline\n",
    "import numpy as np\n",
    "import sklearn\n",
    "import pandas as pd\n",
    "import os\n",
    "import sys\n",
    "import time\n",
    "from tqdm.auto import tqdm\n",
    "import torch\n",
    "import torch.nn as nn\n",
    "import torch.nn.functional as F\n",
    "\n",
    "print(sys.version_info)\n",
    "for module in mpl, np, pd, sklearn, torch:\n",
    "    print(module.__name__, module.__version__)\n",
    "\n",
    "device = torch.device(\"cuda:0\") if torch.cuda.is_available() else torch.device(\"cpu\")\n",
    "print(device)\n",
    "\n",
    "seed = 42"
   ],
   "id": "692a56ee58787f1f"
  },
  {
   "metadata": {},
   "cell_type": "markdown",
   "source": "数据准备",
   "id": "f64776b98ae6a243"
  },
  {
   "metadata": {
    "ExecuteTime": {
     "end_time": "2025-01-20T11:32:10.344639Z",
     "start_time": "2025-01-20T11:32:10.233687Z"
    }
   },
   "cell_type": "code",
   "source": "!tree archive",
   "id": "d1b9144fa95fc",
   "outputs": [
    {
     "name": "stdout",
     "output_type": "stream",
     "text": [
      "文件夹 PATH 列表\n",
      "卷序列号为 000000A3 E62D:21C0\n",
      "G:\\MY_FIRST_GITHUB\\HOMEWORK\\ARCHIVE\n",
      "├─training\n",
      "│  ├─n0\n",
      "│  ├─n1\n",
      "│  ├─n2\n",
      "│  ├─n3\n",
      "│  ├─n4\n",
      "│  ├─n5\n",
      "│  ├─n6\n",
      "│  ├─n7\n",
      "│  ├─n8\n",
      "│  └─n9\n",
      "└─validation\n",
      "    ├─n0\n",
      "    ├─n1\n",
      "    ├─n2\n",
      "    ├─n3\n",
      "    ├─n4\n",
      "    ├─n5\n",
      "    ├─n6\n",
      "    ├─n7\n",
      "    ├─n8\n",
      "    └─n9\n"
     ]
    }
   ],
   "execution_count": 54
  },
  {
   "metadata": {
    "ExecuteTime": {
     "end_time": "2025-01-20T11:38:51.563955Z",
     "start_time": "2025-01-20T11:38:51.554873Z"
    }
   },
   "cell_type": "code",
   "source": [
    "from torchvision import datasets\n",
    "from torchvision.transforms import ToTensor, Resize, Compose, ConvertImageDtype, Normalize\n",
    "from pathlib import Path\n",
    "\n",
    "# 定义数据集的根目录\n",
    "DATA_DIR = Path(\"./archive/\")\n",
    "\n",
    "\n",
    "# 定义一个继承自 `torchvision.datasets.ImageFolder` 的自定义数据集类\n",
    "class MonkeyDataset(datasets.ImageFolder):\n",
    "    def __init__(self, mode, transform=None):\n",
    "        \"\"\"\n",
    "        初始化 MonkeyDataset 类。\n",
    "\n",
    "        参数:\n",
    "        - mode: 数据集模式，可以是 \"train\" 或 \"val\"，分别表示训练集和验证集。\n",
    "        - transform: 数据预处理操作，如缩放、归一化等。\n",
    "        \"\"\"\n",
    "        # 根据 mode 参数确定数据集的根目录\n",
    "        if mode == \"train\":\n",
    "            root = DATA_DIR / \"training\"  # 训练集路径\n",
    "        elif mode == \"val\":\n",
    "            root = DATA_DIR / \"validation\"  # 验证集路径\n",
    "        else:\n",
    "            # 如果 mode 不是 \"train\" 或 \"val\"，抛出异常\n",
    "            raise ValueError(\"mode should be one of the following: train, val, but got {}\".format(mode))\n",
    "\n",
    "        # 调用父类 ImageFolder 的初始化方法，传入根目录和 transform\n",
    "        super().__init__(root, transform)\n",
    "\n",
    "        # self.samples 是一个列表，包含图片路径和标签的元组 [(path, label), (path, label),...]\n",
    "        # 这里将标签提取出来，存储在 self.targets 中\n",
    "        self.targets = [s[1] for s in self.samples]\n",
    "\n",
    "\n",
    "# 预先设定的图片尺寸\n",
    "img_h, img_w = 128, 128\n",
    "\n",
    "# 定义数据预处理操作\n",
    "transform = Compose([\n",
    "    Resize((img_h, img_w)),  # 将图片缩放到指定尺寸 (128x128)\n",
    "    ToTensor(),  # 将图片转换为 PyTorch 的 Tensor 格式\n",
    "    # 对图片进行归一化处理，均值和标准差是预先统计的\n",
    "    Normalize([0.4363, 0.4328, 0.3291], [0.2085, 0.2032, 0.1988]),\n",
    "    ConvertImageDtype(torch.float),  # 将图片数据类型转换为 float\n",
    "])\n",
    "\n",
    "# 创建训练集和验证集实例\n",
    "train_ds = MonkeyDataset(\"train\", transform=transform)\n",
    "val_ds = MonkeyDataset(\"val\", transform=transform)\n",
    "\n",
    "# 打印训练集和验证集的图片数量\n",
    "print(\"load {} images from training dataset\".format(len(train_ds)))\n",
    "print(\"load {} images from validation dataset\".format(len(val_ds)))"
   ],
   "id": "bd6b4efd6fd7757c",
   "outputs": [
    {
     "name": "stdout",
     "output_type": "stream",
     "text": [
      "load 1097 images from training dataset\n",
      "load 272 images from validation dataset\n"
     ]
    }
   ],
   "execution_count": 60
  },
  {
   "metadata": {
    "ExecuteTime": {
     "end_time": "2025-01-20T11:36:15.888208Z",
     "start_time": "2025-01-20T11:36:15.884222Z"
    }
   },
   "cell_type": "code",
   "source": [
    "# 数据类别\n",
    "train_ds.classes"
   ],
   "id": "423273d010da0f7d",
   "outputs": [
    {
     "data": {
      "text/plain": [
       "['n0', 'n1', 'n2', 'n3', 'n4', 'n5', 'n6', 'n7', 'n8', 'n9']"
      ]
     },
     "execution_count": 56,
     "metadata": {},
     "output_type": "execute_result"
    }
   ],
   "execution_count": 56
  },
  {
   "metadata": {
    "ExecuteTime": {
     "end_time": "2025-01-20T11:36:24.574831Z",
     "start_time": "2025-01-20T11:36:24.571243Z"
    }
   },
   "cell_type": "code",
   "source": "train_ds.class_to_idx",
   "id": "c7c7fe44a939df73",
   "outputs": [
    {
     "data": {
      "text/plain": [
       "{'n0': 0,\n",
       " 'n1': 1,\n",
       " 'n2': 2,\n",
       " 'n3': 3,\n",
       " 'n4': 4,\n",
       " 'n5': 5,\n",
       " 'n6': 6,\n",
       " 'n7': 7,\n",
       " 'n8': 8,\n",
       " 'n9': 9}"
      ]
     },
     "execution_count": 57,
     "metadata": {},
     "output_type": "execute_result"
    }
   ],
   "execution_count": 57
  },
  {
   "metadata": {
    "ExecuteTime": {
     "end_time": "2025-01-20T11:57:31.874476Z",
     "start_time": "2025-01-20T11:57:31.866414Z"
    }
   },
   "cell_type": "code",
   "source": [
    "# # 图片路径 及 标签\n",
    "i = 0\n",
    "for fpath, label in train_ds.samples:\n",
    "    print(fpath, label)\n",
    "    i += 1\n",
    "    if i == 10:\n",
    "        break\n",
    "\n",
    "#这个和之前的dataset完全一致\n",
    "for img, label in train_ds:\n",
    "    # c, h, w  label\n",
    "    print(img.shape, label)\n",
    "    break"
   ],
   "id": "5d1f4da4b8e26240",
   "outputs": [
    {
     "name": "stdout",
     "output_type": "stream",
     "text": [
      "archive\\training\\n0\\n0018.jpg 0\n",
      "archive\\training\\n0\\n0019.jpg 0\n",
      "archive\\training\\n0\\n0020.jpg 0\n",
      "archive\\training\\n0\\n0021.jpg 0\n",
      "archive\\training\\n0\\n0022.jpg 0\n",
      "archive\\training\\n0\\n0023.jpg 0\n",
      "archive\\training\\n0\\n0024.jpg 0\n",
      "archive\\training\\n0\\n0025.jpg 0\n",
      "archive\\training\\n0\\n0026.jpg 0\n",
      "archive\\training\\n0\\n0027.jpg 0\n",
      "torch.Size([3, 128, 128]) 0\n"
     ]
    }
   ],
   "execution_count": 82
  },
  {
   "metadata": {
    "ExecuteTime": {
     "end_time": "2025-01-20T11:39:08.489583Z",
     "start_time": "2025-01-20T11:38:56.644578Z"
    }
   },
   "cell_type": "code",
   "source": [
    "#因为有3通道，所有有3个mean和std\n",
    "def cal_mean_std(ds):\n",
    "    mean = 0.\n",
    "    std = 0.\n",
    "    for img, _ in ds:\n",
    "        mean += img[:, :, :].mean(dim=(1, 2))\n",
    "        std += img[:, :, :].std(dim=(1, 2))\n",
    "    mean /= len(ds)\n",
    "    std /= len(ds)\n",
    "    return mean, std\n",
    "\n",
    "# 经过 normalize 后 均值为0，方差为1\n",
    "# print(cal_mean_std(train_ds))"
   ],
   "id": "305aeb12de488f8e",
   "outputs": [
    {
     "name": "stdout",
     "output_type": "stream",
     "text": [
      "(tensor([0.4363, 0.4328, 0.3291]), tensor([0.2085, 0.2032, 0.1988]))\n"
     ]
    }
   ],
   "execution_count": 61
  },
  {
   "metadata": {
    "ExecuteTime": {
     "end_time": "2025-01-20T11:39:33.207417Z",
     "start_time": "2025-01-20T11:39:33.200055Z"
    }
   },
   "cell_type": "code",
   "source": [
    "import torch.nn as nn\n",
    "from torch.utils.data.dataloader import DataLoader\n",
    "\n",
    "batch_size = 64\n",
    "# 从数据集到dataloader，num_workers参数不能加，否则会报错\n",
    "# https://github.com/pytorch/pytorch/issues/59438\n",
    "train_loader = DataLoader(train_ds, batch_size=batch_size, shuffle=True)\n",
    "val_loader = DataLoader(val_ds, batch_size=batch_size, shuffle=False)"
   ],
   "id": "8fa2d5a2af9ad136",
   "outputs": [],
   "execution_count": 62
  },
  {
   "metadata": {},
   "cell_type": "markdown",
   "source": "定义模型",
   "id": "2a9b21a2112d478"
  },
  {
   "metadata": {
    "ExecuteTime": {
     "end_time": "2025-01-20T11:40:21.892710Z",
     "start_time": "2025-01-20T11:40:21.854701Z"
    }
   },
   "cell_type": "code",
   "source": [
    "class CNN(nn.Module):\n",
    "    def __init__(self, num_classes=10, activation=\"relu\"):\n",
    "        super().__init__()\n",
    "        self.activation = F.relu if activation == \"relu\" else F.selu\n",
    "        self.conv1 = nn.Conv2d(in_channels=3, out_channels=32, kernel_size=3, padding=\"same\")\n",
    "        self.conv2 = nn.Conv2d(in_channels=32, out_channels=32, kernel_size=3, padding=\"same\")\n",
    "        self.pool = nn.MaxPool2d(2, 2)\n",
    "        self.conv3 = nn.Conv2d(in_channels=32, out_channels=64, kernel_size=3, padding=\"same\")\n",
    "        self.conv4 = nn.Conv2d(in_channels=64, out_channels=64, kernel_size=3, padding=\"same\")\n",
    "        self.conv5 = nn.Conv2d(in_channels=64, out_channels=128, kernel_size=3, padding=\"same\")\n",
    "        self.conv6 = nn.Conv2d(in_channels=128, out_channels=128, kernel_size=3, padding=\"same\")\n",
    "        self.flatten = nn.Flatten()\n",
    "        # input shape is (3, 128, 128) so the flatten output shape is 128 * 16 * 16\n",
    "        self.fc1 = nn.Linear(128 * 16 * 16, 128)\n",
    "        self.fc2 = nn.Linear(128, num_classes)\n",
    "\n",
    "        self.init_weights()\n",
    "\n",
    "    def init_weights(self):\n",
    "        \"\"\"使用 xavier 均匀分布来初始化全连接层、卷积层的权重 W\"\"\"\n",
    "        for m in self.modules():\n",
    "            if isinstance(m, (nn.Linear, nn.Conv2d)):\n",
    "                nn.init.xavier_uniform_(m.weight)\n",
    "                nn.init.zeros_(m.bias)\n",
    "\n",
    "    def forward(self, x):\n",
    "        act = self.activation\n",
    "        x = self.pool(act(self.conv2(act(self.conv1(x)))))\n",
    "        x = self.pool(act(self.conv4(act(self.conv3(x)))))\n",
    "        x = self.pool(act(self.conv6(act(self.conv5(x)))))\n",
    "        x = self.flatten(x)\n",
    "        x = act(self.fc1(x))\n",
    "        x = self.fc2(x)\n",
    "        return x\n",
    "\n",
    "\n",
    "for idx, (key, value) in enumerate(CNN().named_parameters()):\n",
    "    print(f\"{key}\\tparamerters num: {np.prod(value.shape)}\")"
   ],
   "id": "482a9375f53771a0",
   "outputs": [
    {
     "name": "stdout",
     "output_type": "stream",
     "text": [
      "conv1.weight\tparamerters num: 864\n",
      "conv1.bias\tparamerters num: 32\n",
      "conv2.weight\tparamerters num: 9216\n",
      "conv2.bias\tparamerters num: 32\n",
      "conv3.weight\tparamerters num: 18432\n",
      "conv3.bias\tparamerters num: 64\n",
      "conv4.weight\tparamerters num: 36864\n",
      "conv4.bias\tparamerters num: 64\n",
      "conv5.weight\tparamerters num: 73728\n",
      "conv5.bias\tparamerters num: 128\n",
      "conv6.weight\tparamerters num: 147456\n",
      "conv6.bias\tparamerters num: 128\n",
      "fc1.weight\tparamerters num: 4194304\n",
      "fc1.bias\tparamerters num: 128\n",
      "fc2.weight\tparamerters num: 1280\n",
      "fc2.bias\tparamerters num: 10\n"
     ]
    }
   ],
   "execution_count": 63
  },
  {
   "metadata": {
    "ExecuteTime": {
     "end_time": "2025-01-20T11:40:30.436018Z",
     "start_time": "2025-01-20T11:40:30.407238Z"
    }
   },
   "cell_type": "code",
   "source": [
    "def count_parameters(model):  #计算模型总参数量\n",
    "    return sum(p.numel() for p in model.parameters() if p.requires_grad)\n",
    "\n",
    "\n",
    "count_parameters(CNN())"
   ],
   "id": "d70c9e930ee45284",
   "outputs": [
    {
     "data": {
      "text/plain": [
       "4482730"
      ]
     },
     "execution_count": 64,
     "metadata": {},
     "output_type": "execute_result"
    }
   ],
   "execution_count": 64
  },
  {
   "metadata": {},
   "cell_type": "markdown",
   "source": "训练",
   "id": "fa1f3772a903527b"
  },
  {
   "metadata": {
    "ExecuteTime": {
     "end_time": "2025-01-20T11:42:50.979486Z",
     "start_time": "2025-01-20T11:42:50.975562Z"
    }
   },
   "cell_type": "code",
   "source": [
    "from sklearn.metrics import accuracy_score\n",
    "\n",
    "\n",
    "@torch.no_grad()\n",
    "def evaluating(model, dataloader, loss_fct):\n",
    "    loss_list = []\n",
    "    pred_list = []\n",
    "    label_list = []\n",
    "    for datas, labels in dataloader:\n",
    "        datas = datas.to(device)\n",
    "        labels = labels.to(device)\n",
    "        # 前向计算\n",
    "        logits = model(datas)\n",
    "        loss = loss_fct(logits, labels)  # 验证集损失\n",
    "        loss_list.append(loss.item())\n",
    "\n",
    "        preds = logits.argmax(axis=-1)  # 验证集预测\n",
    "        pred_list.extend(preds.cpu().numpy().tolist())\n",
    "        label_list.extend(labels.cpu().numpy().tolist())\n",
    "\n",
    "    acc = accuracy_score(label_list, pred_list)\n",
    "    return np.mean(loss_list), acc"
   ],
   "id": "d10f1d87e37054df",
   "outputs": [],
   "execution_count": 65
  },
  {
   "metadata": {
    "ExecuteTime": {
     "end_time": "2025-01-20T11:42:51.060028Z",
     "start_time": "2025-01-20T11:42:51.054889Z"
    }
   },
   "cell_type": "code",
   "source": [
    "from torch.utils.tensorboard import SummaryWriter\n",
    "\n",
    "\n",
    "class TensorBoardCallback:\n",
    "    def __init__(self, log_dir, flush_secs=10):\n",
    "        \"\"\"\n",
    "        Args:\n",
    "            log_dir (str): dir to write log.\n",
    "            flush_secs (int, optional): write to dsk each flush_secs seconds. Defaults to 10.\n",
    "        \"\"\"\n",
    "        self.writer = SummaryWriter(log_dir=log_dir, flush_secs=flush_secs)\n",
    "\n",
    "    def draw_model(self, model, input_shape):\n",
    "        self.writer.add_graph(model, input_to_model=torch.randn(input_shape))\n",
    "\n",
    "    def add_loss_scalars(self, step, loss, val_loss):\n",
    "        self.writer.add_scalars(\n",
    "            main_tag=\"training/loss\",\n",
    "            tag_scalar_dict={\"loss\": loss, \"val_loss\": val_loss},\n",
    "            global_step=step,\n",
    "        )\n",
    "\n",
    "    def add_acc_scalars(self, step, acc, val_acc):\n",
    "        self.writer.add_scalars(\n",
    "            main_tag=\"training/accuracy\",\n",
    "            tag_scalar_dict={\"accuracy\": acc, \"val_accuracy\": val_acc},\n",
    "            global_step=step,\n",
    "        )\n",
    "\n",
    "    def add_lr_scalars(self, step, learning_rate):\n",
    "        self.writer.add_scalars(\n",
    "            main_tag=\"training/learning_rate\",\n",
    "            tag_scalar_dict={\"learning_rate\": learning_rate},\n",
    "            global_step=step,\n",
    "\n",
    "        )\n",
    "\n",
    "    def __call__(self, step, **kwargs):\n",
    "        # add loss\n",
    "        loss = kwargs.pop(\"loss\", None)\n",
    "        val_loss = kwargs.pop(\"val_loss\", None)\n",
    "        if loss is not None and val_loss is not None:\n",
    "            self.add_loss_scalars(step, loss, val_loss)\n",
    "        # add acc\n",
    "        acc = kwargs.pop(\"acc\", None)\n",
    "        val_acc = kwargs.pop(\"val_acc\", None)\n",
    "        if acc is not None and val_acc is not None:\n",
    "            self.add_acc_scalars(step, acc, val_acc)\n",
    "        # add lr\n",
    "        learning_rate = kwargs.pop(\"lr\", None)\n",
    "        if learning_rate is not None:\n",
    "            self.add_lr_scalars(step, learning_rate)"
   ],
   "id": "a3cab500f57d867f",
   "outputs": [],
   "execution_count": 66
  },
  {
   "metadata": {
    "ExecuteTime": {
     "end_time": "2025-01-20T11:42:51.089046Z",
     "start_time": "2025-01-20T11:42:51.083941Z"
    }
   },
   "cell_type": "code",
   "source": [
    "class SaveCheckpointsCallback:\n",
    "    def __init__(self, save_dir, save_step=5000, save_best_only=True):\n",
    "        \"\"\"\n",
    "        Save checkpoints each save_epoch epoch. \n",
    "        We save checkpoint by epoch in this implementation.\n",
    "        Usually, training scripts with pytorch evaluating model and save checkpoint by step.\n",
    "\n",
    "        Args:\n",
    "            save_dir (str): dir to save checkpoint\n",
    "            save_epoch (int, optional): the frequency to save checkpoint. Defaults to 1.\n",
    "            save_best_only (bool, optional): If True, only save the best model or save each model at every epoch.\n",
    "        \"\"\"\n",
    "        self.save_dir = save_dir\n",
    "        self.save_step = save_step\n",
    "        self.save_best_only = save_best_only\n",
    "        self.best_metrics = -1\n",
    "\n",
    "        # mkdir\n",
    "        if not os.path.exists(self.save_dir):\n",
    "            os.mkdir(self.save_dir)\n",
    "\n",
    "    def __call__(self, step, state_dict, metric=None):\n",
    "        if step % self.save_step > 0:\n",
    "            return\n",
    "\n",
    "        if self.save_best_only:\n",
    "            assert metric is not None\n",
    "            if metric >= self.best_metrics:\n",
    "                # save checkpoints\n",
    "                torch.save(state_dict, os.path.join(self.save_dir, \"best.ckpt\"))\n",
    "                # update best metrics\n",
    "                self.best_metrics = metric\n",
    "        else:\n",
    "            torch.save(state_dict, os.path.join(self.save_dir, f\"{step}.ckpt\"))"
   ],
   "id": "9c0f53ea7d60b3a1",
   "outputs": [],
   "execution_count": 67
  },
  {
   "metadata": {
    "ExecuteTime": {
     "end_time": "2025-01-20T11:42:51.111004Z",
     "start_time": "2025-01-20T11:42:51.106983Z"
    }
   },
   "cell_type": "code",
   "source": [
    "class EarlyStopCallback:\n",
    "    def __init__(self, patience=5, min_delta=0.01):\n",
    "        \"\"\"\n",
    "\n",
    "        Args:\n",
    "            patience (int, optional): Number of epochs with no improvement after which training will be stopped.. Defaults to 5.\n",
    "            min_delta (float, optional): Minimum change in the monitored quantity to qualify as an improvement, i.e. an absolute \n",
    "                change of less than min_delta, will count as no improvement. Defaults to 0.01.\n",
    "        \"\"\"\n",
    "        self.patience = patience\n",
    "        self.min_delta = min_delta\n",
    "        self.best_metric = -1\n",
    "        self.counter = 0\n",
    "\n",
    "    def __call__(self, metric):\n",
    "        if metric >= self.best_metric + self.min_delta:\n",
    "            # update best metric\n",
    "            self.best_metric = metric\n",
    "            # reset counter \n",
    "            self.counter = 0\n",
    "        else:\n",
    "            self.counter += 1\n",
    "\n",
    "    @property\n",
    "    def early_stop(self):\n",
    "        return self.counter >= self.patience"
   ],
   "id": "cf54a09159cdd3d2",
   "outputs": [],
   "execution_count": 68
  },
  {
   "metadata": {
    "ExecuteTime": {
     "end_time": "2025-01-20T11:42:51.142816Z",
     "start_time": "2025-01-20T11:42:51.137881Z"
    }
   },
   "cell_type": "code",
   "source": [
    "# 训练\n",
    "def training(\n",
    "        model,\n",
    "        train_loader,\n",
    "        val_loader,\n",
    "        epoch,\n",
    "        loss_fct,\n",
    "        optimizer,\n",
    "        tensorboard_callback=None,\n",
    "        save_ckpt_callback=None,\n",
    "        early_stop_callback=None,\n",
    "        eval_step=500,\n",
    "):\n",
    "    record_dict = {\n",
    "        \"train\": [],\n",
    "        \"val\": []\n",
    "    }\n",
    "\n",
    "    global_step = 0\n",
    "    model.train()\n",
    "    with tqdm(total=epoch * len(train_loader)) as pbar:\n",
    "        for epoch_id in range(epoch):\n",
    "            # training\n",
    "            for datas, labels in train_loader:\n",
    "                datas = datas.to(device)\n",
    "                labels = labels.to(device)\n",
    "                # 梯度清空\n",
    "                optimizer.zero_grad()\n",
    "                # 模型前向计算\n",
    "                logits = model(datas)\n",
    "                # 计算损失\n",
    "                loss = loss_fct(logits, labels)\n",
    "                # 梯度回传\n",
    "                loss.backward()\n",
    "                # 调整优化器，包括学习率的变动等\n",
    "                optimizer.step()\n",
    "                preds = logits.argmax(axis=-1)\n",
    "\n",
    "                acc = accuracy_score(labels.cpu().numpy(), preds.cpu().numpy())\n",
    "                loss = loss.cpu().item()\n",
    "                # record\n",
    "\n",
    "                record_dict[\"train\"].append({\n",
    "                    \"loss\": loss, \"acc\": acc, \"step\": global_step\n",
    "                })\n",
    "\n",
    "                # evaluating\n",
    "                if global_step % eval_step == 0:\n",
    "                    model.eval()\n",
    "                    val_loss, val_acc = evaluating(model, val_loader, loss_fct)\n",
    "                    record_dict[\"val\"].append({\n",
    "                        \"loss\": val_loss, \"acc\": val_acc, \"step\": global_step\n",
    "                    })\n",
    "                    model.train()\n",
    "\n",
    "                    # 1. 使用 tensorboard 可视化\n",
    "                    if tensorboard_callback is not None:\n",
    "                        tensorboard_callback(\n",
    "                            global_step,\n",
    "                            loss=loss, val_loss=val_loss,\n",
    "                            acc=acc, val_acc=val_acc,\n",
    "                            lr=optimizer.param_groups[0][\"lr\"],\n",
    "                        )\n",
    "\n",
    "                    # 2. 保存模型权重 save model checkpoint\n",
    "                    if save_ckpt_callback is not None:\n",
    "                        save_ckpt_callback(global_step, model.state_dict(), metric=val_acc)\n",
    "\n",
    "                    # 3. 早停 Early Stop\n",
    "                    if early_stop_callback is not None:\n",
    "                        early_stop_callback(val_acc)\n",
    "                        if early_stop_callback.early_stop:\n",
    "                            print(f\"Early stop at epoch {epoch_id} / global_step {global_step}\")\n",
    "                            return record_dict\n",
    "\n",
    "                # udate step\n",
    "                global_step += 1\n",
    "                pbar.update(1)\n",
    "                pbar.set_postfix({\"epoch\": epoch_id})\n",
    "\n",
    "    return record_dict"
   ],
   "id": "67ddbf1f9de67cff",
   "outputs": [],
   "execution_count": 69
  },
  {
   "metadata": {
    "ExecuteTime": {
     "end_time": "2025-01-20T11:42:51.314430Z",
     "start_time": "2025-01-20T11:42:51.184880Z"
    }
   },
   "cell_type": "code",
   "source": [
    "epoch = 20\n",
    "\n",
    "activation = \"relu\"\n",
    "model = CNN(num_classes=10, activation=activation)\n",
    "\n",
    "# 1. 定义损失函数 采用交叉熵损失\n",
    "loss_fct = nn.CrossEntropyLoss()\n",
    "# 2. 定义优化器 采用 adam\n",
    "# Optimizers specified in the torch.optim package\n",
    "optimizer = torch.optim.Adam(model.parameters(), lr=0.001, eps=1e-7)\n",
    "\n",
    "# 1. tensorboard 可视化\n",
    "if not os.path.exists(\"runs\"):\n",
    "    os.mkdir(\"runs\")\n",
    "tensorboard_callback = TensorBoardCallback(f\"runs/monkeys-cnn-{activation}\")\n",
    "tensorboard_callback.draw_model(model, [1, 3, img_h, img_w])\n",
    "# 2. save best\n",
    "if not os.path.exists(\"checkpoints\"):\n",
    "    os.makedirs(\"checkpoints\")\n",
    "save_ckpt_callback = SaveCheckpointsCallback(f\"checkpoints/monkeys-cnn-{activation}\", save_step=len(train_loader),\n",
    "                                             save_best_only=True)\n",
    "# 3. early stop\n",
    "early_stop_callback = EarlyStopCallback(patience=5)"
   ],
   "id": "a7358c5718a4c0c8",
   "outputs": [],
   "execution_count": 70
  },
  {
   "metadata": {
    "ExecuteTime": {
     "end_time": "2025-01-20T11:49:24.122661Z",
     "start_time": "2025-01-20T11:42:51.314430Z"
    }
   },
   "cell_type": "code",
   "source": [
    "model = model.to(device)\n",
    "record = training(\n",
    "    model,\n",
    "    train_loader,\n",
    "    val_loader,\n",
    "    epoch,\n",
    "    loss_fct,\n",
    "    optimizer,\n",
    "    tensorboard_callback=None,\n",
    "    save_ckpt_callback=save_ckpt_callback,\n",
    "    early_stop_callback=early_stop_callback,\n",
    "    eval_step=len(train_loader)\n",
    ")"
   ],
   "id": "c72cea1ff32ac484",
   "outputs": [
    {
     "data": {
      "text/plain": [
       "  0%|          | 0/360 [00:00<?, ?it/s]"
      ],
      "application/vnd.jupyter.widget-view+json": {
       "version_major": 2,
       "version_minor": 0,
       "model_id": "4e3531ca9b184cbf94abb3b8cba9f287"
      }
     },
     "metadata": {},
     "output_type": "display_data"
    },
    {
     "name": "stdout",
     "output_type": "stream",
     "text": [
      "Early stop at epoch 19 / global_step 342\n"
     ]
    }
   ],
   "execution_count": 71
  },
  {
   "metadata": {
    "ExecuteTime": {
     "end_time": "2025-01-20T11:52:27.623378Z",
     "start_time": "2025-01-20T11:52:27.513765Z"
    }
   },
   "cell_type": "code",
   "source": [
    "#画线要注意的是损失是不一定在零到1之间的\n",
    "def plot_learning_curves(record_dict, sample_step=500):\n",
    "    # build DataFrame\n",
    "    train_df = pd.DataFrame(record_dict[\"train\"]).set_index(\"step\").iloc[::sample_step]\n",
    "    val_df = pd.DataFrame(record_dict[\"val\"]).set_index(\"step\")\n",
    "\n",
    "    # plot\n",
    "    fig_num = len(train_df.columns)\n",
    "    fig, axs = plt.subplots(1, fig_num, figsize=(5 * fig_num, 5))\n",
    "    for idx, item in enumerate(train_df.columns):\n",
    "        axs[idx].plot(train_df.index, train_df[item], label=f\"train_{item}\")\n",
    "        axs[idx].plot(val_df.index, val_df[item], label=f\"val_{item}\")\n",
    "        axs[idx].grid()\n",
    "        axs[idx].legend()\n",
    "        # axs[idx].set_xticks(range(0, train_df.index[-1], 5000))\n",
    "        # axs[idx].set_xticklabels(map(lambda x: f\"{int(x/1000)}k\", range(0, train_df.index[-1], 5000)))\n",
    "        axs[idx].set_xlabel(\"step\")\n",
    "\n",
    "    plt.show()\n",
    "\n",
    "\n",
    "plot_learning_curves(record, sample_step=10)  #横坐标是 steps"
   ],
   "id": "a15df5c9d985440e",
   "outputs": [
    {
     "data": {
      "text/plain": [
       "<Figure size 1000x500 with 2 Axes>"
      ],
      "image/png": "[encoded data removed]"
     },
     "metadata": {},
     "output_type": "display_data"
    }
   ],
   "execution_count": 77
  },
  {
   "metadata": {},
   "cell_type": "markdown",
   "source": "评估",
   "id": "4c0e71c0f8e99542"
  },
  {
   "metadata": {
    "ExecuteTime": {
     "end_time": "2025-01-20T11:54:41.372490Z",
     "start_time": "2025-01-20T11:54:37.858966Z"
    }
   },
   "cell_type": "code",
   "source": [
    "# dataload for evaluating\n",
    "\n",
    "# load checkpoints\n",
    "model.load_state_dict(\n",
    "    torch.load(f\"checkpoints/monkeys-cnn-{activation}/best.ckpt\", map_location=\"cpu\", weights_only=True))\n",
    "\n",
    "model.eval()\n",
    "loss, acc = evaluating(model, val_loader, loss_fct)\n",
    "print(f\"loss:     {loss:.4f}\\naccuracy: {acc:.4f}\")"
   ],
   "id": "6977405aeb986f86",
   "outputs": [
    {
     "name": "stdout",
     "output_type": "stream",
     "text": [
      "loss:     2.1709\n",
      "accuracy: 0.6581\n"
     ]
    }
   ],
   "execution_count": 80
  },
  {
   "metadata": {},
   "cell_type": "markdown",
   "source": "ResNet50解决10-monkeys问题",
   "id": "3ef56149eda1f4ee"
  },
  {
   "metadata": {
    "ExecuteTime": {
     "end_time": "2025-01-20T12:01:27.263584Z",
     "start_time": "2025-01-20T12:01:27.254957Z"
    }
   },
   "cell_type": "code",
   "source": [
    "from torchvision import datasets\n",
    "from torchvision.transforms import ToTensor, Resize, Compose, ConvertImageDtype, Normalize\n",
    "\n",
    "from pathlib import Path\n",
    "\n",
    "DATA_DIR = Path(\"./archive/\")\n",
    "\n",
    "\n",
    "class MonkeyDataset(datasets.ImageFolder):\n",
    "    def __init__(self, mode, transform=None):\n",
    "        if mode == \"train\":\n",
    "            root = DATA_DIR / \"training\"\n",
    "        elif mode == \"val\":\n",
    "            root = DATA_DIR / \"validation\"\n",
    "        else:\n",
    "            raise ValueError(\"mode should be one of the following: train, val, but got {}\".format(mode))\n",
    "        super().__init__(root, transform)\n",
    "        self.imgs = self.samples\n",
    "        self.targets = [s[1] for s in self.samples]\n",
    "\n",
    "\n",
    "# resnet 要求的，见 https://pytorch.org/vision/stable/models/generated/torchvision.models.resnet50.html\n",
    "img_h, img_w = 224, 224\n",
    "transform = Compose([\n",
    "    Resize((img_h, img_w)),\n",
    "    ToTensor(),\n",
    "    Normalize([0.485, 0.456, 0.406], [0.229, 0.224, 0.225]),\n",
    "    ConvertImageDtype(torch.float),\n",
    "])\n",
    "\n",
    "train_ds = MonkeyDataset(\"train\", transform=transform)\n",
    "val_ds = MonkeyDataset(\"val\", transform=transform)\n",
    "\n",
    "print(\"load {} images from training dataset\".format(len(train_ds)))\n",
    "print(\"load {} images from validation dataset\".format(len(val_ds)))"
   ],
   "id": "971fab04ea3092a5",
   "outputs": [
    {
     "name": "stdout",
     "output_type": "stream",
     "text": [
      "load 1097 images from training dataset\n",
      "load 272 images from validation dataset\n"
     ]
    }
   ],
   "execution_count": 85
  },
  {
   "metadata": {
    "ExecuteTime": {
     "end_time": "2025-01-20T12:01:29.688029Z",
     "start_time": "2025-01-20T12:01:29.683042Z"
    }
   },
   "cell_type": "code",
   "source": [
    "# 数据类别\n",
    "train_ds.classes,"
   ],
   "id": "9f8df9b43fcf8631",
   "outputs": [
    {
     "data": {
      "text/plain": [
       "(['n0', 'n1', 'n2', 'n3', 'n4', 'n5', 'n6', 'n7', 'n8', 'n9'],)"
      ]
     },
     "execution_count": 86,
     "metadata": {},
     "output_type": "execute_result"
    }
   ],
   "execution_count": 86
  },
  {
   "metadata": {
    "ExecuteTime": {
     "end_time": "2025-01-20T12:01:31.463645Z",
     "start_time": "2025-01-20T12:01:31.460052Z"
    }
   },
   "cell_type": "code",
   "source": "train_ds.class_to_idx",
   "id": "a99870cd35e94b52",
   "outputs": [
    {
     "data": {
      "text/plain": [
       "{'n0': 0,\n",
       " 'n1': 1,\n",
       " 'n2': 2,\n",
       " 'n3': 3,\n",
       " 'n4': 4,\n",
       " 'n5': 5,\n",
       " 'n6': 6,\n",
       " 'n7': 7,\n",
       " 'n8': 8,\n",
       " 'n9': 9}"
      ]
     },
     "execution_count": 87,
     "metadata": {},
     "output_type": "execute_result"
    }
   ],
   "execution_count": 87
  },
  {
   "metadata": {
    "ExecuteTime": {
     "end_time": "2025-01-20T12:01:33.623674Z",
     "start_time": "2025-01-20T12:01:33.615053Z"
    }
   },
   "cell_type": "code",
   "source": [
    "# 图片路径 及 标签\n",
    "for fpath, label in train_ds.imgs:\n",
    "    print(fpath, label)\n",
    "    break\n",
    "\n",
    "for img, label in train_ds:\n",
    "    # c, h, w  label\n",
    "    print(img.shape, label)\n",
    "    break"
   ],
   "id": "f358205ecf0c4778",
   "outputs": [
    {
     "name": "stdout",
     "output_type": "stream",
     "text": [
      "archive\\training\\n0\\n0018.jpg 0\n",
      "torch.Size([3, 224, 224]) 0\n"
     ]
    }
   ],
   "execution_count": 88
  },
  {
   "metadata": {
    "ExecuteTime": {
     "end_time": "2025-01-20T12:00:07.522026Z",
     "start_time": "2025-01-20T11:59:54.271679Z"
    }
   },
   "cell_type": "code",
   "source": [
    "# 遍历train_ds得到每张图片，计算每个通道的均值和方差\n",
    "def cal_mean_std(ds):\n",
    "    mean = 0.\n",
    "    std = 0.\n",
    "    for img, _ in ds:\n",
    "        mean += img.mean(dim=(1, 2))\n",
    "        std += img.std(dim=(1, 2))\n",
    "    mean /= len(ds)\n",
    "    std /= len(ds)\n",
    "    return mean, std\n",
    "\n",
    "# 经过 normalize 后 均值为0，方差为1\n",
    "# print(cal_mean_std(train_ds))"
   ],
   "id": "b3364c8ab04347a9",
   "outputs": [
    {
     "name": "stdout",
     "output_type": "stream",
     "text": [
      "(tensor([0.4363, 0.4328, 0.3291]), tensor([0.2129, 0.2075, 0.2037]))\n"
     ]
    }
   ],
   "execution_count": 84
  },
  {
   "metadata": {
    "ExecuteTime": {
     "end_time": "2025-01-20T12:01:48.602067Z",
     "start_time": "2025-01-20T12:01:48.599323Z"
    }
   },
   "cell_type": "code",
   "source": [
    "import torch.nn as nn\n",
    "from torch.utils.data.dataloader import DataLoader\n",
    "\n",
    "batch_size = 32\n",
    "# 从数据集到dataloader\n",
    "train_loader = DataLoader(train_ds, batch_size=batch_size, shuffle=True)\n",
    "val_loader = DataLoader(val_ds, batch_size=batch_size, shuffle=False)"
   ],
   "id": "7a8a3bc83be6f05e",
   "outputs": [],
   "execution_count": 90
  },
  {
   "metadata": {
    "ExecuteTime": {
     "end_time": "2025-01-20T12:01:57.189106Z",
     "start_time": "2025-01-20T12:01:56.586071Z"
    }
   },
   "cell_type": "code",
   "source": [
    "for imgs, labels in train_loader:\n",
    "    print(imgs.shape)\n",
    "    print(labels.shape)\n",
    "    break"
   ],
   "id": "f4b2e37904f59e99",
   "outputs": [
    {
     "name": "stdout",
     "output_type": "stream",
     "text": [
      "torch.Size([32, 3, 224, 224])\n",
      "torch.Size([32])\n"
     ]
    }
   ],
   "execution_count": 91
  },
  {
   "metadata": {},
   "cell_type": "markdown",
   "source": "定义模型",
   "id": "9f0a76bf3d557aac"
  },
  {
   "metadata": {
    "ExecuteTime": {
     "end_time": "2025-01-20T12:06:02.651502Z",
     "start_time": "2025-01-20T12:04:28.728924Z"
    }
   },
   "cell_type": "code",
   "source": [
    "from torchvision.models import resnet50\n",
    "\n",
    "\n",
    "# 定义一个自定义的ResNet50模型类，继承自nn.Module\n",
    "class ResNet50(nn.Module):\n",
    "    def __init__(self, num_classes=10, frozen=True):\n",
    "        super().__init__()\n",
    "\n",
    "        # 加载预训练的ResNet50模型，并使用IMAGENET1K_V2的预训练权重\n",
    "        self.model = resnet50(weights=\"IMAGENET1K_V2\")\n",
    "\n",
    "        # 如果frozen为True，冻结除指定层外的所有层的权重\n",
    "        if frozen:\n",
    "            for param in self.model.parameters():\n",
    "                param.requires_grad = False  # 冻结所有层的权重\n",
    "\n",
    "        # 解冻指定层的权重\n",
    "        for name, param in self.model.named_parameters():\n",
    "            if name == \"layer4.2.conv3.weight\":\n",
    "                param.requires_grad = True  # 解冻layer4中的特定卷积层的权重\n",
    "\n",
    "        # 打印ResNet50最后一层的输入和输出通道数\n",
    "        print(self.model.fc.in_features)  # 打印全连接层的输入通道数\n",
    "        print(self.model.fc.out_features)  # 打印全连接层的输出通道数（默认是1000类）\n",
    "\n",
    "        # 替换ResNet50的最后一层全连接层，改为自定义的分类层\n",
    "        self.model.fc = nn.Linear(self.model.fc.in_features, num_classes)  # 将输出类别数改为num_classes\n",
    "\n",
    "    # 定义前向传播函数\n",
    "    def forward(self, x):\n",
    "        return self.model(x)\n",
    "\n",
    "\n",
    "# 遍历模型的每一层，打印每一层的名称和参数数量\n",
    "for idx, (key, value) in enumerate(ResNet50().named_parameters()):\n",
    "    print(f\"{key:^40} parameters num: {np.prod(value.shape)}\")"
   ],
   "id": "5c6eabd5ab54abde",
   "outputs": [
    {
     "name": "stderr",
     "output_type": "stream",
     "text": [
      "Downloading: \"https://download.pytorch.org/models/resnet50-11ad3fa6.pth\" to C:\\Users\\Administrator/.cache\\torch\\hub\\checkpoints\\resnet50-11ad3fa6.pth\n",
      "100%|██████████| 97.8M/97.8M [01:32<00:00, 1.11MB/s]"
     ]
    },
    {
     "name": "stdout",
     "output_type": "stream",
     "text": [
      "2048\n",
      "1000\n",
      "           model.conv1.weight            parameters num: 9408\n",
      "            model.bn1.weight             parameters num: 64\n",
      "             model.bn1.bias              parameters num: 64\n",
      "      model.layer1.0.conv1.weight        parameters num: 4096\n",
      "       model.layer1.0.bn1.weight         parameters num: 64\n",
      "        model.layer1.0.bn1.bias          parameters num: 64\n",
      "      model.layer1.0.conv2.weight        parameters num: 36864\n",
      "       model.layer1.0.bn2.weight         parameters num: 64\n",
      "        model.layer1.0.bn2.bias          parameters num: 64\n",
      "      model.layer1.0.conv3.weight        parameters num: 16384\n",
      "       model.layer1.0.bn3.weight         parameters num: 256\n",
      "        model.layer1.0.bn3.bias          parameters num: 256\n",
      "   model.layer1.0.downsample.0.weight    parameters num: 16384\n",
      "   model.layer1.0.downsample.1.weight    parameters num: 256\n",
      "    model.layer1.0.downsample.1.bias     parameters num: 256\n",
      "      model.layer1.1.conv1.weight        parameters num: 16384\n",
      "       model.layer1.1.bn1.weight         parameters num: 64\n",
      "        model.layer1.1.bn1.bias          parameters num: 64\n",
      "      model.layer1.1.conv2.weight        parameters num: 36864\n",
      "       model.layer1.1.bn2.weight         parameters num: 64\n",
      "        model.layer1.1.bn2.bias          parameters num: 64\n",
      "      model.layer1.1.conv3.weight        parameters num: 16384\n",
      "       model.layer1.1.bn3.weight         parameters num: 256\n",
      "        model.layer1.1.bn3.bias          parameters num: 256\n",
      "      model.layer1.2.conv1.weight        parameters num: 16384\n",
      "       model.layer1.2.bn1.weight         parameters num: 64\n",
      "        model.layer1.2.bn1.bias          parameters num: 64\n",
      "      model.layer1.2.conv2.weight        parameters num: 36864\n",
      "       model.layer1.2.bn2.weight         parameters num: 64\n",
      "        model.layer1.2.bn2.bias          parameters num: 64\n",
      "      model.layer1.2.conv3.weight        parameters num: 16384\n",
      "       model.layer1.2.bn3.weight         parameters num: 256\n",
      "        model.layer1.2.bn3.bias          parameters num: 256\n",
      "      model.layer2.0.conv1.weight        parameters num: 32768\n",
      "       model.layer2.0.bn1.weight         parameters num: 128\n",
      "        model.layer2.0.bn1.bias          parameters num: 128\n",
      "      model.layer2.0.conv2.weight        parameters num: 147456\n",
      "       model.layer2.0.bn2.weight         parameters num: 128\n",
      "        model.layer2.0.bn2.bias          parameters num: 128\n",
      "      model.layer2.0.conv3.weight        parameters num: 65536\n",
      "       model.layer2.0.bn3.weight         parameters num: 512\n",
      "        model.layer2.0.bn3.bias          parameters num: 512\n",
      "   model.layer2.0.downsample.0.weight    parameters num: 131072\n",
      "   model.layer2.0.downsample.1.weight    parameters num: 512\n",
      "    model.layer2.0.downsample.1.bias     parameters num: 512\n",
      "      model.layer2.1.conv1.weight        parameters num: 65536\n",
      "       model.layer2.1.bn1.weight         parameters num: 128\n",
      "        model.layer2.1.bn1.bias          parameters num: 128\n",
      "      model.layer2.1.conv2.weight        parameters num: 147456\n",
      "       model.layer2.1.bn2.weight         parameters num: 128\n",
      "        model.layer2.1.bn2.bias          parameters num: 128\n",
      "      model.layer2.1.conv3.weight        parameters num: 65536\n",
      "       model.layer2.1.bn3.weight         parameters num: 512\n",
      "        model.layer2.1.bn3.bias          parameters num: 512\n",
      "      model.layer2.2.conv1.weight        parameters num: 65536\n",
      "       model.layer2.2.bn1.weight         parameters num: 128\n",
      "        model.layer2.2.bn1.bias          parameters num: 128\n",
      "      model.layer2.2.conv2.weight        parameters num: 147456\n",
      "       model.layer2.2.bn2.weight         parameters num: 128\n",
      "        model.layer2.2.bn2.bias          parameters num: 128\n",
      "      model.layer2.2.conv3.weight        parameters num: 65536\n",
      "       model.layer2.2.bn3.weight         parameters num: 512\n",
      "        model.layer2.2.bn3.bias          parameters num: 512\n",
      "      model.layer2.3.conv1.weight        parameters num: 65536\n",
      "       model.layer2.3.bn1.weight         parameters num: 128\n",
      "        model.layer2.3.bn1.bias          parameters num: 128\n",
      "      model.layer2.3.conv2.weight        parameters num: 147456\n",
      "       model.layer2.3.bn2.weight         parameters num: 128\n",
      "        model.layer2.3.bn2.bias          parameters num: 128\n",
      "      model.layer2.3.conv3.weight        parameters num: 65536\n",
      "       model.layer2.3.bn3.weight         parameters num: 512\n",
      "        model.layer2.3.bn3.bias          parameters num: 512\n",
      "      model.layer3.0.conv1.weight        parameters num: 131072\n",
      "       model.layer3.0.bn1.weight         parameters num: 256\n",
      "        model.layer3.0.bn1.bias          parameters num: 256\n",
      "      model.layer3.0.conv2.weight        parameters num: 589824\n",
      "       model.layer3.0.bn2.weight         parameters num: 256\n",
      "        model.layer3.0.bn2.bias          parameters num: 256\n",
      "      model.layer3.0.conv3.weight        parameters num: 262144\n",
      "       model.layer3.0.bn3.weight         parameters num: 1024\n",
      "        model.layer3.0.bn3.bias          parameters num: 1024\n",
      "   model.layer3.0.downsample.0.weight    parameters num: 524288\n",
      "   model.layer3.0.downsample.1.weight    parameters num: 1024\n",
      "    model.layer3.0.downsample.1.bias     parameters num: 1024\n",
      "      model.layer3.1.conv1.weight        parameters num: 262144\n",
      "       model.layer3.1.bn1.weight         parameters num: 256\n",
      "        model.layer3.1.bn1.bias          parameters num: 256\n",
      "      model.layer3.1.conv2.weight        parameters num: 589824\n",
      "       model.layer3.1.bn2.weight         parameters num: 256\n",
      "        model.layer3.1.bn2.bias          parameters num: 256\n",
      "      model.layer3.1.conv3.weight        parameters num: 262144\n",
      "       model.layer3.1.bn3.weight         parameters num: 1024\n",
      "        model.layer3.1.bn3.bias          parameters num: 1024\n",
      "      model.layer3.2.conv1.weight        parameters num: 262144\n",
      "       model.layer3.2.bn1.weight         parameters num: 256\n",
      "        model.layer3.2.bn1.bias          parameters num: 256\n",
      "      model.layer3.2.conv2.weight        parameters num: 589824\n",
      "       model.layer3.2.bn2.weight         parameters num: 256\n",
      "        model.layer3.2.bn2.bias          parameters num: 256\n",
      "      model.layer3.2.conv3.weight        parameters num: 262144\n",
      "       model.layer3.2.bn3.weight         parameters num: 1024\n",
      "        model.layer3.2.bn3.bias          parameters num: 1024\n",
      "      model.layer3.3.conv1.weight        parameters num: 262144\n",
      "       model.layer3.3.bn1.weight         parameters num: 256\n",
      "        model.layer3.3.bn1.bias          parameters num: 256\n",
      "      model.layer3.3.conv2.weight        parameters num: 589824\n",
      "       model.layer3.3.bn2.weight         parameters num: 256\n",
      "        model.layer3.3.bn2.bias          parameters num: 256\n",
      "      model.layer3.3.conv3.weight        parameters num: 262144\n",
      "       model.layer3.3.bn3.weight         parameters num: 1024\n",
      "        model.layer3.3.bn3.bias          parameters num: 1024\n",
      "      model.layer3.4.conv1.weight        parameters num: 262144\n",
      "       model.layer3.4.bn1.weight         parameters num: 256\n",
      "        model.layer3.4.bn1.bias          parameters num: 256\n",
      "      model.layer3.4.conv2.weight        parameters num: 589824\n",
      "       model.layer3.4.bn2.weight         parameters num: 256\n",
      "        model.layer3.4.bn2.bias          parameters num: 256\n",
      "      model.layer3.4.conv3.weight        parameters num: 262144\n",
      "       model.layer3.4.bn3.weight         parameters num: 1024\n",
      "        model.layer3.4.bn3.bias          parameters num: 1024\n",
      "      model.layer3.5.conv1.weight        parameters num: 262144\n",
      "       model.layer3.5.bn1.weight         parameters num: 256\n",
      "        model.layer3.5.bn1.bias          parameters num: 256\n",
      "      model.layer3.5.conv2.weight        parameters num: 589824\n",
      "       model.layer3.5.bn2.weight         parameters num: 256\n",
      "        model.layer3.5.bn2.bias          parameters num: 256\n",
      "      model.layer3.5.conv3.weight        parameters num: 262144\n",
      "       model.layer3.5.bn3.weight         parameters num: 1024\n",
      "        model.layer3.5.bn3.bias          parameters num: 1024\n",
      "      model.layer4.0.conv1.weight        parameters num: 524288\n",
      "       model.layer4.0.bn1.weight         parameters num: 512\n",
      "        model.layer4.0.bn1.bias          parameters num: 512\n",
      "      model.layer4.0.conv2.weight        parameters num: 2359296\n",
      "       model.layer4.0.bn2.weight         parameters num: 512\n",
      "        model.layer4.0.bn2.bias          parameters num: 512\n",
      "      model.layer4.0.conv3.weight        parameters num: 1048576\n",
      "       model.layer4.0.bn3.weight         parameters num: 2048\n",
      "        model.layer4.0.bn3.bias          parameters num: 2048\n",
      "   model.layer4.0.downsample.0.weight    parameters num: 2097152\n",
      "   model.layer4.0.downsample.1.weight    parameters num: 2048\n",
      "    model.layer4.0.downsample.1.bias     parameters num: 2048\n",
      "      model.layer4.1.conv1.weight        parameters num: 1048576\n",
      "       model.layer4.1.bn1.weight         parameters num: 512\n",
      "        model.layer4.1.bn1.bias          parameters num: 512\n",
      "      model.layer4.1.conv2.weight        parameters num: 2359296\n",
      "       model.layer4.1.bn2.weight         parameters num: 512\n",
      "        model.layer4.1.bn2.bias          parameters num: 512\n",
      "      model.layer4.1.conv3.weight        parameters num: 1048576\n",
      "       model.layer4.1.bn3.weight         parameters num: 2048\n",
      "        model.layer4.1.bn3.bias          parameters num: 2048\n",
      "      model.layer4.2.conv1.weight        parameters num: 1048576\n",
      "       model.layer4.2.bn1.weight         parameters num: 512\n",
      "        model.layer4.2.bn1.bias          parameters num: 512\n",
      "      model.layer4.2.conv2.weight        parameters num: 2359296\n",
      "       model.layer4.2.bn2.weight         parameters num: 512\n",
      "        model.layer4.2.bn2.bias          parameters num: 512\n",
      "      model.layer4.2.conv3.weight        parameters num: 1048576\n",
      "       model.layer4.2.bn3.weight         parameters num: 2048\n",
      "        model.layer4.2.bn3.bias          parameters num: 2048\n",
      "            model.fc.weight              parameters num: 20480\n",
      "             model.fc.bias               parameters num: 10\n"
     ]
    },
    {
     "name": "stderr",
     "output_type": "stream",
     "text": [
      "\n"
     ]
    }
   ],
   "execution_count": 92
  },
  {
   "metadata": {
    "ExecuteTime": {
     "end_time": "2025-01-20T12:06:49.504598Z",
     "start_time": "2025-01-20T12:06:49.296389Z"
    }
   },
   "cell_type": "code",
   "source": [
    "# 创建一个ResNet50模型实例，设置输出类别数为10，并冻结除指定层外的所有层\n",
    "model = ResNet50(num_classes=10, frozen=True)\n",
    "\n",
    "\n",
    "# 定义一个函数，用于计算模型中可训练参数的总数量\n",
    "def count_parameters(model):\n",
    "    \"\"\"\n",
    "    计算模型中可训练参数的总数量。\n",
    "\n",
    "    参数:\n",
    "    model (nn.Module): PyTorch模型实例。\n",
    "\n",
    "    返回:\n",
    "    int: 模型中可训练参数的总数量。\n",
    "    \"\"\"\n",
    "    # 使用生成器表达式遍历模型的所有参数\n",
    "    # p.numel() 返回参数张量中的元素总数\n",
    "    # p.requires_grad 为 True 表示该参数是可训练的\n",
    "    return sum(p.numel() for p in model.parameters() if p.requires_grad)\n",
    "\n",
    "\n",
    "# 调用函数，计算模型中可训练参数的总数量\n",
    "count_parameters(model)"
   ],
   "id": "8a73f5daff497706",
   "outputs": [
    {
     "name": "stdout",
     "output_type": "stream",
     "text": [
      "2048\n",
      "1000\n"
     ]
    },
    {
     "data": {
      "text/plain": [
       "1069066"
      ]
     },
     "execution_count": 94,
     "metadata": {},
     "output_type": "execute_result"
    }
   ],
   "execution_count": 94
  },
  {
   "metadata": {
    "ExecuteTime": {
     "end_time": "2025-01-20T12:07:53.942861Z",
     "start_time": "2025-01-20T12:07:53.936882Z"
    }
   },
   "cell_type": "code",
   "source": "model",
   "id": "132bc6624e91069a",
   "outputs": [
    {
     "data": {
      "text/plain": [
       "ResNet50(\n",
       "  (model): ResNet(\n",
       "    (conv1): Conv2d(3, 64, kernel_size=(7, 7), stride=(2, 2), padding=(3, 3), bias=False)\n",
       "    (bn1): BatchNorm2d(64, eps=1e-05, momentum=0.1, affine=True, track_running_stats=True)\n",
       "    (relu): ReLU(inplace=True)\n",
       "    (maxpool): MaxPool2d(kernel_size=3, stride=2, padding=1, dilation=1, ceil_mode=False)\n",
       "    (layer1): Sequential(\n",
       "      (0): Bottleneck(\n",
       "        (conv1): Conv2d(64, 64, kernel_size=(1, 1), stride=(1, 1), bias=False)\n",
       "        (bn1): BatchNorm2d(64, eps=1e-05, momentum=0.1, affine=True, track_running_stats=True)\n",
       "        (conv2): Conv2d(64, 64, kernel_size=(3, 3), stride=(1, 1), padding=(1, 1), bias=False)\n",
       "        (bn2): BatchNorm2d(64, eps=1e-05, momentum=0.1, affine=True, track_running_stats=True)\n",
       "        (conv3): Conv2d(64, 256, kernel_size=(1, 1), stride=(1, 1), bias=False)\n",
       "        (bn3): BatchNorm2d(256, eps=1e-05, momentum=0.1, affine=True, track_running_stats=True)\n",
       "        (relu): ReLU(inplace=True)\n",
       "        (downsample): Sequential(\n",
       "          (0): Conv2d(64, 256, kernel_size=(1, 1), stride=(1, 1), bias=False)\n",
       "          (1): BatchNorm2d(256, eps=1e-05, momentum=0.1, affine=True, track_running_stats=True)\n",
       "        )\n",
       "      )\n",
       "      (1): Bottleneck(\n",
       "        (conv1): Conv2d(256, 64, kernel_size=(1, 1), stride=(1, 1), bias=False)\n",
       "        (bn1): BatchNorm2d(64, eps=1e-05, momentum=0.1, affine=True, track_running_stats=True)\n",
       "        (conv2): Conv2d(64, 64, kernel_size=(3, 3), stride=(1, 1), padding=(1, 1), bias=False)\n",
       "        (bn2): BatchNorm2d(64, eps=1e-05, momentum=0.1, affine=True, track_running_stats=True)\n",
       "        (conv3): Conv2d(64, 256, kernel_size=(1, 1), stride=(1, 1), bias=False)\n",
       "        (bn3): BatchNorm2d(256, eps=1e-05, momentum=0.1, affine=True, track_running_stats=True)\n",
       "        (relu): ReLU(inplace=True)\n",
       "      )\n",
       "      (2): Bottleneck(\n",
       "        (conv1): Conv2d(256, 64, kernel_size=(1, 1), stride=(1, 1), bias=False)\n",
       "        (bn1): BatchNorm2d(64, eps=1e-05, momentum=0.1, affine=True, track_running_stats=True)\n",
       "        (conv2): Conv2d(64, 64, kernel_size=(3, 3), stride=(1, 1), padding=(1, 1), bias=False)\n",
       "        (bn2): BatchNorm2d(64, eps=1e-05, momentum=0.1, affine=True, track_running_stats=True)\n",
       "        (conv3): Conv2d(64, 256, kernel_size=(1, 1), stride=(1, 1), bias=False)\n",
       "        (bn3): BatchNorm2d(256, eps=1e-05, momentum=0.1, affine=True, track_running_stats=True)\n",
       "        (relu): ReLU(inplace=True)\n",
       "      )\n",
       "    )\n",
       "    (layer2): Sequential(\n",
       "      (0): Bottleneck(\n",
       "        (conv1): Conv2d(256, 128, kernel_size=(1, 1), stride=(1, 1), bias=False)\n",
       "        (bn1): BatchNorm2d(128, eps=1e-05, momentum=0.1, affine=True, track_running_stats=True)\n",
       "        (conv2): Conv2d(128, 128, kernel_size=(3, 3), stride=(2, 2), padding=(1, 1), bias=False)\n",
       "        (bn2): BatchNorm2d(128, eps=1e-05, momentum=0.1, affine=True, track_running_stats=True)\n",
       "        (conv3): Conv2d(128, 512, kernel_size=(1, 1), stride=(1, 1), bias=False)\n",
       "        (bn3): BatchNorm2d(512, eps=1e-05, momentum=0.1, affine=True, track_running_stats=True)\n",
       "        (relu): ReLU(inplace=True)\n",
       "        (downsample): Sequential(\n",
       "          (0): Conv2d(256, 512, kernel_size=(1, 1), stride=(2, 2), bias=False)\n",
       "          (1): BatchNorm2d(512, eps=1e-05, momentum=0.1, affine=True, track_running_stats=True)\n",
       "        )\n",
       "      )\n",
       "      (1): Bottleneck(\n",
       "        (conv1): Conv2d(512, 128, kernel_size=(1, 1), stride=(1, 1), bias=False)\n",
       "        (bn1): BatchNorm2d(128, eps=1e-05, momentum=0.1, affine=True, track_running_stats=True)\n",
       "        (conv2): Conv2d(128, 128, kernel_size=(3, 3), stride=(1, 1), padding=(1, 1), bias=False)\n",
       "        (bn2): BatchNorm2d(128, eps=1e-05, momentum=0.1, affine=True, track_running_stats=True)\n",
       "        (conv3): Conv2d(128, 512, kernel_size=(1, 1), stride=(1, 1), bias=False)\n",
       "        (bn3): BatchNorm2d(512, eps=1e-05, momentum=0.1, affine=True, track_running_stats=True)\n",
       "        (relu): ReLU(inplace=True)\n",
       "      )\n",
       "      (2): Bottleneck(\n",
       "        (conv1): Conv2d(512, 128, kernel_size=(1, 1), stride=(1, 1), bias=False)\n",
       "        (bn1): BatchNorm2d(128, eps=1e-05, momentum=0.1, affine=True, track_running_stats=True)\n",
       "        (conv2): Conv2d(128, 128, kernel_size=(3, 3), stride=(1, 1), padding=(1, 1), bias=False)\n",
       "        (bn2): BatchNorm2d(128, eps=1e-05, momentum=0.1, affine=True, track_running_stats=True)\n",
       "        (conv3): Conv2d(128, 512, kernel_size=(1, 1), stride=(1, 1), bias=False)\n",
       "        (bn3): BatchNorm2d(512, eps=1e-05, momentum=0.1, affine=True, track_running_stats=True)\n",
       "        (relu): ReLU(inplace=True)\n",
       "      )\n",
       "      (3): Bottleneck(\n",
       "        (conv1): Conv2d(512, 128, kernel_size=(1, 1), stride=(1, 1), bias=False)\n",
       "        (bn1): BatchNorm2d(128, eps=1e-05, momentum=0.1, affine=True, track_running_stats=True)\n",
       "        (conv2): Conv2d(128, 128, kernel_size=(3, 3), stride=(1, 1), padding=(1, 1), bias=False)\n",
       "        (bn2): BatchNorm2d(128, eps=1e-05, momentum=0.1, affine=True, track_running_stats=True)\n",
       "        (conv3): Conv2d(128, 512, kernel_size=(1, 1), stride=(1, 1), bias=False)\n",
       "        (bn3): BatchNorm2d(512, eps=1e-05, momentum=0.1, affine=True, track_running_stats=True)\n",
       "        (relu): ReLU(inplace=True)\n",
       "      )\n",
       "    )\n",
       "    (layer3): Sequential(\n",
       "      (0): Bottleneck(\n",
       "        (conv1): Conv2d(512, 256, kernel_size=(1, 1), stride=(1, 1), bias=False)\n",
       "        (bn1): BatchNorm2d(256, eps=1e-05, momentum=0.1, affine=True, track_running_stats=True)\n",
       "        (conv2): Conv2d(256, 256, kernel_size=(3, 3), stride=(2, 2), padding=(1, 1), bias=False)\n",
       "        (bn2): BatchNorm2d(256, eps=1e-05, momentum=0.1, affine=True, track_running_stats=True)\n",
       "        (conv3): Conv2d(256, 1024, kernel_size=(1, 1), stride=(1, 1), bias=False)\n",
       "        (bn3): BatchNorm2d(1024, eps=1e-05, momentum=0.1, affine=True, track_running_stats=True)\n",
       "        (relu): ReLU(inplace=True)\n",
       "        (downsample): Sequential(\n",
       "          (0): Conv2d(512, 1024, kernel_size=(1, 1), stride=(2, 2), bias=False)\n",
       "          (1): BatchNorm2d(1024, eps=1e-05, momentum=0.1, affine=True, track_running_stats=True)\n",
       "        )\n",
       "      )\n",
       "      (1): Bottleneck(\n",
       "        (conv1): Conv2d(1024, 256, kernel_size=(1, 1), stride=(1, 1), bias=False)\n",
       "        (bn1): BatchNorm2d(256, eps=1e-05, momentum=0.1, affine=True, track_running_stats=True)\n",
       "        (conv2): Conv2d(256, 256, kernel_size=(3, 3), stride=(1, 1), padding=(1, 1), bias=False)\n",
       "        (bn2): BatchNorm2d(256, eps=1e-05, momentum=0.1, affine=True, track_running_stats=True)\n",
       "        (conv3): Conv2d(256, 1024, kernel_size=(1, 1), stride=(1, 1), bias=False)\n",
       "        (bn3): BatchNorm2d(1024, eps=1e-05, momentum=0.1, affine=True, track_running_stats=True)\n",
       "        (relu): ReLU(inplace=True)\n",
       "      )\n",
       "      (2): Bottleneck(\n",
       "        (conv1): Conv2d(1024, 256, kernel_size=(1, 1), stride=(1, 1), bias=False)\n",
       "        (bn1): BatchNorm2d(256, eps=1e-05, momentum=0.1, affine=True, track_running_stats=True)\n",
       "        (conv2): Conv2d(256, 256, kernel_size=(3, 3), stride=(1, 1), padding=(1, 1), bias=False)\n",
       "        (bn2): BatchNorm2d(256, eps=1e-05, momentum=0.1, affine=True, track_running_stats=True)\n",
       "        (conv3): Conv2d(256, 1024, kernel_size=(1, 1), stride=(1, 1), bias=False)\n",
       "        (bn3): BatchNorm2d(1024, eps=1e-05, momentum=0.1, affine=True, track_running_stats=True)\n",
       "        (relu): ReLU(inplace=True)\n",
       "      )\n",
       "      (3): Bottleneck(\n",
       "        (conv1): Conv2d(1024, 256, kernel_size=(1, 1), stride=(1, 1), bias=False)\n",
       "        (bn1): BatchNorm2d(256, eps=1e-05, momentum=0.1, affine=True, track_running_stats=True)\n",
       "        (conv2): Conv2d(256, 256, kernel_size=(3, 3), stride=(1, 1), padding=(1, 1), bias=False)\n",
       "        (bn2): BatchNorm2d(256, eps=1e-05, momentum=0.1, affine=True, track_running_stats=True)\n",
       "        (conv3): Conv2d(256, 1024, kernel_size=(1, 1), stride=(1, 1), bias=False)\n",
       "        (bn3): BatchNorm2d(1024, eps=1e-05, momentum=0.1, affine=True, track_running_stats=True)\n",
       "        (relu): ReLU(inplace=True)\n",
       "      )\n",
       "      (4): Bottleneck(\n",
       "        (conv1): Conv2d(1024, 256, kernel_size=(1, 1), stride=(1, 1), bias=False)\n",
       "        (bn1): BatchNorm2d(256, eps=1e-05, momentum=0.1, affine=True, track_running_stats=True)\n",
       "        (conv2): Conv2d(256, 256, kernel_size=(3, 3), stride=(1, 1), padding=(1, 1), bias=False)\n",
       "        (bn2): BatchNorm2d(256, eps=1e-05, momentum=0.1, affine=True, track_running_stats=True)\n",
       "        (conv3): Conv2d(256, 1024, kernel_size=(1, 1), stride=(1, 1), bias=False)\n",
       "        (bn3): BatchNorm2d(1024, eps=1e-05, momentum=0.1, affine=True, track_running_stats=True)\n",
       "        (relu): ReLU(inplace=True)\n",
       "      )\n",
       "      (5): Bottleneck(\n",
       "        (conv1): Conv2d(1024, 256, kernel_size=(1, 1), stride=(1, 1), bias=False)\n",
       "        (bn1): BatchNorm2d(256, eps=1e-05, momentum=0.1, affine=True, track_running_stats=True)\n",
       "        (conv2): Conv2d(256, 256, kernel_size=(3, 3), stride=(1, 1), padding=(1, 1), bias=False)\n",
       "        (bn2): BatchNorm2d(256, eps=1e-05, momentum=0.1, affine=True, track_running_stats=True)\n",
       "        (conv3): Conv2d(256, 1024, kernel_size=(1, 1), stride=(1, 1), bias=False)\n",
       "        (bn3): BatchNorm2d(1024, eps=1e-05, momentum=0.1, affine=True, track_running_stats=True)\n",
       "        (relu): ReLU(inplace=True)\n",
       "      )\n",
       "    )\n",
       "    (layer4): Sequential(\n",
       "      (0): Bottleneck(\n",
       "        (conv1): Conv2d(1024, 512, kernel_size=(1, 1), stride=(1, 1), bias=False)\n",
       "        (bn1): BatchNorm2d(512, eps=1e-05, momentum=0.1, affine=True, track_running_stats=True)\n",
       "        (conv2): Conv2d(512, 512, kernel_size=(3, 3), stride=(2, 2), padding=(1, 1), bias=False)\n",
       "        (bn2): BatchNorm2d(512, eps=1e-05, momentum=0.1, affine=True, track_running_stats=True)\n",
       "        (conv3): Conv2d(512, 2048, kernel_size=(1, 1), stride=(1, 1), bias=False)\n",
       "        (bn3): BatchNorm2d(2048, eps=1e-05, momentum=0.1, affine=True, track_running_stats=True)\n",
       "        (relu): ReLU(inplace=True)\n",
       "        (downsample): Sequential(\n",
       "          (0): Conv2d(1024, 2048, kernel_size=(1, 1), stride=(2, 2), bias=False)\n",
       "          (1): BatchNorm2d(2048, eps=1e-05, momentum=0.1, affine=True, track_running_stats=True)\n",
       "        )\n",
       "      )\n",
       "      (1): Bottleneck(\n",
       "        (conv1): Conv2d(2048, 512, kernel_size=(1, 1), stride=(1, 1), bias=False)\n",
       "        (bn1): BatchNorm2d(512, eps=1e-05, momentum=0.1, affine=True, track_running_stats=True)\n",
       "        (conv2): Conv2d(512, 512, kernel_size=(3, 3), stride=(1, 1), padding=(1, 1), bias=False)\n",
       "        (bn2): BatchNorm2d(512, eps=1e-05, momentum=0.1, affine=True, track_running_stats=True)\n",
       "        (conv3): Conv2d(512, 2048, kernel_size=(1, 1), stride=(1, 1), bias=False)\n",
       "        (bn3): BatchNorm2d(2048, eps=1e-05, momentum=0.1, affine=True, track_running_stats=True)\n",
       "        (relu): ReLU(inplace=True)\n",
       "      )\n",
       "      (2): Bottleneck(\n",
       "        (conv1): Conv2d(2048, 512, kernel_size=(1, 1), stride=(1, 1), bias=False)\n",
       "        (bn1): BatchNorm2d(512, eps=1e-05, momentum=0.1, affine=True, track_running_stats=True)\n",
       "        (conv2): Conv2d(512, 512, kernel_size=(3, 3), stride=(1, 1), padding=(1, 1), bias=False)\n",
       "        (bn2): BatchNorm2d(512, eps=1e-05, momentum=0.1, affine=True, track_running_stats=True)\n",
       "        (conv3): Conv2d(512, 2048, kernel_size=(1, 1), stride=(1, 1), bias=False)\n",
       "        (bn3): BatchNorm2d(2048, eps=1e-05, momentum=0.1, affine=True, track_running_stats=True)\n",
       "        (relu): ReLU(inplace=True)\n",
       "      )\n",
       "    )\n",
       "    (avgpool): AdaptiveAvgPool2d(output_size=(1, 1))\n",
       "    (fc): Linear(in_features=2048, out_features=10, bias=True)\n",
       "  )\n",
       ")"
      ]
     },
     "execution_count": 95,
     "metadata": {},
     "output_type": "execute_result"
    }
   ],
   "execution_count": 95
  },
  {
   "metadata": {
    "ExecuteTime": {
     "end_time": "2025-01-20T12:08:44.672184Z",
     "start_time": "2025-01-20T12:08:44.668068Z"
    }
   },
   "cell_type": "code",
   "source": [
    "# 计算模型中所有参数的总数量（包括可训练和不可训练的）\n",
    "total_params = sum(p.numel() for p in model.parameters())\n",
    "\n",
    "# 打印模型中所有参数的总数量\n",
    "print(f\"Total parameters: {total_params}\")"
   ],
   "id": "921772def6e164a5",
   "outputs": [
    {
     "name": "stdout",
     "output_type": "stream",
     "text": [
      "Total parameters: 23528522\n"
     ]
    }
   ],
   "execution_count": 97
  },
  {
   "metadata": {
    "ExecuteTime": {
     "end_time": "2025-01-20T12:09:13.058102Z",
     "start_time": "2025-01-20T12:09:13.053888Z"
    }
   },
   "cell_type": "code",
   "source": [
    "# 创建一个 AdaptiveAvgPool2d 层，设置输出大小为 (1, 1)\n",
    "m = nn.AdaptiveAvgPool2d(output_size=(1, 1))\n",
    "\n",
    "# 创建一个随机输入张量，形状为 (batch_size, channels, height, width)\n",
    "input = torch.randn(1, 2048, 9, 9)  # batch_size=1, channels=2048, height=9, width=9\n",
    "\n",
    "# 将输入张量传递给 AdaptiveAvgPool2d 层，得到输出\n",
    "output = m(input)\n",
    "\n",
    "# 打印输出的形状\n",
    "print(output.shape)"
   ],
   "id": "213df90276249116",
   "outputs": [
    {
     "name": "stdout",
     "output_type": "stream",
     "text": [
      "torch.Size([1, 2048, 1, 1])\n"
     ]
    }
   ],
   "execution_count": 98
  },
  {
   "metadata": {},
   "cell_type": "code",
   "outputs": [
    {
     "data": {
      "text/plain": [
       "2359296"
      ]
     },
     "execution_count": 99,
     "metadata": {},
     "output_type": "execute_result"
    }
   ],
   "execution_count": 99,
   "source": "512 * 3 * 3 * 512",
   "id": "8de3217d91ee7f1f"
  },
  {
   "metadata": {
    "ExecuteTime": {
     "end_time": "2025-01-20T12:10:18.747505Z",
     "start_time": "2025-01-20T12:10:18.743032Z"
    }
   },
   "cell_type": "code",
   "source": "512 * 1 * 1 * 2048",
   "id": "81aba5d5b6a0de2d",
   "outputs": [
    {
     "data": {
      "text/plain": [
       "1048576"
      ]
     },
     "execution_count": 100,
     "metadata": {},
     "output_type": "execute_result"
    }
   ],
   "execution_count": 100
  },
  {
   "metadata": {
    "ExecuteTime": {
     "end_time": "2025-01-20T12:10:23.509008Z",
     "start_time": "2025-01-20T12:10:23.506018Z"
    }
   },
   "cell_type": "code",
   "source": "512 / 16",
   "id": "3fadf5c8da292630",
   "outputs": [
    {
     "data": {
      "text/plain": [
       "32.0"
      ]
     },
     "execution_count": 101,
     "metadata": {},
     "output_type": "execute_result"
    }
   ],
   "execution_count": 101
  },
  {
   "metadata": {},
   "cell_type": "markdown",
   "source": "训练",
   "id": "cec518655e151f26"
  },
  {
   "metadata": {
    "ExecuteTime": {
     "end_time": "2025-01-20T12:14:04.874094Z",
     "start_time": "2025-01-20T12:14:04.869562Z"
    }
   },
   "cell_type": "code",
   "source": [
    "from sklearn.metrics import accuracy_score\n",
    "\n",
    "\n",
    "@torch.no_grad()\n",
    "def evaluating(model, dataloader, loss_fct):\n",
    "    loss_list = []\n",
    "    pred_list = []\n",
    "    label_list = []\n",
    "    for datas, labels in dataloader:\n",
    "        datas = datas.to(device)\n",
    "        labels = labels.to(device)\n",
    "        # 前向计算\n",
    "        logits = model(datas)\n",
    "        loss = loss_fct(logits, labels)  # 验证集损失\n",
    "        loss_list.append(loss.item())\n",
    "\n",
    "        preds = logits.argmax(axis=-1)  # 验证集预测\n",
    "        pred_list.extend(preds.cpu().numpy().tolist())\n",
    "        label_list.extend(labels.cpu().numpy().tolist())\n",
    "\n",
    "    acc = accuracy_score(label_list, pred_list)\n",
    "    return np.mean(loss_list), acc"
   ],
   "id": "e8fb91805d4e3e97",
   "outputs": [],
   "execution_count": 102
  },
  {
   "metadata": {
    "ExecuteTime": {
     "end_time": "2025-01-20T12:14:05.033613Z",
     "start_time": "2025-01-20T12:14:05.029500Z"
    }
   },
   "cell_type": "code",
   "source": [
    "from torch.utils.tensorboard import SummaryWriter\n",
    "\n",
    "\n",
    "class TensorBoardCallback:\n",
    "    def __init__(self, log_dir, flush_secs=10):\n",
    "        \"\"\"\n",
    "        Args:\n",
    "            log_dir (str): dir to write log.\n",
    "            flush_secs (int, optional): write to dsk each flush_secs seconds. Defaults to 10.\n",
    "        \"\"\"\n",
    "        self.writer = SummaryWriter(log_dir=log_dir, flush_secs=flush_secs)\n",
    "\n",
    "    def draw_model(self, model, input_shape):\n",
    "        self.writer.add_graph(model, input_to_model=torch.randn(input_shape))\n",
    "\n",
    "    def add_loss_scalars(self, step, loss, val_loss):\n",
    "        self.writer.add_scalars(\n",
    "            main_tag=\"training/loss\",\n",
    "            tag_scalar_dict={\"loss\": loss, \"val_loss\": val_loss},\n",
    "            global_step=step,\n",
    "        )\n",
    "\n",
    "    def add_acc_scalars(self, step, acc, val_acc):\n",
    "        self.writer.add_scalars(\n",
    "            main_tag=\"training/accuracy\",\n",
    "            tag_scalar_dict={\"accuracy\": acc, \"val_accuracy\": val_acc},\n",
    "            global_step=step,\n",
    "        )\n",
    "\n",
    "    def add_lr_scalars(self, step, learning_rate):\n",
    "        self.writer.add_scalars(\n",
    "            main_tag=\"training/learning_rate\",\n",
    "            tag_scalar_dict={\"learning_rate\": learning_rate},\n",
    "            global_step=step,\n",
    "\n",
    "        )\n",
    "\n",
    "    def __call__(self, step, **kwargs):\n",
    "        # add loss\n",
    "        loss = kwargs.pop(\"loss\", None)\n",
    "        val_loss = kwargs.pop(\"val_loss\", None)\n",
    "        if loss is not None and val_loss is not None:\n",
    "            self.add_loss_scalars(step, loss, val_loss)\n",
    "        # add acc\n",
    "        acc = kwargs.pop(\"acc\", None)\n",
    "        val_acc = kwargs.pop(\"val_acc\", None)\n",
    "        if acc is not None and val_acc is not None:\n",
    "            self.add_acc_scalars(step, acc, val_acc)\n",
    "        # add lr\n",
    "        learning_rate = kwargs.pop(\"lr\", None)\n",
    "        if learning_rate is not None:\n",
    "            self.add_lr_scalars(step, learning_rate)"
   ],
   "id": "f4b8479fe9ff1ffb",
   "outputs": [],
   "execution_count": 103
  },
  {
   "metadata": {
    "ExecuteTime": {
     "end_time": "2025-01-20T12:14:05.094434Z",
     "start_time": "2025-01-20T12:14:05.090420Z"
    }
   },
   "cell_type": "code",
   "source": [
    "class SaveCheckpointsCallback:\n",
    "    def __init__(self, save_dir, save_step=5000, save_best_only=True):\n",
    "        \"\"\"\n",
    "        Save checkpoints each save_epoch epoch. \n",
    "        We save checkpoint by epoch in this implementation.\n",
    "        Usually, training scripts with pytorch evaluating model and save checkpoint by step.\n",
    "\n",
    "        Args:\n",
    "            save_dir (str): dir to save checkpoint\n",
    "            save_epoch (int, optional): the frequency to save checkpoint. Defaults to 1.\n",
    "            save_best_only (bool, optional): If True, only save the best model or save each model at every epoch.\n",
    "        \"\"\"\n",
    "        self.save_dir = save_dir\n",
    "        self.save_step = save_step\n",
    "        self.save_best_only = save_best_only\n",
    "        self.best_metrics = -1\n",
    "\n",
    "        # mkdir\n",
    "        if not os.path.exists(self.save_dir):\n",
    "            os.mkdir(self.save_dir)\n",
    "\n",
    "    def __call__(self, step, state_dict, metric=None):\n",
    "        if step % self.save_step > 0:\n",
    "            return\n",
    "\n",
    "        if self.save_best_only:\n",
    "            assert metric is not None\n",
    "            if metric >= self.best_metrics:\n",
    "                # save checkpoints\n",
    "                torch.save(state_dict, os.path.join(self.save_dir, \"best.ckpt\"))\n",
    "                # update best metrics\n",
    "                self.best_metrics = metric\n",
    "        else:\n",
    "            torch.save(state_dict, os.path.join(self.save_dir, f\"{step}.ckpt\"))"
   ],
   "id": "c32f468c51a8f752",
   "outputs": [],
   "execution_count": 104
  },
  {
   "metadata": {
    "ExecuteTime": {
     "end_time": "2025-01-20T12:14:05.157726Z",
     "start_time": "2025-01-20T12:14:05.152238Z"
    }
   },
   "cell_type": "code",
   "source": [
    "class EarlyStopCallback:\n",
    "    def __init__(self, patience=5, min_delta=0.01):\n",
    "        \"\"\"\n",
    "\n",
    "        Args:\n",
    "            patience (int, optional): Number of epochs with no improvement after which training will be stopped.. Defaults to 5.\n",
    "            min_delta (float, optional): Minimum change in the monitored quantity to qualify as an improvement, i.e. an absolute \n",
    "                change of less than min_delta, will count as no improvement. Defaults to 0.01.\n",
    "        \"\"\"\n",
    "        self.patience = patience\n",
    "        self.min_delta = min_delta\n",
    "        self.best_metric = -1\n",
    "        self.counter = 0\n",
    "\n",
    "    def __call__(self, metric):\n",
    "        if metric >= self.best_metric + self.min_delta:\n",
    "            # update best metric\n",
    "            self.best_metric = metric\n",
    "            # reset counter \n",
    "            self.counter = 0\n",
    "        else:\n",
    "            self.counter += 1\n",
    "\n",
    "    @property\n",
    "    def early_stop(self):\n",
    "        return self.counter >= self.patience"
   ],
   "id": "ea155a99f61dab22",
   "outputs": [],
   "execution_count": 105
  },
  {
   "metadata": {
    "ExecuteTime": {
     "end_time": "2025-01-20T12:14:05.201354Z",
     "start_time": "2025-01-20T12:14:05.196594Z"
    }
   },
   "cell_type": "code",
   "source": [
    "# 训练\n",
    "def training(\n",
    "        model,\n",
    "        train_loader,\n",
    "        val_loader,\n",
    "        epoch,\n",
    "        loss_fct,\n",
    "        optimizer,\n",
    "        tensorboard_callback=None,\n",
    "        save_ckpt_callback=None,\n",
    "        early_stop_callback=None,\n",
    "        eval_step=500,\n",
    "):\n",
    "    record_dict = {\n",
    "        \"train\": [],\n",
    "        \"val\": []\n",
    "    }\n",
    "\n",
    "    global_step = 0\n",
    "    model.train()\n",
    "    with tqdm(total=epoch * len(train_loader)) as pbar:\n",
    "        for epoch_id in range(epoch):\n",
    "            # training\n",
    "            for datas, labels in train_loader:\n",
    "                datas = datas.to(device)\n",
    "                labels = labels.to(device)\n",
    "                # 梯度清空\n",
    "                optimizer.zero_grad()\n",
    "                # 模型前向计算\n",
    "                logits = model(datas)\n",
    "                # 计算损失\n",
    "                loss = loss_fct(logits, labels)\n",
    "                # 梯度回传\n",
    "                loss.backward()\n",
    "                # 调整优化器，包括学习率的变动等\n",
    "                optimizer.step()\n",
    "                preds = logits.argmax(axis=-1)\n",
    "\n",
    "                acc = accuracy_score(labels.cpu().numpy(), preds.cpu().numpy())\n",
    "                loss = loss.cpu().item()\n",
    "                # record\n",
    "\n",
    "                record_dict[\"train\"].append({\n",
    "                    \"loss\": loss, \"acc\": acc, \"step\": global_step\n",
    "                })\n",
    "\n",
    "                # evaluating\n",
    "                if global_step % eval_step == 0:\n",
    "                    model.eval()\n",
    "                    val_loss, val_acc = evaluating(model, val_loader, loss_fct)\n",
    "                    record_dict[\"val\"].append({\n",
    "                        \"loss\": val_loss, \"acc\": val_acc, \"step\": global_step\n",
    "                    })\n",
    "                    model.train()\n",
    "\n",
    "                    # 1. 使用 tensorboard 可视化\n",
    "                    if tensorboard_callback is not None:\n",
    "                        tensorboard_callback(\n",
    "                            global_step,\n",
    "                            loss=loss, val_loss=val_loss,\n",
    "                            acc=acc, val_acc=val_acc,\n",
    "                            lr=optimizer.param_groups[0][\"lr\"],\n",
    "                        )\n",
    "\n",
    "                    # 2. 保存模型权重 save model checkpoint\n",
    "                    if save_ckpt_callback is not None:\n",
    "                        save_ckpt_callback(global_step, model.state_dict(), metric=val_acc)\n",
    "\n",
    "                    # 3. 早停 Early Stop\n",
    "                    if early_stop_callback is not None:\n",
    "                        early_stop_callback(val_acc)\n",
    "                        if early_stop_callback.early_stop:\n",
    "                            print(f\"Early stop at epoch {epoch_id} / global_step {global_step}\")\n",
    "                            return record_dict\n",
    "\n",
    "                # udate step\n",
    "                global_step += 1\n",
    "                pbar.update(1)\n",
    "                pbar.set_postfix({\"epoch\": epoch_id})\n",
    "\n",
    "    return record_dict"
   ],
   "id": "da3e928c049bde4a",
   "outputs": [],
   "execution_count": 106
  },
  {
   "metadata": {
    "ExecuteTime": {
     "end_time": "2025-01-20T12:14:05.501694Z",
     "start_time": "2025-01-20T12:14:05.277099Z"
    }
   },
   "cell_type": "code",
   "source": [
    "epoch = 20\n",
    "\n",
    "model = ResNet50(num_classes=10)\n",
    "\n",
    "# 1. 定义损失函数 采用交叉熵损失\n",
    "loss_fct = nn.CrossEntropyLoss()\n",
    "# 2. 定义优化器 采用 sgd\n",
    "# Optimizers specified in the torch.optim package\n",
    "optimizer = torch.optim.SGD(model.parameters(), lr=0.01, momentum=0.0)\n",
    "\n",
    "# 1. tensorboard 可视化\n",
    "if not os.path.exists(\"runs\"):\n",
    "    os.mkdir(\"runs\")\n",
    "# tensorboard_callback = TensorBoardCallback(\"runs/monkeys-resnet50\")\n",
    "# tensorboard_callback.draw_model(model, [1, 3, img_h, img_w])\n",
    "# 2. save best\n",
    "if not os.path.exists(\"checkpoints\"):\n",
    "    os.makedirs(\"checkpoints\")\n",
    "save_ckpt_callback = SaveCheckpointsCallback(\"checkpoints/monkeys-resnet50\", save_step=len(train_loader),\n",
    "                                             save_best_only=True)\n",
    "# 3. early stop\n",
    "early_stop_callback = EarlyStopCallback(patience=5)"
   ],
   "id": "570ba88925b732dd",
   "outputs": [
    {
     "name": "stdout",
     "output_type": "stream",
     "text": [
      "2048\n",
      "1000\n"
     ]
    }
   ],
   "execution_count": 107
  },
  {
   "metadata": {
    "ExecuteTime": {
     "end_time": "2025-01-20T12:18:53.928707Z",
     "start_time": "2025-01-20T12:14:05.501694Z"
    }
   },
   "cell_type": "code",
   "source": [
    "model = model.to(device)\n",
    "record = training(\n",
    "    model,\n",
    "    train_loader,\n",
    "    val_loader,\n",
    "    epoch,\n",
    "    loss_fct,\n",
    "    optimizer,\n",
    "    tensorboard_callback=None,\n",
    "    save_ckpt_callback=save_ckpt_callback,\n",
    "    early_stop_callback=early_stop_callback,\n",
    "    eval_step=len(train_loader)\n",
    ")"
   ],
   "id": "64ed72e778e12ed9",
   "outputs": [
    {
     "data": {
      "text/plain": [
       "  0%|          | 0/700 [00:00<?, ?it/s]"
      ],
      "application/vnd.jupyter.widget-view+json": {
       "version_major": 2,
       "version_minor": 0,
       "model_id": "b0f040482c7441bf913be32b0a6d9f2c"
      }
     },
     "metadata": {},
     "output_type": "display_data"
    },
    {
     "name": "stdout",
     "output_type": "stream",
     "text": [
      "Early stop at epoch 10 / global_step 350\n"
     ]
    }
   ],
   "execution_count": 108
  },
  {
   "metadata": {
    "ExecuteTime": {
     "end_time": "2025-01-20T12:24:28.117713Z",
     "start_time": "2025-01-20T12:24:27.941005Z"
    }
   },
   "cell_type": "code",
   "source": [
    "# 画图\n",
    "\n",
    "import torch\n",
    "from torchviz import make_dot\n",
    "\n",
    "# 假设你的模型已经定义并且命名为 'model'\n",
    "# 构造一个虚拟输入，形状为 (batch_size, channels, height, width)\n",
    "dummy_input = torch.randn(1, 3, 224, 224)  # Replace with your input shape\n",
    "\n",
    "# 获取模型的设备\n",
    "device = next(model.parameters()).device\n",
    "\n",
    "# 将输入数据移动到与模型相同的设备\n",
    "dummy_input = dummy_input.to(device)\n",
    "\n",
    "# 执行前向传播\n",
    "output = model(dummy_input)\n",
    "\n",
    "# 可视化模型架构\n",
    "dot = make_dot(output, params=dict(model.named_parameters()))\n",
    "dot.render(\"model_architecture\", format=\"png\")  # Save the visualization as an image"
   ],
   "id": "58a92f82f202100c",
   "outputs": [
    {
     "data": {
      "text/plain": [
       "'model_architecture.png'"
      ]
     },
     "execution_count": 112,
     "metadata": {},
     "output_type": "execute_result"
    }
   ],
   "execution_count": 112
  },
  {
   "metadata": {
    "ExecuteTime": {
     "end_time": "2025-01-20T12:20:59.314969Z",
     "start_time": "2025-01-20T12:20:59.201385Z"
    }
   },
   "cell_type": "code",
   "source": [
    "#画线要注意的是损失是不一定在零到1之间的\n",
    "def plot_learning_curves(record_dict, sample_step=500):\n",
    "    # build DataFrame\n",
    "    train_df = pd.DataFrame(record_dict[\"train\"]).set_index(\"step\").iloc[::sample_step]\n",
    "    val_df = pd.DataFrame(record_dict[\"val\"]).set_index(\"step\")\n",
    "\n",
    "    # plot\n",
    "    fig_num = len(train_df.columns)\n",
    "    fig, axs = plt.subplots(1, fig_num, figsize=(5 * fig_num, 5))\n",
    "    for idx, item in enumerate(train_df.columns):\n",
    "        axs[idx].plot(train_df.index, train_df[item], label=f\"train_{item}\")\n",
    "        axs[idx].plot(val_df.index, val_df[item], label=f\"val_{item}\")\n",
    "        axs[idx].grid()\n",
    "        axs[idx].legend()\n",
    "        # axs[idx].set_xticks(range(0, train_df.index[-1], 5000))\n",
    "        # axs[idx].set_xticklabels(map(lambda x: f\"{int(x/1000)}k\", range(0, train_df.index[-1], 5000)))\n",
    "        axs[idx].set_xlabel(\"step\")\n",
    "\n",
    "    plt.show()\n",
    "\n",
    "\n",
    "plot_learning_curves(record, sample_step=10)  #横坐标是 steps"
   ],
   "id": "5593d79748572e57",
   "outputs": [
    {
     "data": {
      "text/plain": [
       "<Figure size 1000x500 with 2 Axes>"
      ],
      "image/png": "[encoded data removed]"
     },
     "metadata": {},
     "output_type": "display_data"
    }
   ],
   "execution_count": 110
  },
  {
   "metadata": {},
   "cell_type": "markdown",
   "source": "评估",
   "id": "fc260c67d80081d6"
  },
  {
   "metadata": {
    "ExecuteTime": {
     "end_time": "2025-01-20T12:21:06.370575Z",
     "start_time": "2025-01-20T12:21:01.852124Z"
    }
   },
   "cell_type": "code",
   "source": [
    "# dataload for evaluating\n",
    "\n",
    "# load checkpoints\n",
    "model.load_state_dict(torch.load(\"checkpoints/monkeys-resnet50/best.ckpt\", map_location=\"cpu\", weights_only=True))\n",
    "\n",
    "model.eval()\n",
    "loss, acc = evaluating(model, val_loader, loss_fct)\n",
    "print(f\"loss:     {loss:.4f}\\naccuracy: {acc:.4f}\")"
   ],
   "id": "846234161102f5ce",
   "outputs": [
    {
     "name": "stdout",
     "output_type": "stream",
     "text": [
      "loss:     0.5212\n",
      "accuracy: 0.9890\n"
     ]
    }
   ],
   "execution_count": 111
  },
  {
   "metadata": {},
   "cell_type": "markdown",
   "source": "### homework4：完成cifar10的模型搭建",
   "id": "cc668e6f50b501b3"
  },
  {
   "metadata": {
    "ExecuteTime": {
     "end_time": "2025-01-20T14:27:59.673236Z",
     "start_time": "2025-01-20T14:27:59.665585Z"
    }
   },
   "cell_type": "code",
   "source": [
    "import matplotlib as mpl\n",
    "import matplotlib.pyplot as plt\n",
    "%matplotlib inline\n",
    "import numpy as np\n",
    "import sklearn\n",
    "import pandas as pd\n",
    "import os\n",
    "import sys\n",
    "import time\n",
    "from tqdm.auto import tqdm\n",
    "import torch\n",
    "import torch.nn as nn\n",
    "import torch.nn.functional as F\n",
    "\n",
    "print(sys.version_info)\n",
    "for module in mpl, np, pd, sklearn, torch:\n",
    "    print(module.__name__, module.__version__)\n",
    "    \n",
    "device = torch.device(\"cuda:0\") if torch.cuda.is_available() else torch.device(\"cpu\")\n",
    "print(device)\n",
    "\n",
    "seed = 42"
   ],
   "id": "e450aa487a4416a",
   "outputs": [
    {
     "name": "stdout",
     "output_type": "stream",
     "text": [
      "sys.version_info(major=3, minor=12, micro=3, releaselevel='final', serial=0)\n",
      "matplotlib 3.10.0\n",
      "numpy 1.26.4\n",
      "pandas 2.2.3\n",
      "sklearn 1.6.0\n",
      "torch 2.5.1+cu124\n",
      "cuda:0\n"
     ]
    }
   ],
   "execution_count": 170
  },
  {
   "metadata": {},
   "cell_type": "markdown",
   "source": "数据准备",
   "id": "ada90f54a8a69229"
  },
  {
   "metadata": {
    "ExecuteTime": {
     "end_time": "2025-01-20T14:28:01.106839Z",
     "start_time": "2025-01-20T14:28:00.123731Z"
    }
   },
   "cell_type": "code",
   "source": [
    "from pathlib import Path\n",
    "\n",
    "DATA_DIR = Path(\"G:/my_first_github/data/cifar-10\")\n",
    "\n",
    "train_lables_file = DATA_DIR / \"trainLabels.csv\"\n",
    "test_csv_file = DATA_DIR / \"sampleSubmission.csv\"  #测试集模板csv文件\n",
    "train_folder = DATA_DIR / \"train\"\n",
    "test_folder = DATA_DIR / \"test\"\n",
    "\n",
    "#所有的类别\n",
    "class_names = [\n",
    "    'airplane',\n",
    "    'automobile',\n",
    "    'bird',\n",
    "    'cat',\n",
    "    'deer',\n",
    "    'dog',\n",
    "    'frog',\n",
    "    'horse',\n",
    "    'ship',\n",
    "    'truck',\n",
    "]\n",
    "\n",
    "\n",
    "def parse_csv_file(filepath, folder):  #filepath:csv文件路径，folder:图片所在文件夹\n",
    "    \"\"\"Parses csv files into (filename(path), label) format\"\"\"\n",
    "    results = []\n",
    "    #读取所有行\n",
    "    with open(filepath, 'r') as f:\n",
    "        #         lines = f.readlines()  为什么加[1:]，可以试这个\n",
    "        #第一行不需要，因为第一行是标题\n",
    "        lines = f.readlines()[1:]\n",
    "    for line in lines:  #依次去取每一行\n",
    "        image_id, label_str = line.strip('\\n').split(',')  #图片id 和标签分离\n",
    "        image_full_path = folder / f\"{image_id}.png\"\n",
    "        results.append((image_full_path, label_str))  #得到对应图片的路径和分类\n",
    "    return results\n",
    "\n",
    "\n",
    "#解析对应的文件夹\n",
    "train_labels_info = parse_csv_file(train_lables_file, train_folder)\n",
    "test_csv_info = parse_csv_file(test_csv_file, test_folder)\n",
    "#打印\n",
    "import pprint\n",
    "\n",
    "pprint.pprint(train_labels_info[0:5])\n",
    "pprint.pprint(test_csv_info[0:5])\n",
    "print(len(train_labels_info), len(test_csv_info))"
   ],
   "id": "696c00bfb05a2f75",
   "outputs": [
    {
     "name": "stdout",
     "output_type": "stream",
     "text": [
      "[(WindowsPath('G:/my_first_github/data/cifar-10/train/1.png'), 'frog'),\n",
      " (WindowsPath('G:/my_first_github/data/cifar-10/train/2.png'), 'truck'),\n",
      " (WindowsPath('G:/my_first_github/data/cifar-10/train/3.png'), 'truck'),\n",
      " (WindowsPath('G:/my_first_github/data/cifar-10/train/4.png'), 'deer'),\n",
      " (WindowsPath('G:/my_first_github/data/cifar-10/train/5.png'), 'automobile')]\n",
      "[(WindowsPath('G:/my_first_github/data/cifar-10/test/1.png'), 'cat'),\n",
      " (WindowsPath('G:/my_first_github/data/cifar-10/test/2.png'), 'cat'),\n",
      " (WindowsPath('G:/my_first_github/data/cifar-10/test/3.png'), 'cat'),\n",
      " (WindowsPath('G:/my_first_github/data/cifar-10/test/4.png'), 'cat'),\n",
      " (WindowsPath('G:/my_first_github/data/cifar-10/test/5.png'), 'cat')]\n",
      "50000 300000\n"
     ]
    }
   ],
   "execution_count": 171
  },
  {
   "metadata": {
    "ExecuteTime": {
     "end_time": "2025-01-20T14:28:01.156980Z",
     "start_time": "2025-01-20T14:28:01.106839Z"
    }
   },
   "cell_type": "code",
   "source": [
    "# train_df = pd.DataFrame(train_labels_info)\n",
    "train_df = pd.DataFrame(train_labels_info[0:45000])  # 取前45000张图片作为训练集\n",
    "valid_df = pd.DataFrame(train_labels_info[45000:])  # 取后5000张图片作为验证集\n",
    "test_df = pd.DataFrame(test_csv_info)\n",
    "\n",
    "train_df.columns = ['filepath', 'class']\n",
    "valid_df.columns = ['filepath', 'class']\n",
    "test_df.columns = ['filepath', 'class']\n",
    "\n",
    "print(train_df.head())\n",
    "print(valid_df.head())\n",
    "print(test_df.head())"
   ],
   "id": "a29b42e5f68588bd",
   "outputs": [
    {
     "name": "stdout",
     "output_type": "stream",
     "text": [
      "                                       filepath       class\n",
      "0  G:\\my_first_github\\data\\cifar-10\\train\\1.png        frog\n",
      "1  G:\\my_first_github\\data\\cifar-10\\train\\2.png       truck\n",
      "2  G:\\my_first_github\\data\\cifar-10\\train\\3.png       truck\n",
      "3  G:\\my_first_github\\data\\cifar-10\\train\\4.png        deer\n",
      "4  G:\\my_first_github\\data\\cifar-10\\train\\5.png  automobile\n",
      "                                           filepath       class\n",
      "0  G:\\my_first_github\\data\\cifar-10\\train\\45001.png       horse\n",
      "1  G:\\my_first_github\\data\\cifar-10\\train\\45002.png  automobile\n",
      "2  G:\\my_first_github\\data\\cifar-10\\train\\45003.png        deer\n",
      "3  G:\\my_first_github\\data\\cifar-10\\train\\45004.png  automobile\n",
      "4  G:\\my_first_github\\data\\cifar-10\\train\\45005.png    airplane\n",
      "                                      filepath class\n",
      "0  G:\\my_first_github\\data\\cifar-10\\test\\1.png   cat\n",
      "1  G:\\my_first_github\\data\\cifar-10\\test\\2.png   cat\n",
      "2  G:\\my_first_github\\data\\cifar-10\\test\\3.png   cat\n",
      "3  G:\\my_first_github\\data\\cifar-10\\test\\4.png   cat\n",
      "4  G:\\my_first_github\\data\\cifar-10\\test\\5.png   cat\n"
     ]
    }
   ],
   "execution_count": 172
  },
  {
   "metadata": {
    "ExecuteTime": {
     "end_time": "2025-01-20T14:28:01.163623Z",
     "start_time": "2025-01-20T14:28:01.156980Z"
    }
   },
   "cell_type": "code",
   "source": [
    "from PIL import Image\n",
    "from torch.utils.data import Dataset, DataLoader\n",
    "from torchvision import transforms\n",
    "\n",
    "\n",
    "class Cifar10Dataset(Dataset):\n",
    "    df_map = {\n",
    "        \"train\": train_df,\n",
    "        \"eval\": valid_df,\n",
    "        \"test\": test_df\n",
    "    }\n",
    "    label_to_idx = {label: idx for idx, label in enumerate(class_names)}  # 类别映射为idx\n",
    "    idx_to_label = {idx: label for idx, label in enumerate(class_names)}  # idx映射为类别,为了test测试集使用\n",
    "\n",
    "    def __init__(self, mode, transform=None):\n",
    "        self.df = self.df_map.get(mode, None)  # 获取对应模式的df，不同字符串对应不同模式\n",
    "        if self.df is None:\n",
    "            raise ValueError(\"mode should be one of train, val, test, but got {}\".format(mode))\n",
    "        # assert self.df, \"df is None\"\n",
    "        self.transform = transform\n",
    "\n",
    "    def __getitem__(self, index):\n",
    "        img_path, label = self.df.iloc[index]  # 获取图片路径和标签\n",
    "        img = Image.open(img_path).convert('RGB')\n",
    "        # # img 转换为 channel first\n",
    "        # img = img.transpose((2, 0, 1))\n",
    "        # transform\n",
    "        img = self.transform(img)  # 数据增强\n",
    "        # label 转换为 idx\n",
    "        label = self.label_to_idx[label]\n",
    "        return img, label\n",
    "\n",
    "    def __len__(self):\n",
    "        return self.df.shape[0]  # 返回df的行数,样本数\n",
    "\n",
    "\n",
    "IMAGE_SIZE = 32\n",
    "mean, std = [0.4914, 0.4822, 0.4465], [0.247, 0.243, 0.261]\n",
    "\n",
    "transforms_train = transforms.Compose([\n",
    "    # resize\n",
    "    transforms.Resize((IMAGE_SIZE, IMAGE_SIZE)),  #缩放\n",
    "    # random rotation 40\n",
    "    transforms.RandomRotation(40),  #随机旋转\n",
    "    # horizaontal flip\n",
    "    transforms.RandomHorizontalFlip(),  #随机水平翻转\n",
    "    transforms.ToTensor(),  #转换为tensor\n",
    "    transforms.Normalize(mean, std) #标准化\n",
    "])  #数据增强\n",
    "\n",
    "transforms_eval = transforms.Compose([\n",
    "    # resize\n",
    "    transforms.Resize((IMAGE_SIZE, IMAGE_SIZE)),\n",
    "    transforms.ToTensor(),\n",
    "    transforms.Normalize(mean, std)\n",
    "])\n",
    "# ToTensor还将图像的维度从[height, width, channels]转换为[channels, height, width]。\n",
    "train_ds = Cifar10Dataset(\"train\", transforms_train)\n",
    "eval_ds = Cifar10Dataset(\"eval\", transforms_eval)"
   ],
   "id": "92ca0d474e163297",
   "outputs": [],
   "execution_count": 173
  },
  {
   "metadata": {
    "ExecuteTime": {
     "end_time": "2025-01-20T14:28:01.169496Z",
     "start_time": "2025-01-20T14:28:01.163623Z"
    }
   },
   "cell_type": "code",
   "source": "train_ds[0][0].shape  # 图片的shape,输入",
   "id": "b7ee566906a1a968",
   "outputs": [
    {
     "data": {
      "text/plain": [
       "torch.Size([3, 32, 32])"
      ]
     },
     "execution_count": 174,
     "metadata": {},
     "output_type": "execute_result"
    }
   ],
   "execution_count": 174
  },
  {
   "metadata": {
    "ExecuteTime": {
     "end_time": "2025-01-20T14:28:01.174313Z",
     "start_time": "2025-01-20T14:28:01.169496Z"
    }
   },
   "cell_type": "code",
   "source": [
    "print(train_ds.idx_to_label)  # 类别映射为idx\n",
    "train_ds.label_to_idx  # idx映射为类别"
   ],
   "id": "53f779b85b2b8d52",
   "outputs": [
    {
     "name": "stdout",
     "output_type": "stream",
     "text": [
      "{0: 'airplane', 1: 'automobile', 2: 'bird', 3: 'cat', 4: 'deer', 5: 'dog', 6: 'frog', 7: 'horse', 8: 'ship', 9: 'truck'}\n"
     ]
    },
    {
     "data": {
      "text/plain": [
       "{'airplane': 0,\n",
       " 'automobile': 1,\n",
       " 'bird': 2,\n",
       " 'cat': 3,\n",
       " 'deer': 4,\n",
       " 'dog': 5,\n",
       " 'frog': 6,\n",
       " 'horse': 7,\n",
       " 'ship': 8,\n",
       " 'truck': 9}"
      ]
     },
     "execution_count": 175,
     "metadata": {},
     "output_type": "execute_result"
    }
   ],
   "execution_count": 175
  },
  {
   "metadata": {
    "ExecuteTime": {
     "end_time": "2025-01-20T14:28:01.178646Z",
     "start_time": "2025-01-20T14:28:01.174313Z"
    }
   },
   "cell_type": "code",
   "source": [
    "batch_size = 64\n",
    "train_dl = DataLoader(train_ds, batch_size=batch_size, shuffle=True)\n",
    "eval_dl = DataLoader(eval_ds, batch_size=batch_size, shuffle=False)"
   ],
   "id": "f279c41a6218d3f2",
   "outputs": [],
   "execution_count": 176
  },
  {
   "metadata": {
    "ExecuteTime": {
     "end_time": "2025-01-20T14:28:30.769868Z",
     "start_time": "2025-01-20T14:28:01.178646Z"
    }
   },
   "cell_type": "code",
   "source": [
    "# 遍历train_ds得到每张图片，计算每个通道的均值和方差\n",
    "def cal_mean_std(ds):\n",
    "    mean = 0.\n",
    "    std = 0.\n",
    "    for img, _ in ds:\n",
    "        mean += img.mean(dim=(1, 2))\n",
    "        std += img.std(dim=(1, 2))\n",
    "    mean /= len(ds)\n",
    "    std /= len(ds)\n",
    "    return mean, std\n",
    "\n",
    "\n",
    "# 经过 normalize 后 均值为0，方差为1\n",
    "print(cal_mean_std(train_ds))"
   ],
   "id": "e1ee80eefe0390e4",
   "outputs": [
    {
     "name": "stdout",
     "output_type": "stream",
     "text": [
      "(tensor([-0.2207, -0.2281, -0.1986]), tensor([0.9977, 0.9955, 0.9043]))\n"
     ]
    }
   ],
   "execution_count": 177
  },
  {
   "metadata": {},
   "cell_type": "markdown",
   "source": "定义模型",
   "id": "d649447b20d3305c"
  },
  {
   "metadata": {
    "ExecuteTime": {
     "end_time": "2025-01-20T14:28:30.825595Z",
     "start_time": "2025-01-20T14:28:30.770868Z"
    }
   },
   "cell_type": "code",
   "source": [
    "class CNN(nn.Module):\n",
    "    def __init__(self, num_classes):\n",
    "        super().__init__()\n",
    "        self.model = nn.Sequential(\n",
    "            nn.Conv2d(in_channels=3, out_channels=128, kernel_size=3, padding=\"same\"),\n",
    "            nn.ReLU(),\n",
    "            nn.BatchNorm2d(128),  # 批标准化，在通道数做的归一化\n",
    "            nn.Conv2d(in_channels=128, out_channels=128, kernel_size=3, padding=\"same\"),  #输出尺寸（128，32，32）\n",
    "            nn.ReLU(),\n",
    "            nn.BatchNorm2d(128),\n",
    "            nn.MaxPool2d(kernel_size=2),  #输出尺寸（128，16，16）\n",
    "            nn.Conv2d(in_channels=128, out_channels=256, kernel_size=3, padding=\"same\"),\n",
    "            nn.ReLU(),\n",
    "            nn.BatchNorm2d(256),\n",
    "            nn.Conv2d(in_channels=256, out_channels=256, kernel_size=3, padding=\"same\"),  #输出尺寸（256，16，16）\n",
    "            nn.ReLU(),\n",
    "            nn.BatchNorm2d(256),\n",
    "            nn.MaxPool2d(kernel_size=2),  #输出尺寸（256，8，8）\n",
    "            nn.Conv2d(in_channels=256, out_channels=512, kernel_size=3, padding=\"same\"),\n",
    "            nn.ReLU(),\n",
    "            nn.BatchNorm2d(512),\n",
    "            nn.Conv2d(in_channels=512, out_channels=512, kernel_size=3, padding=\"same\"),  #输出尺寸（512，8，8）\n",
    "            nn.ReLU(),\n",
    "            nn.BatchNorm2d(512),\n",
    "            nn.MaxPool2d(kernel_size=2),  #输出尺寸（512，4，4）\n",
    "            nn.Flatten(),  #展平\n",
    "            nn.Linear(8192, 512),\n",
    "            nn.ReLU(),\n",
    "            nn.Linear(512, num_classes),\n",
    "        )  #Sequential自动连接各层，把各层的输出作为下一层的输入\n",
    "\n",
    "    def forward(self, x):\n",
    "        return self.model(x)\n",
    "\n",
    "\n",
    "for key, value in CNN(len(class_names)).named_parameters():\n",
    "    print(f\"{key:^40}paramerters num: {np.prod(value.shape)}\")"
   ],
   "id": "b0f2a9f27b6eb2c",
   "outputs": [
    {
     "name": "stdout",
     "output_type": "stream",
     "text": [
      "             model.0.weight             paramerters num: 3456\n",
      "              model.0.bias              paramerters num: 128\n",
      "             model.2.weight             paramerters num: 128\n",
      "              model.2.bias              paramerters num: 128\n",
      "             model.3.weight             paramerters num: 147456\n",
      "              model.3.bias              paramerters num: 128\n",
      "             model.5.weight             paramerters num: 128\n",
      "              model.5.bias              paramerters num: 128\n",
      "             model.7.weight             paramerters num: 294912\n",
      "              model.7.bias              paramerters num: 256\n",
      "             model.9.weight             paramerters num: 256\n",
      "              model.9.bias              paramerters num: 256\n",
      "            model.10.weight             paramerters num: 589824\n",
      "             model.10.bias              paramerters num: 256\n",
      "            model.12.weight             paramerters num: 256\n",
      "             model.12.bias              paramerters num: 256\n",
      "            model.14.weight             paramerters num: 1179648\n",
      "             model.14.bias              paramerters num: 512\n",
      "            model.16.weight             paramerters num: 512\n",
      "             model.16.bias              paramerters num: 512\n",
      "            model.17.weight             paramerters num: 2359296\n",
      "             model.17.bias              paramerters num: 512\n",
      "            model.19.weight             paramerters num: 512\n",
      "             model.19.bias              paramerters num: 512\n",
      "            model.22.weight             paramerters num: 4194304\n",
      "             model.22.bias              paramerters num: 512\n",
      "            model.24.weight             paramerters num: 5120\n",
      "             model.24.bias              paramerters num: 10\n"
     ]
    }
   ],
   "execution_count": 178
  },
  {
   "metadata": {
    "ExecuteTime": {
     "end_time": "2025-01-20T14:28:30.856834Z",
     "start_time": "2025-01-20T14:28:30.825595Z"
    }
   },
   "cell_type": "code",
   "source": [
    "total_params = sum(p.numel() for p in CNN(len(class_names)).parameters() if p.requires_grad)\n",
    "print(f\"Total trainable parameters: {total_params}\")"
   ],
   "id": "74cfe68a2d2c0a2d",
   "outputs": [
    {
     "name": "stdout",
     "output_type": "stream",
     "text": [
      "Total trainable parameters: 8779914\n"
     ]
    }
   ],
   "execution_count": 179
  },
  {
   "metadata": {
    "ExecuteTime": {
     "end_time": "2025-01-20T14:28:30.861358Z",
     "start_time": "2025-01-20T14:28:30.857833Z"
    }
   },
   "cell_type": "code",
   "source": "512 * 4 * 4",
   "id": "238e29722461fe96",
   "outputs": [
    {
     "data": {
      "text/plain": [
       "8192"
      ]
     },
     "execution_count": 180,
     "metadata": {},
     "output_type": "execute_result"
    }
   ],
   "execution_count": 180
  },
  {
   "metadata": {
    "ExecuteTime": {
     "end_time": "2025-01-20T14:28:30.867539Z",
     "start_time": "2025-01-20T14:28:30.861358Z"
    }
   },
   "cell_type": "code",
   "source": [
    "input_4d = torch.randn(32, 3, 64, 64)  # 32 个样本，3 个通道，图像大小为 64x64\n",
    "bn2d = nn.BatchNorm2d(3)  # 对 3 个通道进行归一化\n",
    "output_4d = bn2d(input_4d)\n",
    "output_4d.shape"
   ],
   "id": "f75fbb64b54bf172",
   "outputs": [
    {
     "data": {
      "text/plain": [
       "torch.Size([32, 3, 64, 64])"
      ]
     },
     "execution_count": 181,
     "metadata": {},
     "output_type": "execute_result"
    }
   ],
   "execution_count": 181
  },
  {
   "metadata": {
    "ExecuteTime": {
     "end_time": "2025-01-20T14:28:30.876131Z",
     "start_time": "2025-01-20T14:28:30.867539Z"
    }
   },
   "cell_type": "code",
   "source": "output_4d",
   "id": "10252f193fbaabb2",
   "outputs": [
    {
     "data": {
      "text/plain": [
       "tensor([[[[-9.2388e-01, -3.5268e-01,  3.8138e-01,  ...,  1.1995e+00,\n",
       "           -1.8043e+00, -2.5214e+00],\n",
       "          [ 8.5671e-01,  1.3547e+00,  1.0829e+00,  ..., -8.9794e-01,\n",
       "           -6.4836e-02, -5.6386e-01],\n",
       "          [ 1.2787e+00, -6.0884e-02, -6.4668e-01,  ...,  1.9123e-01,\n",
       "            6.6458e-01, -1.1659e+00],\n",
       "          ...,\n",
       "          [-9.0075e-01,  2.4802e+00, -7.8640e-01,  ...,  1.8228e+00,\n",
       "            4.5067e-01,  1.2095e+00],\n",
       "          [-1.3548e+00, -1.0631e+00, -8.9090e-02,  ..., -7.5243e-01,\n",
       "           -5.5007e-02, -8.7224e-01],\n",
       "          [ 5.3793e-01,  6.6744e-01, -1.5315e-01,  ..., -1.7710e+00,\n",
       "            5.1205e-01,  8.1495e-01]],\n",
       "\n",
       "         [[-9.3322e-01, -1.0056e+00,  8.6877e-01,  ..., -4.1407e-01,\n",
       "            2.3559e-01, -8.0006e-01],\n",
       "          [-4.4108e-01,  8.1135e-01, -3.8448e-01,  ..., -6.7019e-01,\n",
       "            1.5367e+00,  8.4198e-01],\n",
       "          [ 2.1421e+00, -6.2017e-01, -8.9885e-01,  ..., -2.6025e-01,\n",
       "            2.1859e-01,  5.9292e-03],\n",
       "          ...,\n",
       "          [ 1.9716e+00,  6.9990e-02, -2.0461e-01,  ..., -3.0180e-01,\n",
       "            2.3491e-01,  3.2338e-01],\n",
       "          [-1.3473e+00,  1.4314e+00, -1.7706e+00,  ...,  2.4146e-01,\n",
       "            7.0436e-01,  7.1839e-01],\n",
       "          [ 1.4775e+00,  2.3826e+00,  8.3513e-01,  ...,  9.4852e-01,\n",
       "            4.4499e-01, -5.9988e-01]],\n",
       "\n",
       "         [[-8.2392e-01, -1.9215e+00, -1.1075e+00,  ..., -4.9975e-01,\n",
       "            1.2384e+00, -2.7299e-01],\n",
       "          [-2.5900e-01,  1.0231e-01, -1.4757e-01,  ..., -2.9187e-01,\n",
       "            2.6706e-01, -1.4830e-01],\n",
       "          [-1.1364e+00, -2.2714e+00,  1.6779e+00,  ..., -1.1560e-01,\n",
       "            4.2427e-01, -6.1739e-01],\n",
       "          ...,\n",
       "          [ 1.0668e+00,  8.7069e-02, -6.9218e-02,  ..., -5.0006e-01,\n",
       "            1.5989e-01,  1.3161e+00],\n",
       "          [-2.2997e-01, -8.6486e-01,  8.7445e-01,  ..., -2.6907e-01,\n",
       "            9.2721e-01, -4.2922e-01],\n",
       "          [-3.3568e-01,  3.7516e-01,  1.2311e+00,  ...,  6.1424e-01,\n",
       "           -3.2469e-01,  9.0376e-01]]],\n",
       "\n",
       "\n",
       "        [[[-5.5339e-02, -1.2379e-01, -4.3380e-01,  ...,  5.3457e-01,\n",
       "           -1.5325e-01,  3.3076e-01],\n",
       "          [-4.1854e-01,  7.6880e-01,  1.6704e+00,  ...,  9.4217e-01,\n",
       "            3.8394e-01, -6.6122e-01],\n",
       "          [-8.1474e-01, -2.3391e+00, -1.7990e-01,  ...,  1.4345e+00,\n",
       "           -1.0866e+00,  8.4074e-01],\n",
       "          ...,\n",
       "          [-1.9018e+00, -1.5892e-01,  3.0141e-01,  ..., -1.0515e+00,\n",
       "            2.4546e-01, -8.1737e-01],\n",
       "          [ 3.5100e-01, -9.8062e-01, -6.2679e-01,  ...,  9.2347e-02,\n",
       "            1.7538e-01,  1.0853e+00],\n",
       "          [ 1.0163e+00, -1.8100e+00,  5.6267e-01,  ..., -8.2373e-01,\n",
       "            1.4667e+00, -1.0783e+00]],\n",
       "\n",
       "         [[ 1.4954e-01, -6.5199e-01, -7.8499e-02,  ..., -6.3760e-02,\n",
       "            1.2501e-01,  3.3122e+00],\n",
       "          [-8.4963e-01, -3.4468e-01, -9.6518e-02,  ...,  1.6509e+00,\n",
       "           -2.2313e-01,  6.7984e-01],\n",
       "          [ 8.6151e-01,  4.3808e-01,  5.0372e-01,  ..., -5.5383e-01,\n",
       "            8.9728e-01, -1.9110e+00],\n",
       "          ...,\n",
       "          [-6.6846e-01, -1.6392e-01,  1.2997e+00,  ..., -1.1338e-01,\n",
       "            1.3371e+00, -4.5675e-01],\n",
       "          [-1.0585e+00, -4.2819e-01,  1.2731e+00,  ..., -8.9314e-01,\n",
       "           -8.8951e-01, -1.0414e+00],\n",
       "          [ 1.1339e+00,  6.4076e-01,  3.3396e-03,  ...,  6.1651e-02,\n",
       "           -7.2569e-01,  3.8047e-01]],\n",
       "\n",
       "         [[-1.0258e+00,  6.0188e-01,  1.7297e-01,  ...,  2.5951e-01,\n",
       "            1.3274e+00, -6.3690e-01],\n",
       "          [-1.0157e+00,  4.1559e-01,  4.7624e-01,  ..., -2.2254e-01,\n",
       "           -7.9736e-01, -2.3145e+00],\n",
       "          [ 3.0375e-01,  1.5537e+00,  2.8530e-01,  ...,  1.6220e+00,\n",
       "           -9.7422e-01, -1.7383e+00],\n",
       "          ...,\n",
       "          [-7.6546e-01, -1.7689e+00,  7.7986e-01,  ..., -3.5987e-01,\n",
       "           -1.3180e+00, -3.1473e-01],\n",
       "          [ 3.3957e-01,  8.7833e-01,  1.5372e-01,  ..., -6.1573e-01,\n",
       "            6.5650e-01, -3.4441e-01],\n",
       "          [-6.3881e-01,  8.5190e-01, -1.1124e-01,  ...,  1.5425e+00,\n",
       "           -6.2986e-01, -1.0977e+00]]],\n",
       "\n",
       "\n",
       "        [[[ 2.1284e-02, -6.6135e-01, -2.2563e-01,  ..., -1.2128e-01,\n",
       "           -5.8369e-01,  6.3995e-01],\n",
       "          [ 1.7498e-01, -5.0254e-01, -1.0309e+00,  ..., -9.1646e-01,\n",
       "           -7.2173e-01, -2.9610e-01],\n",
       "          [-5.1830e-01,  8.6094e-01,  1.3399e-01,  ...,  4.8369e-01,\n",
       "            1.7506e-01, -6.7812e-02],\n",
       "          ...,\n",
       "          [ 3.8289e-02, -1.3323e+00,  6.0691e-01,  ...,  2.2595e-01,\n",
       "            9.2233e-01, -1.3294e+00],\n",
       "          [-7.1310e-01, -1.2466e+00,  5.6309e-01,  ..., -1.3698e+00,\n",
       "           -2.3473e-01,  1.0083e-01],\n",
       "          [ 5.4254e-01,  2.1498e+00, -2.0466e+00,  ..., -4.6512e-01,\n",
       "           -1.0713e+00,  1.3175e+00]],\n",
       "\n",
       "         [[ 6.7727e-01,  7.9043e-01,  1.7374e+00,  ...,  7.3118e-01,\n",
       "           -3.8142e-01, -1.9984e+00],\n",
       "          [-7.8392e-01,  1.6351e-01, -5.8812e-01,  ...,  5.1037e-01,\n",
       "           -1.3427e+00, -7.9340e-01],\n",
       "          [ 2.1954e+00,  1.4896e+00, -9.4874e-01,  ..., -2.8956e+00,\n",
       "            1.8213e+00,  1.0221e+00],\n",
       "          ...,\n",
       "          [-1.2482e+00,  5.7011e-02,  2.1038e-01,  ...,  1.1954e+00,\n",
       "           -6.4083e-01,  3.1410e-03],\n",
       "          [-1.8465e-01,  1.0584e+00,  4.2150e-01,  ...,  3.2511e-01,\n",
       "           -3.6283e-02,  3.7476e-01],\n",
       "          [ 5.3336e-02,  1.8290e-02, -4.4842e-03,  ...,  1.2846e+00,\n",
       "           -9.3432e-02,  1.2827e+00]],\n",
       "\n",
       "         [[ 5.0152e-02, -5.3108e-01, -1.2801e+00,  ..., -2.3215e-01,\n",
       "            5.0355e-01, -3.0051e+00],\n",
       "          [-1.0957e+00,  5.1323e-01,  7.9671e-01,  ..., -1.2596e-01,\n",
       "            2.4952e-01, -5.7547e-01],\n",
       "          [-1.2704e+00, -1.1741e-01, -1.5231e-02,  ...,  9.0262e-02,\n",
       "           -1.8171e+00,  1.4577e-01],\n",
       "          ...,\n",
       "          [-1.4516e+00, -1.1616e+00, -9.3946e-01,  ..., -1.1064e+00,\n",
       "            4.8863e-02,  3.6513e-01],\n",
       "          [-2.3549e-01, -4.9998e-01,  2.5951e-01,  ...,  1.0203e-01,\n",
       "            8.9315e-01,  3.1821e-01],\n",
       "          [-1.4841e+00,  6.6391e-01,  2.4263e-01,  ...,  5.9393e-02,\n",
       "           -1.0226e+00,  8.6534e-01]]],\n",
       "\n",
       "\n",
       "        ...,\n",
       "\n",
       "\n",
       "        [[[-1.6899e+00, -2.1410e-01,  1.2365e+00,  ..., -5.3867e-02,\n",
       "            3.8832e-01,  1.3756e+00],\n",
       "          [ 6.1497e-01, -9.9176e-01, -5.3350e-01,  ..., -7.0932e-01,\n",
       "           -1.4344e+00, -5.9713e-01],\n",
       "          [-3.1063e-01, -3.1711e-01,  1.0449e+00,  ..., -1.0268e+00,\n",
       "           -1.5296e+00, -2.6953e+00],\n",
       "          ...,\n",
       "          [-1.2644e+00,  4.3636e-01,  1.3077e-01,  ..., -6.7166e-01,\n",
       "            3.4876e-01,  5.7320e-01],\n",
       "          [ 8.3091e-01, -4.9497e-02, -1.1683e+00,  ...,  6.5076e-01,\n",
       "           -4.0592e-01, -8.3306e-01],\n",
       "          [-1.8375e+00,  1.2571e-01, -5.3727e-02,  ..., -1.6342e+00,\n",
       "            8.4930e-01,  6.9918e-01]],\n",
       "\n",
       "         [[ 4.8146e-01,  2.2918e+00,  5.8064e-01,  ..., -8.4305e-02,\n",
       "           -6.6766e-01,  1.7014e-01],\n",
       "          [ 2.5490e+00, -1.0213e+00, -4.9748e-02,  ...,  3.0059e-01,\n",
       "           -2.6549e+00,  3.5562e-02],\n",
       "          [ 5.6897e-01, -4.0525e-01,  1.6205e+00,  ...,  4.1246e-01,\n",
       "            8.4359e-01,  5.9968e-02],\n",
       "          ...,\n",
       "          [ 2.7604e-01,  3.0965e-02,  6.1913e-01,  ...,  4.6704e-01,\n",
       "           -4.4398e-01,  3.4080e-01],\n",
       "          [ 5.2757e-01,  2.9752e-01,  2.3999e-01,  ..., -1.5360e+00,\n",
       "            2.7675e+00,  1.8886e-01],\n",
       "          [ 1.2960e+00,  1.1879e+00, -3.2397e-01,  ..., -9.0989e-02,\n",
       "           -7.6704e-01, -6.1954e-01]],\n",
       "\n",
       "         [[ 7.1447e-01,  1.5593e+00,  2.6012e-01,  ...,  1.0217e+00,\n",
       "            8.4075e-02, -1.6259e+00],\n",
       "          [ 1.5004e-01,  1.3889e-01,  1.9688e+00,  ..., -6.1766e-01,\n",
       "            2.9706e-01, -5.9769e-01],\n",
       "          [-6.4270e-01,  1.3063e+00, -5.4890e-01,  ...,  7.7693e-01,\n",
       "            5.0005e-01,  2.2855e+00],\n",
       "          ...,\n",
       "          [ 1.2635e+00,  6.4525e-01,  1.2335e+00,  ..., -2.1204e+00,\n",
       "            1.4598e-01, -6.2393e-02],\n",
       "          [ 2.4346e-01, -1.3057e+00, -8.7563e-01,  ...,  1.0102e+00,\n",
       "           -2.7864e-01,  4.1151e-01],\n",
       "          [-3.7433e-01,  1.3009e+00,  5.6611e-01,  ...,  6.6957e-01,\n",
       "           -2.2662e+00, -6.9978e-01]]],\n",
       "\n",
       "\n",
       "        [[[ 2.5501e-01,  9.3367e-02, -6.1074e-01,  ..., -1.6400e+00,\n",
       "           -1.3006e+00,  1.1924e+00],\n",
       "          [-3.3596e-01,  1.4541e+00,  1.7194e+00,  ...,  3.4919e-01,\n",
       "           -4.0236e-01,  4.0450e-01],\n",
       "          [ 1.4040e+00, -1.5627e+00, -1.4999e+00,  ..., -4.8929e-01,\n",
       "            1.2406e+00,  2.1062e-02],\n",
       "          ...,\n",
       "          [-5.5238e-01,  1.3362e+00, -1.3590e+00,  ..., -2.9582e-01,\n",
       "           -9.4074e-01, -1.6461e+00],\n",
       "          [-6.5426e-01,  1.8284e-02, -7.5145e-01,  ..., -7.0755e-01,\n",
       "           -6.5031e-01, -1.4366e+00],\n",
       "          [-5.8297e-01,  4.1923e-01,  1.4224e+00,  ..., -1.7148e+00,\n",
       "            4.7037e-01, -6.4993e-01]],\n",
       "\n",
       "         [[ 9.0344e-01, -2.1188e+00,  2.1807e-01,  ...,  6.6244e-01,\n",
       "           -6.8797e-01,  1.0679e+00],\n",
       "          [-1.5273e+00,  7.3683e-01,  1.9414e+00,  ...,  1.4890e+00,\n",
       "            1.0083e+00, -6.9571e-01],\n",
       "          [-2.4205e-01,  1.7770e+00,  3.7172e-01,  ...,  1.6631e+00,\n",
       "           -8.6863e-01, -5.4561e-01],\n",
       "          ...,\n",
       "          [-8.2953e-01,  1.0262e+00,  8.5882e-01,  ...,  2.6143e+00,\n",
       "           -1.6226e+00,  6.7926e-01],\n",
       "          [ 1.1296e+00, -4.4002e-01,  9.3527e-01,  ...,  1.9271e-01,\n",
       "            1.0415e-01,  9.8348e-01],\n",
       "          [ 4.5500e-01, -9.6655e-01,  5.3464e-01,  ..., -8.6609e-01,\n",
       "            4.0242e-01,  1.9520e+00]],\n",
       "\n",
       "         [[-1.3188e+00,  1.5377e+00,  1.1241e+00,  ..., -8.9230e-01,\n",
       "            1.3491e+00, -1.0670e+00],\n",
       "          [-1.0137e+00,  1.5004e-02, -4.3118e-01,  ..., -5.5023e-01,\n",
       "            4.5403e-01, -2.5282e+00],\n",
       "          [-6.3987e-01,  2.1457e-01,  8.1321e-01,  ...,  8.4019e-01,\n",
       "            1.8054e+00, -8.2465e-01],\n",
       "          ...,\n",
       "          [-8.9701e-01,  1.7212e+00, -1.3281e+00,  ...,  1.0405e+00,\n",
       "           -2.4985e+00, -7.6953e-01],\n",
       "          [ 4.5658e-02, -1.0780e+00, -5.7333e-01,  ...,  2.3773e+00,\n",
       "            1.5592e-01,  2.4254e-01],\n",
       "          [ 4.0105e-01,  1.0024e+00,  1.3634e+00,  ..., -2.7150e-01,\n",
       "           -1.2772e-01,  1.3188e+00]]],\n",
       "\n",
       "\n",
       "        [[[ 1.4575e-01, -7.1487e-01,  7.8555e-01,  ...,  1.1213e+00,\n",
       "            1.3987e-01, -1.2736e+00],\n",
       "          [-1.1946e+00,  2.4248e-01, -2.9483e-01,  ...,  7.0491e-01,\n",
       "            1.4303e+00,  1.0210e+00],\n",
       "          [ 2.0975e+00, -7.1518e-01, -2.6191e-01,  ...,  1.1494e+00,\n",
       "           -3.6994e-01,  1.6099e-01],\n",
       "          ...,\n",
       "          [ 6.3953e-01, -5.4023e-01,  3.7899e-01,  ...,  6.4974e-01,\n",
       "            1.4344e+00,  7.2405e-01],\n",
       "          [ 1.2538e+00, -7.0506e-01, -1.3630e+00,  ..., -1.6434e+00,\n",
       "           -9.3809e-01, -8.3212e-01],\n",
       "          [ 1.0911e+00,  1.1393e+00, -2.8977e+00,  ...,  2.0560e+00,\n",
       "            1.1091e+00, -8.1905e-01]],\n",
       "\n",
       "         [[-1.3743e+00, -1.3979e+00,  3.6846e-02,  ...,  9.5608e-01,\n",
       "           -2.9542e+00,  5.0159e-01],\n",
       "          [ 1.2825e+00,  4.3342e-02, -1.5808e+00,  ..., -1.2258e-01,\n",
       "            1.9264e+00, -1.8342e-01],\n",
       "          [-8.1989e-01, -5.8810e-01,  6.2985e-03,  ...,  6.6151e-01,\n",
       "            5.8712e-02,  1.4786e+00],\n",
       "          ...,\n",
       "          [-3.3026e-01, -2.4722e-02,  3.0547e-01,  ...,  1.4198e+00,\n",
       "            4.9907e-01,  2.8431e-01],\n",
       "          [-1.0001e+00, -1.2084e+00, -1.7040e+00,  ..., -1.0113e-01,\n",
       "           -1.2356e+00, -1.2906e-01],\n",
       "          [-1.0950e+00,  1.1494e+00,  5.6685e-01,  ...,  2.6366e-01,\n",
       "            1.0730e+00,  1.9902e-01]],\n",
       "\n",
       "         [[-5.4033e-01, -3.2201e-01, -3.4975e-01,  ..., -3.8958e-01,\n",
       "            5.7712e-02,  1.7385e+00],\n",
       "          [ 2.4282e-01, -6.3442e-01,  2.5217e-01,  ...,  1.1296e+00,\n",
       "            1.1362e+00,  1.3825e+00],\n",
       "          [ 2.8500e-01,  6.9753e-03,  2.5428e-01,  ...,  1.3635e+00,\n",
       "            5.4763e-01, -2.8035e-01],\n",
       "          ...,\n",
       "          [ 4.5642e-01,  2.9709e-01, -1.3709e+00,  ..., -5.0724e-01,\n",
       "           -3.5145e-01,  2.2831e+00],\n",
       "          [-5.4533e-01, -9.2873e-01,  6.4408e-01,  ..., -2.3000e+00,\n",
       "           -1.7104e+00, -1.2465e+00],\n",
       "          [-6.9679e-01, -1.0917e-01, -2.0701e-01,  ...,  5.4129e-02,\n",
       "            2.7242e-01,  2.3054e+00]]]], grad_fn=<NativeBatchNormBackward0>)"
      ]
     },
     "execution_count": 182,
     "metadata": {},
     "output_type": "execute_result"
    }
   ],
   "execution_count": 182
  },
  {
   "metadata": {
    "ExecuteTime": {
     "end_time": "2025-01-20T14:28:30.882506Z",
     "start_time": "2025-01-20T14:28:30.876131Z"
    }
   },
   "cell_type": "code",
   "source": [
    "bn2d = nn.BatchNorm2d(1)  # 对 3 个通道进行归一化\n",
    "output_4d1 = bn2d(input_4d[:, 0:1, :, :])\n",
    "output_4d1"
   ],
   "id": "692a00d5c9b54d36",
   "outputs": [
    {
     "data": {
      "text/plain": [
       "tensor([[[[-0.9239, -0.3527,  0.3814,  ...,  1.1995, -1.8043, -2.5214],\n",
       "          [ 0.8567,  1.3547,  1.0829,  ..., -0.8979, -0.0648, -0.5639],\n",
       "          [ 1.2787, -0.0609, -0.6467,  ...,  0.1912,  0.6646, -1.1659],\n",
       "          ...,\n",
       "          [-0.9008,  2.4802, -0.7864,  ...,  1.8228,  0.4507,  1.2095],\n",
       "          [-1.3548, -1.0631, -0.0891,  ..., -0.7524, -0.0550, -0.8722],\n",
       "          [ 0.5379,  0.6674, -0.1531,  ..., -1.7710,  0.5120,  0.8150]]],\n",
       "\n",
       "\n",
       "        [[[-0.0553, -0.1238, -0.4338,  ...,  0.5346, -0.1533,  0.3308],\n",
       "          [-0.4185,  0.7688,  1.6704,  ...,  0.9422,  0.3839, -0.6612],\n",
       "          [-0.8147, -2.3391, -0.1799,  ...,  1.4345, -1.0866,  0.8407],\n",
       "          ...,\n",
       "          [-1.9018, -0.1589,  0.3014,  ..., -1.0515,  0.2455, -0.8174],\n",
       "          [ 0.3510, -0.9806, -0.6268,  ...,  0.0923,  0.1754,  1.0853],\n",
       "          [ 1.0163, -1.8100,  0.5627,  ..., -0.8237,  1.4667, -1.0783]]],\n",
       "\n",
       "\n",
       "        [[[ 0.0213, -0.6613, -0.2256,  ..., -0.1213, -0.5837,  0.6400],\n",
       "          [ 0.1750, -0.5025, -1.0309,  ..., -0.9165, -0.7217, -0.2961],\n",
       "          [-0.5183,  0.8609,  0.1340,  ...,  0.4837,  0.1751, -0.0678],\n",
       "          ...,\n",
       "          [ 0.0383, -1.3323,  0.6069,  ...,  0.2260,  0.9223, -1.3294],\n",
       "          [-0.7131, -1.2466,  0.5631,  ..., -1.3698, -0.2347,  0.1008],\n",
       "          [ 0.5425,  2.1498, -2.0466,  ..., -0.4651, -1.0713,  1.3175]]],\n",
       "\n",
       "\n",
       "        ...,\n",
       "\n",
       "\n",
       "        [[[-1.6899, -0.2141,  1.2365,  ..., -0.0539,  0.3883,  1.3756],\n",
       "          [ 0.6150, -0.9918, -0.5335,  ..., -0.7093, -1.4344, -0.5971],\n",
       "          [-0.3106, -0.3171,  1.0449,  ..., -1.0268, -1.5296, -2.6953],\n",
       "          ...,\n",
       "          [-1.2644,  0.4364,  0.1308,  ..., -0.6717,  0.3488,  0.5732],\n",
       "          [ 0.8309, -0.0495, -1.1683,  ...,  0.6508, -0.4059, -0.8331],\n",
       "          [-1.8375,  0.1257, -0.0537,  ..., -1.6342,  0.8493,  0.6992]]],\n",
       "\n",
       "\n",
       "        [[[ 0.2550,  0.0934, -0.6107,  ..., -1.6400, -1.3006,  1.1924],\n",
       "          [-0.3360,  1.4541,  1.7194,  ...,  0.3492, -0.4024,  0.4045],\n",
       "          [ 1.4040, -1.5627, -1.4999,  ..., -0.4893,  1.2406,  0.0211],\n",
       "          ...,\n",
       "          [-0.5524,  1.3362, -1.3590,  ..., -0.2958, -0.9407, -1.6461],\n",
       "          [-0.6543,  0.0183, -0.7515,  ..., -0.7075, -0.6503, -1.4366],\n",
       "          [-0.5830,  0.4192,  1.4224,  ..., -1.7148,  0.4704, -0.6499]]],\n",
       "\n",
       "\n",
       "        [[[ 0.1457, -0.7149,  0.7856,  ...,  1.1213,  0.1399, -1.2736],\n",
       "          [-1.1946,  0.2425, -0.2948,  ...,  0.7049,  1.4303,  1.0210],\n",
       "          [ 2.0975, -0.7152, -0.2619,  ...,  1.1494, -0.3699,  0.1610],\n",
       "          ...,\n",
       "          [ 0.6395, -0.5402,  0.3790,  ...,  0.6497,  1.4344,  0.7241],\n",
       "          [ 1.2538, -0.7051, -1.3630,  ..., -1.6434, -0.9381, -0.8321],\n",
       "          [ 1.0911,  1.1393, -2.8977,  ...,  2.0560,  1.1091, -0.8191]]]],\n",
       "       grad_fn=<NativeBatchNormBackward0>)"
      ]
     },
     "execution_count": 183,
     "metadata": {},
     "output_type": "execute_result"
    }
   ],
   "execution_count": 183
  },
  {
   "metadata": {},
   "cell_type": "markdown",
   "source": "训练",
   "id": "6bd781105ceb6c7d"
  },
  {
   "metadata": {
    "ExecuteTime": {
     "end_time": "2025-01-20T14:28:30.886979Z",
     "start_time": "2025-01-20T14:28:30.882506Z"
    }
   },
   "cell_type": "code",
   "source": [
    "from sklearn.metrics import accuracy_score\n",
    "\n",
    "\n",
    "@torch.no_grad()\n",
    "def evaluating(model, dataloader, loss_fct):\n",
    "    loss_list = []\n",
    "    pred_list = []\n",
    "    label_list = []\n",
    "    for datas, labels in dataloader:\n",
    "        datas = datas.to(device)\n",
    "        labels = labels.to(device)\n",
    "        # 前向计算\n",
    "        logits = model(datas)\n",
    "        loss = loss_fct(logits, labels)  # 验证集损失\n",
    "        loss_list.append(loss.item())\n",
    "\n",
    "        preds = logits.argmax(axis=-1)  # 验证集预测\n",
    "        pred_list.extend(preds.cpu().numpy().tolist())\n",
    "        label_list.extend(labels.cpu().numpy().tolist())\n",
    "\n",
    "    acc = accuracy_score(label_list, pred_list)\n",
    "    return np.mean(loss_list), acc"
   ],
   "id": "e9e999e89c21a844",
   "outputs": [],
   "execution_count": 184
  },
  {
   "metadata": {
    "ExecuteTime": {
     "end_time": "2025-01-20T14:28:30.892212Z",
     "start_time": "2025-01-20T14:28:30.886979Z"
    }
   },
   "cell_type": "code",
   "source": [
    "from torch.utils.tensorboard import SummaryWriter\n",
    "\n",
    "\n",
    "class TensorBoardCallback:\n",
    "    def __init__(self, log_dir, flush_secs=10):\n",
    "        \"\"\"\n",
    "        Args:\n",
    "            log_dir (str): dir to write log.\n",
    "            flush_secs (int, optional): write to dsk each flush_secs seconds. Defaults to 10.\n",
    "        \"\"\"\n",
    "        self.writer = SummaryWriter(log_dir=log_dir, flush_secs=flush_secs)\n",
    "\n",
    "    def draw_model(self, model, input_shape):\n",
    "        self.writer.add_graph(model, input_to_model=torch.randn(input_shape))\n",
    "\n",
    "    def add_loss_scalars(self, step, loss, val_loss):\n",
    "        self.writer.add_scalars(\n",
    "            main_tag=\"training/loss\",\n",
    "            tag_scalar_dict={\"loss\": loss, \"val_loss\": val_loss},\n",
    "            global_step=step,\n",
    "        )\n",
    "\n",
    "    def add_acc_scalars(self, step, acc, val_acc):\n",
    "        self.writer.add_scalars(\n",
    "            main_tag=\"training/accuracy\",\n",
    "            tag_scalar_dict={\"accuracy\": acc, \"val_accuracy\": val_acc},\n",
    "            global_step=step,\n",
    "        )\n",
    "\n",
    "    def add_lr_scalars(self, step, learning_rate):\n",
    "        self.writer.add_scalars(\n",
    "            main_tag=\"training/learning_rate\",\n",
    "            tag_scalar_dict={\"learning_rate\": learning_rate},\n",
    "            global_step=step,\n",
    "\n",
    "        )\n",
    "\n",
    "    def __call__(self, step, **kwargs):\n",
    "        # add loss\n",
    "        loss = kwargs.pop(\"loss\", None)\n",
    "        val_loss = kwargs.pop(\"val_loss\", None)\n",
    "        if loss is not None and val_loss is not None:\n",
    "            self.add_loss_scalars(step, loss, val_loss)\n",
    "        # add acc\n",
    "        acc = kwargs.pop(\"acc\", None)\n",
    "        val_acc = kwargs.pop(\"val_acc\", None)\n",
    "        if acc is not None and val_acc is not None:\n",
    "            self.add_acc_scalars(step, acc, val_acc)\n",
    "        # add lr\n",
    "        learning_rate = kwargs.pop(\"lr\", None)\n",
    "        if learning_rate is not None:\n",
    "            self.add_lr_scalars(step, learning_rate)"
   ],
   "id": "a18ce43b20e2e7a",
   "outputs": [],
   "execution_count": 185
  },
  {
   "metadata": {
    "ExecuteTime": {
     "end_time": "2025-01-20T14:28:30.896519Z",
     "start_time": "2025-01-20T14:28:30.892212Z"
    }
   },
   "cell_type": "code",
   "source": [
    "class SaveCheckpointsCallback:\n",
    "    def __init__(self, save_dir, save_step=5000, save_best_only=True):\n",
    "        \"\"\"\n",
    "        Save checkpoints each save_epoch epoch. \n",
    "        We save checkpoint by epoch in this implementation.\n",
    "        Usually, training scripts with pytorch evaluating model and save checkpoint by step.\n",
    "\n",
    "        Args:\n",
    "            save_dir (str): dir to save checkpoint\n",
    "            save_epoch (int, optional): the frequency to save checkpoint. Defaults to 1.\n",
    "            save_best_only (bool, optional): If True, only save the best model or save each model at every epoch.\n",
    "        \"\"\"\n",
    "        self.save_dir = save_dir\n",
    "        self.save_step = save_step\n",
    "        self.save_best_only = save_best_only\n",
    "        self.best_metrics = -1\n",
    "\n",
    "        # mkdir\n",
    "        if not os.path.exists(self.save_dir):\n",
    "            os.mkdir(self.save_dir)\n",
    "\n",
    "    def __call__(self, step, state_dict, metric=None):\n",
    "        if step % self.save_step > 0:\n",
    "            return\n",
    "\n",
    "        if self.save_best_only:\n",
    "            assert metric is not None\n",
    "            if metric >= self.best_metrics:\n",
    "                # save checkpoints\n",
    "                torch.save(state_dict, os.path.join(self.save_dir, \"best.ckpt\"))\n",
    "                # update best metrics\n",
    "                self.best_metrics = metric\n",
    "        else:\n",
    "            torch.save(state_dict, os.path.join(self.save_dir, f\"{step}.ckpt\"))"
   ],
   "id": "7bf76a36db26cb0",
   "outputs": [],
   "execution_count": 186
  },
  {
   "metadata": {
    "ExecuteTime": {
     "end_time": "2025-01-20T14:28:30.900995Z",
     "start_time": "2025-01-20T14:28:30.896519Z"
    }
   },
   "cell_type": "code",
   "source": [
    "class EarlyStopCallback:\n",
    "    def __init__(self, patience=5, min_delta=0.01):\n",
    "        \"\"\"\n",
    "\n",
    "        Args:\n",
    "            patience (int, optional): Number of epochs with no improvement after which training will be stopped.. Defaults to 5.\n",
    "            min_delta (float, optional): Minimum change in the monitored quantity to qualify as an improvement, i.e. an absolute \n",
    "                change of less than min_delta, will count as no improvement. Defaults to 0.01.\n",
    "        \"\"\"\n",
    "        self.patience = patience\n",
    "        self.min_delta = min_delta\n",
    "        self.best_metric = -1\n",
    "        self.counter = 0\n",
    "\n",
    "    def __call__(self, metric):\n",
    "        if metric >= self.best_metric + self.min_delta:\n",
    "            # update best metric\n",
    "            self.best_metric = metric\n",
    "            # reset counter \n",
    "            self.counter = 0\n",
    "        else:\n",
    "            self.counter += 1\n",
    "\n",
    "    @property\n",
    "    def early_stop(self):\n",
    "        return self.counter >= self.patience"
   ],
   "id": "8c95c6b755d65557",
   "outputs": [],
   "execution_count": 187
  },
  {
   "metadata": {
    "ExecuteTime": {
     "end_time": "2025-01-20T14:28:30.907463Z",
     "start_time": "2025-01-20T14:28:30.900995Z"
    }
   },
   "cell_type": "code",
   "source": [
    "# 训练\n",
    "def training(\n",
    "        model,\n",
    "        train_loader,\n",
    "        val_loader,\n",
    "        epoch,\n",
    "        loss_fct,\n",
    "        optimizer,\n",
    "        tensorboard_callback=None,\n",
    "        save_ckpt_callback=None,\n",
    "        early_stop_callback=None,\n",
    "        eval_step=500,\n",
    "):\n",
    "    record_dict = {\n",
    "        \"train\": [],\n",
    "        \"val\": []\n",
    "    }\n",
    "\n",
    "    global_step = 0\n",
    "    model.train()\n",
    "    with tqdm(total=epoch * len(train_loader)) as pbar:\n",
    "        for epoch_id in range(epoch):\n",
    "            # training\n",
    "            for datas, labels in train_loader:\n",
    "                datas = datas.to(device)\n",
    "                labels = labels.to(device)\n",
    "                # 梯度清空\n",
    "                optimizer.zero_grad()\n",
    "                # 模型前向计算\n",
    "                logits = model(datas)\n",
    "                # 计算损失\n",
    "                loss = loss_fct(logits, labels)\n",
    "                # 梯度回传\n",
    "                loss.backward()\n",
    "                # 调整优化器，包括学习率的变动等\n",
    "                optimizer.step()\n",
    "                preds = logits.argmax(axis=-1)  #最大值的索引\n",
    "\n",
    "                acc = accuracy_score(labels.cpu().numpy(), preds.cpu().numpy())  # 计算准确率\n",
    "                loss = loss.cpu().item()  # 计算损失\n",
    "                # record\n",
    "\n",
    "                record_dict[\"train\"].append({\n",
    "                    \"loss\": loss, \"acc\": acc, \"step\": global_step  # 记录每一步的损失和准确率\n",
    "                })\n",
    "\n",
    "                # evaluating\n",
    "                if global_step % eval_step == 0:\n",
    "                    model.eval()\n",
    "                    val_loss, val_acc = evaluating(model, val_loader, loss_fct)\n",
    "                    record_dict[\"val\"].append({\n",
    "                        \"loss\": val_loss, \"acc\": val_acc, \"step\": global_step\n",
    "                    })\n",
    "                    model.train()\n",
    "\n",
    "                    # 1. 使用 tensorboard 可视化\n",
    "                    if tensorboard_callback is not None:\n",
    "                        tensorboard_callback(\n",
    "                            global_step,\n",
    "                            loss=loss, val_loss=val_loss,\n",
    "                            acc=acc, val_acc=val_acc,\n",
    "                            lr=optimizer.param_groups[0][\"lr\"],\n",
    "                        )\n",
    "\n",
    "                    # 2. 保存模型权重 save model checkpoint\n",
    "                    if save_ckpt_callback is not None:\n",
    "                        save_ckpt_callback(global_step, model.state_dict(), metric=val_acc)\n",
    "\n",
    "                    # 3. 早停 Early Stop\n",
    "                    if early_stop_callback is not None:\n",
    "                        early_stop_callback(val_acc)\n",
    "                        if early_stop_callback.early_stop:\n",
    "                            print(f\"Early stop at epoch {epoch_id} / global_step {global_step}\")\n",
    "                            return record_dict\n",
    "\n",
    "                # udate step\n",
    "                global_step += 1\n",
    "                pbar.update(1)\n",
    "                pbar.set_postfix({\"epoch\": epoch_id})\n",
    "\n",
    "    return record_dict"
   ],
   "id": "35e38608a7d2b888",
   "outputs": [],
   "execution_count": 188
  },
  {
   "metadata": {
    "ExecuteTime": {
     "end_time": "2025-01-20T14:28:31.061901Z",
     "start_time": "2025-01-20T14:28:30.907463Z"
    }
   },
   "cell_type": "code",
   "source": [
    "epoch = 20\n",
    "\n",
    "model = CNN(num_classes=10)\n",
    "\n",
    "# 1. 定义损失函数 采用交叉熵损失\n",
    "loss_fct = nn.CrossEntropyLoss()\n",
    "# 2. 定义优化器 采用 adam\n",
    "# Optimizers specified in the torch.optim package\n",
    "optimizer = torch.optim.Adam(model.parameters(), lr=0.001)\n",
    "\n",
    "# 1. tensorboard 可视化\n",
    "if not os.path.exists(\"runs\"):\n",
    "    os.mkdir(\"runs\")\n",
    "tensorboard_callback = TensorBoardCallback(\"runs/cifar-10\")\n",
    "tensorboard_callback.draw_model(model, [1, 3, IMAGE_SIZE, IMAGE_SIZE])\n",
    "# 2. save best\n",
    "if not os.path.exists(\"checkpoints\"):\n",
    "    os.makedirs(\"checkpoints\")\n",
    "save_ckpt_callback = SaveCheckpointsCallback(\"checkpoints/cifar-10\", save_step=len(train_dl), save_best_only=True)\n",
    "# 3. early stop\n",
    "early_stop_callback = EarlyStopCallback(patience=5)"
   ],
   "id": "693acc40b49368b",
   "outputs": [],
   "execution_count": 189
  },
  {
   "metadata": {
    "ExecuteTime": {
     "end_time": "2025-01-20T14:43:55.329398Z",
     "start_time": "2025-01-20T14:28:31.061901Z"
    }
   },
   "cell_type": "code",
   "source": [
    "model = model.to(device)\n",
    "record = training(\n",
    "    model,\n",
    "    train_dl,\n",
    "    eval_dl,\n",
    "    epoch,\n",
    "    loss_fct,\n",
    "    optimizer,\n",
    "    tensorboard_callback=None,\n",
    "    save_ckpt_callback=save_ckpt_callback,\n",
    "    early_stop_callback=early_stop_callback,\n",
    "    eval_step=len(train_dl)\n",
    ")"
   ],
   "id": "7312a5a664f11675",
   "outputs": [
    {
     "data": {
      "text/plain": [
       "  0%|          | 0/14080 [00:00<?, ?it/s]"
      ],
      "application/vnd.jupyter.widget-view+json": {
       "version_major": 2,
       "version_minor": 0,
       "model_id": "faa79a38ecf54a078f005cffa3d28e1c"
      }
     },
     "metadata": {},
     "output_type": "display_data"
    },
    {
     "name": "stdout",
     "output_type": "stream",
     "text": [
      "Early stop at epoch 16 / global_step 11264\n"
     ]
    }
   ],
   "execution_count": 190
  },
  {
   "metadata": {
    "ExecuteTime": {
     "end_time": "2025-01-20T14:43:55.449835Z",
     "start_time": "2025-01-20T14:43:55.330396Z"
    }
   },
   "cell_type": "code",
   "source": [
    "#画线要注意的是损失是不一定在零到1之间的\n",
    "def plot_learning_curves(record_dict, sample_step=500):\n",
    "    # build DataFrame\n",
    "    train_df = pd.DataFrame(record_dict[\"train\"]).set_index(\"step\").iloc[::sample_step]\n",
    "    val_df = pd.DataFrame(record_dict[\"val\"]).set_index(\"step\")\n",
    "\n",
    "    # plot\n",
    "    fig_num = len(train_df.columns)\n",
    "    fig, axs = plt.subplots(1, fig_num, figsize=(5 * fig_num, 5))\n",
    "    for idx, item in enumerate(train_df.columns):\n",
    "        axs[idx].plot(train_df.index, train_df[item], label=f\"train_{item}\")\n",
    "        axs[idx].plot(val_df.index, val_df[item], label=f\"val_{item}\")\n",
    "        axs[idx].grid()\n",
    "        axs[idx].legend()\n",
    "        # axs[idx].set_xticks(range(0, train_df.index[-1], 5000))\n",
    "        # axs[idx].set_xticklabels(map(lambda x: f\"{int(x/1000)}k\", range(0, train_df.index[-1], 5000)))\n",
    "        axs[idx].set_xlabel(\"step\")\n",
    "\n",
    "    plt.show()\n",
    "\n",
    "\n",
    "plot_learning_curves(record, sample_step=10)  #横坐标是 steps"
   ],
   "id": "74a5bcdf871187e4",
   "outputs": [
    {
     "data": {
      "text/plain": [
       "<Figure size 1000x500 with 2 Axes>"
      ],
      "image/png": "[encoded data removed]"
     },
     "metadata": {},
     "output_type": "display_data"
    }
   ],
   "execution_count": 191
  },
  {
   "metadata": {},
   "cell_type": "markdown",
   "source": "评估",
   "id": "2200d73a93901c51"
  },
  {
   "metadata": {
    "ExecuteTime": {
     "end_time": "2025-01-20T14:43:59.131208Z",
     "start_time": "2025-01-20T14:43:55.449835Z"
    }
   },
   "cell_type": "code",
   "source": [
    "# dataload for evaluating\n",
    "\n",
    "# load checkpoints\n",
    "model.load_state_dict(torch.load(\"checkpoints/cifar-10/best.ckpt\", map_location=\"cpu\", weights_only=True))\n",
    "\n",
    "model.eval()\n",
    "loss, acc = evaluating(model, eval_dl, loss_fct)\n",
    "print(f\"loss:     {loss:.4f}\\naccuracy: {acc:.4f}\")"
   ],
   "id": "4e9d34f3686ad222",
   "outputs": [
    {
     "name": "stdout",
     "output_type": "stream",
     "text": [
      "loss:     0.4502\n",
      "accuracy: 0.8660\n"
     ]
    }
   ],
   "execution_count": 192
  },
  {
   "metadata": {},
   "cell_type": "markdown",
   "source": "推理",
   "id": "22fbb123f5f4a1a8"
  },
  {
   "metadata": {
    "ExecuteTime": {
     "end_time": "2025-01-20T14:47:29.725802Z",
     "start_time": "2025-01-20T14:43:59.131208Z"
    }
   },
   "cell_type": "code",
   "source": [
    "# test_df\n",
    "test_ds = Cifar10Dataset(\"test\", transform=transforms_eval)\n",
    "test_dl = DataLoader(test_ds, batch_size=batch_size, shuffle=False, drop_last=False)\n",
    "\n",
    "preds_collect = []  # 预测结果收集器\n",
    "model.eval()\n",
    "for data, fake_label in tqdm(test_dl):\n",
    "    data = data.to(device=device)\n",
    "    logits = model(data)  #得到预测结果\n",
    "    preds = [test_ds.idx_to_label[idx] for idx in\n",
    "             logits.argmax(axis=-1).cpu().tolist()]  # 得到预测类别，idx_to_label是id到字符串类别的映射\n",
    "    preds_collect.extend(preds)\n",
    "\n",
    "test_df[\"label\"] = preds_collect  # 增加预测类别列,比赛要求这一列是label\n",
    "test_df.head()"
   ],
   "id": "846eeb627356387e",
   "outputs": [
    {
     "data": {
      "text/plain": [
       "  0%|          | 0/4688 [00:00<?, ?it/s]"
      ],
      "application/vnd.jupyter.widget-view+json": {
       "version_major": 2,
       "version_minor": 0,
       "model_id": "fd322dcc0a484e15ab3f12c49c3a12bd"
      }
     },
     "metadata": {},
     "output_type": "display_data"
    },
    {
     "data": {
      "text/plain": [
       "                                      filepath class       label\n",
       "0  G:\\my_first_github\\data\\cifar-10\\test\\1.png   cat       truck\n",
       "1  G:\\my_first_github\\data\\cifar-10\\test\\2.png   cat    airplane\n",
       "2  G:\\my_first_github\\data\\cifar-10\\test\\3.png   cat  automobile\n",
       "3  G:\\my_first_github\\data\\cifar-10\\test\\4.png   cat        ship\n",
       "4  G:\\my_first_github\\data\\cifar-10\\test\\5.png   cat    airplane"
      ],
      "text/html": [
       "<div>\n",
       "<style scoped>\n",
       "    .dataframe tbody tr th:only-of-type {\n",
       "        vertical-align: middle;\n",
       "    }\n",
       "\n",
       "    .dataframe tbody tr th {\n",
       "        vertical-align: top;\n",
       "    }\n",
       "\n",
       "    .dataframe thead th {\n",
       "        text-align: right;\n",
       "    }\n",
       "</style>\n",
       "<table border=\"1\" class=\"dataframe\">\n",
       "  <thead>\n",
       "    <tr style=\"text-align: right;\">\n",
       "      <th></th>\n",
       "      <th>filepath</th>\n",
       "      <th>class</th>\n",
       "      <th>label</th>\n",
       "    </tr>\n",
       "  </thead>\n",
       "  <tbody>\n",
       "    <tr>\n",
       "      <th>0</th>\n",
       "      <td>G:\\my_first_github\\data\\cifar-10\\test\\1.png</td>\n",
       "      <td>cat</td>\n",
       "      <td>truck</td>\n",
       "    </tr>\n",
       "    <tr>\n",
       "      <th>1</th>\n",
       "      <td>G:\\my_first_github\\data\\cifar-10\\test\\2.png</td>\n",
       "      <td>cat</td>\n",
       "      <td>airplane</td>\n",
       "    </tr>\n",
       "    <tr>\n",
       "      <th>2</th>\n",
       "      <td>G:\\my_first_github\\data\\cifar-10\\test\\3.png</td>\n",
       "      <td>cat</td>\n",
       "      <td>automobile</td>\n",
       "    </tr>\n",
       "    <tr>\n",
       "      <th>3</th>\n",
       "      <td>G:\\my_first_github\\data\\cifar-10\\test\\4.png</td>\n",
       "      <td>cat</td>\n",
       "      <td>ship</td>\n",
       "    </tr>\n",
       "    <tr>\n",
       "      <th>4</th>\n",
       "      <td>G:\\my_first_github\\data\\cifar-10\\test\\5.png</td>\n",
       "      <td>cat</td>\n",
       "      <td>airplane</td>\n",
       "    </tr>\n",
       "  </tbody>\n",
       "</table>\n",
       "</div>"
      ]
     },
     "execution_count": 193,
     "metadata": {},
     "output_type": "execute_result"
    }
   ],
   "execution_count": 193
  },
  {
   "metadata": {
    "ExecuteTime": {
     "end_time": "2025-01-20T14:47:29.732342Z",
     "start_time": "2025-01-20T14:47:29.726801Z"
    }
   },
   "cell_type": "code",
   "source": "64 * 4688",
   "id": "7b78e3c8418c132b",
   "outputs": [
    {
     "data": {
      "text/plain": [
       "300032"
      ]
     },
     "execution_count": 194,
     "metadata": {},
     "output_type": "execute_result"
    }
   ],
   "execution_count": 194
  },
  {
   "metadata": {
    "ExecuteTime": {
     "end_time": "2025-01-20T14:47:30.530006Z",
     "start_time": "2025-01-20T14:47:29.733341Z"
    }
   },
   "cell_type": "code",
   "source": [
    "# 导出 submission.csv\n",
    "test_df.to_csv(\"submission.csv\", index=False)"
   ],
   "id": "78d54f4f0b15fe63",
   "outputs": [],
   "execution_count": 195
  }
 ],
 "metadata": {
  "kernelspec": {
   "display_name": "Python 3",
   "language": "python",
   "name": "python3"
  },
  "language_info": {
   "codemirror_mode": {
    "name": "ipython",
    "version": 2
   },
   "file_extension": ".py",
   "mimetype": "text/x-python",
   "name": "python",
   "nbconvert_exporter": "python",
   "pygments_lexer": "ipython2",
   "version": "2.7.6"
  }
 },
 "nbformat": 4,
 "nbformat_minor": 5
}
