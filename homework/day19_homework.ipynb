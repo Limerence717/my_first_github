{
 "cells": [
  {
   "metadata": {},
   "cell_type": "markdown",
   "source": "# homework1：实战FashionMNIST分类，重点是理解，理解模型的运算过程",
   "id": "dc7cefcd77e1a7d5"
  },
  {
   "cell_type": "code",
   "id": "initial_id",
   "metadata": {
    "collapsed": true,
    "ExecuteTime": {
     "end_time": "2025-01-15T06:45:13.083628Z",
     "start_time": "2025-01-15T06:45:10.929190Z"
    }
   },
   "source": [
    "import matplotlib as mpl\n",
    "import matplotlib.pyplot as plt\n",
    "%matplotlib inline\n",
    "import numpy as np\n",
    "import sklearn\n",
    "import pandas as pd\n",
    "import os\n",
    "import sys\n",
    "import time\n",
    "from tqdm.auto import tqdm\n",
    "import torch\n",
    "import torch.nn as nn\n",
    "import torch.nn.functional as F\n",
    "\n",
    "print(sys.version_info)\n",
    "for module in mpl, np, pd, sklearn, torch:\n",
    "    print(module.__name__, module.__version__)\n",
    "    \n",
    "device = torch.device(\"cuda:0\") if torch.cuda.is_available() else torch.device(\"cpu\")\n",
    "print(device)"
   ],
   "outputs": [
    {
     "name": "stdout",
     "output_type": "stream",
     "text": [
      "sys.version_info(major=3, minor=12, micro=3, releaselevel='final', serial=0)\n",
      "matplotlib 3.10.0\n",
      "numpy 2.2.1\n",
      "pandas 2.2.3\n",
      "sklearn 1.6.0\n",
      "torch 2.5.1+cu124\n",
      "cuda:0\n"
     ]
    }
   ],
   "execution_count": 1
  },
  {
   "metadata": {},
   "cell_type": "markdown",
   "source": "数据准备1，为了看灰度图片",
   "id": "85d8bf0ba9faa8e3"
  },
  {
   "metadata": {
    "ExecuteTime": {
     "end_time": "2025-01-15T06:45:13.824016Z",
     "start_time": "2025-01-15T06:45:13.084626Z"
    }
   },
   "cell_type": "code",
   "source": [
    "from torchvision import datasets\n",
    "from torchvision.transforms import ToTensor\n",
    "from torchvision import transforms\n",
    "\n",
    "\n",
    "# 定义数据集的变换\n",
    "transform = transforms.Compose([\n",
    "])\n",
    "# fashion_mnist图像分类数据集，衣服分类，60000张训练图片，10000张测试图片\n",
    "train_ds = datasets.FashionMNIST(\n",
    "    root=\"../data\",\n",
    "    train=True,\n",
    "    download=True,\n",
    "    transform=transform\n",
    ")\n",
    "\n",
    "test_ds = datasets.FashionMNIST(\n",
    "    root=\"../data\",\n",
    "    train=False,\n",
    "    download=True,\n",
    "    transform=transform\n",
    ")\n",
    "\n",
    "# torchvision 数据集里没有提供训练集和验证集的划分\n",
    "# 当然也可以用 torch.utils.data.Dataset 实现人为划分"
   ],
   "id": "979d8dc8459801e",
   "outputs": [],
   "execution_count": 2
  },
  {
   "metadata": {
    "ExecuteTime": {
     "end_time": "2025-01-15T06:45:13.826977Z",
     "start_time": "2025-01-15T06:45:13.824016Z"
    }
   },
   "cell_type": "code",
   "source": [
    "# 通过id取数据，取到的是一个元祖,是第一个样本,在训练时，把特征和标签分开\n",
    "img, label = train_ds[0]"
   ],
   "id": "be7dc957230ec0c4",
   "outputs": [],
   "execution_count": 3
  },
  {
   "metadata": {
    "ExecuteTime": {
     "end_time": "2025-01-15T06:45:13.831610Z",
     "start_time": "2025-01-15T06:45:13.827975Z"
    }
   },
   "cell_type": "code",
   "source": [
    "# 显示图片，这里需要把transforms.ToTensor(),进行归一化注释掉，否则是不行的\n",
    "def show_img_content(img):\n",
    "    from PIL import Image\n",
    "\n",
    "    # 打开一个图像文件\n",
    "    # img = Image.open(img)\n",
    "\n",
    "\n",
    "    print(\"图像大小:\", img.size)\n",
    "    print(\"图像模式:\", img.mode)\n",
    "\n",
    "\n",
    "    # 如果图像是单通道的，比如灰度图，你可以这样获取像素值列表：\n",
    "    if img.mode == 'L':\n",
    "        pixel_values = list(img.getdata())\n",
    "        print(pixel_values)\n",
    "show_img_content(img) #这里必须把上面的 transforms.ToTensor(), # 转换为tensor，进行归一化注释掉，否则是不行的"
   ],
   "id": "a8e9165301159265",
   "outputs": [
    {
     "name": "stdout",
     "output_type": "stream",
     "text": [
      "图像大小: (28, 28)\n",
      "图像模式: L\n",
      "[0, 0, 0, 0, 0, 0, 0, 0, 0, 0, 0, 0, 0, 0, 0, 0, 0, 0, 0, 0, 0, 0, 0, 0, 0, 0, 0, 0, 0, 0, 0, 0, 0, 0, 0, 0, 0, 0, 0, 0, 0, 0, 0, 0, 0, 0, 0, 0, 0, 0, 0, 0, 0, 0, 0, 0, 0, 0, 0, 0, 0, 0, 0, 0, 0, 0, 0, 0, 0, 0, 0, 0, 0, 0, 0, 0, 0, 0, 0, 0, 0, 0, 0, 0, 0, 0, 0, 0, 0, 0, 0, 0, 0, 0, 0, 0, 1, 0, 0, 13, 73, 0, 0, 1, 4, 0, 0, 0, 0, 1, 1, 0, 0, 0, 0, 0, 0, 0, 0, 0, 0, 0, 0, 0, 3, 0, 36, 136, 127, 62, 54, 0, 0, 0, 1, 3, 4, 0, 0, 3, 0, 0, 0, 0, 0, 0, 0, 0, 0, 0, 0, 0, 6, 0, 102, 204, 176, 134, 144, 123, 23, 0, 0, 0, 0, 12, 10, 0, 0, 0, 0, 0, 0, 0, 0, 0, 0, 0, 0, 0, 0, 0, 155, 236, 207, 178, 107, 156, 161, 109, 64, 23, 77, 130, 72, 15, 0, 0, 0, 0, 0, 0, 0, 0, 0, 0, 0, 1, 0, 69, 207, 223, 218, 216, 216, 163, 127, 121, 122, 146, 141, 88, 172, 66, 0, 0, 0, 0, 0, 0, 0, 0, 0, 1, 1, 1, 0, 200, 232, 232, 233, 229, 223, 223, 215, 213, 164, 127, 123, 196, 229, 0, 0, 0, 0, 0, 0, 0, 0, 0, 0, 0, 0, 0, 0, 183, 225, 216, 223, 228, 235, 227, 224, 222, 224, 221, 223, 245, 173, 0, 0, 0, 0, 0, 0, 0, 0, 0, 0, 0, 0, 0, 0, 193, 228, 218, 213, 198, 180, 212, 210, 211, 213, 223, 220, 243, 202, 0, 0, 0, 0, 0, 0, 0, 0, 0, 0, 1, 3, 0, 12, 219, 220, 212, 218, 192, 169, 227, 208, 218, 224, 212, 226, 197, 209, 52, 0, 0, 0, 0, 0, 0, 0, 0, 0, 0, 6, 0, 99, 244, 222, 220, 218, 203, 198, 221, 215, 213, 222, 220, 245, 119, 167, 56, 0, 0, 0, 0, 0, 0, 0, 0, 0, 4, 0, 0, 55, 236, 228, 230, 228, 240, 232, 213, 218, 223, 234, 217, 217, 209, 92, 0, 0, 0, 1, 4, 6, 7, 2, 0, 0, 0, 0, 0, 237, 226, 217, 223, 222, 219, 222, 221, 216, 223, 229, 215, 218, 255, 77, 0, 0, 3, 0, 0, 0, 0, 0, 0, 0, 62, 145, 204, 228, 207, 213, 221, 218, 208, 211, 218, 224, 223, 219, 215, 224, 244, 159, 0, 0, 0, 0, 0, 18, 44, 82, 107, 189, 228, 220, 222, 217, 226, 200, 205, 211, 230, 224, 234, 176, 188, 250, 248, 233, 238, 215, 0, 0, 57, 187, 208, 224, 221, 224, 208, 204, 214, 208, 209, 200, 159, 245, 193, 206, 223, 255, 255, 221, 234, 221, 211, 220, 232, 246, 0, 3, 202, 228, 224, 221, 211, 211, 214, 205, 205, 205, 220, 240, 80, 150, 255, 229, 221, 188, 154, 191, 210, 204, 209, 222, 228, 225, 0, 98, 233, 198, 210, 222, 229, 229, 234, 249, 220, 194, 215, 217, 241, 65, 73, 106, 117, 168, 219, 221, 215, 217, 223, 223, 224, 229, 29, 75, 204, 212, 204, 193, 205, 211, 225, 216, 185, 197, 206, 198, 213, 240, 195, 227, 245, 239, 223, 218, 212, 209, 222, 220, 221, 230, 67, 48, 203, 183, 194, 213, 197, 185, 190, 194, 192, 202, 214, 219, 221, 220, 236, 225, 216, 199, 206, 186, 181, 177, 172, 181, 205, 206, 115, 0, 122, 219, 193, 179, 171, 183, 196, 204, 210, 213, 207, 211, 210, 200, 196, 194, 191, 195, 191, 198, 192, 176, 156, 167, 177, 210, 92, 0, 0, 74, 189, 212, 191, 175, 172, 175, 181, 185, 188, 189, 188, 193, 198, 204, 209, 210, 210, 211, 188, 188, 194, 192, 216, 170, 0, 2, 0, 0, 0, 66, 200, 222, 237, 239, 242, 246, 243, 244, 221, 220, 193, 191, 179, 182, 182, 181, 176, 166, 168, 99, 58, 0, 0, 0, 0, 0, 0, 0, 0, 0, 40, 61, 44, 72, 41, 35, 0, 0, 0, 0, 0, 0, 0, 0, 0, 0, 0, 0, 0, 0, 0, 0, 0, 0, 0, 0, 0, 0, 0, 0, 0, 0, 0, 0, 0, 0, 0, 0, 0, 0, 0, 0, 0, 0, 0, 0, 0, 0, 0, 0, 0, 0, 0, 0, 0, 0, 0, 0, 0, 0, 0, 0, 0, 0, 0, 0, 0, 0, 0, 0, 0, 0, 0, 0, 0, 0, 0]\n"
     ]
    }
   ],
   "execution_count": 4
  },
  {
   "metadata": {
    "ExecuteTime": {
     "end_time": "2025-01-15T06:45:13.901255Z",
     "start_time": "2025-01-15T06:45:13.832609Z"
    }
   },
   "cell_type": "code",
   "source": [
    "#这个代码必须是注释了上面的 transforms.ToTensor()才能够运行的\n",
    "def show_single_image(img_arr):\n",
    "    plt.imshow(img_arr, cmap=\"binary\") # 显示图片\n",
    "    plt.colorbar() # 显示颜色条\n",
    "    plt.show()\n",
    "\n",
    "\n",
    "show_single_image(img)"
   ],
   "id": "1301ce05380d8d93",
   "outputs": [
    {
     "data": {
      "text/plain": [
       "<Figure size 640x480 with 2 Axes>"
      ],
      "image/png": "[encoded data removed]"
     },
     "metadata": {},
     "output_type": "display_data"
    }
   ],
   "execution_count": 5
  },
  {
   "metadata": {},
   "cell_type": "markdown",
   "source": "数据准备2，为训练做准备",
   "id": "ae35a0dfebdbd21d"
  },
  {
   "metadata": {
    "ExecuteTime": {
     "end_time": "2025-01-15T06:45:13.928484Z",
     "start_time": "2025-01-15T06:45:13.901255Z"
    }
   },
   "cell_type": "code",
   "source": [
    "from torchvision import datasets\n",
    "from torchvision.transforms import ToTensor\n",
    "from torchvision import transforms\n",
    "\n",
    "\n",
    "# 定义数据集的变换\n",
    "transform = transforms.Compose([\n",
    "    transforms.ToTensor(), # 转换为tensor，进行归一化\n",
    "    # transforms.Normalize(mean, std) # 标准化，mean和std是数据集的均值和方差\n",
    "])\n",
    "# fashion_mnist图像分类数据集，衣服分类，60000张训练图片，10000张测试图片\n",
    "train_ds = datasets.FashionMNIST(\n",
    "    root=\"../data\",\n",
    "    train=True,\n",
    "    download=True,\n",
    "    transform=transform\n",
    ")\n",
    "\n",
    "test_ds = datasets.FashionMNIST(\n",
    "    root=\"../data\",\n",
    "    train=False,\n",
    "    download=True,\n",
    "    transform=transform\n",
    ")\n",
    "\n",
    "# torchvision 数据集里没有提供训练集和验证集的划分\n",
    "# 当然也可以用 torch.utils.data.Dataset 实现人为划分"
   ],
   "id": "770d39d8c873931b",
   "outputs": [],
   "execution_count": 6
  },
  {
   "metadata": {
    "ExecuteTime": {
     "end_time": "2025-01-15T06:45:13.933879Z",
     "start_time": "2025-01-15T06:45:13.928484Z"
    }
   },
   "cell_type": "code",
   "source": [
    "img, label = train_ds[0]\n",
    "img.shape  #img这时是一个tensor，shape=(1, 28, 28)"
   ],
   "id": "c71fbaa0519acc41",
   "outputs": [
    {
     "data": {
      "text/plain": [
       "torch.Size([1, 28, 28])"
      ]
     },
     "execution_count": 7,
     "metadata": {},
     "output_type": "execute_result"
    }
   ],
   "execution_count": 7
  },
  {
   "metadata": {
    "ExecuteTime": {
     "end_time": "2025-01-15T06:45:16.592065Z",
     "start_time": "2025-01-15T06:45:13.933879Z"
    }
   },
   "cell_type": "code",
   "source": [
    "#计算均值和方差\n",
    "def cal_mean_std(ds):\n",
    "    mean = 0.\n",
    "    std = 0.\n",
    "    for img, _ in ds:  # 遍历每张图片,img.shape=[1,28,28]\n",
    "        mean += img.mean(dim=(1, 2))  # 计算每张图片的均值，dim=(1, 2)表示计算每张图片的每一个像素的均值,行列共同求均值\n",
    "        std += img.std(dim=(1, 2))\n",
    "    mean /= len(ds)\n",
    "    std /= len(ds)\n",
    "    return mean, std\n",
    "\n",
    "\n",
    "print(cal_mean_std(train_ds))"
   ],
   "id": "f97965d4f9a99764",
   "outputs": [
    {
     "name": "stdout",
     "output_type": "stream",
     "text": [
      "(tensor([0.2860]), tensor([0.3205]))\n"
     ]
    }
   ],
   "execution_count": 8
  },
  {
   "metadata": {
    "ExecuteTime": {
     "end_time": "2025-01-15T06:45:16.782859Z",
     "start_time": "2025-01-15T06:45:16.593064Z"
    }
   },
   "cell_type": "code",
   "source": [
    "def show_imgs(n_rows, n_cols, train_ds, class_names):\n",
    "    # 确保打印的图片数量不超过数据集的总样本数\n",
    "    assert n_rows * n_cols < len(train_ds)\n",
    "    \n",
    "    # 创建一个图像窗口，设置图像窗口的大小\n",
    "    plt.figure(figsize = (n_cols * 1.4, n_rows * 1.6))  # 宽度为n_cols * 1.4，高度为n_rows * 1.6\n",
    "    \n",
    "    # 遍历每一行\n",
    "    for row in range(n_rows):\n",
    "        # 遍历每一列\n",
    "        for col in range(n_cols):\n",
    "            # 计算当前图片的索引，从0开始\n",
    "            index = n_cols * row + col\n",
    "            \n",
    "            # 在图像窗口中创建子图，n_rows行，n_cols列，当前子图的位置为index+1（因为subplot从1开始计数）\n",
    "            plt.subplot(n_rows, n_cols, index + 1)\n",
    "            \n",
    "            # 从数据集中获取图像和标签\n",
    "            img_arr, label = train_ds[index]\n",
    "            \n",
    "            # 将图像的通道维度从 (C, H, W) 转换为 (H, W, C)，以便matplotlib可以正确显示\n",
    "            img_arr = np.transpose(img_arr, (1, 2, 0))\n",
    "            \n",
    "            # 显示图像，使用二值颜色映射（cmap=\"binary\"），并使用最近邻插值（interpolation='nearest'）\n",
    "            plt.imshow(img_arr, cmap=\"binary\", interpolation='nearest')\n",
    "            \n",
    "            # 关闭坐标轴显示\n",
    "            plt.axis('off')\n",
    "            \n",
    "            # 在图像上方显示对应的类别名称\n",
    "            plt.title(class_names[label])\n",
    "    \n",
    "    # 显示所有子图\n",
    "    plt.show()\n",
    "    \n",
    "\n",
    "# 已知的图片类别\n",
    "# 标签信息可以在以下路径找到：https://github.com/zalandoresearch/fashion-mnist\n",
    "class_names = ['T-shirt', 'Trouser', 'Pullover', 'Dress',\n",
    "               'Coat', 'Sandal', 'Shirt', 'Sneaker',\n",
    "               'Bag', 'Ankle boot']  # 0-9分别代表的类别\n",
    "\n",
    "# 打印前15个样本，3行5列\n",
    "show_imgs(3, 5, train_ds, class_names)"
   ],
   "id": "971f025fe7b946bd",
   "outputs": [
    {
     "data": {
      "text/plain": [
       "<Figure size 700x480 with 15 Axes>"
      ],
      "image/png": "[encoded data removed]"
     },
     "metadata": {},
     "output_type": "display_data"
    }
   ],
   "execution_count": 9
  },
  {
   "metadata": {
    "ExecuteTime": {
     "end_time": "2025-01-15T06:45:16.790863Z",
     "start_time": "2025-01-15T06:45:16.784855Z"
    }
   },
   "cell_type": "code",
   "source": [
    "# 从数据集创建 DataLoader\n",
    "# DataLoader 是 PyTorch 提供的一个工具，用于批量加载数据，支持多线程数据加载和数据洗牌等功能\n",
    "\n",
    "# 创建训练集的 DataLoader\n",
    "train_loader = torch.utils.data.DataLoader(\n",
    "    train_ds,          # 训练数据集\n",
    "    batch_size=32,     # 每个批次的大小为 32，即每次从数据集中加载 32 个样本\n",
    "    shuffle=True       # 在每个 epoch 开始时打乱数据顺序，确保模型训练时数据的随机性\n",
    ")\n",
    "\n",
    "# 创建验证集的 DataLoader\n",
    "val_loader = torch.utils.data.DataLoader(\n",
    "    test_ds,           # 验证数据集（或测试数据集）\n",
    "    batch_size=32,     # 每个批次的大小为 32\n",
    "    shuffle=False      # 验证集不需要打乱数据顺序，保持数据的原始顺序\n",
    ")"
   ],
   "id": "65f8286633f35dc8",
   "outputs": [],
   "execution_count": 10
  },
  {
   "metadata": {},
   "cell_type": "markdown",
   "source": [
    "在PyTorch中，`DataLoader`是一个迭代器，它封装了数据的加载和预处理过程，使得在训练机器学习模型时可以方便地批量加载数据。`DataLoader`主要负责以下几个方面：\n",
    "\n",
    "1. **批量加载数据**：`DataLoader`可以将数据集（Dataset）切分为更小的批次（batch），每次迭代提供一小批量数据，而不是单个数据点。这有助于模型学习数据中的统计依赖性，并且可以更高效地利用GPU等硬件的并行计算能力。\n",
    "\n",
    "2. **数据打乱**：默认情况下，`DataLoader`会在每个epoch（训练周期）开始时打乱数据的顺序。这有助于模型训练时避免陷入局部最优解，并且可以提高模型的泛化能力。\n",
    "\n",
    "3. **多线程数据加载**：`DataLoader`支持多线程（通过参数`num_workers`）来并行地加载数据，这可以显著减少训练过程中的等待时间，尤其是在处理大规模数据集时。\n",
    "\n",
    "4. **数据预处理**：`DataLoader`可以与`transforms`结合使用，对加载的数据进行预处理，如归一化、标准化、数据增强等操作。\n",
    "\n",
    "5. **内存管理**：`DataLoader`负责管理数据的内存使用，确保在训练过程中不会耗尽内存资源。\n",
    "\n",
    "6. **易用性**：`DataLoader`提供了一个简单的接口，可以很容易地集成到训练循环中。\n",
    "\n"
   ],
   "id": "ae464913f33bc3f9"
  },
  {
   "metadata": {},
   "cell_type": "markdown",
   "source": "定义模型",
   "id": "d412dfd8c8d0829a"
  },
  {
   "metadata": {
    "ExecuteTime": {
     "end_time": "2025-01-15T06:45:16.799234Z",
     "start_time": "2025-01-15T06:45:16.791863Z"
    }
   },
   "cell_type": "code",
   "source": [
    "# 定义一个神经网络模型类，继承自 PyTorch 的 nn.Module\n",
    "class NeuralNetwork(nn.Module):\n",
    "    def __init__(self):\n",
    "        # 调用父类 nn.Module 的初始化方法，确保子类继承父类的属性和方法\n",
    "        super().__init__()\n",
    "        \n",
    "        # 定义展平层，将多维输入张量展平为一维张量\n",
    "        # 例如，将形状为 [batch_size, 1, 28, 28] 的张量展平为 [batch_size, 784]\n",
    "        self.flatten = nn.Flatten()\n",
    "        \n",
    "        # 定义一个顺序容器，包含多个线性层和激活函数\n",
    "        self.linear_relu_stack = nn.Sequential(\n",
    "            # 第一个全连接层，输入特征数为 784，输出特征数为 300\n",
    "            nn.Linear(784, 300),  # in_features=784, out_features=300\n",
    "            # ReLU 激活函数，引入非线性\n",
    "            nn.ReLU(),\n",
    "            # 第二个全连接层，输入特征数为 300，输出特征数为 100\n",
    "            nn.Linear(300, 100),  # 隐藏层神经元数为 100\n",
    "            # ReLU 激活函数\n",
    "            nn.ReLU(),\n",
    "            # 第三个全连接层，输入特征数为 100，输出特征数为 10\n",
    "            nn.Linear(100, 10),   # 输出层神经元数为 10，对应 10 个类别\n",
    "        )\n",
    "\n",
    "    # 定义前向传播方法，描述数据如何通过网络\n",
    "    def forward(self, x):\n",
    "        # 输入 x 的形状为 [batch_size, 1, 28, 28]，其中 1 是通道数（灰度图像）\n",
    "        x = self.flatten(x)  # 展平操作，将输入张量展平为 [batch_size, 784]\n",
    "        # print(f'x.shape--{x.shape}')  # 可以打印展平后的形状以调试\n",
    "        \n",
    "        # 将展平后的数据通过线性层和激活函数堆栈\n",
    "        logits = self.linear_relu_stack(x)\n",
    "        # logits 的形状为 [batch_size, 10]，表示每个样本的 10 个类别的原始分数（未经过 softmax）\n",
    "        \n",
    "        # 返回 logits\n",
    "        return logits\n",
    "\n",
    "\n",
    "# 创建神经网络模型的实例\n",
    "model = NeuralNetwork()"
   ],
   "id": "bf2056577ab3e7e2",
   "outputs": [],
   "execution_count": 11
  },
  {
   "metadata": {
    "ExecuteTime": {
     "end_time": "2025-01-15T06:45:16.804362Z",
     "start_time": "2025-01-15T06:45:16.800234Z"
    }
   },
   "cell_type": "code",
   "source": [
    "# 看看网络结构\n",
    "model"
   ],
   "id": "6910302e10f5b69d",
   "outputs": [
    {
     "data": {
      "text/plain": [
       "NeuralNetwork(\n",
       "  (flatten): Flatten(start_dim=1, end_dim=-1)\n",
       "  (linear_relu_stack): Sequential(\n",
       "    (0): Linear(in_features=784, out_features=300, bias=True)\n",
       "    (1): ReLU()\n",
       "    (2): Linear(in_features=300, out_features=100, bias=True)\n",
       "    (3): ReLU()\n",
       "    (4): Linear(in_features=100, out_features=10, bias=True)\n",
       "  )\n",
       ")"
      ]
     },
     "execution_count": 12,
     "metadata": {},
     "output_type": "execute_result"
    }
   ],
   "execution_count": 12
  },
  {
   "metadata": {
    "ExecuteTime": {
     "end_time": "2025-01-15T06:45:16.826126Z",
     "start_time": "2025-01-15T06:45:16.805362Z"
    }
   },
   "cell_type": "code",
   "source": [
    "#为了查看模型运算的tensor尺寸\n",
    "x = torch.randn(32, 1, 28, 28)\n",
    "print(x.shape)\n",
    "logits = model(x)\n",
    "print(logits.shape)"
   ],
   "id": "f055754ca617127f",
   "outputs": [
    {
     "name": "stdout",
     "output_type": "stream",
     "text": [
      "torch.Size([32, 1, 28, 28])\n",
      "torch.Size([32, 10])\n"
     ]
    }
   ],
   "execution_count": 13
  },
  {
   "metadata": {
    "ExecuteTime": {
     "end_time": "2025-01-15T06:45:16.829555Z",
     "start_time": "2025-01-15T06:45:16.826126Z"
    }
   },
   "cell_type": "code",
   "source": [
    "for name, param in model.named_parameters(): # 打印模型参数\n",
    "      print(name, param.shape)"
   ],
   "id": "bf9c60cabddcb2d5",
   "outputs": [
    {
     "name": "stdout",
     "output_type": "stream",
     "text": [
      "linear_relu_stack.0.weight torch.Size([300, 784])\n",
      "linear_relu_stack.0.bias torch.Size([300])\n",
      "linear_relu_stack.2.weight torch.Size([100, 300])\n",
      "linear_relu_stack.2.bias torch.Size([100])\n",
      "linear_relu_stack.4.weight torch.Size([10, 100])\n",
      "linear_relu_stack.4.bias torch.Size([10])\n"
     ]
    }
   ],
   "execution_count": 14
  },
  {
   "metadata": {
    "ExecuteTime": {
     "end_time": "2025-01-15T06:45:16.840756Z",
     "start_time": "2025-01-15T06:45:16.829555Z"
    }
   },
   "cell_type": "code",
   "source": [
    "# 看看模型参数\n",
    "list(model.parameters())  # 这种方法拿到模型的所有可学习参数,requires_grad=True"
   ],
   "id": "5273310dec83c770",
   "outputs": [
    {
     "data": {
      "text/plain": [
       "[Parameter containing:\n",
       " tensor([[ 0.0282, -0.0309,  0.0166,  ..., -0.0173, -0.0137,  0.0200],\n",
       "         [-0.0114, -0.0189,  0.0215,  ...,  0.0319,  0.0001, -0.0348],\n",
       "         [ 0.0058, -0.0205, -0.0264,  ..., -0.0227,  0.0191, -0.0038],\n",
       "         ...,\n",
       "         [ 0.0123,  0.0044, -0.0112,  ...,  0.0171,  0.0289, -0.0064],\n",
       "         [ 0.0142,  0.0321,  0.0062,  ...,  0.0316, -0.0092, -0.0042],\n",
       "         [-0.0256, -0.0213,  0.0111,  ..., -0.0019, -0.0154, -0.0237]],\n",
       "        requires_grad=True),\n",
       " Parameter containing:\n",
       " tensor([ 0.0177, -0.0177, -0.0120,  0.0071,  0.0347,  0.0017, -0.0075, -0.0277,\n",
       "         -0.0163,  0.0179,  0.0219,  0.0195, -0.0020,  0.0266, -0.0162, -0.0124,\n",
       "          0.0253,  0.0148, -0.0237, -0.0312, -0.0321,  0.0053,  0.0010,  0.0012,\n",
       "          0.0290,  0.0175,  0.0032,  0.0170, -0.0105, -0.0110, -0.0344,  0.0234,\n",
       "          0.0263, -0.0149, -0.0224,  0.0229, -0.0283, -0.0075,  0.0069, -0.0047,\n",
       "         -0.0343, -0.0110, -0.0236,  0.0235,  0.0057,  0.0316,  0.0279, -0.0317,\n",
       "          0.0097,  0.0142,  0.0286,  0.0133,  0.0349,  0.0089, -0.0060, -0.0333,\n",
       "          0.0081,  0.0263, -0.0222,  0.0293, -0.0171,  0.0041,  0.0014, -0.0187,\n",
       "         -0.0236, -0.0135,  0.0339,  0.0197, -0.0062, -0.0300,  0.0138,  0.0155,\n",
       "          0.0245,  0.0071,  0.0121, -0.0260, -0.0200,  0.0196,  0.0038,  0.0254,\n",
       "          0.0071, -0.0215, -0.0316,  0.0082,  0.0047, -0.0224, -0.0259, -0.0235,\n",
       "          0.0007,  0.0032,  0.0025, -0.0145, -0.0288,  0.0167, -0.0110, -0.0334,\n",
       "         -0.0107,  0.0198, -0.0042,  0.0186,  0.0168,  0.0005, -0.0069, -0.0276,\n",
       "         -0.0093, -0.0267,  0.0072, -0.0058, -0.0223, -0.0349,  0.0337,  0.0104,\n",
       "          0.0059, -0.0196, -0.0153,  0.0208,  0.0196,  0.0178, -0.0015, -0.0158,\n",
       "          0.0146, -0.0198,  0.0061,  0.0316,  0.0196,  0.0008, -0.0067, -0.0331,\n",
       "          0.0270, -0.0137,  0.0037,  0.0311,  0.0030, -0.0157, -0.0129,  0.0219,\n",
       "          0.0049,  0.0273, -0.0312,  0.0124, -0.0009,  0.0308,  0.0012, -0.0179,\n",
       "         -0.0083, -0.0027, -0.0021,  0.0108,  0.0035, -0.0313,  0.0101,  0.0258,\n",
       "         -0.0117, -0.0176,  0.0072,  0.0137,  0.0257,  0.0014, -0.0150,  0.0227,\n",
       "         -0.0156,  0.0152, -0.0251, -0.0132, -0.0235,  0.0138,  0.0107, -0.0223,\n",
       "          0.0190,  0.0160, -0.0287,  0.0064, -0.0288, -0.0341,  0.0162, -0.0036,\n",
       "          0.0245, -0.0300, -0.0017,  0.0154,  0.0243, -0.0010, -0.0326, -0.0104,\n",
       "         -0.0166, -0.0250, -0.0167, -0.0154,  0.0176, -0.0093,  0.0224, -0.0159,\n",
       "          0.0077,  0.0329,  0.0354,  0.0204, -0.0325,  0.0035, -0.0145, -0.0240,\n",
       "         -0.0062, -0.0027, -0.0102, -0.0189,  0.0128, -0.0287, -0.0291, -0.0227,\n",
       "         -0.0204, -0.0306,  0.0328,  0.0107, -0.0282,  0.0333, -0.0183,  0.0124,\n",
       "          0.0332, -0.0256, -0.0159, -0.0295,  0.0247,  0.0347,  0.0025,  0.0106,\n",
       "          0.0164,  0.0223, -0.0269,  0.0073, -0.0091,  0.0185,  0.0331, -0.0268,\n",
       "         -0.0064, -0.0165, -0.0271, -0.0263,  0.0289, -0.0014, -0.0090, -0.0246,\n",
       "         -0.0172,  0.0139, -0.0104,  0.0345, -0.0133, -0.0334,  0.0182,  0.0235,\n",
       "          0.0217, -0.0257,  0.0343,  0.0213, -0.0042, -0.0294, -0.0310,  0.0086,\n",
       "          0.0268,  0.0213,  0.0235, -0.0146, -0.0082, -0.0011,  0.0229,  0.0137,\n",
       "          0.0184,  0.0132, -0.0077,  0.0127,  0.0314, -0.0087,  0.0006, -0.0279,\n",
       "          0.0055,  0.0076,  0.0332,  0.0006, -0.0148, -0.0077, -0.0135, -0.0123,\n",
       "         -0.0162,  0.0179, -0.0322,  0.0121,  0.0132,  0.0032, -0.0017, -0.0289,\n",
       "          0.0156,  0.0016, -0.0071, -0.0206,  0.0217,  0.0048, -0.0096,  0.0336,\n",
       "          0.0324, -0.0239,  0.0302,  0.0315], requires_grad=True),\n",
       " Parameter containing:\n",
       " tensor([[-0.0432, -0.0350, -0.0112,  ...,  0.0362, -0.0331, -0.0061],\n",
       "         [-0.0451, -0.0380,  0.0204,  ..., -0.0093, -0.0041,  0.0487],\n",
       "         [ 0.0301, -0.0148, -0.0432,  ..., -0.0013,  0.0447, -0.0450],\n",
       "         ...,\n",
       "         [ 0.0257,  0.0282,  0.0495,  ..., -0.0322, -0.0370, -0.0080],\n",
       "         [-0.0063, -0.0213, -0.0294,  ...,  0.0079, -0.0035, -0.0282],\n",
       "         [-0.0180, -0.0211, -0.0339,  ..., -0.0225, -0.0044,  0.0491]],\n",
       "        requires_grad=True),\n",
       " Parameter containing:\n",
       " tensor([-4.1040e-02, -3.1146e-02, -3.7881e-02, -1.6068e-02,  3.2369e-02,\n",
       "          4.4366e-02,  5.6947e-02,  3.4491e-02,  3.5363e-02, -2.5062e-02,\n",
       "          3.3475e-02,  1.2024e-02,  2.3669e-02,  5.3906e-03, -4.4466e-02,\n",
       "          1.4296e-02, -5.1149e-02, -1.6819e-02, -5.3888e-02,  8.0799e-03,\n",
       "          2.3555e-02,  5.5192e-02,  4.6546e-03,  1.6814e-02,  2.3506e-02,\n",
       "         -2.5897e-02, -4.8902e-02,  2.8011e-02, -5.2204e-03, -4.3192e-02,\n",
       "          2.9431e-03,  7.0155e-03, -3.0180e-02,  3.9068e-02, -5.2480e-02,\n",
       "          4.2436e-02,  3.6420e-02, -3.8756e-02,  3.7012e-02, -2.8581e-02,\n",
       "         -7.2551e-03,  9.4324e-03,  5.1837e-02,  2.6205e-03,  5.7547e-02,\n",
       "          4.9254e-02, -2.8385e-03,  3.4621e-02,  5.6866e-02,  1.5732e-02,\n",
       "         -4.2864e-02, -3.9739e-02,  2.5336e-02, -5.0880e-02,  2.6812e-02,\n",
       "          2.9845e-02,  4.1718e-02,  3.0070e-02, -1.0220e-02,  8.5616e-03,\n",
       "         -1.0117e-02,  5.1449e-02, -5.5791e-02, -4.2854e-02,  7.1623e-03,\n",
       "          6.3246e-03, -5.1048e-02, -5.3358e-02, -4.2322e-02, -1.1424e-02,\n",
       "         -3.0776e-02, -4.0373e-02,  5.3902e-02, -5.4788e-02, -4.1590e-02,\n",
       "          2.1018e-05, -1.8121e-02, -8.6570e-03,  6.1815e-03, -2.1331e-03,\n",
       "          3.9684e-02, -3.8741e-02, -5.4562e-02,  2.9895e-02, -1.1878e-02,\n",
       "         -5.3446e-02, -2.9961e-02, -2.8040e-02, -5.0723e-02,  3.7816e-02,\n",
       "          5.8022e-03, -1.8520e-02,  1.3344e-02,  4.7548e-03, -4.0017e-02,\n",
       "          3.3355e-02,  6.0796e-03,  3.8417e-02, -3.3811e-02,  3.3418e-02],\n",
       "        requires_grad=True),\n",
       " Parameter containing:\n",
       " tensor([[-5.8945e-02, -3.3462e-02,  8.6736e-02, -5.1366e-02,  5.2369e-02,\n",
       "           3.6557e-02, -5.3742e-02,  8.5656e-04,  3.0984e-02,  3.0346e-02,\n",
       "           4.3139e-02, -8.9162e-02, -8.8541e-02,  1.2237e-02, -2.3176e-02,\n",
       "           6.5616e-02, -6.1789e-02,  7.4050e-02,  8.2601e-02, -9.9358e-02,\n",
       "          -4.4708e-02, -7.6646e-02,  2.0162e-02, -3.7526e-02,  3.6589e-02,\n",
       "           7.5156e-02,  7.6609e-02, -3.0590e-02, -8.5874e-02,  5.3130e-02,\n",
       "          -7.7007e-02,  7.8804e-02,  3.6327e-02,  8.6038e-02,  9.9712e-02,\n",
       "          -3.9304e-02,  6.9228e-02,  6.0940e-02, -6.9968e-02,  1.2335e-02,\n",
       "           9.5231e-02, -5.5555e-02,  6.5915e-02,  8.3712e-02,  9.5032e-02,\n",
       "          -4.0156e-03,  7.3425e-02, -5.9813e-02,  1.6674e-02, -1.8506e-02,\n",
       "           9.9237e-02,  6.9945e-02,  3.0228e-02,  8.8043e-02, -4.8064e-02,\n",
       "          -6.7857e-02, -6.0549e-02, -1.9878e-02, -6.1407e-02, -4.2138e-02,\n",
       "          -7.9750e-02,  6.0820e-03,  6.4928e-02, -3.8828e-04,  7.7219e-04,\n",
       "           9.1504e-03,  9.9308e-02, -5.7102e-02, -9.5830e-02, -9.8214e-02,\n",
       "          -4.6613e-03,  1.1525e-02,  7.5067e-02, -2.2505e-02, -7.2056e-02,\n",
       "           6.2659e-02, -5.8682e-02, -9.2401e-02, -3.8995e-02,  6.6636e-02,\n",
       "          -5.4830e-02,  3.1231e-03,  7.1179e-02, -8.5171e-02, -1.0335e-02,\n",
       "           9.3473e-02, -9.6070e-02, -3.9202e-03,  7.1447e-02,  7.9050e-02,\n",
       "          -8.3728e-02,  9.8419e-02,  1.4257e-02, -2.4727e-02, -4.4841e-02,\n",
       "          -9.7641e-02, -8.9344e-03, -4.2457e-02,  4.2112e-02, -8.4557e-02],\n",
       "         [ 2.9722e-02, -3.7775e-02,  1.8254e-02,  2.8288e-02, -9.2977e-02,\n",
       "           5.7036e-02, -2.4456e-02,  6.8219e-02, -6.9561e-02, -8.0674e-02,\n",
       "          -7.2907e-02,  9.7556e-02,  5.5253e-02, -2.0073e-02, -4.8664e-02,\n",
       "           1.8727e-02,  9.8806e-02, -3.5238e-02,  3.2104e-02,  3.0758e-02,\n",
       "           5.0162e-02, -6.1944e-02, -8.0161e-03, -5.0766e-02,  1.8199e-02,\n",
       "          -9.7232e-02, -2.9025e-02,  5.1460e-02, -8.5747e-02,  1.8547e-02,\n",
       "           4.1280e-02,  9.5145e-02, -8.7120e-02,  6.3391e-02,  6.2486e-02,\n",
       "           6.5603e-02,  8.2510e-02, -3.9295e-02, -5.8163e-02,  4.9181e-02,\n",
       "          -9.0438e-02,  7.1538e-02, -5.1014e-02, -7.4642e-02, -3.1128e-03,\n",
       "          -4.9654e-02, -5.5416e-02,  6.2182e-02,  9.7691e-02,  4.3675e-02,\n",
       "          -6.6081e-02, -9.1261e-02,  8.0775e-02,  6.1174e-02, -3.7866e-02,\n",
       "          -4.8259e-02, -9.2777e-02,  9.1643e-02, -1.7398e-02, -1.0825e-02,\n",
       "          -3.2435e-02, -6.1765e-02,  8.0129e-02,  4.3981e-02,  7.2376e-02,\n",
       "           8.6795e-02,  4.4087e-02,  3.1169e-02,  8.8728e-02, -3.5629e-02,\n",
       "          -6.0887e-02,  2.4084e-02,  5.2909e-02, -2.6871e-02, -6.1243e-02,\n",
       "          -2.6360e-02, -1.3834e-02,  8.3761e-02, -6.7040e-02, -6.6836e-02,\n",
       "           6.3866e-02,  5.0840e-02, -4.0493e-03, -5.1071e-02,  2.6937e-02,\n",
       "           6.0639e-02,  4.2295e-02,  8.7593e-02,  4.4524e-02,  9.1391e-02,\n",
       "          -9.8330e-02,  6.1154e-02, -5.3337e-02, -4.5130e-04,  8.6282e-02,\n",
       "           5.7331e-02, -1.9538e-02,  1.3285e-02, -6.1283e-02,  7.6759e-02],\n",
       "         [-9.9006e-02, -6.4342e-02,  6.7192e-02,  4.5139e-02, -5.3305e-02,\n",
       "           2.1148e-02, -5.7507e-02,  9.9898e-02,  6.1190e-02,  6.9977e-02,\n",
       "          -9.1108e-02, -6.7468e-02,  9.0277e-02,  2.4431e-02,  4.3459e-02,\n",
       "          -2.1536e-03,  4.5938e-02, -9.5092e-03, -6.2591e-02,  4.6506e-02,\n",
       "          -1.2033e-02, -3.9371e-02, -3.3332e-02, -3.4042e-02, -3.8195e-02,\n",
       "           7.8907e-02,  7.4723e-02,  7.2690e-02,  8.4262e-02, -8.4085e-02,\n",
       "          -5.7703e-02,  9.1402e-02, -2.7594e-03,  1.5271e-02,  3.2491e-02,\n",
       "           7.5924e-02,  1.3157e-02, -4.1926e-02,  4.3614e-02, -4.3425e-02,\n",
       "          -1.3861e-02, -7.3552e-02, -5.3988e-02,  3.1538e-02, -5.8977e-02,\n",
       "           7.3605e-02, -5.7799e-03,  6.0442e-02, -8.7620e-02,  6.0950e-02,\n",
       "          -5.9620e-02, -8.4429e-02,  3.2342e-03,  5.3366e-02,  8.2270e-02,\n",
       "          -6.3528e-02,  1.0001e-02, -7.1949e-02, -2.7793e-02, -9.5456e-02,\n",
       "           6.6996e-02, -2.0115e-02,  7.2760e-02,  9.5149e-03, -7.9522e-02,\n",
       "           8.1389e-02, -7.7599e-02,  7.6407e-02, -7.4526e-02, -1.5453e-04,\n",
       "          -2.8712e-02, -5.1238e-02,  1.4928e-02, -9.4791e-02,  2.3022e-02,\n",
       "           5.1389e-02,  4.1462e-02,  3.1308e-02, -9.4177e-02, -7.4879e-02,\n",
       "          -7.6888e-02,  4.5128e-02, -1.9638e-02, -4.6086e-02, -2.3629e-02,\n",
       "          -7.5854e-02,  3.2857e-02,  5.2074e-02,  5.5633e-02,  1.5389e-02,\n",
       "          -5.8746e-02,  4.5380e-02,  8.5088e-02,  2.9000e-02,  6.5728e-02,\n",
       "           2.9968e-02, -2.6449e-02, -5.1214e-02,  6.6543e-02, -3.5589e-02],\n",
       "         [-3.9660e-02,  5.4512e-04,  5.5930e-02,  3.8462e-02,  8.1085e-02,\n",
       "           3.3126e-02,  1.3515e-02, -3.6064e-02,  7.2550e-02, -5.9241e-02,\n",
       "           7.5853e-02, -5.4539e-02, -5.3298e-02,  3.2881e-02,  3.8225e-02,\n",
       "           1.9127e-02,  8.2332e-02, -3.0253e-02,  8.6634e-02,  8.7094e-02,\n",
       "           1.2299e-02,  2.1148e-02, -7.9444e-02,  4.3670e-02,  3.7818e-02,\n",
       "           7.6914e-02, -6.1355e-02,  7.9591e-02, -7.0916e-02, -3.1781e-02,\n",
       "          -5.3134e-02, -9.0064e-02, -4.9550e-02, -2.7492e-02,  6.2373e-02,\n",
       "           5.7990e-02, -8.0412e-02,  9.1440e-02,  3.1432e-03, -5.8609e-02,\n",
       "           1.0925e-02,  9.3377e-03,  8.1527e-02,  9.3965e-02,  3.5743e-02,\n",
       "           9.2728e-02,  7.8798e-02,  7.3667e-02,  6.0186e-02,  8.3568e-02,\n",
       "          -7.8375e-03, -2.0368e-02, -6.7944e-02,  9.6136e-02,  6.8898e-02,\n",
       "          -1.2684e-02, -4.6042e-02,  7.7918e-03, -9.4210e-03, -3.7922e-02,\n",
       "           1.9518e-02, -9.0358e-02, -4.3133e-02,  9.8331e-02,  5.8524e-02,\n",
       "           4.9359e-02, -8.3791e-03,  9.0724e-02, -2.7892e-02,  1.1980e-02,\n",
       "          -1.3272e-02, -8.5451e-02, -7.8643e-02, -4.8692e-02,  9.7066e-02,\n",
       "          -9.8564e-02, -7.3109e-02, -9.0107e-02,  1.2473e-02,  1.6545e-02,\n",
       "          -4.8271e-02,  6.6436e-02, -1.0696e-03,  3.4336e-02, -2.2940e-02,\n",
       "          -7.4040e-02, -8.4808e-02,  4.9999e-02,  5.8348e-02,  4.7319e-02,\n",
       "           8.6077e-03, -9.5833e-02, -5.0179e-02, -8.9514e-02, -5.7436e-02,\n",
       "          -3.1116e-02, -2.2462e-02,  6.7943e-02,  2.7222e-02,  7.8622e-03],\n",
       "         [ 4.0013e-02, -9.9977e-02, -8.5342e-02, -7.9912e-02, -6.0034e-02,\n",
       "          -6.0626e-02, -4.8597e-03, -8.5024e-02,  1.8432e-02, -2.9455e-02,\n",
       "           5.9395e-04,  8.6360e-02, -4.2095e-03,  6.9418e-02,  3.7740e-04,\n",
       "           8.2206e-02,  6.5501e-02, -5.3002e-02, -9.5545e-02,  8.5619e-02,\n",
       "          -8.7401e-02,  5.4066e-02,  4.9877e-02,  1.3951e-02,  3.0505e-02,\n",
       "           9.3888e-02,  7.2816e-02, -9.0059e-02,  2.4415e-02,  7.3597e-02,\n",
       "           9.6694e-02, -9.4169e-02,  5.3551e-02,  3.9143e-02,  1.8328e-02,\n",
       "           9.7102e-02, -4.2802e-03,  9.0780e-02,  3.9843e-02, -7.5463e-02,\n",
       "           9.9557e-02, -9.9540e-02, -3.9476e-02,  8.4767e-03,  4.6998e-02,\n",
       "          -9.1589e-02,  9.4743e-02, -8.1945e-02,  3.2116e-02,  4.7733e-02,\n",
       "           5.7077e-02,  6.4889e-02, -9.6609e-02, -3.1653e-02,  7.1482e-02,\n",
       "           8.2043e-02, -2.9520e-02,  6.4467e-02, -6.8346e-02, -9.6268e-02,\n",
       "           6.3998e-02, -1.2999e-02,  5.0880e-02, -5.6570e-02, -9.7917e-02,\n",
       "          -4.2182e-02,  2.7772e-02,  3.4316e-03,  9.2194e-02,  4.7329e-02,\n",
       "           8.7509e-02,  8.3122e-02,  2.1116e-02, -7.2579e-02,  3.3332e-02,\n",
       "           2.1288e-02, -3.1706e-02,  7.0857e-02,  9.2948e-02, -3.3855e-02,\n",
       "           2.7841e-02, -2.2351e-02,  8.1409e-02, -8.4785e-02, -4.9388e-02,\n",
       "           6.8822e-02, -6.1858e-02, -6.7581e-02,  9.3769e-02,  9.5162e-02,\n",
       "          -7.5381e-02,  1.0271e-02, -8.5070e-02, -5.7434e-03,  4.3057e-02,\n",
       "           2.1334e-03,  3.9426e-02, -6.1048e-02,  3.1774e-02, -9.6447e-02],\n",
       "         [ 6.5826e-02,  4.6325e-02,  9.4101e-02, -4.4641e-02, -3.0975e-03,\n",
       "           3.6309e-02,  9.1716e-02,  7.4035e-03, -7.3533e-02,  5.4971e-02,\n",
       "          -4.8867e-02, -6.2916e-02,  8.7652e-02,  7.0032e-02,  9.0494e-02,\n",
       "          -9.4030e-02, -6.4583e-02, -5.6684e-02,  5.7541e-02,  2.4398e-02,\n",
       "           7.4427e-02, -6.3801e-02, -5.2172e-02, -4.1288e-02, -1.5285e-02,\n",
       "           5.3775e-02,  9.2622e-02,  1.8070e-02, -3.5915e-02,  6.4326e-02,\n",
       "           6.6281e-02,  5.5771e-02, -5.9866e-03,  3.0931e-02, -2.2079e-02,\n",
       "           2.2151e-02, -8.4701e-02,  4.3892e-02, -9.6688e-02,  3.9077e-02,\n",
       "           7.0536e-02, -8.8605e-02, -1.7992e-02,  7.7737e-02, -1.1954e-02,\n",
       "           1.3289e-02,  3.2882e-02, -5.8594e-03,  9.7275e-02, -1.3169e-02,\n",
       "          -6.7101e-02,  5.2458e-02,  5.2194e-02,  2.9148e-03, -9.8678e-02,\n",
       "          -5.5401e-02,  6.9931e-02, -9.0997e-02,  8.2646e-02,  3.4007e-03,\n",
       "          -3.0946e-02,  8.1945e-02, -7.5488e-02,  9.4104e-03,  1.9870e-02,\n",
       "          -3.4461e-02,  9.5986e-02, -4.9447e-02, -1.8573e-02, -2.3719e-02,\n",
       "           8.4170e-02, -3.7765e-02, -8.7209e-02,  2.7589e-02,  2.8321e-02,\n",
       "           8.8582e-02, -5.8954e-02, -6.9385e-02,  5.0902e-02,  7.7082e-03,\n",
       "           9.4653e-02, -8.4513e-02, -7.7808e-02, -2.4360e-02, -3.9848e-02,\n",
       "           2.5263e-03,  8.6913e-02,  9.6084e-02,  9.6990e-02,  7.6648e-02,\n",
       "           5.8075e-02, -2.4332e-02, -8.4423e-02,  9.5323e-02, -3.7744e-02,\n",
       "           5.0678e-02, -7.9492e-02, -3.5972e-02, -5.9018e-02,  5.8364e-02],\n",
       "         [ 1.1816e-02,  4.4653e-02,  6.3880e-04,  5.6645e-02, -8.6428e-03,\n",
       "          -1.5235e-02, -6.6031e-02, -8.2245e-02,  7.4093e-03, -4.5876e-02,\n",
       "           2.2146e-02, -4.6861e-02, -4.5247e-02,  1.6163e-02,  9.8088e-02,\n",
       "           5.2760e-02,  4.2651e-03, -7.0103e-02,  7.7657e-02, -7.6608e-02,\n",
       "          -4.4246e-02,  2.2069e-02,  5.9207e-02, -6.4317e-02,  1.4254e-02,\n",
       "          -8.6480e-03, -2.4104e-02, -1.9639e-02, -8.5265e-03, -5.0310e-02,\n",
       "           6.8435e-02, -4.3062e-02, -6.3828e-03,  1.8484e-02,  2.2665e-02,\n",
       "           7.8040e-02,  2.0241e-02,  6.1387e-02, -6.6332e-02, -2.5240e-02,\n",
       "          -8.0404e-02, -1.6023e-02,  6.2547e-02, -9.0828e-02,  2.2418e-02,\n",
       "          -7.2359e-02, -8.0101e-02, -8.0484e-02,  7.5112e-02, -5.5148e-02,\n",
       "           7.9221e-02, -2.0343e-02,  1.2847e-02,  8.7245e-02, -6.7219e-02,\n",
       "           9.0581e-02, -4.3136e-02,  8.0690e-02, -5.4891e-02, -8.0852e-02,\n",
       "           6.3002e-02,  8.7101e-02,  4.2261e-03,  6.6442e-02, -9.4288e-03,\n",
       "           3.7456e-02, -7.1037e-03, -6.2219e-02,  3.4457e-02,  7.0314e-02,\n",
       "           4.3162e-03, -2.7488e-02, -8.5444e-02, -9.2136e-02,  9.8421e-02,\n",
       "          -7.7557e-02, -2.5302e-02, -2.9727e-02, -7.1006e-02, -8.9503e-02,\n",
       "           9.6927e-02,  7.2977e-02,  1.7709e-02, -4.9721e-02, -8.1062e-03,\n",
       "          -5.1143e-02, -1.9156e-02,  3.2555e-02,  4.3298e-02, -7.0886e-02,\n",
       "           9.2355e-02, -4.8277e-02, -8.8320e-02, -6.9016e-02,  5.4054e-02,\n",
       "          -8.7764e-02, -9.9337e-02,  6.2776e-03, -3.3202e-02, -1.4587e-04],\n",
       "         [-4.3199e-03,  8.0138e-02,  9.6180e-02,  1.6479e-03,  5.8710e-02,\n",
       "           8.2743e-02,  8.7287e-03,  5.7517e-02, -8.9021e-02,  8.3228e-02,\n",
       "          -6.6198e-02, -1.7581e-02,  5.5057e-02, -4.7759e-02, -5.2910e-03,\n",
       "          -5.1093e-02, -4.6339e-02,  7.2265e-02,  8.9465e-02, -6.5094e-02,\n",
       "          -1.0775e-02,  4.6112e-02,  9.4950e-02,  2.5272e-02,  3.2610e-02,\n",
       "           9.5252e-03, -3.6436e-02,  1.2897e-02,  6.8099e-02, -5.3497e-03,\n",
       "           5.6101e-02,  4.2977e-02, -7.3405e-02,  1.7110e-02, -5.8888e-02,\n",
       "           7.6518e-02, -6.7124e-02, -3.8567e-02, -3.5846e-02, -6.2188e-02,\n",
       "           8.3406e-02, -4.6290e-02, -6.3484e-02,  8.6152e-02,  4.1716e-02,\n",
       "           4.5865e-02,  9.7849e-02, -6.5059e-02, -6.0695e-02,  1.9809e-02,\n",
       "           2.0574e-02, -1.6763e-02,  9.7249e-02, -6.6696e-02,  9.8612e-02,\n",
       "          -4.2549e-02,  6.9155e-02,  8.5157e-02,  8.2382e-03,  4.2510e-02,\n",
       "           8.6934e-02, -5.2244e-02,  4.2995e-02,  7.9226e-04,  9.4117e-02,\n",
       "           2.0082e-02,  3.2309e-02, -2.6058e-02,  2.8373e-02,  6.1814e-02,\n",
       "           8.5094e-02,  8.4737e-02, -3.6379e-02,  2.1418e-03, -3.6528e-02,\n",
       "          -3.8835e-02,  6.3051e-02,  8.7341e-02, -6.8799e-02,  3.0025e-02,\n",
       "           4.3818e-02, -3.1762e-02, -2.2445e-02, -8.0984e-02, -2.8654e-02,\n",
       "          -2.3033e-02, -9.6853e-02,  2.8655e-02, -8.8934e-02, -9.9852e-02,\n",
       "           4.4319e-02,  4.6130e-02, -3.4401e-02,  8.4120e-02,  1.5852e-02,\n",
       "          -4.4839e-02,  8.8951e-02,  3.3302e-02,  5.6824e-02, -5.2138e-02],\n",
       "         [ 9.5464e-02, -5.0091e-02, -6.3974e-02,  3.0316e-02, -2.3605e-02,\n",
       "           4.8583e-03, -8.5309e-02, -3.3212e-02, -3.6732e-02,  8.9653e-02,\n",
       "          -6.0382e-02, -3.7959e-02,  6.5700e-02,  7.2837e-02,  5.6438e-02,\n",
       "          -2.3690e-02, -1.2528e-02, -9.7297e-02,  3.7934e-02,  4.0853e-02,\n",
       "          -8.3235e-02,  3.4734e-03, -5.0569e-02,  8.6467e-02, -5.9083e-02,\n",
       "           5.4788e-02,  3.0693e-02,  8.6707e-02, -2.2889e-02,  9.0466e-03,\n",
       "          -7.9907e-02, -3.1048e-02, -4.3408e-02,  7.9436e-02,  8.1803e-02,\n",
       "           7.3995e-02,  3.6904e-02,  3.4022e-02, -2.4361e-03, -7.7985e-05,\n",
       "           3.9390e-02,  5.8565e-02, -8.7838e-02,  3.0875e-02,  9.8770e-02,\n",
       "           5.7732e-02,  4.8029e-02,  3.1522e-02, -3.2229e-02,  5.2418e-02,\n",
       "          -7.4209e-02,  4.5172e-02,  8.9109e-02, -5.1785e-02, -3.5580e-02,\n",
       "           7.0831e-02,  4.8215e-02,  3.9663e-02,  2.0354e-03, -6.6598e-02,\n",
       "           2.6465e-02, -1.6855e-02,  1.3096e-02,  7.8000e-02, -4.2335e-02,\n",
       "          -3.3228e-02,  9.9758e-02, -6.3933e-02, -9.4259e-02,  7.9603e-02,\n",
       "          -4.3506e-02, -8.2135e-02, -8.9158e-02,  1.3291e-03,  9.2405e-02,\n",
       "          -5.6207e-02,  5.9572e-02, -6.8383e-02, -9.0916e-03,  9.3870e-02,\n",
       "           5.0689e-02, -3.7089e-02,  8.4071e-03, -9.2977e-02, -5.4062e-02,\n",
       "          -8.1251e-02, -9.2452e-02, -7.4633e-02, -7.3133e-02, -9.1910e-02,\n",
       "          -8.0426e-02,  1.2256e-02,  5.4566e-02, -6.2138e-02,  5.0924e-02,\n",
       "          -9.5221e-02,  5.7469e-02,  5.7213e-02, -4.3057e-02,  9.3194e-02],\n",
       "         [ 9.9461e-02,  9.8902e-02,  2.5758e-02, -3.4573e-02,  5.8607e-02,\n",
       "           5.4556e-03, -5.3321e-02, -6.3721e-02, -6.5014e-02,  5.6422e-02,\n",
       "          -1.6989e-04,  3.6049e-02,  3.4271e-02,  9.5014e-02,  8.5178e-02,\n",
       "          -1.8705e-02,  1.6455e-02, -5.4311e-02,  8.9893e-02, -6.4576e-02,\n",
       "           1.1236e-02, -3.8760e-02,  8.8916e-02,  9.7411e-02,  6.2156e-02,\n",
       "           5.2548e-02, -3.2204e-02, -5.0315e-02, -2.8687e-02,  7.7099e-02,\n",
       "           7.2371e-02,  9.4161e-02, -9.5342e-02, -3.8638e-02,  5.7343e-02,\n",
       "          -9.0903e-02,  3.5070e-02,  1.1113e-02, -4.8079e-02,  2.0887e-02,\n",
       "          -8.1260e-02,  1.1915e-03,  8.1456e-02,  3.9663e-02, -4.3747e-02,\n",
       "          -7.6349e-02,  2.2128e-02,  4.8741e-02,  7.9641e-02,  6.5394e-02,\n",
       "          -5.7206e-02,  5.6485e-02, -2.9498e-02,  5.3953e-02, -4.7388e-02,\n",
       "          -7.5952e-02, -7.7560e-02,  1.1641e-02, -5.4289e-02, -8.0778e-02,\n",
       "          -2.2664e-02,  2.1749e-02,  9.3130e-02, -8.1686e-02, -6.0750e-02,\n",
       "           6.5690e-02, -8.8715e-03, -9.2717e-02,  1.6877e-02,  7.2621e-02,\n",
       "           9.6883e-03, -2.9507e-02, -4.4745e-02,  2.1380e-03,  8.9168e-02,\n",
       "           2.4595e-02,  4.1388e-02,  2.7465e-02, -2.7060e-02, -9.5963e-02,\n",
       "           2.8773e-04,  1.9143e-02,  4.7176e-02, -4.4516e-02, -6.6642e-02,\n",
       "           5.6560e-02,  1.6631e-02,  4.3588e-02,  7.2351e-02,  9.4748e-02,\n",
       "          -2.0230e-02, -3.7013e-02, -8.2802e-03, -1.1061e-02,  9.2949e-02,\n",
       "          -1.9911e-02, -6.2965e-02,  2.4298e-02,  7.9283e-02, -6.3678e-02]],\n",
       "        requires_grad=True),\n",
       " Parameter containing:\n",
       " tensor([-0.0193,  0.0280, -0.0149,  0.0437,  0.0118,  0.0268, -0.0396, -0.0925,\n",
       "          0.0590, -0.0899], requires_grad=True)]"
      ]
     },
     "execution_count": 15,
     "metadata": {},
     "output_type": "execute_result"
    }
   ],
   "execution_count": 15
  },
  {
   "metadata": {
    "ExecuteTime": {
     "end_time": "2025-01-15T06:45:16.843551Z",
     "start_time": "2025-01-15T06:45:16.840756Z"
    }
   },
   "cell_type": "code",
   "source": "# model.state_dict()  # 这种方法用于保存模型参数，看能看见参数属于模型的哪一部分",
   "id": "b92d6efe048dedcc",
   "outputs": [],
   "execution_count": 16
  },
  {
   "metadata": {},
   "cell_type": "markdown",
   "source": "训练",
   "id": "4c99e597c1bfaf1c"
  },
  {
   "metadata": {},
   "cell_type": "markdown",
   "source": [
    "pytorch的训练需要自行实现，包括\n",
    "1. 定义损失函数\n",
    "2. 定义优化器\n",
    "3. 定义训练步\n",
    "4. 训练"
   ],
   "id": "5665fd5884b4af21"
  },
  {
   "metadata": {
    "ExecuteTime": {
     "end_time": "2025-01-15T06:45:16.846931Z",
     "start_time": "2025-01-15T06:45:16.843551Z"
    }
   },
   "cell_type": "code",
   "source": [
    "# 1. 定义损失函数，采用交叉熵损失\n",
    "# nn.CrossEntropyLoss() 是 PyTorch 提供的交叉熵损失函数\n",
    "# 它内部会先对模型的输出（logits）进行 softmax 操作，然后计算交叉熵损失\n",
    "# 适用于多分类问题\n",
    "loss_fct = nn.CrossEntropyLoss()\n",
    "\n",
    "# 2. 定义优化器，采用随机梯度下降（SGD）\n",
    "# torch.optim.SGD 是 PyTorch 提供的随机梯度下降优化器\n",
    "# 参数说明：\n",
    "# - model.parameters(): 需要优化的模型参数（即模型中的权重和偏置）\n",
    "# - lr=0.001: 学习率（learning rate），控制参数更新的步长\n",
    "# - momentum=0.9: 动量（momentum），加速梯度下降并减少震荡\n",
    "optimizer = torch.optim.SGD(model.parameters(), lr=0.001, momentum=0.9)"
   ],
   "id": "b11c02bade1253f8",
   "outputs": [],
   "execution_count": 17
  },
  {
   "metadata": {
    "ExecuteTime": {
     "end_time": "2025-01-15T06:45:16.877456Z",
     "start_time": "2025-01-15T06:45:16.846931Z"
    }
   },
   "cell_type": "code",
   "source": [
    "# 导入准确率计算函数\n",
    "from sklearn.metrics import accuracy_score\n",
    "\n",
    "# 使用 @torch.no_grad() 装饰器，禁止反向传播，节省内存\n",
    "@torch.no_grad()\n",
    "def evaluating(model, dataloader, loss_fct):\n",
    "    # 初始化列表，用于记录损失、预测值和真实标签\n",
    "    loss_list = []  # 记录每个批次的损失\n",
    "    pred_list = []  # 记录每个批次的预测值\n",
    "    label_list = []  # 记录每个批次的真实标签\n",
    "\n",
    "    # 遍历数据加载器中的每个批次\n",
    "    for datas, labels in dataloader:  # 假设 dataloader 有 10000 个样本，batch_size=32，则共有 312 个批次\n",
    "        # 将数据转移到设备（如 GPU）上\n",
    "        datas = datas.to(device)  # 将输入数据转移到 GPU\n",
    "        labels = labels.to(device)  # 将标签转移到 GPU\n",
    "\n",
    "        # 前向计算：通过模型获取 logits（未经过 softmax 的输出）\n",
    "        logits = model(datas)\n",
    "\n",
    "        # 计算损失：使用损失函数计算模型输出与真实标签之间的误差\n",
    "        loss = loss_fct(logits, labels)  # 验证集损失，loss 是一个标量值\n",
    "        loss_list.append(loss.item())  # 记录损失，将张量转换为 Python 数值\n",
    "\n",
    "        # 获取预测值：通过 argmax 找到 logits 中最大值的索引，即预测的类别\n",
    "        preds = logits.argmax(axis=-1)  # 验证集预测，返回每个样本的预测类别索引\n",
    "        # print(preds)  # 可以打印预测值以调试\n",
    "\n",
    "        # 将预测值和真实标签从 GPU 转移到 CPU，并转换为 NumPy 数组，最后转换为列表\n",
    "        pred_list.extend(preds.cpu().numpy().tolist())  # 将 PyTorch 张量转换为 NumPy 数组，再转换为列表\n",
    "        label_list.extend(labels.cpu().numpy().tolist())  # 同上\n",
    "\n",
    "    # 计算准确率：使用 sklearn 的 accuracy_score 函数计算预测值与真实标签的准确率\n",
    "    acc = accuracy_score(label_list, pred_list)  # 计算准确率\n",
    "\n",
    "    # 返回平均损失和准确率\n",
    "    return np.mean(loss_list), acc  # 返回所有批次的平均损失和准确率"
   ],
   "id": "b22df24ad52afef9",
   "outputs": [],
   "execution_count": 18
  },
  {
   "metadata": {
    "ExecuteTime": {
     "end_time": "2025-01-15T06:47:46.630100Z",
     "start_time": "2025-01-15T06:45:16.877456Z"
    }
   },
   "cell_type": "code",
   "source": [
    "# 训练函数\n",
    "def training(model, train_loader, val_loader, epoch, loss_fct, optimizer, eval_step=500):\n",
    "    # 初始化记录字典，用于保存训练和验证过程中的损失和准确率\n",
    "    record_dict = {\n",
    "        \"train\": [],  # 记录训练集的信息\n",
    "        \"val\": []     # 记录验证集的信息\n",
    "    }\n",
    "    \n",
    "    global_step = 0  # 全局步数，用于记录训练的进度\n",
    "    model.train()    # 将模型设置为训练模式\n",
    "\n",
    "    # 使用 tqdm 创建一个进度条，总长度为 epoch * len(train_loader)\n",
    "    with tqdm(total=epoch * len(train_loader)) as pbar:  # 60000/32=1875，20个epoch的总步数为1875*20\n",
    "        for epoch_id in range(epoch):  # 遍历每个epoch\n",
    "            # 训练阶段\n",
    "            for datas, labels in train_loader:  # 遍历训练集的每个批次，60000/32=1875个批次\n",
    "                datas = datas.to(device)  # 将输入数据转移到GPU，形状为 [batch_size, 1, 28, 28]\n",
    "                labels = labels.to(device)  # 将标签转移到GPU，形状为 [batch_size]\n",
    "\n",
    "                # 清空梯度\n",
    "                optimizer.zero_grad()\n",
    "\n",
    "                # 模型前向计算，获取 logits（未经过 softmax 的输出）\n",
    "                logits = model(datas)\n",
    "\n",
    "                # 计算损失\n",
    "                loss = loss_fct(logits, labels)\n",
    "\n",
    "                # 反向传播，计算梯度\n",
    "                loss.backward()  # loss 对模型参数求导\n",
    "\n",
    "                # 更新模型参数\n",
    "                optimizer.step()  # 使用优化器更新模型参数（权重和偏置）\n",
    "\n",
    "                # 获取预测值\n",
    "                preds = logits.argmax(axis=-1)  # 对 logits 进行 argmax 操作，获取预测类别索引\n",
    "\n",
    "                # 计算准确率\n",
    "                acc = accuracy_score(labels.cpu().numpy(), preds.cpu().numpy())  # 将标签和预测值转移到 CPU 并计算准确率\n",
    "\n",
    "                # 将损失转移到 CPU 并转换为 Python 数值\n",
    "                loss = loss.cpu().item()\n",
    "\n",
    "                # 记录训练信息\n",
    "                record_dict[\"train\"].append({\n",
    "                    \"loss\": loss,  # 当前批次的损失\n",
    "                    \"acc\": acc,    # 当前批次的准确率\n",
    "                    \"step\": global_step  # 当前全局步数\n",
    "                })\n",
    "\n",
    "                # 每隔 eval_step 步进行一次验证\n",
    "                if global_step % eval_step == 0:\n",
    "                    model.eval()  # 将模型设置为评估模式\n",
    "                    # 调用 evaluating 函数计算验证集的损失和准确率\n",
    "                    val_loss, val_acc = evaluating(model, val_loader, loss_fct)\n",
    "                    # 记录验证信息\n",
    "                    record_dict[\"val\"].append({\n",
    "                        \"loss\": val_loss,  # 验证集的损失\n",
    "                        \"acc\": val_acc,    # 验证集的准确率\n",
    "                        \"step\": global_step  # 当前全局步数\n",
    "                    })\n",
    "                    model.train()  # 将模型重新设置为训练模式\n",
    "\n",
    "                # 更新全局步数\n",
    "                global_step += 1\n",
    "\n",
    "                # 更新进度条\n",
    "                pbar.update(1)  # 进度条前进一步\n",
    "                pbar.set_postfix({\"epoch\": epoch_id})  # 在进度条中显示当前 epoch\n",
    "\n",
    "    # 返回记录字典\n",
    "    return record_dict\n",
    "\n",
    "\n",
    "# 设置训练的 epoch 数\n",
    "epoch = 20  # 可以改为 40 或其他值\n",
    "\n",
    "# 将模型转移到 GPU\n",
    "model = model.to(device)\n",
    "\n",
    "# 调用训练函数，开始训练\n",
    "record = training(model, train_loader, val_loader, epoch, loss_fct, optimizer, eval_step=1000)"
   ],
   "id": "448c273bcfd568ef",
   "outputs": [
    {
     "data": {
      "text/plain": [
       "  0%|          | 0/37500 [00:00<?, ?it/s]"
      ],
      "application/vnd.jupyter.widget-view+json": {
       "version_major": 2,
       "version_minor": 0,
       "model_id": "e077ac85be854343b5d0cd2c097d8528"
      }
     },
     "metadata": {},
     "output_type": "display_data"
    }
   ],
   "execution_count": 19
  },
  {
   "metadata": {
    "ExecuteTime": {
     "end_time": "2025-01-15T06:47:46.635085Z",
     "start_time": "2025-01-15T06:47:46.630100Z"
    }
   },
   "cell_type": "code",
   "source": "record[\"train\"][-5:]",
   "id": "3297b3d4f8c9f99b",
   "outputs": [
    {
     "data": {
      "text/plain": [
       "[{'loss': 0.33762267231941223, 'acc': 0.875, 'step': 37495},\n",
       " {'loss': 0.35667529702186584, 'acc': 0.9375, 'step': 37496},\n",
       " {'loss': 0.20788542926311493, 'acc': 0.9375, 'step': 37497},\n",
       " {'loss': 0.4300464689731598, 'acc': 0.78125, 'step': 37498},\n",
       " {'loss': 0.31344711780548096, 'acc': 0.875, 'step': 37499}]"
      ]
     },
     "execution_count": 20,
     "metadata": {},
     "output_type": "execute_result"
    }
   ],
   "execution_count": 20
  },
  {
   "metadata": {
    "ExecuteTime": {
     "end_time": "2025-01-15T06:47:46.639894Z",
     "start_time": "2025-01-15T06:47:46.636082Z"
    }
   },
   "cell_type": "code",
   "source": "record[\"val\"][-5:]",
   "id": "a1599e611b998e08",
   "outputs": [
    {
     "data": {
      "text/plain": [
       "[{'loss': np.float64(0.3564875004723811), 'acc': 0.8726, 'step': 33000},\n",
       " {'loss': np.float64(0.35596657625307293), 'acc': 0.8728, 'step': 34000},\n",
       " {'loss': np.float64(0.35776125546842336), 'acc': 0.8707, 'step': 35000},\n",
       " {'loss': np.float64(0.3588377846220431), 'acc': 0.8699, 'step': 36000},\n",
       " {'loss': np.float64(0.34980692187199197), 'acc': 0.875, 'step': 37000}]"
      ]
     },
     "execution_count": 21,
     "metadata": {},
     "output_type": "execute_result"
    }
   ],
   "execution_count": 21
  },
  {
   "metadata": {
    "ExecuteTime": {
     "end_time": "2025-01-15T06:47:46.739008Z",
     "start_time": "2025-01-15T06:47:46.640893Z"
    }
   },
   "cell_type": "code",
   "source": [
    "# 画线要注意的是损失是不一定在零到1之间的\n",
    "def plot_learning_curves(record_dict, sample_step=1000):\n",
    "    # 构建 DataFrame\n",
    "    train_df = pd.DataFrame(record_dict[\"train\"]).set_index(\"step\").iloc[::sample_step]\n",
    "    val_df = pd.DataFrame(record_dict[\"val\"]).set_index(\"step\")\n",
    "    last_step = train_df.index[-1]  # 获取最后一步的步数\n",
    "\n",
    "    # 打印训练和验证的准确率\n",
    "    print(train_df['acc'])\n",
    "    print(val_df['acc'])\n",
    "\n",
    "    # 绘制图形\n",
    "    fig_num = len(train_df.columns)  # 画几张图, 分别是损失和准确率\n",
    "    fig, axs = plt.subplots(1, fig_num, figsize=(5 * fig_num, 5))\n",
    "    \n",
    "    for idx, item in enumerate(train_df.columns):\n",
    "        # 绘制训练和验证曲线\n",
    "        axs[idx].plot(train_df.index, train_df[item], label=f\"train_{item}\")\n",
    "        axs[idx].plot(val_df.index, val_df[item], label=f\"val_{item}\")\n",
    "        axs[idx].grid()  # 显示网格\n",
    "        axs[idx].legend()  # 显示图例\n",
    "        axs[idx].set_xticks(range(0, train_df.index[-1], 5000))  # 设置x轴刻度\n",
    "        axs[idx].set_xticklabels(map(lambda x: f\"{int(x/1000)}k\", range(0, last_step, 5000)))  # 设置x轴标签\n",
    "        axs[idx].set_xlabel(\"step\")  # 设置x轴标签为“step”\n",
    "    \n",
    "    plt.show()  # 显示图形\n",
    "\n",
    "# 调用函数绘制学习曲线\n",
    "plot_learning_curves(record)"
   ],
   "id": "cb5aa076ed2d1fb1",
   "outputs": [
    {
     "name": "stdout",
     "output_type": "stream",
     "text": [
      "step\n",
      "0        0.09375\n",
      "1000     0.78125\n",
      "2000     0.71875\n",
      "3000     0.68750\n",
      "4000     0.81250\n",
      "5000     0.87500\n",
      "6000     0.78125\n",
      "7000     0.84375\n",
      "8000     0.87500\n",
      "9000     0.87500\n",
      "10000    0.75000\n",
      "11000    0.87500\n",
      "12000    0.78125\n",
      "13000    0.78125\n",
      "14000    0.87500\n",
      "15000    0.84375\n",
      "16000    0.90625\n",
      "17000    0.87500\n",
      "18000    0.81250\n",
      "19000    0.87500\n",
      "20000    0.84375\n",
      "21000    0.81250\n",
      "22000    0.96875\n",
      "23000    0.87500\n",
      "24000    0.84375\n",
      "25000    0.93750\n",
      "26000    0.96875\n",
      "27000    0.87500\n",
      "28000    0.93750\n",
      "29000    0.87500\n",
      "30000    0.87500\n",
      "31000    0.93750\n",
      "32000    0.87500\n",
      "33000    0.87500\n",
      "34000    0.84375\n",
      "35000    0.93750\n",
      "36000    0.84375\n",
      "37000    0.87500\n",
      "Name: acc, dtype: float64\n",
      "step\n",
      "0        0.1177\n",
      "1000     0.6926\n",
      "2000     0.7785\n",
      "3000     0.8043\n",
      "4000     0.8144\n",
      "5000     0.8174\n",
      "6000     0.8186\n",
      "7000     0.8316\n",
      "8000     0.8311\n",
      "9000     0.8349\n",
      "10000    0.8260\n",
      "11000    0.8373\n",
      "12000    0.8455\n",
      "13000    0.8482\n",
      "14000    0.8478\n",
      "15000    0.8513\n",
      "16000    0.8516\n",
      "17000    0.8301\n",
      "18000    0.8429\n",
      "19000    0.8592\n",
      "20000    0.8521\n",
      "21000    0.8625\n",
      "22000    0.8582\n",
      "23000    0.8624\n",
      "24000    0.8607\n",
      "25000    0.8684\n",
      "26000    0.8636\n",
      "27000    0.8648\n",
      "28000    0.8675\n",
      "29000    0.8689\n",
      "30000    0.8710\n",
      "31000    0.8711\n",
      "32000    0.8676\n",
      "33000    0.8726\n",
      "34000    0.8728\n",
      "35000    0.8707\n",
      "36000    0.8699\n",
      "37000    0.8750\n",
      "Name: acc, dtype: float64\n"
     ]
    },
    {
     "data": {
      "text/plain": [
       "<Figure size 1000x500 with 2 Axes>"
      ],
      "image/png": "[encoded data removed]"
     },
     "metadata": {},
     "output_type": "display_data"
    }
   ],
   "execution_count": 22
  },
  {
   "metadata": {
    "ExecuteTime": {
     "end_time": "2025-01-15T06:47:47.233642Z",
     "start_time": "2025-01-15T06:47:46.739008Z"
    }
   },
   "cell_type": "code",
   "source": [
    "# dataload for evaluating\n",
    "\n",
    "model.eval() # 进入评估模式\n",
    "loss, acc = evaluating(model, val_loader, loss_fct)\n",
    "print(f\"loss:     {loss:.4f}\\naccuracy: {acc:.4f}\")"
   ],
   "id": "72b823edab292648",
   "outputs": [
    {
     "name": "stdout",
     "output_type": "stream",
     "text": [
      "loss:     0.3507\n",
      "accuracy: 0.8753\n"
     ]
    }
   ],
   "execution_count": 23
  }
 ],
 "metadata": {
  "kernelspec": {
   "display_name": "Python 3",
   "language": "python",
   "name": "python3"
  },
  "language_info": {
   "codemirror_mode": {
    "name": "ipython",
    "version": 2
   },
   "file_extension": ".py",
   "mimetype": "text/x-python",
   "name": "python",
   "nbconvert_exporter": "python",
   "pygments_lexer": "ipython2",
   "version": "2.7.6"
  }
 },
 "nbformat": 4,
 "nbformat_minor": 5
}
