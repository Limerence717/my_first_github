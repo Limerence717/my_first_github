{
 "cells": [
  {
   "cell_type": "markdown",
   "id": "f2965b709f04f3e6",
   "metadata": {},
   "source": [
    "### homework2：通过subword实现电影情感分类预测"
   ]
  },
  {
   "cell_type": "code",
   "execution_count": 1,
   "id": "ab35f7ce78f14b8f",
   "metadata": {
    "execution": {
     "iopub.execute_input": "2025-01-24T12:09:50.046364Z",
     "iopub.status.busy": "2025-01-24T12:09:50.046029Z",
     "iopub.status.idle": "2025-01-24T12:09:54.901060Z",
     "shell.execute_reply": "2025-01-24T12:09:54.900587Z",
     "shell.execute_reply.started": "2025-01-24T12:09:50.046336Z"
    },
    "tags": []
   },
   "outputs": [
    {
     "name": "stderr",
     "output_type": "stream",
     "text": [
      "/usr/local/lib/python3.10/site-packages/tqdm/auto.py:21: TqdmWarning: IProgress not found. Please update jupyter and ipywidgets. See https://ipywidgets.readthedocs.io/en/stable/user_install.html\n",
      "  from .autonotebook import tqdm as notebook_tqdm\n"
     ]
    },
    {
     "name": "stdout",
     "output_type": "stream",
     "text": [
      "sys.version_info(major=3, minor=10, micro=14, releaselevel='final', serial=0)\n",
      "matplotlib 3.10.0\n",
      "numpy 1.26.4\n",
      "pandas 2.2.3\n",
      "sklearn 1.6.0\n",
      "torch 2.5.1+cu124\n",
      "cuda:0\n"
     ]
    }
   ],
   "source": [
    "import matplotlib as mpl\n",
    "import matplotlib.pyplot as plt\n",
    "%matplotlib inline\n",
    "import numpy as np\n",
    "import sklearn\n",
    "import pandas as pd\n",
    "import os\n",
    "import sys\n",
    "import time\n",
    "from tqdm.auto import tqdm\n",
    "import torch\n",
    "import torch.nn as nn\n",
    "import torch.nn.functional as F\n",
    "\n",
    "print(sys.version_info)\n",
    "for module in mpl, np, pd, sklearn, torch:\n",
    "    print(module.__name__, module.__version__)\n",
    "\n",
    "device = torch.device(\"cuda:0\") if torch.cuda.is_available() else torch.device(\"cpu\")\n",
    "print(device)\n",
    "\n",
    "seed = 42\n",
    "torch.manual_seed(seed)\n",
    "torch.cuda.manual_seed_all(seed)\n",
    "np.random.seed(seed)"
   ]
  },
  {
   "cell_type": "markdown",
   "id": "30992cd0435c98bd",
   "metadata": {},
   "source": [
    "准备数据"
   ]
  },
  {
   "cell_type": "markdown",
   "id": "967b994b31bc9b06",
   "metadata": {},
   "source": [
    "这里使用subword分词，我们使用已经清洗好的数据集，可以从[此处](https://www.kaggleusercontent.com/kf/98352223/eyJhbGciOiJkaXIiLCJlbmMiOiJBMTI4Q0JDLUhTMjU2In0..nKt8lrIW5ej5QJQVpOWuqQ.oLIgiLMONU5Gpj_maVudRJa55NSOCILxk4JNZhvuXmeDBR-oG0uQm7bDHBfSwZRGvOBHQTsRV308iNP80btfwMinQ7yvJNt-GwdQF4XR4DIsg-2CbEPYiMsi_NdbL0FmE9LYStKdxCWbrCZCCMrTmo5LxR1txwibXaSpeP5Inobhbez5zetZIRH210CBuX2JbpRc_DULQpazKbtFPitwyfktVmdG_syvVAU6Sk9b0r0_erYAgb_jkKXX1Mxo1KzWSKLcAvbmMIPcsUkx9PmeJDs_wopfsQsZ1h5jaQX4_l0CTZrEenP6lIPDxpTwXANqqdHspmZeeEIAThqCHC6sb5DxTvG89BwzY9rc53Aa0uX4V806wJVybnRXoaV65K4GqpjnxbBK0WC8G-2lNtrqFujE89KDXZjFPgyfOEj1QIu13oFNSjgs6o4VV1PdZOrhiNdSmjb44c22l_unOaFojzJgzcPxq9AG2lcmrOpdZ2qu1jjdwey-58TA2ZHNCo3XnjEe2n3ignpnbsdLFpo22O8QakSUHv91wuYDYdNi3AiSmltL_k2ChuKfJ0G8kATpLe4k8wA26sO4GMXg4HImOr3b4aDVEIWXdApHP0ecFKs6ELTo8O7X-TK8Jvbua7e6qpDfDc-r_cD73fVSgSek5yNmKQMBzuVcjkprXmcxICQ.kV1b4N1s64NERKnt4zwQgQ/imdb_processed.csv)下载，分词使用 [subword-nmt](https://github.com/rsennrich/subword-nmt)"
   ]
  },
  {
   "cell_type": "code",
   "execution_count": 2,
   "id": "7d61d4a4588ed318",
   "metadata": {
    "execution": {
     "iopub.execute_input": "2025-01-24T12:09:54.902189Z",
     "iopub.status.busy": "2025-01-24T12:09:54.901891Z",
     "iopub.status.idle": "2025-01-24T12:09:55.240436Z",
     "shell.execute_reply": "2025-01-24T12:09:55.239999Z",
     "shell.execute_reply.started": "2025-01-24T12:09:54.902169Z"
    },
    "tags": []
   },
   "outputs": [
    {
     "name": "stdout",
     "output_type": "stream",
     "text": [
      "(50000, 2)\n"
     ]
    }
   ],
   "source": [
    "cleaned_df = pd.read_csv(\"imdb_processed.csv\")\n",
    "print(cleaned_df.shape)  # (50000, 2), 50000条评论, 2列\n",
    "\n",
    "# 随机打乱数据，取训练集和测试集\n",
    "np.random.seed(seed)  #随机\n",
    "cleaned_df = cleaned_df.sample(frac=1).reset_index(drop=True)  #打乱，frac=1表示全部打乱（frac是比例，reset_index(drop=True)是重新索引\n",
    "with open(\"imdb_train.txt\", \"w\", encoding=\"utf8\") as file:  # 保存训练集\n",
    "    for line in cleaned_df.processed.values[:25000]:  #只保存了processed列，即评论文本，没有保存label列\n",
    "        file.write(line.lower() + \"\\n\")  #变为小写，token数量少一些\n",
    "\n",
    "with open(\"imdb_test.txt\", \"w\", encoding=\"utf8\") as file:  # 保存测试集\n",
    "    for line in cleaned_df.processed.values[25000:]:\n",
    "        file.write(line.lower() + \"\\n\")"
   ]
  },
  {
   "cell_type": "code",
   "execution_count": 8,
   "id": "9ecc714e-34ed-49bf-906d-70ef43c8cc88",
   "metadata": {
    "execution": {
     "iopub.execute_input": "2025-01-24T12:14:15.176812Z",
     "iopub.status.busy": "2025-01-24T12:14:15.176497Z",
     "iopub.status.idle": "2025-01-24T12:14:19.047039Z",
     "shell.execute_reply": "2025-01-24T12:14:19.046505Z",
     "shell.execute_reply.started": "2025-01-24T12:14:15.176791Z"
    },
    "tags": []
   },
   "outputs": [
    {
     "name": "stdout",
     "output_type": "stream",
     "text": [
      "Looking in indexes: https://mirrors.cloud.aliyuncs.com/pypi/simple\n",
      "Collecting subword-nmt\n",
      "  Downloading https://mirrors.cloud.aliyuncs.com/pypi/packages/1b/9a/488ecac22d78eb429928b9ee4f6b6c692e116ca4bd43ef42a475698def32/subword_nmt-0.3.8-py3-none-any.whl (27 kB)\n",
      "Collecting mock (from subword-nmt)\n",
      "  Downloading https://mirrors.cloud.aliyuncs.com/pypi/packages/6b/20/471f41173930550f279ccb65596a5ac19b9ac974a8d93679bcd3e0c31498/mock-5.1.0-py3-none-any.whl (30 kB)\n",
      "Requirement already satisfied: tqdm in /usr/local/lib/python3.10/site-packages (from subword-nmt) (4.67.1)\n",
      "Installing collected packages: mock, subword-nmt\n",
      "Successfully installed mock-5.1.0 subword-nmt-0.3.8\n",
      "\u001b[33mWARNING: Running pip as the 'root' user can result in broken permissions and conflicting behaviour with the system package manager. It is recommended to use a virtual environment instead: https://pip.pypa.io/warnings/venv\u001b[0m\u001b[33m\n",
      "\u001b[0m\n",
      "\u001b[1m[\u001b[0m\u001b[34;49mnotice\u001b[0m\u001b[1;39;49m]\u001b[0m\u001b[39;49m A new release of pip is available: \u001b[0m\u001b[31;49m23.3.2\u001b[0m\u001b[39;49m -> \u001b[0m\u001b[32;49m24.3.1\u001b[0m\n",
      "\u001b[1m[\u001b[0m\u001b[34;49mnotice\u001b[0m\u001b[1;39;49m]\u001b[0m\u001b[39;49m To update, run: \u001b[0m\u001b[32;49mpip install --upgrade pip\u001b[0m\n"
     ]
    }
   ],
   "source": [
    "# !pip install subword-nmt"
   ]
  },
  {
   "cell_type": "code",
   "execution_count": 9,
   "id": "39a0518f34cdbaee",
   "metadata": {
    "execution": {
     "iopub.execute_input": "2025-01-24T12:14:21.449958Z",
     "iopub.status.busy": "2025-01-24T12:14:21.449616Z",
     "iopub.status.idle": "2025-01-24T12:14:37.168072Z",
     "shell.execute_reply": "2025-01-24T12:14:37.167546Z",
     "shell.execute_reply.started": "2025-01-24T12:14:21.449937Z"
    },
    "tags": []
   },
   "outputs": [
    {
     "name": "stdout",
     "output_type": "stream",
     "text": [
      "100%|#####################################| 8000/8000 [00:07<00:00, 1038.26it/s]\n"
     ]
    }
   ],
   "source": [
    "!subword-nmt learn-joint-bpe-and-vocab -i ./imdb_train.txt -o ./imdb_bpe_code --write-vocabulary ./imdb_bpe_vocab -s 8000"
   ]
  },
  {
   "cell_type": "code",
   "execution_count": 10,
   "id": "e286947d48073563",
   "metadata": {
    "execution": {
     "iopub.execute_input": "2025-01-24T12:14:38.767111Z",
     "iopub.status.busy": "2025-01-24T12:14:38.766780Z",
     "iopub.status.idle": "2025-01-24T12:14:49.236286Z",
     "shell.execute_reply": "2025-01-24T12:14:49.235707Z",
     "shell.execute_reply.started": "2025-01-24T12:14:38.767090Z"
    },
    "tags": []
   },
   "outputs": [],
   "source": [
    "# 应用bpe分词,-c 指定 BPE 编码的配置文件\n",
    "!subword-nmt apply-bpe -c ./imdb_bpe_code -i ./imdb_train.txt -o ./imdb_train_bpe.txt\n",
    "!subword-nmt apply-bpe -c ./imdb_bpe_code -i ./imdb_test.txt -o ./imdb_test_bpe.txt"
   ]
  },
  {
   "cell_type": "code",
   "execution_count": 11,
   "id": "a1ec94756a22f43c",
   "metadata": {
    "execution": {
     "iopub.execute_input": "2025-01-24T12:14:57.290940Z",
     "iopub.status.busy": "2025-01-24T12:14:57.290625Z",
     "iopub.status.idle": "2025-01-24T12:14:57.406839Z",
     "shell.execute_reply": "2025-01-24T12:14:57.406351Z",
     "shell.execute_reply.started": "2025-01-24T12:14:57.290918Z"
    },
    "tags": []
   },
   "outputs": [
    {
     "name": "stdout",
     "output_type": "stream",
     "text": [
      "i really liked sum@@ mer@@ sla@@ m due look a@@ ren@@ a , cur@@ tain look overall interesting reason . anyways , could one best sum@@ mer@@ sla@@ m ever w@@ w@@ f le@@ x lu@@ ger main event yo@@ ko@@ z@@ un@@ a , time ok huge fat man v strong man i glad time changed . it terrible main event like every match lu@@ ger terrible . other match card ra@@ z@@ or ra@@ mon v ted di@@ bi@@ ase , ste@@ in@@ er brothers v hea@@ ven@@ ly bo@@ dies , sha@@ wn micha@@ els v cur@@ t h@@ ening , event sha@@ wn named big monster body guard die@@ sel , irs v - - kid , bre@@ t hart first take do@@ ink take jerry law@@ ler stuff har@@ ts law@@ ler always interesting , lu@@ d@@ vi@@ g bor@@ ga destroyed marty jan@@ ne@@ tty , under@@ taker took giant gon@@ z@@ ale@@ z another terrible match , the smoking g@@ unn@@ s tat@@ an@@ ka took ba@@ m ba@@ m bi@@ ge@@ low head@@ shr@@ in@@ kers , yo@@ ko@@ z@@ un@@ a def@@ ended world title le@@ x lu@@ ger match boring terrible ending . however deserves\n",
      "not many television show appeal quite many different kind fan like far@@ scape . . . i know youn@@ g@@ ster year old fan male female many different country think ad@@ ore t . v miniseries . it element found almost every show t . v , character driven drama could australian soap opera yet episode science fact fiction would give even har@@ di@@ est tre@@ k@@ kie run money brain@@ ben@@ der sta@@ ke ! wor@@ m@@ hole theory , time travel true equ@@ a@@ tional form . . . magnificent . it embr@@ ace culture ma@@ p possibility endless multiple star therefore thousand planet choose . with broad scope would expected nothing would able keep illu@@ sion long , far@@ scape really come element . . . it succeeds others failed , especially like star trek universe practically zero ka@@ os element ! they ran idea pretty quickly kept re@@ ha@@ shing ! over course season manage keep audience attention using good continuity constant character evol@@ ution multiple thread every episode unique personal touch camera specific certain character group within whole . this structure allows extremely large area subject matter loy@@ alty for@@ ged broken many way many many issue . i happened see pilot premiere passing keep tun@@ ing see cri@@ ch@@ ton would ever get girl , seeing television i deli@@ ghted see available dvd i admit thing kept s@@ ane whilst i hour night shift developed chron@@ ic in@@ som@@ nia . . . far@@ scape thing get extremely long night . . . do fav@@ our watch pilot see i mean . . . far@@ scape com@@ et\n",
      "the film quickly get major chase scene ever increa@@ sing destruction . the first really bad thing guy hi@@ jac@@ king steven seagal would beaten pulp seagal driving , probably would ended whole premise movie . it seems like decided make kind change movie plot , plan enjoy action , expect coherent plot . turn sense logic may , re@@ duce chance getting head@@ ache . i give hope steven seagal trying move back towards type character portrayed popular movie .\n",
      "jane austen would definitely appro@@ ve one ! g@@ wy@@ ne@@ th pal@@ tro@@ w awesome job capturing attitude emma . she funny without exce@@ ssively silly , yet eleg@@ ant . she put convincing british accent british , maybe i best judge , fooled . . . also excellent sli@@ ding do@@ ors . . . i sometimes forget american ! . also brilliant jeremy north@@ am sophi@@ e th@@ omp@@ son ph@@ y@@ lli@@ da law emma th@@ omp@@ son sister mother bates woman . they nearly steal show . . . ms . law even line ! highly recommended .\n",
      "expec@@ ta@@ tions somewhat high i went see movie , i thought steve care@@ ll could wrong coming great movie like an@@ chor@@ man , the year - old virgin , little miss sun@@ shine . boy , i wrong . i start right movie certain point steve care@@ ll allowed steve care@@ ll . there handful moment film made laugh , due almost entirely given wi@@ ggle - room thing . he undoubtedly talented individual , shame sig@@ ned turned , opinion , total train - wreck . with way , i discus went horri@@ f@@ y@@ ingly wrong . the film begin dan burns , wi@@ do@@ wer three girl considered na@@ tionally syn@@ di@@ cated advice colum@@ n . he pre@@ pa@@ res girl family reunion , extended relative ga@@ ther time . the family high at@@ op list thing make awful movie . no family beha@@ ves like . it almost tran@@ spor@@ ted pleasan@@ t@@ ville leave bea@@ ver . they caricature think family . it reach point become obnoxious simply frustrating . touch football , cro@@ ss@@ word puzzle competition , family bow@@ ling , talent show are not how actual people behave . it almost sick@@ ening . another big flaw woman care@@ ll supposed falling . obser@@ ving first scene steve care@@ ll like watching stro@@ ke victim trying re@@ hab@@ il@@ it@@ ated . what i imagine supposed unique original woman come mildly retarded . it make think movie taking place another planet . i left theater wondering i saw . after thinking , i think much .\n",
      "i watched movie fairly regular basis life , never get old . for sni@@ de remark insult mostly david spa@@ de , tommy boy giant heart . and keep movie funny year . tommy cal@@ la@@ han chris far@@ ley son big tom cal@@ la@@ han brian den@@ ne@@ h@@ y , master car part sal@@ es@@ man , ri@@ dden life . but died dy wedding day , tommy learns company deb@@ t , bought ray z@@ al@@ in@@ sky dan ak@@ roy@@ d , owner huge car part company . so order save company , tommy go road sell company new bra@@ ke pa@@ d . along ride , though choice , richard hay@@ den david spa@@ de former cla@@ ss@@ mate tommy big tom right - hand man . the movie ride chemistry two sn@@ l star real - life best friend chris far@@ ley david spa@@ de . the duo enough comic energy going power world . it big , dumb guy versus smart little guy . it work , scene un@@ forget@@ tably funny . far@@ ley spa@@ de actually decent dramatic actor well . although film primarily comedy , fair share drama , spa@@ de especially far@@ ley good making audience laugh . forgive , i talk chris far@@ ley little . i read biography the chris far@@ ley show a biography three acts , anyone care , understanding chris real life made movie special . chris far@@ ley genuinely good person strugg@@ led , ultimately failed con@@ qu@@ er addic@@ tion . although first movie major role , best film . it really showed , much talent . knowing chris story add another layer movie , although make le funny . far@@ ley spa@@ de matched good screen cast . rob lo@@ we suit@@ ably sli@@ my tommy new brother , bo derek solid step - mother . brian den@@ ne@@ h@@ y great big tom . den@@ ne@@ h@@ y make easy believe father son . big tom crazy son , although smar@@ ter mature . dan ak@@ roy@@ d give one best performance z@@ al@@ in@@ sky , giving tommy hard truth behind advertising . julie warner also good tommy love interest , michelle . for , peter se@@ gal one great comedy director . he keep pace quick ener@@ ge@@ tic , importantly , know make comedy funny . he be@@ la@@ bor joke , understand@@ s funny actor know allows . but se@@ gal go step . he give tommy boy friendly , almost nostal@@ gic tone tu@@ g heart@@ str@@ ings genuinely ti@@ ckle f@@ unn@@ y@@ bone . cri@@ tics like tommy boy . shame . a movie super sophisticated sub@@ ver@@ sively intellectual funny god for@@ bid far@@ ley spa@@ de forced mu@@ ted comedy la the office . this great movie one - time favorite .\n",
      "for story hope high@@ ligh@@ ted tragic reality youth face . fav@@ ela rising draw one scary , un@@ safe un@@ fair world show beautiful color moving music one man dedicated friend choose accept world change action art . an entertaining , interesting , emotional , aes@@ the@@ tically beautiful film . i showed film numerous high school student well live neighborhood poverty gun violence en@@ amo@@ red anderson , protagonist . i recommend film age due subtitle image death background .\n",
      "okay , i get pur@@ gatory thing first time i watched episode . it seemed like something significant going i put finger . this time co@@ sta me@@ sa fire tv really caught attention - helped i writing ess@@ ay inf@@ er@@ no ! but let see ha@@ s@@ n t discu@@ ssed yet . . . a tw@@ op review mentioned tony flight sta@@ ir go broken elev@@ ator . yeah , significant number lot reason , especially religious , one ya . on hun@@ ch i con@@ sulted wi@@ ki@@ pe@@ dia , guess dan@@ te divi@@ ded level ? pur@@ g@@ at@@ ori@@ o . exclu@@ ding ante - pur@@ gatory para@@ di@@ se . the stuff bottom sta@@ ir . . . tony get . on alle@@ ge@@ dly random mon@@ k - slap scene . as soon mon@@ k appeared , fit perfectly place tony trying get pur@@ gatory . you tell got worried christian commercial death , disease , sin came , getting desperate christian heaven looking kinda i@@ ffy . by time meet mon@@ k thinking hey maybe guy help ? sound like contem@@ pla@@ ting religion e . g . bud@@ d@@ h@@ ism wondering path could take sal@@ vation . not tony necessarily literally thinking becoming bud@@ d@@ hi@@ st , appears fin@@ ner@@ ty tried me@@ ssed . that slap face basically tell tony quick fix - , , suddenly embr@@ ace bud@@ d@@ h@@ ism get . tony initially concerned getting heaven . but con@@ ference en@@ tr@@ ance , realizes going easy . at first i saw name v . driver li@@ cen@@ se problem tony led sort double life , killing people sleeping around kept secret people . he feel free affair qu@@ as@@ i - mel@@ fi kevin fin@@ ner@@ ty . he figure can fool people k@@ f card , like hotel rec@@ ep@@ tion@@ ist , get pur@@ gatory . those helicopter - helicopter heaven ? - keeping track everything . after reading theory in@@ fin@@ ner@@ ty , though , seems like k@@ f identity remin@@ der in@@ fin@@ ite different path tony could taken life . possibly along car joke involving in@@ fin@@ it@@ i made sense otherwise . a@@ a@@ and point brain fi@@ zz@@ le .\n",
      "i disappointed series . it lot cool graphic . the level detail went minimal , i always got feeling audience pat@@ ron@@ ized - - lot seemed this extremely cool going explain detail get anyway . let show pretty picture entertain . the host would drop interesting - sounding word spar@@ tic@@ les super - sym@@ me@@ try without attempt explaining . we look wi@@ ki@@ pe@@ dia . furthermore , i know quite bit super@@ string la@@ y@@ man i found explanation convoluted could much better . they could chosen much better example explain concept , instead , example used confusing ob@@ scu@@ red subject . ad@@ di@@ tionally , i got sick repeti@@ ti@@ veness . they could easily con@@ den@@ sed series one episode cut repeti@@ tion . they must shown clip qu@@ an@@ tum ca@@ f time . the host kept saying thing . i remember many time said the universe made tiny little vi@@ bra@@ ting string . it like trying brain@@ wa@@ sh u accep@@ ting super@@ string best thing since sli@@ ced b@@ read . finally , show ended unpleasant sense competition fer@@ mil@@ a@@ b cer@@ n , clearly bi@@ ased towards fer@@ mil@@ a@@ b . this supposed edu@@ cational program qu@@ an@@ tum physi@@ c , whether us better europe vice ver@@ sa ! i also felt part pat@@ ron@@ i@@ zing - - audi@@ en@@ ces need see conflict remain interested . please . give little credit . overall , thumb -\n",
      "the first minute tin@@ sel@@ town finger te@@ e@@ tering remote , po@@ ised flick around watch something else . the premise two writer , luck , living self - stor@@ age - space bin mildly amusing , , painfully bland . the introduction character , played joe pan@@ to@@ li@@ ano - big deal movie guy , life park sleep la@@ v@@ atory , offered hope i decided give minute . and kri@@ sty s@@ wan@@ sons introduction bud@@ ding film director bor@@ der@@ line ny@@ mp@@ hom@@ ani@@ ac , added bit sp@@ ice . her solid acting performance raised presence beyond welcome eye - candy inclu@@ sion . ultimately , obvious low - budget impact film poorly shot scene , stu@@ t@@ tured pace slapstick hand@@ ling certain moment . some favourite movie time low budget , whi@@ th@@ nail i one also deal guy dream , luck . however , money , actor save tin@@ sel@@ town terrible movie archi@@ ve nu@@ dge could cult movie archi@@ ve . i laughed loud scene involving joe pan@@ to@@ li@@ ano character . in particular , pen@@ ultimate scene terribly clichd , still funny , rich - - scre@@ wed - character house , story un@@ ra@@ vel@@ s towards final moment . i see tin@@ sel@@ town great stage play film - maker best transla@@ te celluloid , simply work i laughed loud scene one liner , i think first minute du@@ lled sen@@ s expectation degree i would laughed anything . unless stuck no@@ vel@@ ty coffee coa@@ ster , pick see bar@@ gain bu@@ cket .\n"
     ]
    }
   ],
   "source": [
    "# 分词后的数据长什么样,与分词前imdb_train.txt进行对比来理解，@@ 是分词的标记，如果一个单词被分开，就会加上@@\n",
    "!head ./imdb_train_bpe.txt"
   ]
  },
  {
   "cell_type": "code",
   "execution_count": 12,
   "id": "d28149aadf832791",
   "metadata": {
    "execution": {
     "iopub.execute_input": "2025-01-24T12:15:03.060358Z",
     "iopub.status.busy": "2025-01-24T12:15:03.060035Z",
     "iopub.status.idle": "2025-01-24T12:15:03.066653Z",
     "shell.execute_reply": "2025-01-24T12:15:03.066209Z",
     "shell.execute_reply.started": "2025-01-24T12:15:03.060336Z"
    },
    "tags": []
   },
   "outputs": [
    {
     "data": {
      "text/html": [
       "<div>\n",
       "<style scoped>\n",
       "    .dataframe tbody tr th:only-of-type {\n",
       "        vertical-align: middle;\n",
       "    }\n",
       "\n",
       "    .dataframe tbody tr th {\n",
       "        vertical-align: top;\n",
       "    }\n",
       "\n",
       "    .dataframe thead th {\n",
       "        text-align: right;\n",
       "    }\n",
       "</style>\n",
       "<table border=\"1\" class=\"dataframe\">\n",
       "  <thead>\n",
       "    <tr style=\"text-align: right;\">\n",
       "      <th></th>\n",
       "      <th>processed</th>\n",
       "      <th>label</th>\n",
       "    </tr>\n",
       "  </thead>\n",
       "  <tbody>\n",
       "    <tr>\n",
       "      <th>0</th>\n",
       "      <td>I really liked Summerslam due look arena , cur...</td>\n",
       "      <td>1</td>\n",
       "    </tr>\n",
       "    <tr>\n",
       "      <th>1</th>\n",
       "      <td>Not many television show appeal quite many dif...</td>\n",
       "      <td>1</td>\n",
       "    </tr>\n",
       "    <tr>\n",
       "      <th>2</th>\n",
       "      <td>The film quickly get major chase scene ever in...</td>\n",
       "      <td>0</td>\n",
       "    </tr>\n",
       "    <tr>\n",
       "      <th>3</th>\n",
       "      <td>Jane Austen would definitely approve one ! Gwy...</td>\n",
       "      <td>1</td>\n",
       "    </tr>\n",
       "    <tr>\n",
       "      <th>4</th>\n",
       "      <td>Expectations somewhat high I went see movie , ...</td>\n",
       "      <td>0</td>\n",
       "    </tr>\n",
       "  </tbody>\n",
       "</table>\n",
       "</div>"
      ],
      "text/plain": [
       "                                           processed  label\n",
       "0  I really liked Summerslam due look arena , cur...      1\n",
       "1  Not many television show appeal quite many dif...      1\n",
       "2  The film quickly get major chase scene ever in...      0\n",
       "3  Jane Austen would definitely approve one ! Gwy...      1\n",
       "4  Expectations somewhat high I went see movie , ...      0"
      ]
     },
     "execution_count": 12,
     "metadata": {},
     "output_type": "execute_result"
    }
   ],
   "source": [
    "cleaned_df.head()"
   ]
  },
  {
   "cell_type": "code",
   "execution_count": 13,
   "id": "4f644b4821f28663",
   "metadata": {
    "execution": {
     "iopub.execute_input": "2025-01-24T12:15:08.561710Z",
     "iopub.status.busy": "2025-01-24T12:15:08.561351Z",
     "iopub.status.idle": "2025-01-24T12:15:09.895267Z",
     "shell.execute_reply": "2025-01-24T12:15:09.894737Z",
     "shell.execute_reply.started": "2025-01-24T12:15:08.561686Z"
    }
   },
   "outputs": [],
   "source": [
    "subwords = []\n",
    "with open(\"imdb_train_bpe.txt\", \"r\", encoding=\"utf8\") as file:\n",
    "    for line in file.readlines():\n",
    "        subwords.append(line.strip())\n",
    "\n",
    "with open(\"imdb_test_bpe.txt\", \"r\", encoding=\"utf8\") as file:\n",
    "    for line in file.readlines():\n",
    "        subwords.append(line.strip())\n",
    "\n",
    "cleaned_df[\"subwords10k\"] = subwords  # 保存分词后的结果\n",
    "cleaned_df[\"split\"] = [\"train\"] * 25000 + [\"test\"] * 25000  # 标记训练集和测试集\n",
    "cleaned_df.to_csv(\"imdb_subwords.csv\", index=False)  #把分词后的结果保存到csv文件"
   ]
  },
  {
   "cell_type": "code",
   "execution_count": 14,
   "id": "ae24426131de0069",
   "metadata": {
    "execution": {
     "iopub.execute_input": "2025-01-24T12:15:09.896316Z",
     "iopub.status.busy": "2025-01-24T12:15:09.896069Z",
     "iopub.status.idle": "2025-01-24T12:15:11.017708Z",
     "shell.execute_reply": "2025-01-24T12:15:11.017239Z",
     "shell.execute_reply.started": "2025-01-24T12:15:09.896298Z"
    }
   },
   "outputs": [],
   "source": [
    "from torch.utils.data import Dataset, DataLoader\n",
    "\n",
    "\n",
    "# 随后加载数据集就从bpe分词的文件里加载\n",
    "class IMDBDataset(Dataset):\n",
    "    def __init__(self, mode=\"train\"):\n",
    "        df = pd.read_csv(\"imdb_subwords.csv\").query(\"split == '{}'\".format(mode))  # 加载训练集或测试集，query语句筛选\n",
    "        self.texts = df[\"subwords10k\"].values  # 评论文本\n",
    "        self.labels = df[\"label\"].values  # 评论标签\n",
    "\n",
    "    def __len__(self):\n",
    "        return len(self.labels)\n",
    "\n",
    "    def __getitem__(self, idx):\n",
    "        return self.texts[idx].split(), self.labels[idx]  # 返回文本和标签\n",
    "\n",
    "\n",
    "train_ds = IMDBDataset(\"train\")\n",
    "test_ds = IMDBDataset(\"test\")"
   ]
  },
  {
   "cell_type": "code",
   "execution_count": 15,
   "id": "ae8d7b258f03f57d",
   "metadata": {
    "execution": {
     "iopub.execute_input": "2025-01-24T12:15:11.018489Z",
     "iopub.status.busy": "2025-01-24T12:15:11.018261Z",
     "iopub.status.idle": "2025-01-24T12:15:11.023405Z",
     "shell.execute_reply": "2025-01-24T12:15:11.022935Z",
     "shell.execute_reply.started": "2025-01-24T12:15:11.018472Z"
    }
   },
   "outputs": [
    {
     "data": {
      "text/plain": [
       "(['i',\n",
       "  'really',\n",
       "  'liked',\n",
       "  'sum@@',\n",
       "  'mer@@',\n",
       "  'sla@@',\n",
       "  'm',\n",
       "  'due',\n",
       "  'look',\n",
       "  'a@@',\n",
       "  'ren@@',\n",
       "  'a',\n",
       "  ',',\n",
       "  'cur@@',\n",
       "  'tain',\n",
       "  'look',\n",
       "  'overall',\n",
       "  'interesting',\n",
       "  'reason',\n",
       "  '.',\n",
       "  'anyways',\n",
       "  ',',\n",
       "  'could',\n",
       "  'one',\n",
       "  'best',\n",
       "  'sum@@',\n",
       "  'mer@@',\n",
       "  'sla@@',\n",
       "  'm',\n",
       "  'ever',\n",
       "  'w@@',\n",
       "  'w@@',\n",
       "  'f',\n",
       "  'le@@',\n",
       "  'x',\n",
       "  'lu@@',\n",
       "  'ger',\n",
       "  'main',\n",
       "  'event',\n",
       "  'yo@@',\n",
       "  'ko@@',\n",
       "  'z@@',\n",
       "  'un@@',\n",
       "  'a',\n",
       "  ',',\n",
       "  'time',\n",
       "  'ok',\n",
       "  'huge',\n",
       "  'fat',\n",
       "  'man',\n",
       "  'v',\n",
       "  'strong',\n",
       "  'man',\n",
       "  'i',\n",
       "  'glad',\n",
       "  'time',\n",
       "  'changed',\n",
       "  '.',\n",
       "  'it',\n",
       "  'terrible',\n",
       "  'main',\n",
       "  'event',\n",
       "  'like',\n",
       "  'every',\n",
       "  'match',\n",
       "  'lu@@',\n",
       "  'ger',\n",
       "  'terrible',\n",
       "  '.',\n",
       "  'other',\n",
       "  'match',\n",
       "  'card',\n",
       "  'ra@@',\n",
       "  'z@@',\n",
       "  'or',\n",
       "  'ra@@',\n",
       "  'mon',\n",
       "  'v',\n",
       "  'ted',\n",
       "  'di@@',\n",
       "  'bi@@',\n",
       "  'ase',\n",
       "  ',',\n",
       "  'ste@@',\n",
       "  'in@@',\n",
       "  'er',\n",
       "  'brothers',\n",
       "  'v',\n",
       "  'hea@@',\n",
       "  'ven@@',\n",
       "  'ly',\n",
       "  'bo@@',\n",
       "  'dies',\n",
       "  ',',\n",
       "  'sha@@',\n",
       "  'wn',\n",
       "  'micha@@',\n",
       "  'els',\n",
       "  'v',\n",
       "  'cur@@',\n",
       "  't',\n",
       "  'h@@',\n",
       "  'ening',\n",
       "  ',',\n",
       "  'event',\n",
       "  'sha@@',\n",
       "  'wn',\n",
       "  'named',\n",
       "  'big',\n",
       "  'monster',\n",
       "  'body',\n",
       "  'guard',\n",
       "  'die@@',\n",
       "  'sel',\n",
       "  ',',\n",
       "  'irs',\n",
       "  'v',\n",
       "  '-',\n",
       "  '-',\n",
       "  'kid',\n",
       "  ',',\n",
       "  'bre@@',\n",
       "  't',\n",
       "  'hart',\n",
       "  'first',\n",
       "  'take',\n",
       "  'do@@',\n",
       "  'ink',\n",
       "  'take',\n",
       "  'jerry',\n",
       "  'law@@',\n",
       "  'ler',\n",
       "  'stuff',\n",
       "  'har@@',\n",
       "  'ts',\n",
       "  'law@@',\n",
       "  'ler',\n",
       "  'always',\n",
       "  'interesting',\n",
       "  ',',\n",
       "  'lu@@',\n",
       "  'd@@',\n",
       "  'vi@@',\n",
       "  'g',\n",
       "  'bor@@',\n",
       "  'ga',\n",
       "  'destroyed',\n",
       "  'marty',\n",
       "  'jan@@',\n",
       "  'ne@@',\n",
       "  'tty',\n",
       "  ',',\n",
       "  'under@@',\n",
       "  'taker',\n",
       "  'took',\n",
       "  'giant',\n",
       "  'gon@@',\n",
       "  'z@@',\n",
       "  'ale@@',\n",
       "  'z',\n",
       "  'another',\n",
       "  'terrible',\n",
       "  'match',\n",
       "  ',',\n",
       "  'the',\n",
       "  'smoking',\n",
       "  'g@@',\n",
       "  'unn@@',\n",
       "  's',\n",
       "  'tat@@',\n",
       "  'an@@',\n",
       "  'ka',\n",
       "  'took',\n",
       "  'ba@@',\n",
       "  'm',\n",
       "  'ba@@',\n",
       "  'm',\n",
       "  'bi@@',\n",
       "  'ge@@',\n",
       "  'low',\n",
       "  'head@@',\n",
       "  'shr@@',\n",
       "  'in@@',\n",
       "  'kers',\n",
       "  ',',\n",
       "  'yo@@',\n",
       "  'ko@@',\n",
       "  'z@@',\n",
       "  'un@@',\n",
       "  'a',\n",
       "  'def@@',\n",
       "  'ended',\n",
       "  'world',\n",
       "  'title',\n",
       "  'le@@',\n",
       "  'x',\n",
       "  'lu@@',\n",
       "  'ger',\n",
       "  'match',\n",
       "  'boring',\n",
       "  'terrible',\n",
       "  'ending',\n",
       "  '.',\n",
       "  'however',\n",
       "  'deserves'],\n",
       " 1)"
      ]
     },
     "execution_count": 15,
     "metadata": {},
     "output_type": "execute_result"
    }
   ],
   "source": [
    "train_ds[0]"
   ]
  },
  {
   "cell_type": "markdown",
   "id": "839c6a05a5d30d09",
   "metadata": {},
   "source": [
    "构造 word2idx 和 idx2word"
   ]
  },
  {
   "cell_type": "code",
   "execution_count": 16,
   "id": "408a4f2e4c96726a",
   "metadata": {
    "execution": {
     "iopub.execute_input": "2025-01-24T12:15:11.024655Z",
     "iopub.status.busy": "2025-01-24T12:15:11.024331Z",
     "iopub.status.idle": "2025-01-24T12:15:11.027781Z",
     "shell.execute_reply": "2025-01-24T12:15:11.027304Z",
     "shell.execute_reply.started": "2025-01-24T12:15:11.024630Z"
    }
   },
   "outputs": [
    {
     "name": "stdout",
     "output_type": "stream",
     "text": [
      "{0: '[PAD]', 1: '[BOS]', 2: '[UNK]', 3: '[EOS]'}\n"
     ]
    }
   ],
   "source": [
    "#载入词表，看下词表长度，词表就像英语字典\n",
    "word2idx = {\n",
    "    \"[PAD]\": 0,  # 填充 token\n",
    "    \"[BOS]\": 1,  # begin of sentence\n",
    "    \"[UNK]\": 2,  # 未知 token\n",
    "    \"[EOS]\": 3,  # end of sentence\n",
    "}\n",
    "idx2word = {value: key for key, value in word2idx.items()}\n",
    "print(idx2word)\n",
    "index = len(idx2word)  # 词表长度，现在为4"
   ]
  },
  {
   "cell_type": "code",
   "execution_count": 17,
   "id": "fd7e005e1d3f73b4",
   "metadata": {
    "execution": {
     "iopub.execute_input": "2025-01-24T12:15:11.028357Z",
     "iopub.status.busy": "2025-01-24T12:15:11.028221Z",
     "iopub.status.idle": "2025-01-24T12:15:11.041153Z",
     "shell.execute_reply": "2025-01-24T12:15:11.040758Z",
     "shell.execute_reply.started": "2025-01-24T12:15:11.028342Z"
    }
   },
   "outputs": [
    {
     "name": "stderr",
     "output_type": "stream",
     "text": [
      "100%|██████████| 8031/8031 [00:00<00:00, 1221690.68it/s]"
     ]
    },
    {
     "name": "stdout",
     "output_type": "stream",
     "text": [
      "vocab_size: 8035\n"
     ]
    },
    {
     "name": "stderr",
     "output_type": "stream",
     "text": [
      "\n"
     ]
    }
   ],
   "source": [
    "threshold = 1  # 出现次数低于此的token舍弃\n",
    "with open(\"imdb_bpe_vocab\", \"r\", encoding=\"utf8\") as file:\n",
    "    for line in tqdm(file.readlines()):\n",
    "        token, counts = line.strip().split()\n",
    "        if int(counts) >= threshold:\n",
    "            word2idx[token] = index  # 加入词表\n",
    "            idx2word[index] = token  # 加入反向词典\n",
    "            index += 1\n",
    "\n",
    "vocab_size = len(word2idx)\n",
    "print(\"vocab_size: {}\".format(vocab_size))"
   ]
  },
  {
   "cell_type": "code",
   "execution_count": 18,
   "id": "2eb75003215f700f",
   "metadata": {
    "execution": {
     "iopub.execute_input": "2025-01-24T12:15:11.041816Z",
     "iopub.status.busy": "2025-01-24T12:15:11.041631Z",
     "iopub.status.idle": "2025-01-24T12:15:12.136950Z",
     "shell.execute_reply": "2025-01-24T12:15:12.136490Z",
     "shell.execute_reply.started": "2025-01-24T12:15:11.041801Z"
    }
   },
   "outputs": [
    {
     "data": {
      "image/png": "[encoded data removed]",
      "text/plain": [
       "<Figure size 640x480 with 1 Axes>"
      ]
     },
     "metadata": {},
     "output_type": "display_data"
    }
   ],
   "source": [
    "# 选择 max_length\n",
    "length_collect = {}\n",
    "for text, label in train_ds:\n",
    "    length = len(text)\n",
    "    length_collect[length] = length_collect.get(length, 0) + 1\n",
    "\n",
    "MAX_LENGTH = 500\n",
    "plt.bar(length_collect.keys(), length_collect.values())\n",
    "plt.axvline(MAX_LENGTH, label=\"max length\", c=\"gray\", ls=\":\")\n",
    "plt.legend()\n",
    "plt.show()"
   ]
  },
  {
   "cell_type": "markdown",
   "id": "757a4819f1fb3781",
   "metadata": {},
   "source": [
    "Tokenizer"
   ]
  },
  {
   "cell_type": "code",
   "execution_count": 19,
   "id": "a2546cdefbb85c68",
   "metadata": {
    "execution": {
     "iopub.execute_input": "2025-01-24T12:15:12.137727Z",
     "iopub.status.busy": "2025-01-24T12:15:12.137498Z",
     "iopub.status.idle": "2025-01-24T12:15:12.143740Z",
     "shell.execute_reply": "2025-01-24T12:15:12.143282Z",
     "shell.execute_reply.started": "2025-01-24T12:15:12.137709Z"
    }
   },
   "outputs": [],
   "source": [
    "class Tokenizer:\n",
    "    def __init__(self, word2idx, idx2word, max_length=500, pad_idx=0, bos_idx=1, eos_idx=3, unk_idx=2):\n",
    "        self.word2idx = word2idx\n",
    "        self.idx2word = idx2word\n",
    "        self.max_length = max_length\n",
    "        self.pad_idx = pad_idx\n",
    "        self.bos_idx = bos_idx\n",
    "        self.eos_idx = eos_idx\n",
    "        self.unk_idx = unk_idx\n",
    "\n",
    "    def encode(self, text_list, padding_first=False):\n",
    "        \"\"\"如果padding_first == True，则padding加载前面，否则加载后面\"\"\"\n",
    "        max_length = min(self.max_length, 2 + max([len(text) for text in text_list]))\n",
    "        indices_list = []\n",
    "        for text in text_list:\n",
    "            indices = [self.bos_idx] + [self.word2idx.get(word, self.unk_idx) for word in text[:max_length - 2]] + [\n",
    "                self.eos_idx]  #变为id，未登录词用unk_idx代替，句子前后加bos和eos\n",
    "            if padding_first:  # padding加载前面\n",
    "                indices = [self.pad_idx] * (max_length - len(indices)) + indices\n",
    "            else:  # padding加载后面\n",
    "                indices = indices + [self.pad_idx] * (max_length - len(indices))\n",
    "            indices_list.append(indices)\n",
    "        return torch.tensor(indices_list)\n",
    "\n",
    "    def decode(self, indices_list, remove_bos=True, remove_eos=True, remove_pad=True, split=False):\n",
    "        text_list = []\n",
    "        for indices in indices_list:\n",
    "            text = []\n",
    "            for index in indices:\n",
    "                word = self.idx2word.get(index, \"[UNK]\")\n",
    "                if remove_bos and word == \"[BOS]\":\n",
    "                    continue\n",
    "                if remove_eos and word == \"[EOS]\":\n",
    "                    break\n",
    "                if remove_pad and word == \"[PAD]\":\n",
    "                    break\n",
    "                text.append(word)\n",
    "            text_list.append(\" \".join(text) if not split else text)\n",
    "        return text_list"
   ]
  },
  {
   "cell_type": "code",
   "execution_count": 20,
   "id": "897e68fe487c62c",
   "metadata": {
    "execution": {
     "iopub.execute_input": "2025-01-24T12:15:12.144561Z",
     "iopub.status.busy": "2025-01-24T12:15:12.144299Z",
     "iopub.status.idle": "2025-01-24T12:15:12.172497Z",
     "shell.execute_reply": "2025-01-24T12:15:12.172098Z",
     "shell.execute_reply.started": "2025-01-24T12:15:12.144543Z"
    }
   },
   "outputs": [
    {
     "name": "stdout",
     "output_type": "stream",
     "text": [
      "raw text\n",
      "['hello', 'world']\n",
      "['i', 'really', 'liked', 'sum@@', 'mer@@', 'sla@@', 'm', 'due', 'look', 'a@@', 'ren@@', 'a', ',', 'cur@@']\n",
      "['this', 'is', 'a', 'test']\n",
      "indices\n",
      "tensor([   1, 6513,  125,    3,    0,    0,    0,    0,    0,    0,    0,    0,\n",
      "           0,    0,    0,    0])\n",
      "tensor([   1,    6,   27,  514, 2230,  775, 1527,  146,  893,   65,   98,  666,\n",
      "          26,    5, 1571,    3])\n",
      "tensor([   1,   18,  395,   26, 1892,    3,    0,    0,    0,    0,    0,    0,\n",
      "           0,    0,    0,    0])\n",
      "decode text\n",
      "[BOS] hello world [EOS] [PAD] [PAD] [PAD] [PAD] [PAD] [PAD] [PAD] [PAD] [PAD] [PAD] [PAD] [PAD]\n",
      "[BOS] i really liked sum@@ mer@@ sla@@ m due look a@@ ren@@ a , cur@@ [EOS]\n",
      "[BOS] this is a test [EOS] [PAD] [PAD] [PAD] [PAD] [PAD] [PAD] [PAD] [PAD] [PAD] [PAD]\n"
     ]
    }
   ],
   "source": [
    "tokenizer = Tokenizer(word2idx=word2idx, idx2word=idx2word)\n",
    "raw_text = [\"hello world\".split(), \"i really liked sum@@ mer@@ sla@@ m due look a@@ ren@@ a , cur@@ \".split(),\n",
    "            \"this is a test\".split()]\n",
    "indices = tokenizer.encode(raw_text, padding_first=False)\n",
    "print(\"raw text\")\n",
    "for raw in raw_text:\n",
    "    print(raw)\n",
    "print(\"indices\")\n",
    "for index in indices:\n",
    "    print(index)\n",
    "decode_text = tokenizer.decode(indices.tolist(), remove_bos=False, remove_eos=False, remove_pad=False)\n",
    "print(\"decode text\")\n",
    "for decode in decode_text:\n",
    "    print(decode)"
   ]
  },
  {
   "cell_type": "code",
   "execution_count": 21,
   "id": "8b34d1e4a0159b54",
   "metadata": {
    "execution": {
     "iopub.execute_input": "2025-01-24T12:15:12.173140Z",
     "iopub.status.busy": "2025-01-24T12:15:12.172953Z",
     "iopub.status.idle": "2025-01-24T12:15:12.175931Z",
     "shell.execute_reply": "2025-01-24T12:15:12.175554Z",
     "shell.execute_reply.started": "2025-01-24T12:15:12.173124Z"
    }
   },
   "outputs": [
    {
     "name": "stdout",
     "output_type": "stream",
     "text": [
      "i really liked summerslam due look arena , cur\n"
     ]
    }
   ],
   "source": [
    "import re\n",
    "\n",
    "# 输入字符串\n",
    "text = \"i really liked sum@@ mer@@ sla@@ m due look a@@ ren@@ a , cur@@ \"\n",
    "\n",
    "# 使用正则表达式替换 \"@@ \" 为空字符串\n",
    "cleaned_text = re.sub(r'@@\\s*', '', text)\n",
    "\n",
    "print(cleaned_text)"
   ]
  },
  {
   "cell_type": "code",
   "execution_count": 22,
   "id": "ffcc7c15186b9f88",
   "metadata": {
    "execution": {
     "iopub.execute_input": "2025-01-24T12:15:12.177801Z",
     "iopub.status.busy": "2025-01-24T12:15:12.177407Z",
     "iopub.status.idle": "2025-01-24T12:15:12.180926Z",
     "shell.execute_reply": "2025-01-24T12:15:12.180426Z",
     "shell.execute_reply.started": "2025-01-24T12:15:12.177783Z"
    }
   },
   "outputs": [],
   "source": [
    "def collate_fct(batch):\n",
    "    \"\"\"\n",
    "    把字符串列表转化为tensor\n",
    "    :param batch:\n",
    "    :return:\n",
    "    \"\"\"\n",
    "    text_list = [item[0] for item in batch]  #batch中每个item的第一个元素是text,是输入，类型为list\n",
    "    label_list = [item[1] for item in batch]  #batch中每个item的第二个元素是label,是输出，类型为int\n",
    "    # 这里使用 padding first\n",
    "    text_list = tokenizer.encode(text_list, padding_first=True).to(dtype=torch.int)\n",
    "    return text_list, torch.tensor(label_list).reshape(-1, 1).to(dtype=torch.float)"
   ]
  },
  {
   "cell_type": "code",
   "execution_count": 23,
   "id": "64be541a482b85a",
   "metadata": {
    "execution": {
     "iopub.execute_input": "2025-01-24T12:15:12.181454Z",
     "iopub.status.busy": "2025-01-24T12:15:12.181316Z",
     "iopub.status.idle": "2025-01-24T12:15:12.184183Z",
     "shell.execute_reply": "2025-01-24T12:15:12.183786Z",
     "shell.execute_reply.started": "2025-01-24T12:15:12.181439Z"
    }
   },
   "outputs": [],
   "source": [
    "batch_size = 128\n",
    "train_dl = DataLoader(train_ds, batch_size=batch_size, shuffle=True, collate_fn=collate_fct)\n",
    "test_dl = DataLoader(test_ds, batch_size=batch_size, shuffle=False, collate_fn=collate_fct)"
   ]
  },
  {
   "cell_type": "markdown",
   "id": "a494e1bd12ce44f4",
   "metadata": {},
   "source": [
    "定义模型"
   ]
  },
  {
   "cell_type": "code",
   "execution_count": 24,
   "id": "5249edfd14aff3fb",
   "metadata": {
    "execution": {
     "iopub.execute_input": "2025-01-24T12:15:12.184813Z",
     "iopub.status.busy": "2025-01-24T12:15:12.184675Z",
     "iopub.status.idle": "2025-01-24T12:15:12.188869Z",
     "shell.execute_reply": "2025-01-24T12:15:12.188475Z",
     "shell.execute_reply.started": "2025-01-24T12:15:12.184798Z"
    }
   },
   "outputs": [],
   "source": [
    "class LSTM(nn.Module):\n",
    "    def __init__(self, embedding_dim=16, hidden_dim=64, vocab_size=vocab_size, num_layers=1, bidirectional=False):\n",
    "        super(LSTM, self).__init__()\n",
    "        self.embeding = nn.Embedding(vocab_size, embedding_dim)\n",
    "        self.lstm = nn.LSTM(embedding_dim, hidden_dim, num_layers=num_layers, batch_first=True,\n",
    "                            bidirectional=bidirectional)\n",
    "        self.layer = nn.Linear(hidden_dim * (2 if bidirectional else 1), hidden_dim)\n",
    "        self.fc = nn.Linear(hidden_dim, 1)\n",
    "\n",
    "    def forward(self, x):\n",
    "        # [bs, seq length]\n",
    "        x = self.embeding(x)\n",
    "        # [bs, seq length, embedding_dim] -> shape [bs, seq length, hidden_dim ]\n",
    "        seq_output, (hidden, cell) = self.lstm(x)\n",
    "\n",
    "        x = seq_output[:, -1, :]\n",
    "        # 取最后一个时间步的输出 (这也是为什么要设置padding_first=True的原因)\n",
    "        x = self.layer(x)\n",
    "        x = self.fc(x)\n",
    "        return x"
   ]
  },
  {
   "cell_type": "code",
   "execution_count": 25,
   "id": "8fe9596f86b67f3",
   "metadata": {
    "execution": {
     "iopub.execute_input": "2025-01-24T12:15:12.189440Z",
     "iopub.status.busy": "2025-01-24T12:15:12.189310Z",
     "iopub.status.idle": "2025-01-24T12:15:12.198636Z",
     "shell.execute_reply": "2025-01-24T12:15:12.198254Z",
     "shell.execute_reply.started": "2025-01-24T12:15:12.189425Z"
    }
   },
   "outputs": [
    {
     "name": "stdout",
     "output_type": "stream",
     "text": [
      "================================== 单层单向 LSTM ===================================\n",
      "            embeding.weight             paramerters num: 128560\n",
      "           lstm.weight_ih_l0            paramerters num: 4096\n",
      "           lstm.weight_hh_l0            paramerters num: 16384\n",
      "            lstm.bias_ih_l0             paramerters num: 256\n",
      "            lstm.bias_hh_l0             paramerters num: 256\n",
      "              layer.weight              paramerters num: 4096\n",
      "               layer.bias               paramerters num: 64\n",
      "               fc.weight                paramerters num: 64\n",
      "                fc.bias                 paramerters num: 1\n"
     ]
    }
   ],
   "source": [
    "print(\"{:=^80}\".format(\" 单层单向 LSTM \"))\n",
    "for key, value in LSTM().named_parameters():\n",
    "    print(f\"{key:^40}paramerters num: {np.prod(value.shape)}\")"
   ]
  },
  {
   "cell_type": "code",
   "execution_count": 26,
   "id": "84eed7833453b37",
   "metadata": {
    "execution": {
     "iopub.execute_input": "2025-01-24T12:15:12.199196Z",
     "iopub.status.busy": "2025-01-24T12:15:12.199061Z",
     "iopub.status.idle": "2025-01-24T12:15:12.203266Z",
     "shell.execute_reply": "2025-01-24T12:15:12.202908Z",
     "shell.execute_reply.started": "2025-01-24T12:15:12.199181Z"
    }
   },
   "outputs": [
    {
     "name": "stdout",
     "output_type": "stream",
     "text": [
      "================================== 单层双向 LSTM ===================================\n",
      "            embeding.weight             paramerters num: 128560\n",
      "           lstm.weight_ih_l0            paramerters num: 4096\n",
      "           lstm.weight_hh_l0            paramerters num: 16384\n",
      "            lstm.bias_ih_l0             paramerters num: 256\n",
      "            lstm.bias_hh_l0             paramerters num: 256\n",
      "       lstm.weight_ih_l0_reverse        paramerters num: 4096\n",
      "       lstm.weight_hh_l0_reverse        paramerters num: 16384\n",
      "        lstm.bias_ih_l0_reverse         paramerters num: 256\n",
      "        lstm.bias_hh_l0_reverse         paramerters num: 256\n",
      "              layer.weight              paramerters num: 8192\n",
      "               layer.bias               paramerters num: 64\n",
      "               fc.weight                paramerters num: 64\n",
      "                fc.bias                 paramerters num: 1\n"
     ]
    }
   ],
   "source": [
    "print(\"{:=^80}\".format(\" 单层双向 LSTM \"))\n",
    "for key, value in LSTM(bidirectional=True).named_parameters():\n",
    "    print(f\"{key:^40}paramerters num: {np.prod(value.shape)}\")"
   ]
  },
  {
   "cell_type": "code",
   "execution_count": 27,
   "id": "f057a4af8a300d7e",
   "metadata": {
    "execution": {
     "iopub.execute_input": "2025-01-24T12:15:12.204001Z",
     "iopub.status.busy": "2025-01-24T12:15:12.203840Z",
     "iopub.status.idle": "2025-01-24T12:15:12.208073Z",
     "shell.execute_reply": "2025-01-24T12:15:12.207696Z",
     "shell.execute_reply.started": "2025-01-24T12:15:12.203985Z"
    }
   },
   "outputs": [
    {
     "name": "stdout",
     "output_type": "stream",
     "text": [
      "================================== 双层单向 LSTM ===================================\n",
      "            embeding.weight             paramerters num: 128560\n",
      "           lstm.weight_ih_l0            paramerters num: 4096\n",
      "           lstm.weight_hh_l0            paramerters num: 16384\n",
      "            lstm.bias_ih_l0             paramerters num: 256\n",
      "            lstm.bias_hh_l0             paramerters num: 256\n",
      "           lstm.weight_ih_l1            paramerters num: 16384\n",
      "           lstm.weight_hh_l1            paramerters num: 16384\n",
      "            lstm.bias_ih_l1             paramerters num: 256\n",
      "            lstm.bias_hh_l1             paramerters num: 256\n",
      "              layer.weight              paramerters num: 4096\n",
      "               layer.bias               paramerters num: 64\n",
      "               fc.weight                paramerters num: 64\n",
      "                fc.bias                 paramerters num: 1\n"
     ]
    }
   ],
   "source": [
    "print(\"{:=^80}\".format(\" 双层单向 LSTM \"))\n",
    "for key, value in LSTM(num_layers=2).named_parameters():\n",
    "    print(f\"{key:^40}paramerters num: {np.prod(value.shape)}\")"
   ]
  },
  {
   "cell_type": "code",
   "execution_count": 28,
   "id": "834929f9b119d009",
   "metadata": {
    "execution": {
     "iopub.execute_input": "2025-01-24T12:15:12.208633Z",
     "iopub.status.busy": "2025-01-24T12:15:12.208494Z",
     "iopub.status.idle": "2025-01-24T12:15:12.213472Z",
     "shell.execute_reply": "2025-01-24T12:15:12.213101Z",
     "shell.execute_reply.started": "2025-01-24T12:15:12.208618Z"
    }
   },
   "outputs": [
    {
     "name": "stdout",
     "output_type": "stream",
     "text": [
      "================================== 双层双向 LSTM ===================================\n",
      "            embeding.weight             paramerters num: 128560\n",
      "           lstm.weight_ih_l0            paramerters num: 4096\n",
      "           lstm.weight_hh_l0            paramerters num: 16384\n",
      "            lstm.bias_ih_l0             paramerters num: 256\n",
      "            lstm.bias_hh_l0             paramerters num: 256\n",
      "       lstm.weight_ih_l0_reverse        paramerters num: 4096\n",
      "       lstm.weight_hh_l0_reverse        paramerters num: 16384\n",
      "        lstm.bias_ih_l0_reverse         paramerters num: 256\n",
      "        lstm.bias_hh_l0_reverse         paramerters num: 256\n",
      "           lstm.weight_ih_l1            paramerters num: 32768\n",
      "           lstm.weight_hh_l1            paramerters num: 16384\n",
      "            lstm.bias_ih_l1             paramerters num: 256\n",
      "            lstm.bias_hh_l1             paramerters num: 256\n",
      "       lstm.weight_ih_l1_reverse        paramerters num: 32768\n",
      "       lstm.weight_hh_l1_reverse        paramerters num: 16384\n",
      "        lstm.bias_ih_l1_reverse         paramerters num: 256\n",
      "        lstm.bias_hh_l1_reverse         paramerters num: 256\n",
      "              layer.weight              paramerters num: 8192\n",
      "               layer.bias               paramerters num: 64\n",
      "               fc.weight                paramerters num: 64\n",
      "                fc.bias                 paramerters num: 1\n"
     ]
    }
   ],
   "source": [
    "print(\"{:=^80}\".format(\" 双层双向 LSTM \"))\n",
    "for key, value in LSTM(num_layers=2, bidirectional=True).named_parameters():\n",
    "    print(f\"{key:^40}paramerters num: {np.prod(value.shape)}\")"
   ]
  },
  {
   "cell_type": "markdown",
   "id": "5f9ee4c5a97c7838",
   "metadata": {},
   "source": [
    "训练"
   ]
  },
  {
   "cell_type": "code",
   "execution_count": 29,
   "id": "3b67a32bcca972b2",
   "metadata": {
    "execution": {
     "iopub.execute_input": "2025-01-24T12:15:12.214016Z",
     "iopub.status.busy": "2025-01-24T12:15:12.213885Z",
     "iopub.status.idle": "2025-01-24T12:15:12.305071Z",
     "shell.execute_reply": "2025-01-24T12:15:12.304695Z",
     "shell.execute_reply.started": "2025-01-24T12:15:12.214001Z"
    }
   },
   "outputs": [],
   "source": [
    "from sklearn.metrics import accuracy_score\n",
    "\n",
    "\n",
    "@torch.no_grad()\n",
    "def evaluating(model, dataloader, loss_fct):\n",
    "    loss_list = []\n",
    "    pred_list = []\n",
    "    label_list = []\n",
    "    for datas, labels in dataloader:\n",
    "        datas = datas.to(device)\n",
    "        labels = labels.to(device)\n",
    "        # 前向计算\n",
    "        logits = model(datas)\n",
    "        loss = loss_fct(logits, labels)  # 验证集损失\n",
    "        loss_list.append(loss.item())\n",
    "        # 二分类\n",
    "        preds = logits > 0\n",
    "        pred_list.extend(preds.cpu().numpy().tolist())\n",
    "        label_list.extend(labels.cpu().numpy().tolist())\n",
    "\n",
    "    acc = accuracy_score(label_list, pred_list)\n",
    "    return np.mean(loss_list), acc"
   ]
  },
  {
   "cell_type": "code",
   "execution_count": 30,
   "id": "3a4673b3abec87ea",
   "metadata": {
    "execution": {
     "iopub.execute_input": "2025-01-24T12:15:12.305749Z",
     "iopub.status.busy": "2025-01-24T12:15:12.305492Z",
     "iopub.status.idle": "2025-01-24T12:15:15.865700Z",
     "shell.execute_reply": "2025-01-24T12:15:15.865216Z",
     "shell.execute_reply.started": "2025-01-24T12:15:12.305732Z"
    }
   },
   "outputs": [
    {
     "name": "stderr",
     "output_type": "stream",
     "text": [
      "2025-01-24 20:15:12.974618: I tensorflow/core/util/port.cc:153] oneDNN custom operations are on. You may see slightly different numerical results due to floating-point round-off errors from different computation orders. To turn them off, set the environment variable `TF_ENABLE_ONEDNN_OPTS=0`.\n",
      "2025-01-24 20:15:13.254231: E external/local_xla/xla/stream_executor/cuda/cuda_fft.cc:477] Unable to register cuFFT factory: Attempting to register factory for plugin cuFFT when one has already been registered\n",
      "WARNING: All log messages before absl::InitializeLog() is called are written to STDERR\n",
      "E0000 00:00:1737720913.366428     378 cuda_dnn.cc:8310] Unable to register cuDNN factory: Attempting to register factory for plugin cuDNN when one has already been registered\n",
      "E0000 00:00:1737720913.397714     378 cuda_blas.cc:1418] Unable to register cuBLAS factory: Attempting to register factory for plugin cuBLAS when one has already been registered\n",
      "2025-01-24 20:15:13.663849: I tensorflow/core/platform/cpu_feature_guard.cc:210] This TensorFlow binary is optimized to use available CPU instructions in performance-critical operations.\n",
      "To enable the following instructions: AVX2 AVX512F AVX512_VNNI FMA, in other operations, rebuild TensorFlow with the appropriate compiler flags.\n"
     ]
    }
   ],
   "source": [
    "from torch.utils.tensorboard import SummaryWriter\n",
    "\n",
    "\n",
    "class TensorBoardCallback:\n",
    "    def __init__(self, log_dir, flush_secs=10):\n",
    "        \"\"\"\n",
    "        Args:\n",
    "            log_dir (str): dir to write log.\n",
    "            flush_secs (int, optional): write to dsk each flush_secs seconds. Defaults to 10.\n",
    "        \"\"\"\n",
    "        self.writer = SummaryWriter(log_dir=log_dir, flush_secs=flush_secs)\n",
    "\n",
    "    def draw_model(self, model, input_shape):\n",
    "        self.writer.add_graph(model, input_to_model=torch.randn(input_shape))\n",
    "\n",
    "    def add_loss_scalars(self, step, loss, val_loss):\n",
    "        self.writer.add_scalars(\n",
    "            main_tag=\"training/loss\",\n",
    "            tag_scalar_dict={\"loss\": loss, \"val_loss\": val_loss},\n",
    "            global_step=step,\n",
    "        )\n",
    "\n",
    "    def add_acc_scalars(self, step, acc, val_acc):\n",
    "        self.writer.add_scalars(\n",
    "            main_tag=\"training/accuracy\",\n",
    "            tag_scalar_dict={\"accuracy\": acc, \"val_accuracy\": val_acc},\n",
    "            global_step=step,\n",
    "        )\n",
    "\n",
    "    def add_lr_scalars(self, step, learning_rate):\n",
    "        self.writer.add_scalars(\n",
    "            main_tag=\"training/learning_rate\",\n",
    "            tag_scalar_dict={\"learning_rate\": learning_rate},\n",
    "            global_step=step,\n",
    "\n",
    "        )\n",
    "\n",
    "    def __call__(self, step, **kwargs):\n",
    "        # add loss\n",
    "        loss = kwargs.pop(\"loss\", None)\n",
    "        val_loss = kwargs.pop(\"val_loss\", None)\n",
    "        if loss is not None and val_loss is not None:\n",
    "            self.add_loss_scalars(step, loss, val_loss)\n",
    "        # add acc\n",
    "        acc = kwargs.pop(\"acc\", None)\n",
    "        val_acc = kwargs.pop(\"val_acc\", None)\n",
    "        if acc is not None and val_acc is not None:\n",
    "            self.add_acc_scalars(step, acc, val_acc)\n",
    "        # add lr\n",
    "        learning_rate = kwargs.pop(\"lr\", None)\n",
    "        if learning_rate is not None:\n",
    "            self.add_lr_scalars(step, learning_rate)"
   ]
  },
  {
   "cell_type": "code",
   "execution_count": 31,
   "id": "39e9b09bd27a00ab",
   "metadata": {
    "execution": {
     "iopub.execute_input": "2025-01-24T12:15:15.866808Z",
     "iopub.status.busy": "2025-01-24T12:15:15.866237Z",
     "iopub.status.idle": "2025-01-24T12:15:15.871015Z",
     "shell.execute_reply": "2025-01-24T12:15:15.870587Z",
     "shell.execute_reply.started": "2025-01-24T12:15:15.866787Z"
    }
   },
   "outputs": [],
   "source": [
    "class SaveCheckpointsCallback:\n",
    "    def __init__(self, save_dir, save_step=5000, save_best_only=True):\n",
    "        \"\"\"\n",
    "        Save checkpoints each save_epoch epoch. \n",
    "        We save checkpoint by epoch in this implementation.\n",
    "        Usually, training scripts with pytorch evaluating model and save checkpoint by step.\n",
    "\n",
    "        Args:\n",
    "            save_dir (str): dir to save checkpoint\n",
    "            save_epoch (int, optional): the frequency to save checkpoint. Defaults to 1.\n",
    "            save_best_only (bool, optional): If True, only save the best model or save each model at every epoch.\n",
    "        \"\"\"\n",
    "        self.save_dir = save_dir\n",
    "        self.save_step = save_step\n",
    "        self.save_best_only = save_best_only\n",
    "        self.best_metrics = -1\n",
    "\n",
    "        # mkdir\n",
    "        if not os.path.exists(self.save_dir):\n",
    "            os.mkdir(self.save_dir)\n",
    "\n",
    "    def __call__(self, step, state_dict, metric=None):\n",
    "        if step % self.save_step > 0:\n",
    "            return\n",
    "\n",
    "        if self.save_best_only:\n",
    "            assert metric is not None\n",
    "            if metric >= self.best_metrics:\n",
    "                # save checkpoints\n",
    "                torch.save(state_dict, os.path.join(self.save_dir, \"best.ckpt\"))\n",
    "                # update best metrics\n",
    "                self.best_metrics = metric\n",
    "        else:\n",
    "            torch.save(state_dict, os.path.join(self.save_dir, f\"{step}.ckpt\"))"
   ]
  },
  {
   "cell_type": "code",
   "execution_count": 32,
   "id": "a1827a961eec7499",
   "metadata": {
    "execution": {
     "iopub.execute_input": "2025-01-24T12:15:15.871855Z",
     "iopub.status.busy": "2025-01-24T12:15:15.871617Z",
     "iopub.status.idle": "2025-01-24T12:15:15.875251Z",
     "shell.execute_reply": "2025-01-24T12:15:15.874802Z",
     "shell.execute_reply.started": "2025-01-24T12:15:15.871838Z"
    }
   },
   "outputs": [],
   "source": [
    "class EarlyStopCallback:\n",
    "    def __init__(self, patience=5, min_delta=0.01):\n",
    "        \"\"\"\n",
    "\n",
    "        Args:\n",
    "            patience (int, optional): Number of epochs with no improvement after which training will be stopped.. Defaults to 5.\n",
    "            min_delta (float, optional): Minimum change in the monitored quantity to qualify as an improvement, i.e. an absolute \n",
    "                change of less than min_delta, will count as no improvement. Defaults to 0.01.\n",
    "        \"\"\"\n",
    "        self.patience = patience\n",
    "        self.min_delta = min_delta\n",
    "        self.best_metric = -1\n",
    "        self.counter = 0\n",
    "\n",
    "    def __call__(self, metric):\n",
    "        if metric >= self.best_metric + self.min_delta:\n",
    "            # update best metric\n",
    "            self.best_metric = metric\n",
    "            # reset counter \n",
    "            self.counter = 0\n",
    "        else:\n",
    "            self.counter += 1\n",
    "\n",
    "    @property\n",
    "    def early_stop(self):\n",
    "        return self.counter >= self.patience"
   ]
  },
  {
   "cell_type": "code",
   "execution_count": 33,
   "id": "95e21f18c942257b",
   "metadata": {
    "execution": {
     "iopub.execute_input": "2025-01-24T12:15:15.876026Z",
     "iopub.status.busy": "2025-01-24T12:15:15.875878Z",
     "iopub.status.idle": "2025-01-24T12:15:15.883396Z",
     "shell.execute_reply": "2025-01-24T12:15:15.882928Z",
     "shell.execute_reply.started": "2025-01-24T12:15:15.876010Z"
    }
   },
   "outputs": [],
   "source": [
    "# 训练\n",
    "def training(\n",
    "        model,\n",
    "        train_loader,\n",
    "        val_loader,\n",
    "        epoch,\n",
    "        loss_fct,\n",
    "        optimizer,\n",
    "        tensorboard_callback=None,\n",
    "        save_ckpt_callback=None,\n",
    "        early_stop_callback=None,\n",
    "        eval_step=500,\n",
    "):\n",
    "    record_dict = {\n",
    "        \"train\": [],\n",
    "        \"val\": []\n",
    "    }\n",
    "\n",
    "    global_step = 0\n",
    "    model.train()\n",
    "    with tqdm(total=epoch * len(train_loader)) as pbar:\n",
    "        for epoch_id in range(epoch):\n",
    "            # training\n",
    "            for datas, labels in train_loader:\n",
    "                datas = datas.to(device)\n",
    "                labels = labels.to(device)\n",
    "                # 梯度清空\n",
    "                optimizer.zero_grad()\n",
    "                # 模型前向计算\n",
    "                logits = model(datas)\n",
    "                # 计算损失\n",
    "                loss = loss_fct(logits, labels)\n",
    "                # 梯度回传\n",
    "                loss.backward()\n",
    "                # 调整优化器，包括学习率的变动等\n",
    "                optimizer.step()\n",
    "                preds = logits > 0\n",
    "\n",
    "                acc = accuracy_score(labels.cpu().numpy(), preds.cpu().numpy())\n",
    "                loss = loss.cpu().item()\n",
    "                # record\n",
    "\n",
    "                record_dict[\"train\"].append({\n",
    "                    \"loss\": loss, \"acc\": acc, \"step\": global_step\n",
    "                })\n",
    "\n",
    "                # evaluating\n",
    "                if global_step % eval_step == 0:\n",
    "                    model.eval()\n",
    "                    val_loss, val_acc = evaluating(model, val_loader, loss_fct)\n",
    "                    record_dict[\"val\"].append({\n",
    "                        \"loss\": val_loss, \"acc\": val_acc, \"step\": global_step\n",
    "                    })\n",
    "                    model.train()\n",
    "\n",
    "                    # 1. 使用 tensorboard 可视化\n",
    "                    if tensorboard_callback is not None:\n",
    "                        tensorboard_callback(\n",
    "                            global_step,\n",
    "                            loss=loss, val_loss=val_loss,\n",
    "                            acc=acc, val_acc=val_acc,\n",
    "                            lr=optimizer.param_groups[0][\"lr\"],\n",
    "                        )\n",
    "\n",
    "                    # 2. 保存模型权重 save model checkpoint\n",
    "                    if save_ckpt_callback is not None:\n",
    "                        save_ckpt_callback(global_step, model.state_dict(), metric=val_acc)\n",
    "\n",
    "                    # 3. 早停 Early Stop\n",
    "                    if early_stop_callback is not None:\n",
    "                        early_stop_callback(val_acc)\n",
    "                        if early_stop_callback.early_stop:\n",
    "                            print(f\"Early stop at epoch {epoch_id} / global_step {global_step}\")\n",
    "                            return record_dict\n",
    "\n",
    "                # udate step\n",
    "                global_step += 1\n",
    "                pbar.update(1)\n",
    "                pbar.set_postfix({\"epoch\": epoch_id})\n",
    "\n",
    "    return record_dict"
   ]
  },
  {
   "cell_type": "code",
   "execution_count": 34,
   "id": "14bdcaab4091aee5",
   "metadata": {
    "execution": {
     "iopub.execute_input": "2025-01-24T12:15:15.884123Z",
     "iopub.status.busy": "2025-01-24T12:15:15.883867Z",
     "iopub.status.idle": "2025-01-24T12:15:17.437487Z",
     "shell.execute_reply": "2025-01-24T12:15:17.436979Z",
     "shell.execute_reply.started": "2025-01-24T12:15:15.884108Z"
    }
   },
   "outputs": [],
   "source": [
    "epoch = 20\n",
    "\n",
    "model = LSTM()  # 单层单向 LSTM\n",
    "# model = LSTM(num_layers=2)  # 单层双向 LSTM\n",
    "# model = LSTM(bidirectional=True)  # 单层单向 LSTM\n",
    "# model = LSTM(num_layers=2, bidirectional=True)  # 单层双向 LSTM\n",
    "\n",
    "# 1. 定义损失函数 采用交叉熵损失 (但是二分类)\n",
    "loss_fct = F.binary_cross_entropy_with_logits\n",
    "# 2. 定义优化器 采用 adam\n",
    "# Optimizers specified in the torch.optim package\n",
    "optimizer = torch.optim.Adam(model.parameters(), lr=0.001)\n",
    "\n",
    "# 1. tensorboard 可视化\n",
    "if not os.path.exists(\"runs\"):\n",
    "    os.mkdir(\"runs\")\n",
    "tensorboard_callback = TensorBoardCallback(\"runs/imdb-lstm-subword\")\n",
    "# tensorboard_callback.draw_model(model, [1, MAX_LENGTH])\n",
    "# 2. save best\n",
    "if not os.path.exists(\"checkpoints\"):\n",
    "    os.makedirs(\"checkpoints\")\n",
    "save_ckpt_callback = SaveCheckpointsCallback(\"checkpoints/imdb-lstm-subword\", save_step=len(train_dl),\n",
    "                                             save_best_only=True)\n",
    "# 3. early stop\n",
    "early_stop_callback = EarlyStopCallback(patience=10)"
   ]
  },
  {
   "cell_type": "code",
   "execution_count": 35,
   "id": "53617ea813e6f077",
   "metadata": {
    "execution": {
     "iopub.execute_input": "2025-01-24T12:15:17.438401Z",
     "iopub.status.busy": "2025-01-24T12:15:17.438019Z",
     "iopub.status.idle": "2025-01-24T12:17:12.408504Z",
     "shell.execute_reply": "2025-01-24T12:17:12.408079Z",
     "shell.execute_reply.started": "2025-01-24T12:15:17.438381Z"
    }
   },
   "outputs": [
    {
     "name": "stderr",
     "output_type": "stream",
     "text": [
      "100%|██████████| 3920/3920 [01:54<00:00, 34.15it/s, epoch=19]\n"
     ]
    }
   ],
   "source": [
    "model = model.to(device)\n",
    "record = training(\n",
    "    model,\n",
    "    train_dl,\n",
    "    test_dl,\n",
    "    epoch,\n",
    "    loss_fct,\n",
    "    optimizer,\n",
    "    tensorboard_callback=tensorboard_callback,\n",
    "    save_ckpt_callback=save_ckpt_callback,\n",
    "    early_stop_callback=early_stop_callback,\n",
    "    eval_step=len(train_dl)\n",
    ")"
   ]
  },
  {
   "cell_type": "code",
   "execution_count": 36,
   "id": "8d3569befd8d6480",
   "metadata": {
    "execution": {
     "iopub.execute_input": "2025-01-24T12:17:12.409253Z",
     "iopub.status.busy": "2025-01-24T12:17:12.409027Z",
     "iopub.status.idle": "2025-01-24T12:17:12.573766Z",
     "shell.execute_reply": "2025-01-24T12:17:12.573352Z",
     "shell.execute_reply.started": "2025-01-24T12:17:12.409235Z"
    }
   },
   "outputs": [
    {
     "data": {
      "image/png": "[encoded data removed]",
      "text/plain": [
       "<Figure size 1000x500 with 2 Axes>"
      ]
     },
     "metadata": {},
     "output_type": "display_data"
    }
   ],
   "source": [
    "#画线要注意的是损失是不一定在零到1之间的\n",
    "def plot_learning_curves(record_dict, sample_step=500):\n",
    "    # build DataFrame\n",
    "    train_df = pd.DataFrame(record_dict[\"train\"]).set_index(\"step\").iloc[::sample_step]\n",
    "    val_df = pd.DataFrame(record_dict[\"val\"]).set_index(\"step\")\n",
    "\n",
    "    # plot\n",
    "    fig_num = len(train_df.columns)\n",
    "    fig, axs = plt.subplots(1, fig_num, figsize=(5 * fig_num, 5))\n",
    "    for idx, item in enumerate(train_df.columns):\n",
    "        axs[idx].plot(train_df.index, train_df[item], label=f\"train_{item}\")\n",
    "        axs[idx].plot(val_df.index, val_df[item], label=f\"val_{item}\")\n",
    "        axs[idx].grid()\n",
    "        axs[idx].legend()\n",
    "        # axs[idx].set_xticks(range(0, train_df.index[-1], 5000))\n",
    "        # axs[idx].set_xticklabels(map(lambda x: f\"{int(x/1000)}k\", range(0, train_df.index[-1], 5000)))\n",
    "        axs[idx].set_xlabel(\"step\")\n",
    "\n",
    "    plt.show()\n",
    "\n",
    "\n",
    "plot_learning_curves(record, sample_step=10)  #横坐标是 steps"
   ]
  },
  {
   "cell_type": "markdown",
   "id": "98a014efdd1b85c0",
   "metadata": {},
   "source": [
    "评估"
   ]
  },
  {
   "cell_type": "code",
   "execution_count": 38,
   "id": "3231f3d9ab549028",
   "metadata": {
    "ExecutionIndicator": {
     "show": true
    },
    "execution": {
     "iopub.execute_input": "2025-01-24T12:18:32.516821Z",
     "iopub.status.busy": "2025-01-24T12:18:32.516494Z",
     "iopub.status.idle": "2025-01-24T12:18:35.005535Z",
     "shell.execute_reply": "2025-01-24T12:18:35.005036Z",
     "shell.execute_reply.started": "2025-01-24T12:18:32.516788Z"
    },
    "tags": []
   },
   "outputs": [
    {
     "name": "stdout",
     "output_type": "stream",
     "text": [
      "loss:     0.3717\n",
      "accuracy: 0.8569\n"
     ]
    }
   ],
   "source": [
    "# dataload for evaluating\n",
    "\n",
    "# load checkpoints\n",
    "model.load_state_dict(torch.load(\"checkpoints/imdb-lstm-subword/best.ckpt\", map_location=\"cpu\", weights_only=True))\n",
    "\n",
    "model.eval()\n",
    "loss, acc = evaluating(model, test_dl, loss_fct)\n",
    "print(f\"loss:     {loss:.4f}\\naccuracy: {acc:.4f}\")"
   ]
  }
 ],
 "metadata": {
  "kernelspec": {
   "display_name": "Python 3 (ipykernel)",
   "language": "python",
   "name": "python3"
  },
  "language_info": {
   "codemirror_mode": {
    "name": "ipython",
    "version": 3
   },
   "file_extension": ".py",
   "mimetype": "text/x-python",
   "name": "python",
   "nbconvert_exporter": "python",
   "pygments_lexer": "ipython3",
   "version": "3.10.14"
  }
 },
 "nbformat": 4,
 "nbformat_minor": 5
}
