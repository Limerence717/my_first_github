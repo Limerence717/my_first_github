{
 "cells": [
  {
   "cell_type": "markdown",
   "id": "d7a18590c75660d",
   "metadata": {},
   "source": [
    "### homework1：通过LSTM实现电影情感分类，理解LSTM的参数，实战LSTM文本生成"
   ]
  },
  {
   "cell_type": "markdown",
   "id": "40cb9b39a02ca62f",
   "metadata": {},
   "source": [
    "#### LSTM实现电影情感分类——word level的分类"
   ]
  },
  {
   "cell_type": "code",
   "execution_count": 1,
   "id": "initial_id",
   "metadata": {
    "execution": {
     "iopub.execute_input": "2025-01-24T11:02:30.431778Z",
     "iopub.status.busy": "2025-01-24T11:02:30.431478Z",
     "iopub.status.idle": "2025-01-24T11:02:35.678408Z",
     "shell.execute_reply": "2025-01-24T11:02:35.677835Z",
     "shell.execute_reply.started": "2025-01-24T11:02:30.431755Z"
    },
    "tags": []
   },
   "outputs": [
    {
     "name": "stderr",
     "output_type": "stream",
     "text": [
      "/usr/local/lib/python3.10/site-packages/tqdm/auto.py:21: TqdmWarning: IProgress not found. Please update jupyter and ipywidgets. See https://ipywidgets.readthedocs.io/en/stable/user_install.html\n",
      "  from .autonotebook import tqdm as notebook_tqdm\n"
     ]
    },
    {
     "name": "stdout",
     "output_type": "stream",
     "text": [
      "sys.version_info(major=3, minor=10, micro=14, releaselevel='final', serial=0)\n",
      "matplotlib 3.10.0\n",
      "numpy 1.26.4\n",
      "pandas 2.2.3\n",
      "sklearn 1.6.0\n",
      "torch 2.5.1+cu124\n",
      "cuda:0\n"
     ]
    }
   ],
   "source": [
    "import matplotlib as mpl\n",
    "import matplotlib.pyplot as plt\n",
    "%matplotlib inline\n",
    "import numpy as np\n",
    "import sklearn\n",
    "import pandas as pd\n",
    "import os\n",
    "import sys\n",
    "import time\n",
    "from tqdm.auto import tqdm\n",
    "import torch\n",
    "import torch.nn as nn\n",
    "import torch.nn.functional as F\n",
    "\n",
    "print(sys.version_info)\n",
    "for module in mpl, np, pd, sklearn, torch:\n",
    "    print(module.__name__, module.__version__)\n",
    "\n",
    "device = torch.device(\"cuda:0\") if torch.cuda.is_available() else torch.device(\"cpu\")\n",
    "print(device)\n",
    "\n",
    "seed = 42\n",
    "torch.manual_seed(seed)\n",
    "torch.cuda.manual_seed_all(seed)"
   ]
  },
  {
   "cell_type": "markdown",
   "id": "dd94ee541728737",
   "metadata": {},
   "source": [
    "准备数据"
   ]
  },
  {
   "cell_type": "code",
   "execution_count": 2,
   "id": "2742e3cfae03f89",
   "metadata": {
    "execution": {
     "iopub.execute_input": "2025-01-24T11:02:42.854972Z",
     "iopub.status.busy": "2025-01-24T11:02:42.854282Z",
     "iopub.status.idle": "2025-01-24T11:02:50.318294Z",
     "shell.execute_reply": "2025-01-24T11:02:50.317734Z",
     "shell.execute_reply.started": "2025-01-24T11:02:42.854946Z"
    },
    "tags": []
   },
   "outputs": [
    {
     "name": "stderr",
     "output_type": "stream",
     "text": [
      "2025-01-24 19:02:43.453077: I tensorflow/core/util/port.cc:153] oneDNN custom operations are on. You may see slightly different numerical results due to floating-point round-off errors from different computation orders. To turn them off, set the environment variable `TF_ENABLE_ONEDNN_OPTS=0`.\n",
      "2025-01-24 19:02:43.828280: E external/local_xla/xla/stream_executor/cuda/cuda_fft.cc:477] Unable to register cuFFT factory: Attempting to register factory for plugin cuFFT when one has already been registered\n",
      "WARNING: All log messages before absl::InitializeLog() is called are written to STDERR\n",
      "E0000 00:00:1737716563.964128     327 cuda_dnn.cc:8310] Unable to register cuDNN factory: Attempting to register factory for plugin cuDNN when one has already been registered\n",
      "E0000 00:00:1737716564.006073     327 cuda_blas.cc:1418] Unable to register cuBLAS factory: Attempting to register factory for plugin cuBLAS when one has already been registered\n",
      "2025-01-24 19:02:44.359375: I tensorflow/core/platform/cpu_feature_guard.cc:210] This TensorFlow binary is optimized to use available CPU instructions in performance-critical operations.\n",
      "To enable the following instructions: AVX2 AVX512F AVX512_VNNI FMA, in other operations, rebuild TensorFlow with the appropriate compiler flags.\n"
     ]
    }
   ],
   "source": [
    "from tensorflow import keras\n",
    "\n",
    "#用karas有的数据集imdb，电影分类,分电影是积极的，还是消极的\n",
    "imdb = keras.datasets.imdb\n",
    "#载入数据使用下面两个参数\n",
    "vocab_size = 10000  #词典大小，仅保留训练数据中前10000个最经常出现的单词，低频单词被舍弃\n",
    "index_from = 3  #0,1,2,3空出来做别的事\n",
    "#前一万个词出现词频最高的会保留下来进行处理，后面的作为特殊字符处理，\n",
    "# 小于3的id都是特殊字符，下面代码有写\n",
    "# 需要注意的一点是取出来的词表还是从1开始的，需要做处理\n",
    "(train_data, train_labels), (test_data, test_labels) = imdb.load_data(\n",
    "    num_words=vocab_size, index_from=index_from)"
   ]
  },
  {
   "cell_type": "code",
   "execution_count": 3,
   "id": "d2f54508f9401c2",
   "metadata": {
    "execution": {
     "iopub.execute_input": "2025-01-24T11:02:55.176872Z",
     "iopub.status.busy": "2025-01-24T11:02:55.176336Z",
     "iopub.status.idle": "2025-01-24T11:02:55.180235Z",
     "shell.execute_reply": "2025-01-24T11:02:55.179740Z",
     "shell.execute_reply.started": "2025-01-24T11:02:55.176844Z"
    },
    "tags": []
   },
   "outputs": [
    {
     "name": "stdout",
     "output_type": "stream",
     "text": [
      "train 25000 (25000,)\n",
      "test 25000 (25000,)\n"
     ]
    }
   ],
   "source": [
    "print(\"train\", len(train_data), train_labels.shape)  #25000个样本，每个样本是一段话，每个单词用一个数字表示\n",
    "print(\"test\", len(test_data), test_labels.shape)"
   ]
  },
  {
   "cell_type": "code",
   "execution_count": 4,
   "id": "3af64e21658e22f",
   "metadata": {
    "execution": {
     "iopub.execute_input": "2025-01-24T11:02:56.683974Z",
     "iopub.status.busy": "2025-01-24T11:02:56.683398Z",
     "iopub.status.idle": "2025-01-24T11:02:56.726450Z",
     "shell.execute_reply": "2025-01-24T11:02:56.725954Z",
     "shell.execute_reply.started": "2025-01-24T11:02:56.683950Z"
    },
    "tags": []
   },
   "outputs": [
    {
     "name": "stdout",
     "output_type": "stream",
     "text": [
      "88584\n",
      "<class 'dict'>\n"
     ]
    }
   ],
   "source": [
    "#载入词表，看下词表长度，词表就像英语字典\n",
    "word_index = imdb.get_word_index()\n",
    "print(len(word_index))\n",
    "print(type(word_index))\n",
    "#词表虽然有8万多，但是我们只载入了最高频的1万词！！！！"
   ]
  },
  {
   "cell_type": "markdown",
   "id": "45f4b6e0a15703e9",
   "metadata": {},
   "source": [
    "构造 word2idx 和 idx2word"
   ]
  },
  {
   "cell_type": "code",
   "execution_count": 5,
   "id": "38e1807550a791ea",
   "metadata": {
    "execution": {
     "iopub.execute_input": "2025-01-24T11:04:20.241334Z",
     "iopub.status.busy": "2025-01-24T11:04:20.240979Z",
     "iopub.status.idle": "2025-01-24T11:04:20.272230Z",
     "shell.execute_reply": "2025-01-24T11:04:20.271550Z",
     "shell.execute_reply.started": "2025-01-24T11:04:20.241309Z"
    }
   },
   "outputs": [],
   "source": [
    "word2idx = {word: idx + 3 for word, idx in word_index.items()}\n",
    "word2idx.update({\n",
    "    \"[PAD]\": 0,  # 填充 token\n",
    "    \"[BOS]\": 1,  # begin of sentence\n",
    "    \"[UNK]\": 2,  # 未知 token\n",
    "    \"[EOS]\": 3,  # end of sentence\n",
    "})\n",
    "\n",
    "idx2word = {idx: word for word, idx in word2idx.items()}"
   ]
  },
  {
   "cell_type": "code",
   "execution_count": 6,
   "id": "a78c5d6c965b4179",
   "metadata": {
    "execution": {
     "iopub.execute_input": "2025-01-24T11:04:20.273595Z",
     "iopub.status.busy": "2025-01-24T11:04:20.273276Z",
     "iopub.status.idle": "2025-01-24T11:04:21.277076Z",
     "shell.execute_reply": "2025-01-24T11:04:21.276413Z",
     "shell.execute_reply.started": "2025-01-24T11:04:20.273575Z"
    }
   },
   "outputs": [
    {
     "data": {
      "image/png": "[encoded data removed]",
      "text/plain": [
       "<Figure size 640x480 with 1 Axes>"
      ]
     },
     "metadata": {},
     "output_type": "display_data"
    }
   ],
   "source": [
    "# 选择 max_length\n",
    "length_collect = {}\n",
    "for text in train_data:\n",
    "    length = len(text)\n",
    "    length_collect[length] = length_collect.get(length, 0) + 1\n",
    "\n",
    "MAX_LENGTH = 500\n",
    "plt.bar(length_collect.keys(), length_collect.values())\n",
    "plt.axvline(MAX_LENGTH, label=\"max length\", c=\"gray\", ls=\":\")\n",
    "plt.legend()\n",
    "plt.show()"
   ]
  },
  {
   "cell_type": "markdown",
   "id": "3c901fb31998eb89",
   "metadata": {},
   "source": [
    "Tokenizer"
   ]
  },
  {
   "cell_type": "code",
   "execution_count": 7,
   "id": "5fa2447fbec2721f",
   "metadata": {
    "execution": {
     "iopub.execute_input": "2025-01-24T11:04:21.277902Z",
     "iopub.status.busy": "2025-01-24T11:04:21.277702Z",
     "iopub.status.idle": "2025-01-24T11:04:21.285359Z",
     "shell.execute_reply": "2025-01-24T11:04:21.284759Z",
     "shell.execute_reply.started": "2025-01-24T11:04:21.277883Z"
    }
   },
   "outputs": [],
   "source": [
    "class Tokenizer:\n",
    "    def __init__(self, word2idx, idx2word, max_length=500, pad_idx=0, bos_idx=1, eos_idx=3, unk_idx=2):\n",
    "        self.word2idx = word2idx\n",
    "        self.idx2word = idx2word\n",
    "        self.max_length = max_length\n",
    "        self.pad_idx = pad_idx\n",
    "        self.bos_idx = bos_idx\n",
    "        self.eos_idx = eos_idx\n",
    "        self.unk_idx = unk_idx\n",
    "\n",
    "    def encode(self, text_list, padding_first=False):\n",
    "        \"\"\"如果padding_first == True，则padding加载前面，否则加载后面\"\"\"\n",
    "        max_length = min(self.max_length, 2 + max([len(text) for text in text_list]))\n",
    "        indices_list = []\n",
    "        for text in text_list:\n",
    "            indices = [self.bos_idx] + [self.word2idx.get(word, self.unk_idx) for word in text[:max_length - 2]] + [\n",
    "                self.eos_idx]\n",
    "            if padding_first:\n",
    "                indices = [self.pad_idx] * (max_length - len(indices)) + indices\n",
    "            else:\n",
    "                indices = indices + [self.pad_idx] * (max_length - len(indices))\n",
    "            indices_list.append(indices)\n",
    "        return torch.tensor(indices_list)\n",
    "\n",
    "    def decode(self, indices_list, remove_bos=True, remove_eos=True, remove_pad=True, split=False):\n",
    "        text_list = []\n",
    "        for indices in indices_list:\n",
    "            text = []\n",
    "            for index in indices:\n",
    "                word = self.idx2word.get(index, \"[UNK]\")\n",
    "                if remove_bos and word == \"[BOS]\":\n",
    "                    continue\n",
    "                if remove_eos and word == \"[EOS]\":\n",
    "                    break\n",
    "                if remove_pad and word == \"[PAD]\":\n",
    "                    break\n",
    "                text.append(word)\n",
    "            text_list.append(\" \".join(text) if not split else text)\n",
    "        return text_list"
   ]
  },
  {
   "cell_type": "code",
   "execution_count": 8,
   "id": "c09feec9ff8c40a",
   "metadata": {
    "execution": {
     "iopub.execute_input": "2025-01-24T11:04:21.286076Z",
     "iopub.status.busy": "2025-01-24T11:04:21.285903Z",
     "iopub.status.idle": "2025-01-24T11:04:21.315543Z",
     "shell.execute_reply": "2025-01-24T11:04:21.315060Z",
     "shell.execute_reply.started": "2025-01-24T11:04:21.286058Z"
    }
   },
   "outputs": [
    {
     "name": "stdout",
     "output_type": "stream",
     "text": [
      "raw text\n",
      "['hello', 'world']\n",
      "['tokenize', 'text', 'datas', 'with', 'batch']\n",
      "['this', 'is', 'a', 'test']\n",
      "indices\n",
      "tensor([   0,    0,    0,    1, 4825,  182,    3])\n",
      "tensor([    1,     2,  3004,     2,    19, 19233,     3])\n",
      "tensor([   0,    1,   14,    9,    6, 2181,    3])\n",
      "decode text\n",
      "[PAD] [PAD] [PAD] [BOS] hello world [EOS]\n",
      "[BOS] [UNK] text [UNK] with batch [EOS]\n",
      "[PAD] [BOS] this is a test [EOS]\n"
     ]
    }
   ],
   "source": [
    "tokenizer = Tokenizer(word2idx=word2idx, idx2word=idx2word)\n",
    "raw_text = [\"hello world\".split(), \"tokenize text datas with batch\".split(), \"this is a test\".split()]\n",
    "indices = tokenizer.encode(raw_text, padding_first=True)\n",
    "print(\"raw text\")\n",
    "for raw in raw_text:\n",
    "    print(raw)\n",
    "print(\"indices\")\n",
    "for index in indices:\n",
    "    print(index)\n",
    "decode_text = tokenizer.decode(indices.tolist(), remove_bos=False, remove_eos=False, remove_pad=False)\n",
    "print(\"decode text\")\n",
    "for decode in decode_text:\n",
    "    print(decode)"
   ]
  },
  {
   "cell_type": "code",
   "execution_count": 9,
   "id": "abab64111e716a8c",
   "metadata": {
    "execution": {
     "iopub.execute_input": "2025-01-24T11:04:21.317078Z",
     "iopub.status.busy": "2025-01-24T11:04:21.316903Z",
     "iopub.status.idle": "2025-01-24T11:04:21.321364Z",
     "shell.execute_reply": "2025-01-24T11:04:21.320794Z",
     "shell.execute_reply.started": "2025-01-24T11:04:21.317060Z"
    }
   },
   "outputs": [
    {
     "data": {
      "text/plain": [
       "[\"[BOS] this film was just brilliant casting location scenery story direction everyone's really suited the part they played and you could just imagine being there robert [UNK] is an amazing actor and now the same being director [UNK] father came from the same scottish island as myself so i loved the fact there was a real connection with this film the witty remarks throughout the film were great it was just brilliant so much that i bought the film as soon as it was released for [UNK] and would recommend it to everyone to watch and the fly fishing was amazing really cried at the end it was so sad and you know what they say if you cry at a film it must have been good and this definitely was also [UNK] to the two little boy's that played the [UNK] of norman and paul they were just brilliant children are often left out of the [UNK] list i think because the stars that play them all grown up are such a big profile for the whole film but these children are amazing and should be praised for what they have done don't you think the whole story was so lovely because it was true and was someone's life after all that was shared with us all\",\n",
       " \"[BOS] big hair big boobs bad music and a giant safety pin these are the words to best describe this terrible movie i love cheesy horror movies and i've seen hundreds but this had got to be on of the worst ever made the plot is paper thin and ridiculous the acting is an abomination the script is completely laughable the best is the end showdown with the cop and how he worked out who the killer is it's just so damn terribly written the clothes are sickening and funny in equal [UNK] the hair is big lots of boobs [UNK] men wear those cut [UNK] shirts that show off their [UNK] sickening that men actually wore them and the music is just [UNK] trash that plays over and over again in almost every scene there is trashy music boobs and [UNK] taking away bodies and the gym still doesn't close for [UNK] all joking aside this is a truly bad film whose only charm is to look back on the disaster that was the 80's and have a good old laugh at how bad everything was back then\"]"
      ]
     },
     "execution_count": 9,
     "metadata": {},
     "output_type": "execute_result"
    }
   ],
   "source": [
    "# 看看训练集的数据\n",
    "tokenizer.decode(train_data[:2], remove_bos=False, remove_eos=False, remove_pad=False)"
   ]
  },
  {
   "cell_type": "markdown",
   "id": "6c680939c8a8b905",
   "metadata": {},
   "source": [
    "数据集与 DataLoader"
   ]
  },
  {
   "cell_type": "code",
   "execution_count": 10,
   "id": "ebb4be8b451c12f2",
   "metadata": {
    "execution": {
     "iopub.execute_input": "2025-01-24T11:04:21.322036Z",
     "iopub.status.busy": "2025-01-24T11:04:21.321874Z",
     "iopub.status.idle": "2025-01-24T11:04:24.620252Z",
     "shell.execute_reply": "2025-01-24T11:04:24.619701Z",
     "shell.execute_reply.started": "2025-01-24T11:04:21.322018Z"
    }
   },
   "outputs": [],
   "source": [
    "from torch.utils.data import Dataset, DataLoader\n",
    "\n",
    "\n",
    "class IMDBDataset(Dataset):\n",
    "    def __init__(self, data, labels, remain_length=True):\n",
    "        if remain_length:\n",
    "            self.data = tokenizer.decode(data, remove_bos=False, remove_eos=False, remove_pad=False)\n",
    "        else:\n",
    "            # 缩减一下数据\n",
    "            self.data = tokenizer.decode(data)\n",
    "        self.labels = labels\n",
    "\n",
    "    def __getitem__(self, index):\n",
    "        text = self.data[index]\n",
    "        label = self.labels[index]\n",
    "        return text, label\n",
    "\n",
    "    def __len__(self):\n",
    "        return len(self.data)\n",
    "\n",
    "\n",
    "def collate_fct(batch):\n",
    "    text_list = [item[0].split() for item in batch]\n",
    "    label_list = [item[1] for item in batch]\n",
    "    # 这里使用 padding first\n",
    "    text_list = tokenizer.encode(text_list, padding_first=True).to(dtype=torch.int)\n",
    "    label_list = torch.tensor(label_list).reshape(-1, 1).to(dtype=torch.float)\n",
    "    return text_list, label_list\n",
    "\n",
    "\n",
    "# 用RNN，缩短序列长度\n",
    "train_ds = IMDBDataset(train_data, train_labels, remain_length=False)\n",
    "test_ds = IMDBDataset(test_data, test_labels, remain_length=False)"
   ]
  },
  {
   "cell_type": "code",
   "execution_count": 11,
   "id": "cd749fbbbc237fe",
   "metadata": {
    "execution": {
     "iopub.execute_input": "2025-01-24T11:04:24.621249Z",
     "iopub.status.busy": "2025-01-24T11:04:24.620836Z",
     "iopub.status.idle": "2025-01-24T11:04:24.624238Z",
     "shell.execute_reply": "2025-01-24T11:04:24.623718Z",
     "shell.execute_reply.started": "2025-01-24T11:04:24.621230Z"
    }
   },
   "outputs": [],
   "source": [
    "batch_size = 128\n",
    "train_dl = DataLoader(train_ds, batch_size=batch_size, shuffle=True, collate_fn=collate_fct)\n",
    "test_dl = DataLoader(test_ds, batch_size=batch_size, shuffle=False, collate_fn=collate_fct)"
   ]
  },
  {
   "cell_type": "code",
   "execution_count": 12,
   "id": "19c9c7de70c4b099",
   "metadata": {
    "execution": {
     "iopub.execute_input": "2025-01-24T11:04:24.625297Z",
     "iopub.status.busy": "2025-01-24T11:04:24.624909Z",
     "iopub.status.idle": "2025-01-24T11:04:24.665491Z",
     "shell.execute_reply": "2025-01-24T11:04:24.665001Z",
     "shell.execute_reply.started": "2025-01-24T11:04:24.625277Z"
    }
   },
   "outputs": [
    {
     "name": "stdout",
     "output_type": "stream",
     "text": [
      "torch.Size([128, 500]) torch.Size([128, 1])\n"
     ]
    }
   ],
   "source": [
    "for text, label in train_dl:  #检查样本是否存在问题\n",
    "    print(text.shape, label.shape)\n",
    "    break"
   ]
  },
  {
   "cell_type": "markdown",
   "id": "283d1c923ba105f8",
   "metadata": {},
   "source": [
    "定义模型"
   ]
  },
  {
   "cell_type": "code",
   "execution_count": 13,
   "id": "a95732b631eb2059",
   "metadata": {
    "execution": {
     "iopub.execute_input": "2025-01-24T11:04:24.666239Z",
     "iopub.status.busy": "2025-01-24T11:04:24.666071Z",
     "iopub.status.idle": "2025-01-24T11:04:24.671127Z",
     "shell.execute_reply": "2025-01-24T11:04:24.670653Z",
     "shell.execute_reply.started": "2025-01-24T11:04:24.666221Z"
    }
   },
   "outputs": [],
   "source": [
    "class LSTM(nn.Module):\n",
    "    def __init__(self, embedding_dim=16, hidden_dim=64, vocab_size=vocab_size, num_layers=1, bidirectional=False):\n",
    "        super(LSTM, self).__init__()\n",
    "        self.embedding = nn.Embedding(vocab_size, embedding_dim)\n",
    "        self.lstm = nn.LSTM(embedding_dim, hidden_dim, num_layers=num_layers, batch_first=True,\n",
    "                            bidirectional=bidirectional)\n",
    "        self.layer = nn.Linear(hidden_dim * (2 if bidirectional else 1), hidden_dim)\n",
    "        self.fc = nn.Linear(hidden_dim, 1)\n",
    "\n",
    "    def forward(self, x):\n",
    "        # [bs, seq length]\n",
    "        x = self.embedding(x)\n",
    "        # [bs, seq length, embedding_dim] -> shape [bs, seq length，hidden_dim]\n",
    "        seq_output, (hidden, cell) = self.lstm(x)\n",
    "        # print(f'seq_output.shape{seq_output.shape}')\n",
    "        # print(f'hidden.shape{hidden.shape}') #最后一个时间步的输出\n",
    "        # print(f'cell.shape{cell.shape}') #最后一个时间步的cell state\n",
    "        # print(seq_output[:, -1, :].squeeze()==hidden.squeeze()) #squeeze() 去掉轴的尺寸为1的哪个轴\n",
    "        # print(seq_output[:, -1, :].squeeze()==cell.squeeze())\n",
    "        x = seq_output[:, -1, :]\n",
    "        # 取最后一个时间步的输出 (这也是为什么要设置padding_first=True的原因)\n",
    "        x = self.layer(x)\n",
    "        x = self.fc(x)\n",
    "        return x"
   ]
  },
  {
   "cell_type": "code",
   "execution_count": 14,
   "id": "173fda82c59f3e4d",
   "metadata": {
    "execution": {
     "iopub.execute_input": "2025-01-24T11:04:24.671865Z",
     "iopub.status.busy": "2025-01-24T11:04:24.671685Z",
     "iopub.status.idle": "2025-01-24T11:04:24.678151Z",
     "shell.execute_reply": "2025-01-24T11:04:24.677704Z",
     "shell.execute_reply.started": "2025-01-24T11:04:24.671846Z"
    }
   },
   "outputs": [
    {
     "name": "stdout",
     "output_type": "stream",
     "text": [
      "================================== 单层单向 LSTM ===================================\n",
      "            embedding.weight            paramerters num: 160000\n",
      "           lstm.weight_ih_l0            paramerters num: 4096\n",
      "           lstm.weight_hh_l0            paramerters num: 16384\n",
      "            lstm.bias_ih_l0             paramerters num: 256\n",
      "            lstm.bias_hh_l0             paramerters num: 256\n",
      "              layer.weight              paramerters num: 4096\n",
      "               layer.bias               paramerters num: 64\n",
      "               fc.weight                paramerters num: 64\n",
      "                fc.bias                 paramerters num: 1\n"
     ]
    }
   ],
   "source": [
    "print(\"{:=^80}\".format(\" 单层单向 LSTM \"))\n",
    "for key, value in LSTM().named_parameters():\n",
    "    print(f\"{key:^40}paramerters num: {np.prod(value.shape)}\")"
   ]
  },
  {
   "cell_type": "code",
   "execution_count": 15,
   "id": "8d706af00f236557",
   "metadata": {
    "execution": {
     "iopub.execute_input": "2025-01-24T11:04:24.678789Z",
     "iopub.status.busy": "2025-01-24T11:04:24.678618Z",
     "iopub.status.idle": "2025-01-24T11:04:24.684088Z",
     "shell.execute_reply": "2025-01-24T11:04:24.683620Z",
     "shell.execute_reply.started": "2025-01-24T11:04:24.678771Z"
    }
   },
   "outputs": [
    {
     "name": "stdout",
     "output_type": "stream",
     "text": [
      "================================== 单层双向 LSTM ===================================\n",
      "            embedding.weight            paramerters num: 160000\n",
      "           lstm.weight_ih_l0            paramerters num: 4096\n",
      "           lstm.weight_hh_l0            paramerters num: 16384\n",
      "            lstm.bias_ih_l0             paramerters num: 256\n",
      "            lstm.bias_hh_l0             paramerters num: 256\n",
      "       lstm.weight_ih_l0_reverse        paramerters num: 4096\n",
      "       lstm.weight_hh_l0_reverse        paramerters num: 16384\n",
      "        lstm.bias_ih_l0_reverse         paramerters num: 256\n",
      "        lstm.bias_hh_l0_reverse         paramerters num: 256\n",
      "              layer.weight              paramerters num: 8192\n",
      "               layer.bias               paramerters num: 64\n",
      "               fc.weight                paramerters num: 64\n",
      "                fc.bias                 paramerters num: 1\n"
     ]
    }
   ],
   "source": [
    "print(\"{:=^80}\".format(\" 单层双向 LSTM \"))\n",
    "for key, value in LSTM(bidirectional=True).named_parameters():\n",
    "    print(f\"{key:^40}paramerters num: {np.prod(value.shape)}\")"
   ]
  },
  {
   "cell_type": "code",
   "execution_count": 16,
   "id": "5df6f76f27694883",
   "metadata": {
    "execution": {
     "iopub.execute_input": "2025-01-24T11:04:24.684754Z",
     "iopub.status.busy": "2025-01-24T11:04:24.684588Z",
     "iopub.status.idle": "2025-01-24T11:04:24.689527Z",
     "shell.execute_reply": "2025-01-24T11:04:24.689091Z",
     "shell.execute_reply.started": "2025-01-24T11:04:24.684737Z"
    }
   },
   "outputs": [
    {
     "name": "stdout",
     "output_type": "stream",
     "text": [
      "================================== 双层单向 LSTM ===================================\n",
      "            embedding.weight            paramerters num: 160000\n",
      "           lstm.weight_ih_l0            paramerters num: 4096\n",
      "           lstm.weight_hh_l0            paramerters num: 16384\n",
      "            lstm.bias_ih_l0             paramerters num: 256\n",
      "            lstm.bias_hh_l0             paramerters num: 256\n",
      "           lstm.weight_ih_l1            paramerters num: 16384\n",
      "           lstm.weight_hh_l1            paramerters num: 16384\n",
      "            lstm.bias_ih_l1             paramerters num: 256\n",
      "            lstm.bias_hh_l1             paramerters num: 256\n",
      "              layer.weight              paramerters num: 4096\n",
      "               layer.bias               paramerters num: 64\n",
      "               fc.weight                paramerters num: 64\n",
      "                fc.bias                 paramerters num: 1\n"
     ]
    }
   ],
   "source": [
    "print(\"{:=^80}\".format(\" 双层单向 LSTM \"))\n",
    "for key, value in LSTM(num_layers=2).named_parameters():\n",
    "    print(f\"{key:^40}paramerters num: {np.prod(value.shape)}\")"
   ]
  },
  {
   "cell_type": "code",
   "execution_count": 17,
   "id": "58b7b2b5ea6bf1aa",
   "metadata": {
    "execution": {
     "iopub.execute_input": "2025-01-24T11:04:24.690208Z",
     "iopub.status.busy": "2025-01-24T11:04:24.690040Z",
     "iopub.status.idle": "2025-01-24T11:04:24.695925Z",
     "shell.execute_reply": "2025-01-24T11:04:24.695493Z",
     "shell.execute_reply.started": "2025-01-24T11:04:24.690191Z"
    }
   },
   "outputs": [
    {
     "name": "stdout",
     "output_type": "stream",
     "text": [
      "================================== 双层双向 LSTM ===================================\n",
      "            embedding.weight            paramerters num: 160000\n",
      "           lstm.weight_ih_l0            paramerters num: 4096\n",
      "           lstm.weight_hh_l0            paramerters num: 16384\n",
      "            lstm.bias_ih_l0             paramerters num: 256\n",
      "            lstm.bias_hh_l0             paramerters num: 256\n",
      "       lstm.weight_ih_l0_reverse        paramerters num: 4096\n",
      "       lstm.weight_hh_l0_reverse        paramerters num: 16384\n",
      "        lstm.bias_ih_l0_reverse         paramerters num: 256\n",
      "        lstm.bias_hh_l0_reverse         paramerters num: 256\n",
      "           lstm.weight_ih_l1            paramerters num: 32768\n",
      "           lstm.weight_hh_l1            paramerters num: 16384\n",
      "            lstm.bias_ih_l1             paramerters num: 256\n",
      "            lstm.bias_hh_l1             paramerters num: 256\n",
      "       lstm.weight_ih_l1_reverse        paramerters num: 32768\n",
      "       lstm.weight_hh_l1_reverse        paramerters num: 16384\n",
      "        lstm.bias_ih_l1_reverse         paramerters num: 256\n",
      "        lstm.bias_hh_l1_reverse         paramerters num: 256\n",
      "              layer.weight              paramerters num: 8192\n",
      "               layer.bias               paramerters num: 64\n",
      "               fc.weight                paramerters num: 64\n",
      "                fc.bias                 paramerters num: 1\n"
     ]
    }
   ],
   "source": [
    "print(\"{:=^80}\".format(\" 双层双向 LSTM \"))\n",
    "for key, value in LSTM(num_layers=2, bidirectional=True).named_parameters():\n",
    "    print(f\"{key:^40}paramerters num: {np.prod(value.shape)}\")"
   ]
  },
  {
   "cell_type": "code",
   "execution_count": 18,
   "id": "db9e32c9fa21ce97",
   "metadata": {
    "execution": {
     "iopub.execute_input": "2025-01-24T11:04:24.698899Z",
     "iopub.status.busy": "2025-01-24T11:04:24.698510Z",
     "iopub.status.idle": "2025-01-24T11:04:24.857839Z",
     "shell.execute_reply": "2025-01-24T11:04:24.857301Z",
     "shell.execute_reply.started": "2025-01-24T11:04:24.698879Z"
    }
   },
   "outputs": [
    {
     "name": "stdout",
     "output_type": "stream",
     "text": [
      "torch.Size([128, 1])\n"
     ]
    }
   ],
   "source": [
    "model = LSTM()\n",
    "#随机一个（128,500）的输入\n",
    "sample_inputs = torch.randint(0, vocab_size, (128, 500))\n",
    "sample_outputs = model(sample_inputs)\n",
    "print(sample_outputs.shape)"
   ]
  },
  {
   "cell_type": "markdown",
   "id": "797a73cc4c637a2b",
   "metadata": {},
   "source": [
    "训练"
   ]
  },
  {
   "cell_type": "code",
   "execution_count": 19,
   "id": "c4d962b83349a7ba",
   "metadata": {
    "execution": {
     "iopub.execute_input": "2025-01-24T11:04:24.858613Z",
     "iopub.status.busy": "2025-01-24T11:04:24.858427Z",
     "iopub.status.idle": "2025-01-24T11:04:24.955695Z",
     "shell.execute_reply": "2025-01-24T11:04:24.955182Z",
     "shell.execute_reply.started": "2025-01-24T11:04:24.858593Z"
    }
   },
   "outputs": [],
   "source": [
    "from sklearn.metrics import accuracy_score\n",
    "\n",
    "\n",
    "@torch.no_grad()\n",
    "def evaluating(model, dataloader, loss_fct):\n",
    "    loss_list = []\n",
    "    pred_list = []\n",
    "    label_list = []\n",
    "    for datas, labels in dataloader:\n",
    "        datas = datas.to(device)\n",
    "        labels = labels.to(device)\n",
    "        # 前向计算\n",
    "        logits = model(datas)\n",
    "        loss = loss_fct(logits, labels)  # 验证集损失\n",
    "        loss_list.append(loss.item())\n",
    "        # 二分类\n",
    "        preds = logits > 0\n",
    "        pred_list.extend(preds.cpu().numpy().tolist())\n",
    "        label_list.extend(labels.cpu().numpy().tolist())\n",
    "\n",
    "    acc = accuracy_score(label_list, pred_list)\n",
    "    return np.mean(loss_list), acc"
   ]
  },
  {
   "cell_type": "code",
   "execution_count": 20,
   "id": "30794f5f57367066",
   "metadata": {
    "execution": {
     "iopub.execute_input": "2025-01-24T11:04:24.956636Z",
     "iopub.status.busy": "2025-01-24T11:04:24.956299Z",
     "iopub.status.idle": "2025-01-24T11:04:25.102547Z",
     "shell.execute_reply": "2025-01-24T11:04:25.102035Z",
     "shell.execute_reply.started": "2025-01-24T11:04:24.956616Z"
    }
   },
   "outputs": [],
   "source": [
    "from torch.utils.tensorboard import SummaryWriter\n",
    "\n",
    "\n",
    "class TensorBoardCallback:\n",
    "    def __init__(self, log_dir, flush_secs=10):\n",
    "        \"\"\"\n",
    "        Args:\n",
    "            log_dir (str): dir to write log.\n",
    "            flush_secs (int, optional): write to dsk each flush_secs seconds. Defaults to 10.\n",
    "        \"\"\"\n",
    "        self.writer = SummaryWriter(log_dir=log_dir, flush_secs=flush_secs)\n",
    "\n",
    "    def draw_model(self, model, input_shape):\n",
    "        self.writer.add_graph(model, input_to_model=torch.randn(input_shape))\n",
    "\n",
    "    def add_loss_scalars(self, step, loss, val_loss):\n",
    "        self.writer.add_scalars(\n",
    "            main_tag=\"training/loss\",\n",
    "            tag_scalar_dict={\"loss\": loss, \"val_loss\": val_loss},\n",
    "            global_step=step,\n",
    "        )\n",
    "\n",
    "    def add_acc_scalars(self, step, acc, val_acc):\n",
    "        self.writer.add_scalars(\n",
    "            main_tag=\"training/accuracy\",\n",
    "            tag_scalar_dict={\"accuracy\": acc, \"val_accuracy\": val_acc},\n",
    "            global_step=step,\n",
    "        )\n",
    "\n",
    "    def add_lr_scalars(self, step, learning_rate):\n",
    "        self.writer.add_scalars(\n",
    "            main_tag=\"training/learning_rate\",\n",
    "            tag_scalar_dict={\"learning_rate\": learning_rate},\n",
    "            global_step=step,\n",
    "\n",
    "        )\n",
    "\n",
    "    def __call__(self, step, **kwargs):\n",
    "        # add loss\n",
    "        loss = kwargs.pop(\"loss\", None)\n",
    "        val_loss = kwargs.pop(\"val_loss\", None)\n",
    "        if loss is not None and val_loss is not None:\n",
    "            self.add_loss_scalars(step, loss, val_loss)\n",
    "        # add acc\n",
    "        acc = kwargs.pop(\"acc\", None)\n",
    "        val_acc = kwargs.pop(\"val_acc\", None)\n",
    "        if acc is not None and val_acc is not None:\n",
    "            self.add_acc_scalars(step, acc, val_acc)\n",
    "        # add lr\n",
    "        learning_rate = kwargs.pop(\"lr\", None)\n",
    "        if learning_rate is not None:\n",
    "            self.add_lr_scalars(step, learning_rate)"
   ]
  },
  {
   "cell_type": "code",
   "execution_count": 21,
   "id": "9fadaca116d9174",
   "metadata": {
    "execution": {
     "iopub.execute_input": "2025-01-24T11:04:25.103363Z",
     "iopub.status.busy": "2025-01-24T11:04:25.103177Z",
     "iopub.status.idle": "2025-01-24T11:04:25.108308Z",
     "shell.execute_reply": "2025-01-24T11:04:25.107823Z",
     "shell.execute_reply.started": "2025-01-24T11:04:25.103344Z"
    }
   },
   "outputs": [],
   "source": [
    "class SaveCheckpointsCallback:\n",
    "    def __init__(self, save_dir, save_step=5000, save_best_only=True):\n",
    "        \"\"\"\n",
    "        Save checkpoints each save_epoch epoch. \n",
    "        We save checkpoint by epoch in this implementation.\n",
    "        Usually, training scripts with pytorch evaluating model and save checkpoint by step.\n",
    "\n",
    "        Args:\n",
    "            save_dir (str): dir to save checkpoint\n",
    "            save_epoch (int, optional): the frequency to save checkpoint. Defaults to 1.\n",
    "            save_best_only (bool, optional): If True, only save the best model or save each model at every epoch.\n",
    "        \"\"\"\n",
    "        self.save_dir = save_dir\n",
    "        self.save_step = save_step\n",
    "        self.save_best_only = save_best_only\n",
    "        self.best_metrics = -1\n",
    "\n",
    "        # mkdir\n",
    "        if not os.path.exists(self.save_dir):\n",
    "            os.mkdir(self.save_dir)\n",
    "\n",
    "    def __call__(self, step, state_dict, metric=None):\n",
    "        if step % self.save_step > 0:\n",
    "            return\n",
    "\n",
    "        if self.save_best_only:\n",
    "            assert metric is not None\n",
    "            if metric >= self.best_metrics:\n",
    "                # save checkpoints\n",
    "                torch.save(state_dict, os.path.join(self.save_dir, \"best.ckpt\"))\n",
    "                # update best metrics\n",
    "                self.best_metrics = metric\n",
    "        else:\n",
    "            torch.save(state_dict, os.path.join(self.save_dir, f\"{step}.ckpt\"))"
   ]
  },
  {
   "cell_type": "code",
   "execution_count": 22,
   "id": "fab71c4f49cda362",
   "metadata": {
    "execution": {
     "iopub.execute_input": "2025-01-24T11:04:25.109279Z",
     "iopub.status.busy": "2025-01-24T11:04:25.108861Z",
     "iopub.status.idle": "2025-01-24T11:04:25.113096Z",
     "shell.execute_reply": "2025-01-24T11:04:25.112639Z",
     "shell.execute_reply.started": "2025-01-24T11:04:25.109259Z"
    }
   },
   "outputs": [],
   "source": [
    "class EarlyStopCallback:\n",
    "    def __init__(self, patience=5, min_delta=0.01):\n",
    "        \"\"\"\n",
    "\n",
    "        Args:\n",
    "            patience (int, optional): Number of epochs with no improvement after which training will be stopped.. Defaults to 5.\n",
    "            min_delta (float, optional): Minimum change in the monitored quantity to qualify as an improvement, i.e. an absolute \n",
    "                change of less than min_delta, will count as no improvement. Defaults to 0.01.\n",
    "        \"\"\"\n",
    "        self.patience = patience\n",
    "        self.min_delta = min_delta\n",
    "        self.best_metric = -1\n",
    "        self.counter = 0\n",
    "\n",
    "    def __call__(self, metric):\n",
    "        if metric >= self.best_metric + self.min_delta:\n",
    "            # update best metric\n",
    "            self.best_metric = metric\n",
    "            # reset counter \n",
    "            self.counter = 0\n",
    "        else:\n",
    "            self.counter += 1\n",
    "\n",
    "    @property\n",
    "    def early_stop(self):\n",
    "        return self.counter >= self.patience"
   ]
  },
  {
   "cell_type": "code",
   "execution_count": 23,
   "id": "b943969c13e0feb",
   "metadata": {
    "execution": {
     "iopub.execute_input": "2025-01-24T11:04:25.113876Z",
     "iopub.status.busy": "2025-01-24T11:04:25.113627Z",
     "iopub.status.idle": "2025-01-24T11:04:25.121757Z",
     "shell.execute_reply": "2025-01-24T11:04:25.121292Z",
     "shell.execute_reply.started": "2025-01-24T11:04:25.113856Z"
    }
   },
   "outputs": [],
   "source": [
    "# 训练\n",
    "def training(\n",
    "        model,\n",
    "        train_loader,\n",
    "        val_loader,\n",
    "        epoch,\n",
    "        loss_fct,\n",
    "        optimizer,\n",
    "        tensorboard_callback=None,\n",
    "        save_ckpt_callback=None,\n",
    "        early_stop_callback=None,\n",
    "        eval_step=500,\n",
    "):\n",
    "    record_dict = {\n",
    "        \"train\": [],\n",
    "        \"val\": []\n",
    "    }\n",
    "\n",
    "    global_step = 0\n",
    "    model.train()\n",
    "    with tqdm(total=epoch * len(train_loader)) as pbar:\n",
    "        for epoch_id in range(epoch):\n",
    "            # training\n",
    "            for datas, labels in train_loader:\n",
    "                datas = datas.to(device)\n",
    "                labels = labels.to(device)\n",
    "                # 梯度清空\n",
    "                optimizer.zero_grad()\n",
    "                # 模型前向计算\n",
    "                logits = model(datas)\n",
    "                # 计算损失\n",
    "                loss = loss_fct(logits, labels)\n",
    "                # 梯度回传\n",
    "                loss.backward()\n",
    "                # 调整优化器，包括学习率的变动等\n",
    "                optimizer.step()\n",
    "                preds = logits > 0\n",
    "\n",
    "                acc = accuracy_score(labels.cpu().numpy(), preds.cpu().numpy())\n",
    "                loss = loss.cpu().item()\n",
    "                # record\n",
    "\n",
    "                record_dict[\"train\"].append({\n",
    "                    \"loss\": loss, \"acc\": acc, \"step\": global_step\n",
    "                })\n",
    "\n",
    "                # evaluating\n",
    "                if global_step % eval_step == 0:\n",
    "                    model.eval()\n",
    "                    val_loss, val_acc = evaluating(model, val_loader, loss_fct)\n",
    "                    record_dict[\"val\"].append({\n",
    "                        \"loss\": val_loss, \"acc\": val_acc, \"step\": global_step\n",
    "                    })\n",
    "                    model.train()\n",
    "\n",
    "                    # 1. 使用 tensorboard 可视化\n",
    "                    if tensorboard_callback is not None:\n",
    "                        tensorboard_callback(\n",
    "                            global_step,\n",
    "                            loss=loss, val_loss=val_loss,\n",
    "                            acc=acc, val_acc=val_acc,\n",
    "                            lr=optimizer.param_groups[0][\"lr\"],\n",
    "                        )\n",
    "\n",
    "                    # 2. 保存模型权重 save model checkpoint\n",
    "                    if save_ckpt_callback is not None:\n",
    "                        save_ckpt_callback(global_step, model.state_dict(), metric=val_acc)\n",
    "\n",
    "                    # 3. 早停 Early Stop\n",
    "                    if early_stop_callback is not None:\n",
    "                        early_stop_callback(val_acc)\n",
    "                        if early_stop_callback.early_stop:\n",
    "                            print(f\"Early stop at epoch {epoch_id} / global_step {global_step}\")\n",
    "                            return record_dict\n",
    "\n",
    "                # udate step\n",
    "                global_step += 1\n",
    "                pbar.update(1)\n",
    "                pbar.set_postfix({\"epoch\": epoch_id})\n",
    "\n",
    "    return record_dict"
   ]
  },
  {
   "cell_type": "code",
   "execution_count": 24,
   "id": "a27c040070f558b7",
   "metadata": {
    "execution": {
     "iopub.execute_input": "2025-01-24T11:04:25.122569Z",
     "iopub.status.busy": "2025-01-24T11:04:25.122321Z",
     "iopub.status.idle": "2025-01-24T11:04:27.026200Z",
     "shell.execute_reply": "2025-01-24T11:04:27.025642Z",
     "shell.execute_reply.started": "2025-01-24T11:04:25.122550Z"
    }
   },
   "outputs": [],
   "source": [
    "epoch = 20\n",
    "\n",
    "model = LSTM()  # 单层单向 LSTM\n",
    "# model = LSTM(num_layers=2)  # 单层双向 LSTM\n",
    "# model = LSTM(bidirectional=True)  # 单层单向 LSTM\n",
    "# model = LSTM(num_layers=2, bidirectional=True)  # 单层双向 LSTM\n",
    "\n",
    "# 1. 定义损失函数 采用交叉熵损失 (但是二分类)\n",
    "loss_fct = F.binary_cross_entropy_with_logits\n",
    "# 2. 定义优化器 采用 adam\n",
    "# Optimizers specified in the torch.optim package\n",
    "optimizer = torch.optim.Adam(model.parameters(), lr=0.001)\n",
    "\n",
    "# 1. tensorboard 可视化\n",
    "if not os.path.exists(\"runs\"):\n",
    "    os.mkdir(\"runs\")\n",
    "# tensorboard_callback = TensorBoardCallback(\"runs/imdb-lstm\")\n",
    "# tensorboard_callback.draw_model(model, [1, MAX_LENGTH])\n",
    "# 2. save best\n",
    "if not os.path.exists(\"checkpoints\"):\n",
    "    os.makedirs(\"checkpoints\")\n",
    "save_ckpt_callback = SaveCheckpointsCallback(\"checkpoints/imdb-lstm\", save_step=len(train_dl), save_best_only=True)\n",
    "# 3. early stop\n",
    "early_stop_callback = EarlyStopCallback(patience=10)"
   ]
  },
  {
   "cell_type": "code",
   "execution_count": 25,
   "id": "5b34c38aa611f378",
   "metadata": {
    "execution": {
     "iopub.execute_input": "2025-01-24T11:04:27.027248Z",
     "iopub.status.busy": "2025-01-24T11:04:27.026842Z",
     "iopub.status.idle": "2025-01-24T11:07:12.420124Z",
     "shell.execute_reply": "2025-01-24T11:07:12.419618Z",
     "shell.execute_reply.started": "2025-01-24T11:04:27.027226Z"
    }
   },
   "outputs": [
    {
     "name": "stderr",
     "output_type": "stream",
     "text": [
      "100%|██████████| 3920/3920 [02:45<00:00, 23.72it/s, epoch=19]\n"
     ]
    }
   ],
   "source": [
    "model = model.to(device)\n",
    "record = training(\n",
    "    model,\n",
    "    train_dl,\n",
    "    test_dl,\n",
    "    epoch,\n",
    "    loss_fct,\n",
    "    optimizer,\n",
    "    tensorboard_callback=None,\n",
    "    save_ckpt_callback=save_ckpt_callback,\n",
    "    early_stop_callback=early_stop_callback,\n",
    "    eval_step=len(train_dl)\n",
    ")"
   ]
  },
  {
   "cell_type": "code",
   "execution_count": 26,
   "id": "52d8b9e3b249fb2",
   "metadata": {
    "execution": {
     "iopub.execute_input": "2025-01-24T11:07:12.421076Z",
     "iopub.status.busy": "2025-01-24T11:07:12.420720Z",
     "iopub.status.idle": "2025-01-24T11:07:12.623559Z",
     "shell.execute_reply": "2025-01-24T11:07:12.622936Z",
     "shell.execute_reply.started": "2025-01-24T11:07:12.421054Z"
    }
   },
   "outputs": [
    {
     "data": {
      "image/png": "[encoded data removed]",
      "text/plain": [
       "<Figure size 1000x500 with 2 Axes>"
      ]
     },
     "metadata": {},
     "output_type": "display_data"
    }
   ],
   "source": [
    "#画线要注意的是损失是不一定在零到1之间的\n",
    "def plot_learning_curves(record_dict, sample_step=500):\n",
    "    # build DataFrame\n",
    "    train_df = pd.DataFrame(record_dict[\"train\"]).set_index(\"step\").iloc[::sample_step]\n",
    "    val_df = pd.DataFrame(record_dict[\"val\"]).set_index(\"step\")\n",
    "\n",
    "    # plot\n",
    "    fig_num = len(train_df.columns)\n",
    "    fig, axs = plt.subplots(1, fig_num, figsize=(5 * fig_num, 5))\n",
    "    for idx, item in enumerate(train_df.columns):\n",
    "        axs[idx].plot(train_df.index, train_df[item], label=f\"train_{item}\")\n",
    "        axs[idx].plot(val_df.index, val_df[item], label=f\"val_{item}\")\n",
    "        axs[idx].grid()\n",
    "        axs[idx].legend()\n",
    "        # axs[idx].set_xticks(range(0, train_df.index[-1], 5000))\n",
    "        # axs[idx].set_xticklabels(map(lambda x: f\"{int(x/1000)}k\", range(0, train_df.index[-1], 5000)))\n",
    "        axs[idx].set_xlabel(\"step\")\n",
    "\n",
    "    plt.show()\n",
    "\n",
    "\n",
    "plot_learning_curves(record, sample_step=10)  #横坐标是 steps"
   ]
  },
  {
   "cell_type": "markdown",
   "id": "fa4d372fec0e69f2",
   "metadata": {},
   "source": [
    "评估"
   ]
  },
  {
   "cell_type": "code",
   "execution_count": 27,
   "id": "8e221d27486bfa31",
   "metadata": {
    "ExecutionIndicator": {
     "show": false
    },
    "execution": {
     "iopub.execute_input": "2025-01-24T11:07:12.624583Z",
     "iopub.status.busy": "2025-01-24T11:07:12.624210Z",
     "iopub.status.idle": "2025-01-24T11:07:16.377374Z",
     "shell.execute_reply": "2025-01-24T11:07:16.376835Z",
     "shell.execute_reply.started": "2025-01-24T11:07:12.624562Z"
    },
    "tags": []
   },
   "outputs": [
    {
     "name": "stderr",
     "output_type": "stream",
     "text": [
      "/tmp/ipykernel_327/1661179837.py:4: FutureWarning: You are using `torch.load` with `weights_only=False` (the current default value), which uses the default pickle module implicitly. It is possible to construct malicious pickle data which will execute arbitrary code during unpickling (See https://github.com/pytorch/pytorch/blob/main/SECURITY.md#untrusted-models for more details). In a future release, the default value for `weights_only` will be flipped to `True`. This limits the functions that could be executed during unpickling. Arbitrary objects will no longer be allowed to be loaded via this mode unless they are explicitly allowlisted by the user via `torch.serialization.add_safe_globals`. We recommend you start setting `weights_only=True` for any use case where you don't have full control of the loaded file. Please open an issue on GitHub for any issues related to this experimental feature.\n",
      "  model.load_state_dict(torch.load(\"checkpoints/imdb-lstm/best.ckpt\", map_location=\"cpu\"))\n"
     ]
    },
    {
     "name": "stdout",
     "output_type": "stream",
     "text": [
      "loss:     0.3551\n",
      "accuracy: 0.8650\n"
     ]
    }
   ],
   "source": [
    "# dataload for evaluating\n",
    "\n",
    "# load checkpoints\n",
    "model.load_state_dict(torch.load(\"checkpoints/imdb-lstm/best.ckpt\", map_location=\"cpu\", weights_only=True))\n",
    "\n",
    "model.eval()\n",
    "loss, acc = evaluating(model, test_dl, loss_fct)\n",
    "print(f\"loss:     {loss:.4f}\\naccuracy: {acc:.4f}\")"
   ]
  },
  {
   "cell_type": "markdown",
   "id": "9a659229f2afcd17",
   "metadata": {},
   "source": [
    "#### 实战LSTM文本生成——基于char level的生成"
   ]
  },
  {
   "cell_type": "code",
   "execution_count": 28,
   "id": "fc1a72933b64c22f",
   "metadata": {
    "execution": {
     "iopub.execute_input": "2025-01-24T11:07:16.378265Z",
     "iopub.status.busy": "2025-01-24T11:07:16.377956Z",
     "iopub.status.idle": "2025-01-24T11:07:16.387284Z",
     "shell.execute_reply": "2025-01-24T11:07:16.386832Z",
     "shell.execute_reply.started": "2025-01-24T11:07:16.378245Z"
    }
   },
   "outputs": [
    {
     "name": "stdout",
     "output_type": "stream",
     "text": [
      "sys.version_info(major=3, minor=10, micro=14, releaselevel='final', serial=0)\n",
      "matplotlib 3.10.0\n",
      "numpy 1.26.4\n",
      "pandas 2.2.3\n",
      "sklearn 1.6.0\n",
      "torch 2.5.1+cu124\n",
      "cuda:0\n"
     ]
    }
   ],
   "source": [
    "import matplotlib as mpl\n",
    "import matplotlib.pyplot as plt\n",
    "%matplotlib inline\n",
    "import numpy as np\n",
    "import sklearn\n",
    "import pandas as pd\n",
    "import os\n",
    "import sys\n",
    "import time\n",
    "from tqdm.auto import tqdm\n",
    "import torch\n",
    "import torch.nn as nn\n",
    "import torch.nn.functional as F\n",
    "\n",
    "print(sys.version_info)\n",
    "for module in mpl, np, pd, sklearn, torch:\n",
    "    print(module.__name__, module.__version__)\n",
    "\n",
    "device = torch.device(\"cuda:0\") if torch.cuda.is_available() else torch.device(\"cpu\")\n",
    "print(device)\n",
    "\n",
    "seed = 42\n",
    "torch.manual_seed(seed)\n",
    "torch.cuda.manual_seed_all(seed)"
   ]
  },
  {
   "cell_type": "markdown",
   "id": "4312c9af9341622f",
   "metadata": {},
   "source": [
    "数据准备"
   ]
  },
  {
   "cell_type": "code",
   "execution_count": 29,
   "id": "e565d1be2a2cdb1a",
   "metadata": {
    "execution": {
     "iopub.execute_input": "2025-01-24T11:07:16.387925Z",
     "iopub.status.busy": "2025-01-24T11:07:16.387745Z",
     "iopub.status.idle": "2025-01-24T11:07:16.391500Z",
     "shell.execute_reply": "2025-01-24T11:07:16.391034Z",
     "shell.execute_reply.started": "2025-01-24T11:07:16.387905Z"
    }
   },
   "outputs": [
    {
     "name": "stdout",
     "output_type": "stream",
     "text": [
      "length 1115394\n",
      "First Citizen:\n",
      "Before we proceed any further, hear me speak.\n",
      "\n",
      "All:\n",
      "Speak, speak.\n",
      "\n",
      "First Citizen:\n",
      "You\n"
     ]
    }
   ],
   "source": [
    "# https://storage.googleapis.com/download.tensorflow.org/data/shakespeare.txt\n",
    "#文件已经下载好了\n",
    "with open(\"./shakespeare.txt\", \"r\", encoding=\"utf8\") as file:\n",
    "    text = file.read()\n",
    "\n",
    "print(\"length\", len(text))\n",
    "print(text[0:100])"
   ]
  },
  {
   "cell_type": "markdown",
   "id": "4f4f829e5a2202c6",
   "metadata": {},
   "source": [
    "构造字典"
   ]
  },
  {
   "cell_type": "code",
   "execution_count": 30,
   "id": "286c6a9c3483ab15",
   "metadata": {
    "execution": {
     "iopub.execute_input": "2025-01-24T11:07:16.392295Z",
     "iopub.status.busy": "2025-01-24T11:07:16.392005Z",
     "iopub.status.idle": "2025-01-24T11:07:16.413531Z",
     "shell.execute_reply": "2025-01-24T11:07:16.413076Z",
     "shell.execute_reply.started": "2025-01-24T11:07:16.392275Z"
    }
   },
   "outputs": [
    {
     "name": "stdout",
     "output_type": "stream",
     "text": [
      "65\n",
      "['\\n', ' ', '!', '$', '&', \"'\", ',', '-', '.', '3', ':', ';', '?', 'A', 'B', 'C', 'D', 'E', 'F', 'G', 'H', 'I', 'J', 'K', 'L', 'M', 'N', 'O', 'P', 'Q', 'R', 'S', 'T', 'U', 'V', 'W', 'X', 'Y', 'Z', 'a', 'b', 'c', 'd', 'e', 'f', 'g', 'h', 'i', 'j', 'k', 'l', 'm', 'n', 'o', 'p', 'q', 'r', 's', 't', 'u', 'v', 'w', 'x', 'y', 'z']\n"
     ]
    }
   ],
   "source": [
    "# 1. generate vocab\n",
    "# 2. build mapping char->id\n",
    "# 3. data -> id_data  把数据都转为id\n",
    "# 4. a b c d [EOS] -> [BOS] b c d  预测下一个字符生成的模型，也就是输入是a，输出就是b\n",
    "\n",
    "#去重，留下独立字符，并排序\n",
    "vocab = sorted(set(text))\n",
    "print(len(vocab))\n",
    "print(vocab)"
   ]
  },
  {
   "cell_type": "code",
   "execution_count": 31,
   "id": "d6f95a69117b2d17",
   "metadata": {
    "execution": {
     "iopub.execute_input": "2025-01-24T11:07:16.414351Z",
     "iopub.status.busy": "2025-01-24T11:07:16.414099Z",
     "iopub.status.idle": "2025-01-24T11:07:16.417284Z",
     "shell.execute_reply": "2025-01-24T11:07:16.416836Z",
     "shell.execute_reply.started": "2025-01-24T11:07:16.414332Z"
    }
   },
   "outputs": [
    {
     "name": "stdout",
     "output_type": "stream",
     "text": [
      "{'\\n': 0, ' ': 1, '!': 2, '$': 3, '&': 4, \"'\": 5, ',': 6, '-': 7, '.': 8, '3': 9, ':': 10, ';': 11, '?': 12, 'A': 13, 'B': 14, 'C': 15, 'D': 16, 'E': 17, 'F': 18, 'G': 19, 'H': 20, 'I': 21, 'J': 22, 'K': 23, 'L': 24, 'M': 25, 'N': 26, 'O': 27, 'P': 28, 'Q': 29, 'R': 30, 'S': 31, 'T': 32, 'U': 33, 'V': 34, 'W': 35, 'X': 36, 'Y': 37, 'Z': 38, 'a': 39, 'b': 40, 'c': 41, 'd': 42, 'e': 43, 'f': 44, 'g': 45, 'h': 46, 'i': 47, 'j': 48, 'k': 49, 'l': 50, 'm': 51, 'n': 52, 'o': 53, 'p': 54, 'q': 55, 'r': 56, 's': 57, 't': 58, 'u': 59, 'v': 60, 'w': 61, 'x': 62, 'y': 63, 'z': 64}\n"
     ]
    }
   ],
   "source": [
    "#每个字符都编好号，enumerate对每一个位置编号，生成的是列表中是元组，下面字典生成式\n",
    "char2idx = {char: idx for idx, char in enumerate(vocab)}\n",
    "print(char2idx)"
   ]
  },
  {
   "cell_type": "code",
   "execution_count": 32,
   "id": "e430bf6d6ff0c8fc",
   "metadata": {
    "execution": {
     "iopub.execute_input": "2025-01-24T11:07:16.418017Z",
     "iopub.status.busy": "2025-01-24T11:07:16.417842Z",
     "iopub.status.idle": "2025-01-24T11:07:16.420845Z",
     "shell.execute_reply": "2025-01-24T11:07:16.420413Z",
     "shell.execute_reply.started": "2025-01-24T11:07:16.417999Z"
    }
   },
   "outputs": [
    {
     "name": "stdout",
     "output_type": "stream",
     "text": [
      "['\\n' ' ' '!' '$' '&' \"'\" ',' '-' '.' '3' ':' ';' '?' 'A' 'B' 'C' 'D' 'E'\n",
      " 'F' 'G' 'H' 'I' 'J' 'K' 'L' 'M' 'N' 'O' 'P' 'Q' 'R' 'S' 'T' 'U' 'V' 'W'\n",
      " 'X' 'Y' 'Z' 'a' 'b' 'c' 'd' 'e' 'f' 'g' 'h' 'i' 'j' 'k' 'l' 'm' 'n' 'o'\n",
      " 'p' 'q' 'r' 's' 't' 'u' 'v' 'w' 'x' 'y' 'z']\n"
     ]
    }
   ],
   "source": [
    "# 把vocab从列表变为ndarray\n",
    "idx2char = np.array(vocab)\n",
    "print(idx2char)"
   ]
  },
  {
   "cell_type": "code",
   "execution_count": 33,
   "id": "b04c03927986913b",
   "metadata": {
    "execution": {
     "iopub.execute_input": "2025-01-24T11:07:16.421741Z",
     "iopub.status.busy": "2025-01-24T11:07:16.421496Z",
     "iopub.status.idle": "2025-01-24T11:07:16.542379Z",
     "shell.execute_reply": "2025-01-24T11:07:16.541842Z",
     "shell.execute_reply.started": "2025-01-24T11:07:16.421716Z"
    }
   },
   "outputs": [
    {
     "name": "stdout",
     "output_type": "stream",
     "text": [
      "(1115394,)\n",
      "1115394\n",
      "[18 47 56 57 58  1 15 47 58 47]\n",
      "First Citi\n"
     ]
    }
   ],
   "source": [
    "#把字符都转换为id\n",
    "text_as_int = np.array([char2idx[c] for c in text])\n",
    "print(text_as_int.shape)\n",
    "print(len(text_as_int))\n",
    "print(text_as_int[0:10])\n",
    "print(text[0:10])"
   ]
  },
  {
   "cell_type": "markdown",
   "id": "8fdc08a5b33b35aa",
   "metadata": {},
   "source": [
    "把莎士比亚文集分成一个一个的样本"
   ]
  },
  {
   "cell_type": "code",
   "execution_count": 34,
   "id": "77f6a3ffd521f343",
   "metadata": {
    "execution": {
     "iopub.execute_input": "2025-01-24T11:07:16.543382Z",
     "iopub.status.busy": "2025-01-24T11:07:16.542981Z",
     "iopub.status.idle": "2025-01-24T11:07:16.552106Z",
     "shell.execute_reply": "2025-01-24T11:07:16.551583Z",
     "shell.execute_reply.started": "2025-01-24T11:07:16.543361Z"
    }
   },
   "outputs": [],
   "source": [
    "from torch.utils.data import Dataset, DataLoader\n",
    "\n",
    "\n",
    "class CharDataset(Dataset):\n",
    "    def __init__(self, text_as_int, seq_length):\n",
    "        self.sub_len = seq_length + 1\n",
    "        self.text_as_int = text_as_int\n",
    "        self.num_seq = len(text_as_int) // self.sub_len\n",
    "\n",
    "    def __getitem__(self, index):\n",
    "        return self.text_as_int[index * self.sub_len: (index + 1) * self.sub_len]\n",
    "\n",
    "    def __len__(self):\n",
    "        return self.num_seq\n",
    "\n",
    "\n",
    "def collat_fct(batch):\n",
    "    src_list = []\n",
    "    trg_list = []\n",
    "    for part in batch:\n",
    "        src_list.append(part[:-1])\n",
    "        trg_list.append(part[1:])\n",
    "\n",
    "    src_list = np.array(src_list)\n",
    "    trg_list = np.array(trg_list)\n",
    "    return torch.Tensor(src_list).to(dtype=torch.int64), torch.Tensor(trg_list).to(dtype=torch.int64)\n",
    "\n",
    "\n",
    "train_ds = CharDataset(text_as_int, 100)\n",
    "train_dl = DataLoader(train_ds, batch_size=64, shuffle=True, collate_fn=collat_fct)"
   ]
  },
  {
   "cell_type": "markdown",
   "id": "f3af9be1b027d168",
   "metadata": {},
   "source": [
    "定义模型"
   ]
  },
  {
   "cell_type": "code",
   "execution_count": 35,
   "id": "4bdd0af82c8a07a1",
   "metadata": {
    "execution": {
     "iopub.execute_input": "2025-01-24T11:07:16.554112Z",
     "iopub.status.busy": "2025-01-24T11:07:16.553723Z",
     "iopub.status.idle": "2025-01-24T11:07:16.557860Z",
     "shell.execute_reply": "2025-01-24T11:07:16.557402Z",
     "shell.execute_reply.started": "2025-01-24T11:07:16.554092Z"
    }
   },
   "outputs": [],
   "source": [
    "class CharLSTM(nn.Module):\n",
    "    def __init__(self, vocab_size, embedding_dim=256, hidden_dim=1024):\n",
    "        super(CharLSTM, self).__init__()\n",
    "        self.embedding = nn.Embedding(vocab_size, embedding_dim)\n",
    "        self.lstm = nn.LSTM(embedding_dim, hidden_dim, batch_first=True)\n",
    "        self.fc = nn.Linear(hidden_dim, vocab_size)\n",
    "\n",
    "    def forward(self, x, hidden=None):\n",
    "        x = self.embedding(x)\n",
    "        output, hidden = self.lstm(x, hidden)\n",
    "        x = self.fc(output)\n",
    "        return x, hidden"
   ]
  },
  {
   "cell_type": "code",
   "execution_count": 36,
   "id": "2707723a3d8c65f7",
   "metadata": {
    "execution": {
     "iopub.execute_input": "2025-01-24T11:07:16.558746Z",
     "iopub.status.busy": "2025-01-24T11:07:16.558458Z",
     "iopub.status.idle": "2025-01-24T11:07:16.694683Z",
     "shell.execute_reply": "2025-01-24T11:07:16.694163Z",
     "shell.execute_reply.started": "2025-01-24T11:07:16.558727Z"
    }
   },
   "outputs": [
    {
     "name": "stdout",
     "output_type": "stream",
     "text": [
      "================================== 一层单向 LSTM ===================================\n",
      "            embedding.weight            paramerters num: 16640\n",
      "           lstm.weight_ih_l0            paramerters num: 1048576\n",
      "           lstm.weight_hh_l0            paramerters num: 4194304\n",
      "            lstm.bias_ih_l0             paramerters num: 4096\n",
      "            lstm.bias_hh_l0             paramerters num: 4096\n",
      "               fc.weight                paramerters num: 66560\n",
      "                fc.bias                 paramerters num: 65\n"
     ]
    },
    {
     "data": {
      "text/plain": [
       "torch.Size([2, 100, 65])"
      ]
     },
     "execution_count": 36,
     "metadata": {},
     "output_type": "execute_result"
    }
   ],
   "source": [
    "vocab_size = len(vocab)\n",
    "sample_inputs = torch.randint(0, vocab_size, (2, 100))\n",
    "\n",
    "print(\"{:=^80}\".format(\" 一层单向 LSTM \"))\n",
    "for key, value in CharLSTM(vocab_size).named_parameters():\n",
    "    print(f\"{key:^40}paramerters num: {np.prod(value.shape)}\")\n",
    "\n",
    "CharLSTM(vocab_size)(sample_inputs)[0].shape"
   ]
  },
  {
   "cell_type": "markdown",
   "id": "5c05a85f73077699",
   "metadata": {},
   "source": [
    "训练"
   ]
  },
  {
   "cell_type": "code",
   "execution_count": 37,
   "id": "a1c9654c28fbb9e5",
   "metadata": {
    "execution": {
     "iopub.execute_input": "2025-01-24T11:07:16.695568Z",
     "iopub.status.busy": "2025-01-24T11:07:16.695309Z",
     "iopub.status.idle": "2025-01-24T11:07:16.700780Z",
     "shell.execute_reply": "2025-01-24T11:07:16.700293Z",
     "shell.execute_reply.started": "2025-01-24T11:07:16.695549Z"
    }
   },
   "outputs": [],
   "source": [
    "class SaveCheckpointsCallback:\n",
    "    def __init__(self, save_dir, save_step=5000, save_best_only=True):\n",
    "        \"\"\"\n",
    "        Save checkpoints each save_epoch epoch. \n",
    "        We save checkpoint by epoch in this implementation.\n",
    "        Usually, training scripts with pytorch evaluating model and save checkpoint by step.\n",
    "\n",
    "        Args:\n",
    "            save_dir (str): dir to save checkpoint\n",
    "            save_epoch (int, optional): the frequency to save checkpoint. Defaults to 1.\n",
    "            save_best_only (bool, optional): If True, only save the best model or save each model at every epoch.\n",
    "        \"\"\"\n",
    "        self.save_dir = save_dir\n",
    "        self.save_step = save_step\n",
    "        self.save_best_only = save_best_only\n",
    "        self.best_metrics = -1\n",
    "\n",
    "        # mkdir\n",
    "        if not os.path.exists(self.save_dir):\n",
    "            os.mkdir(self.save_dir)\n",
    "\n",
    "    def __call__(self, step, state_dict, metric=None):\n",
    "        if step % self.save_step > 0:\n",
    "            return\n",
    "\n",
    "        if self.save_best_only:\n",
    "            assert metric is not None\n",
    "            if metric >= self.best_metrics:\n",
    "                # save checkpoints\n",
    "                torch.save(state_dict, os.path.join(self.save_dir, \"best.ckpt\"))\n",
    "                # update best metrics\n",
    "                self.best_metrics = metric\n",
    "        else:\n",
    "            torch.save(state_dict, os.path.join(self.save_dir, f\"{step}.ckpt\"))"
   ]
  },
  {
   "cell_type": "code",
   "execution_count": 38,
   "id": "9aba42303e2d6fcd",
   "metadata": {
    "execution": {
     "iopub.execute_input": "2025-01-24T11:07:16.701491Z",
     "iopub.status.busy": "2025-01-24T11:07:16.701324Z",
     "iopub.status.idle": "2025-01-24T11:07:16.707616Z",
     "shell.execute_reply": "2025-01-24T11:07:16.707133Z",
     "shell.execute_reply.started": "2025-01-24T11:07:16.701473Z"
    }
   },
   "outputs": [],
   "source": [
    "# 训练\n",
    "def training(\n",
    "        model,\n",
    "        train_loader,\n",
    "        epoch,\n",
    "        loss_fct,\n",
    "        optimizer,\n",
    "        save_ckpt_callback=None,\n",
    "        stateful=False  # 想用stateful，batch里的数据就必须连续，不能打乱\n",
    "):\n",
    "    record_dict = {\n",
    "        \"train\": [],\n",
    "    }\n",
    "\n",
    "    global_step = 0\n",
    "    model.train()\n",
    "    hidden = None\n",
    "    with tqdm(total=epoch * len(train_loader)) as pbar:\n",
    "        for epoch_id in range(epoch):\n",
    "            # training\n",
    "            for datas, labels in train_loader:\n",
    "                datas = datas.to(device)\n",
    "                labels = labels.to(device)\n",
    "                # 梯度清空\n",
    "                optimizer.zero_grad()\n",
    "                # 模型前向计算\n",
    "                logits, hidden = model(datas, hidden=hidden if stateful else None)\n",
    "                # 计算损失\n",
    "                loss = loss_fct(logits.reshape(-1, vocab_size), labels.reshape(-1))\n",
    "                # 梯度回传\n",
    "                loss.backward()\n",
    "                # 调整优化器，包括学习率的变动等\n",
    "                optimizer.step()\n",
    "\n",
    "                loss = loss.cpu().item()\n",
    "                # record\n",
    "\n",
    "                record_dict[\"train\"].append({\n",
    "                    \"loss\": loss, \"step\": global_step\n",
    "                })\n",
    "\n",
    "                # 保存模型权重 save model checkpoint\n",
    "                if save_ckpt_callback is not None:\n",
    "                    save_ckpt_callback(global_step, model.state_dict(), metric=-loss)\n",
    "                # udate step\n",
    "                global_step += 1\n",
    "                pbar.update(1)\n",
    "                pbar.set_postfix({\"epoch\": epoch_id})\n",
    "\n",
    "    return record_dict"
   ]
  },
  {
   "cell_type": "code",
   "execution_count": 39,
   "id": "72bb017c7f160cc7",
   "metadata": {
    "execution": {
     "iopub.execute_input": "2025-01-24T11:07:16.708514Z",
     "iopub.status.busy": "2025-01-24T11:07:16.708223Z",
     "iopub.status.idle": "2025-01-24T11:07:16.748424Z",
     "shell.execute_reply": "2025-01-24T11:07:16.747944Z",
     "shell.execute_reply.started": "2025-01-24T11:07:16.708495Z"
    }
   },
   "outputs": [],
   "source": [
    "epoch = 100\n",
    "\n",
    "model = CharLSTM(vocab_size=vocab_size)\n",
    "\n",
    "# 1. 定义损失函数 采用交叉熵损失 \n",
    "loss_fct = nn.CrossEntropyLoss()\n",
    "# 2. 定义优化器 采用 adam\n",
    "# Optimizers specified in the torch.optim package\n",
    "optimizer = torch.optim.Adam(model.parameters(), lr=0.001)\n",
    "\n",
    "# save best\n",
    "if not os.path.exists(\"checkpoints\"):\n",
    "    os.makedirs(\"checkpoints\")\n",
    "save_ckpt_callback = SaveCheckpointsCallback(\"checkpoints/text_generation_lstm\", save_step=1000, save_best_only=True)\n"
   ]
  },
  {
   "cell_type": "code",
   "execution_count": 40,
   "id": "a662fb71a11b8fd9",
   "metadata": {
    "execution": {
     "iopub.execute_input": "2025-01-24T11:07:16.749276Z",
     "iopub.status.busy": "2025-01-24T11:07:16.748962Z",
     "iopub.status.idle": "2025-01-24T11:12:19.791522Z",
     "shell.execute_reply": "2025-01-24T11:12:19.791026Z",
     "shell.execute_reply.started": "2025-01-24T11:07:16.749257Z"
    }
   },
   "outputs": [
    {
     "name": "stderr",
     "output_type": "stream",
     "text": [
      "100%|██████████| 17300/17300 [05:03<00:00, 57.09it/s, epoch=99]\n"
     ]
    }
   ],
   "source": [
    "model = model.to(device)\n",
    "record = training(\n",
    "    model,\n",
    "    train_dl,\n",
    "    epoch,\n",
    "    loss_fct,\n",
    "    optimizer,\n",
    "    save_ckpt_callback=save_ckpt_callback,\n",
    ")"
   ]
  },
  {
   "cell_type": "code",
   "execution_count": 41,
   "id": "7af39c172f7c9180",
   "metadata": {
    "execution": {
     "iopub.execute_input": "2025-01-24T11:12:19.792370Z",
     "iopub.status.busy": "2025-01-24T11:12:19.792122Z",
     "iopub.status.idle": "2025-01-24T11:12:19.887168Z",
     "shell.execute_reply": "2025-01-24T11:12:19.886528Z",
     "shell.execute_reply.started": "2025-01-24T11:12:19.792350Z"
    }
   },
   "outputs": [
    {
     "data": {
      "image/png": "[encoded data removed]",
      "text/plain": [
       "<Figure size 640x480 with 1 Axes>"
      ]
     },
     "metadata": {},
     "output_type": "display_data"
    }
   ],
   "source": [
    "plt.plot([i[\"step\"] for i in record[\"train\"][::50]], [i[\"loss\"] for i in record[\"train\"][::50]], label=\"train\")\n",
    "plt.grid()\n",
    "plt.show()"
   ]
  },
  {
   "cell_type": "markdown",
   "id": "c8c29d67756b8564",
   "metadata": {},
   "source": [
    "推理"
   ]
  },
  {
   "cell_type": "markdown",
   "id": "16e4357c6bc0f009",
   "metadata": {},
   "source": [
    "- temperature参数的作用：\n",
    "    - 1. temperature > 1.0：增加随机性，使概率分布更平滑，生成更多样化的文本\n",
    "    - 2. temperature = 1.0：保持原始概率分布\n",
    "    - 3. temperature < 1.0：减少随机性，使概率分布更尖锐，生成更保守、更确定的文本\n",
    "    - 4. temperature接近0：选择概率最高的字符（贪婪搜索）"
   ]
  },
  {
   "cell_type": "code",
   "execution_count": 42,
   "id": "be786cd01916e87",
   "metadata": {
    "execution": {
     "iopub.execute_input": "2025-01-24T11:12:19.888212Z",
     "iopub.status.busy": "2025-01-24T11:12:19.887823Z",
     "iopub.status.idle": "2025-01-24T11:12:19.902443Z",
     "shell.execute_reply": "2025-01-24T11:12:19.901840Z",
     "shell.execute_reply.started": "2025-01-24T11:12:19.888190Z"
    }
   },
   "outputs": [
    {
     "name": "stdout",
     "output_type": "stream",
     "text": [
      "tensor([0.4502, 0.5498])\n"
     ]
    }
   ],
   "source": [
    "#下面的例子是为了说明temperature\n",
    "logits = torch.tensor([0.4, 0.6])  #这里是logits\n",
    "\n",
    "probs1 = F.softmax(logits / 1, dim=-1)\n",
    "print(probs1)"
   ]
  },
  {
   "cell_type": "code",
   "execution_count": 43,
   "id": "5e4a0ee85c6fc3cf",
   "metadata": {
    "execution": {
     "iopub.execute_input": "2025-01-24T11:12:19.903185Z",
     "iopub.status.busy": "2025-01-24T11:12:19.903011Z",
     "iopub.status.idle": "2025-01-24T11:12:19.906606Z",
     "shell.execute_reply": "2025-01-24T11:12:19.906170Z",
     "shell.execute_reply.started": "2025-01-24T11:12:19.903166Z"
    }
   },
   "outputs": [
    {
     "name": "stdout",
     "output_type": "stream",
     "text": [
      "tensor([0.4750, 0.5250])\n"
     ]
    }
   ],
   "source": [
    "logits = torch.tensor([0.4, 0.6])  #现在 temperature是2\n",
    "\n",
    "probs1 = F.softmax(logits / 2, dim=-1)\n",
    "print(probs1)"
   ]
  },
  {
   "cell_type": "code",
   "execution_count": 44,
   "id": "7b1a369d12274105",
   "metadata": {
    "execution": {
     "iopub.execute_input": "2025-01-24T11:12:19.907420Z",
     "iopub.status.busy": "2025-01-24T11:12:19.907115Z",
     "iopub.status.idle": "2025-01-24T11:12:19.923573Z",
     "shell.execute_reply": "2025-01-24T11:12:19.923131Z",
     "shell.execute_reply.started": "2025-01-24T11:12:19.907401Z"
    }
   },
   "outputs": [
    {
     "name": "stdout",
     "output_type": "stream",
     "text": [
      "概率分布: tensor([0.1000, 0.4500, 0.3500, 0.1000])\n",
      "抽取的样本索引: tensor([1])\n",
      "每个样本对应的概率: tensor([0.4500])\n"
     ]
    }
   ],
   "source": [
    "import torch\n",
    "\n",
    "# 创建一个概率分布，表示每个类别被选中的概率\n",
    "# 这里我们有一个简单的四个类别的概率分布\n",
    "prob_dist = torch.tensor([0.1, 0.45, 0.35, 0.1])\n",
    "\n",
    "# 使用 multinomial 进行抽样\n",
    "# num_samples 表示要抽取的样本数量\n",
    "num_samples = 5\n",
    "\n",
    "# 抽取样本，随机抽样，概率越高，抽到的概率就越高\n",
    "samples = torch.multinomial(prob_dist, 1, replacement=True)\n",
    "\n",
    "print(\"概率分布:\", prob_dist)\n",
    "print(\"抽取的样本索引:\", samples)\n",
    "\n",
    "# 显示每个样本对应的概率\n",
    "print(\"每个样本对应的概率:\", prob_dist[samples])"
   ]
  },
  {
   "cell_type": "code",
   "execution_count": 47,
   "id": "f511e6fac453bc5f",
   "metadata": {
    "ExecutionIndicator": {
     "show": true
    },
    "execution": {
     "iopub.execute_input": "2025-01-24T11:17:49.371288Z",
     "iopub.status.busy": "2025-01-24T11:17:49.370935Z",
     "iopub.status.idle": "2025-01-24T11:17:50.351308Z",
     "shell.execute_reply": "2025-01-24T11:17:50.350671Z",
     "shell.execute_reply.started": "2025-01-24T11:17:49.371264Z"
    },
    "tags": []
   },
   "outputs": [
    {
     "name": "stderr",
     "output_type": "stream",
     "text": [
      "  0%|          | 0/1000 [00:00<?, ?it/s]"
     ]
    },
    {
     "name": "stdout",
     "output_type": "stream",
     "text": [
      "All: a"
     ]
    },
    {
     "name": "stderr",
     "output_type": "stream",
     "text": [
      "  0%|          | 1/1000 [00:00<01:59,  8.35it/s]"
     ]
    },
    {
     "name": "stdout",
     "output_type": "stream",
     "text": [
      "nd I come by him.\n",
      "\n",
      "PETRUCHIO:\n",
      "Come on, i' God's name, speak; for what life's I have worn\n",
      "That you may conquer or sound "
     ]
    },
    {
     "name": "stderr",
     "output_type": "stream",
     "text": [
      " 12%|█▏        | 120/1000 [00:00<00:01, 650.95it/s]"
     ]
    },
    {
     "name": "stdout",
     "output_type": "stream",
     "text": [
      "this one:\n",
      "Come, what letters of Hereford till God's name,\n",
      "In most I trust my want of water:\n",
      "And, for the senators, the m"
     ]
    },
    {
     "name": "stderr",
     "output_type": "stream",
     "text": [
      " 24%|██▍       | 240/1000 [00:00<00:00, 890.46it/s]"
     ]
    },
    {
     "name": "stdout",
     "output_type": "stream",
     "text": [
      "ighty prince,\n",
      "Lend two the bridgling throne and the fair staring\n",
      "Than at your walls, as mine hath cheepts to do,\n",
      "Without a subje"
     ]
    },
    {
     "name": "stderr",
     "output_type": "stream",
     "text": [
      " 37%|███▋      | 368/1000 [00:00<00:00, 1038.62it/s]"
     ]
    },
    {
     "name": "stdout",
     "output_type": "stream",
     "text": [
      "ct spent, it makes him to it,\n",
      "The more than his or soul and tears are gone.\n",
      "\n",
      "CLIFFORD:\n",
      "The king is nothing: I say the tractless i"
     ]
    },
    {
     "name": "stderr",
     "output_type": "stream",
     "text": [
      " 50%|████▉     | 497/1000 [00:00<00:00, 1124.85it/s]"
     ]
    },
    {
     "name": "stdout",
     "output_type": "stream",
     "text": [
      "n\n",
      "the service of your daughter to his will and that with her\n",
      "sworn.\n",
      "\n",
      "PROSPERO:\n",
      "Dost thou, that e'er thou wast but ladies' brawl"
     ]
    },
    {
     "name": "stderr",
     "output_type": "stream",
     "text": [
      " 62%|██████▏   | 624/1000 [00:00<00:00, 1172.65it/s]"
     ]
    },
    {
     "name": "stdout",
     "output_type": "stream",
     "text": [
      "s,\n",
      "And what they say that she did lose his life?\n",
      "\n",
      "GLOUCESTER:\n",
      "You may deny that for my counsels,\n",
      "Even thus the very time Aufidius"
     ]
    },
    {
     "name": "stderr",
     "output_type": "stream",
     "text": [
      " 75%|███████▌  | 753/1000 [00:00<00:00, 1208.08it/s]"
     ]
    },
    {
     "name": "stdout",
     "output_type": "stream",
     "text": [
      " caps it before\n",
      "The second cur is but a drunken made\n",
      "As thou canst gradle carried and sullen venom,\n",
      "And on athanting them "
     ]
    },
    {
     "name": "stderr",
     "output_type": "stream",
     "text": [
      " 88%|████████▊ | 875/1000 [00:00<00:00, 1127.84it/s]"
     ]
    },
    {
     "name": "stdout",
     "output_type": "stream",
     "text": [
      "from France speaks.\n",
      "\n",
      "Nurse:\n",
      "Now, afore God! methinks I hear gently for thee.\n",
      "\n",
      "AUTOLYCUS:\n",
      "No, good shepherd, will yo"
     ]
    },
    {
     "name": "stderr",
     "output_type": "stream",
     "text": [
      " 99%|█████████▉| 990/1000 [00:00<00:00, 1118.25it/s]"
     ]
    },
    {
     "name": "stdout",
     "output_type": "stream",
     "text": [
      "u not hure"
     ]
    },
    {
     "name": "stderr",
     "output_type": "stream",
     "text": [
      "100%|██████████| 1000/1000 [00:00<00:00, 1039.83it/s]\n"
     ]
    }
   ],
   "source": [
    "def generate_text(model, start_string, max_len=1000, temperature=1.0, stream=True):\n",
    "    # 将起始字符串转换为模型输入张量\n",
    "    # 1. 将每个字符转换为对应的索引\n",
    "    # 2. 转换为PyTorch张量并指定数据类型为int64\n",
    "    # 3. 调整形状为(1, seq_len)以适应模型输入要求\n",
    "    input_eval = torch.Tensor([char2idx[char] for char in start_string]).to(dtype=torch.int64, device=device).reshape(1,\n",
    "                                                                                                                      -1)\n",
    "\n",
    "    hidden = None  # 初始化隐藏状态\n",
    "    text_generated = []  # 用于保存生成的文本\n",
    "    model.eval()  # 将模型设置为评估模式\n",
    "\n",
    "    # 初始化进度条，用于显示生成进度\n",
    "    pbar = tqdm(range(max_len))\n",
    "    print(start_string, end=\"\")  # 打印起始字符串\n",
    "\n",
    "    # 使用torch.no_grad()上下文管理器，避免在生成过程中计算梯度\n",
    "    with torch.no_grad():\n",
    "        for i in pbar:  # 控制生成进度\n",
    "            # 前向传播，获取logits和新的隐藏状态\n",
    "            logits, hidden = model(input_eval, hidden=hidden)\n",
    "\n",
    "            # 温度采样：调整logits以控制生成文本的多样性\n",
    "            # 取最后一个时间步的输出（-1表示最后一个时间步）\n",
    "\n",
    "            #  0表示取第一个batch（因为我们只生成了一个序列）\n",
    "            # -1表示取最后一个时间步的输出（即最新生成的字符的预测）\n",
    "            #  :表示取所有可能的字符（即整个词汇表的logits）\n",
    "            logits = logits[0, -1, :] / temperature\n",
    "\n",
    "            # 使用softmax将logits转换为概率分布\n",
    "            probs = F.softmax(logits, dim=-1)\n",
    "\n",
    "            # 使用多项式采样从概率分布中抽取一个样本\n",
    "            idx = torch.multinomial(probs, 1).item()\n",
    "\n",
    "            # 将生成的字符索引转换为输入张量，用于下一次迭代\n",
    "            input_eval = torch.Tensor([idx]).to(dtype=torch.int64, device=device).reshape(1, -1)\n",
    "\n",
    "            # 将生成的字符索引添加到结果列表中\n",
    "            text_generated.append(idx)\n",
    "\n",
    "            # 如果stream为True，实时打印生成的字符\n",
    "            if stream:\n",
    "                print(idx2char[idx], end=\"\", flush=True)\n",
    "\n",
    "    # 将生成的字符索引列表转换为字符串并返回\n",
    "    return \"\".join([idx2char[i] for i in text_generated])\n",
    "\n",
    "\n",
    "# 加载模型检查点\n",
    "# 1. 从指定路径加载模型权重\n",
    "# 2. 使用map_location=\"cpu\"确保在CPU上加载\n",
    "# 3. weights_only=True确保只加载权重，不加载其他可能不安全的对象\n",
    "model.load_state_dict(torch.load(\"./checkpoints/text_generation_lstm/best.ckpt\", map_location=\"cpu\", weights_only=True))\n",
    "\n",
    "# 设置起始字符串\n",
    "start_string = \"All: \"  # 可以是任意字符串，作为生成文本的开头\n",
    "\n",
    "# 生成文本\n",
    "# max_len: 最大生成长度\n",
    "# temperature: 温度参数，控制生成文本的多样性\n",
    "# stream: 是否实时打印生成的文本\n",
    "res = generate_text(model, start_string, max_len=1000, temperature=0.5, stream=True)"
   ]
  }
 ],
 "metadata": {
  "kernelspec": {
   "display_name": "Python 3 (ipykernel)",
   "language": "python",
   "name": "python3"
  },
  "language_info": {
   "codemirror_mode": {
    "name": "ipython",
    "version": 3
   },
   "file_extension": ".py",
   "mimetype": "text/x-python",
   "name": "python",
   "nbconvert_exporter": "python",
   "pygments_lexer": "ipython3",
   "version": "3.10.14"
  }
 },
 "nbformat": 4,
 "nbformat_minor": 5
}
